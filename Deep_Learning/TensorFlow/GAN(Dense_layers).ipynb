{
  "cells": [
    {
      "cell_type": "markdown",
      "metadata": {
        "id": "zmvJwoFV2609"
      },
      "source": [
        "\n",
        "# GAN \n",
        "\n",
        "Generative Adverserial Networks"
      ]
    },
    {
      "cell_type": "code",
      "execution_count": 50,
      "metadata": {
        "id": "fMJHan2-261I"
      },
      "outputs": [],
      "source": [
        "import numpy as np\n",
        "import pandas as pd\n",
        "import matplotlib.pyplot as plt"
      ]
    },
    {
      "cell_type": "markdown",
      "metadata": {
        "id": "XKYDXjmP261M"
      },
      "source": [
        "## Data"
      ]
    },
    {
      "cell_type": "code",
      "execution_count": 51,
      "metadata": {
        "id": "O6TjYnpq261O"
      },
      "outputs": [],
      "source": [
        "from tensorflow.keras.datasets import mnist\n",
        "(X_train, y_train),(X_test, y_test) = mnist.load_data()"
      ]
    },
    {
      "cell_type": "code",
      "execution_count": 52,
      "metadata": {
        "colab": {
          "base_uri": "https://localhost:8080/",
          "height": 282
        },
        "id": "Ceurle52261Q",
        "outputId": "0f5502f8-bea1-4f83-b497-ae36d585bce8"
      },
      "outputs": [
        {
          "output_type": "execute_result",
          "data": {
            "text/plain": [
              "<matplotlib.image.AxesImage at 0x7fa7f2c9f4d0>"
            ]
          },
          "metadata": {},
          "execution_count": 52
        },
        {
          "output_type": "display_data",
          "data": {
            "text/plain": [
              "<Figure size 432x288 with 1 Axes>"
            ],
            "image/png": "[encoded data removed]"
          },
          "metadata": {
            "needs_background": "light"
          }
        }
      ],
      "source": [
        "plt.imshow(X_train[7])"
      ]
    },
    {
      "cell_type": "code",
      "execution_count": 53,
      "metadata": {
        "colab": {
          "base_uri": "https://localhost:8080/"
        },
        "id": "l9vX6siF261T",
        "outputId": "c4f476ca-8f85-4c60-8bf9-59a583e96c0d"
      },
      "outputs": [
        {
          "output_type": "execute_result",
          "data": {
            "text/plain": [
              "3"
            ]
          },
          "metadata": {},
          "execution_count": 53
        }
      ],
      "source": [
        "y_train[7]"
      ]
    },
    {
      "cell_type": "markdown",
      "metadata": {
        "id": "DbGx7dPD261a"
      },
      "source": [
        "### Data Filtering \n",
        "\n",
        "for Faster Training"
      ]
    },
    {
      "cell_type": "code",
      "execution_count": 54,
      "metadata": {
        "id": "LhdPbciE261e"
      },
      "outputs": [],
      "source": [
        "only_zeros = X_train[y_train == 0]     #Filtering out zeros only"
      ]
    },
    {
      "cell_type": "code",
      "execution_count": 55,
      "metadata": {
        "colab": {
          "base_uri": "https://localhost:8080/"
        },
        "id": "eNRqj_my261g",
        "outputId": "90ff9ff6-9374-4a9e-b2d9-72ca0837737f"
      },
      "outputs": [
        {
          "output_type": "execute_result",
          "data": {
            "text/plain": [
              "(5923, 28, 28)"
            ]
          },
          "metadata": {},
          "execution_count": 55
        }
      ],
      "source": [
        "only_zeros.shape"
      ]
    },
    {
      "cell_type": "code",
      "execution_count": 56,
      "metadata": {
        "colab": {
          "base_uri": "https://localhost:8080/"
        },
        "id": "weaM1N60261k",
        "outputId": "198e146a-02ac-41f8-e93a-cc825c51d20b"
      },
      "outputs": [
        {
          "output_type": "execute_result",
          "data": {
            "text/plain": [
              "(60000, 28, 28)"
            ]
          },
          "metadata": {},
          "execution_count": 56
        }
      ],
      "source": [
        "X_train.shape"
      ]
    },
    {
      "cell_type": "code",
      "execution_count": 57,
      "metadata": {
        "colab": {
          "base_uri": "https://localhost:8080/",
          "height": 265
        },
        "id": "_8xKEFEM261m",
        "outputId": "7e70eb12-7930-448a-b0e8-c89cd87f6111"
      },
      "outputs": [
        {
          "output_type": "display_data",
          "data": {
            "text/plain": [
              "<Figure size 432x288 with 1 Axes>"
            ],
            "image/png": "[encoded data removed]"
          },
          "metadata": {
            "needs_background": "light"
          }
        }
      ],
      "source": [
        "plt.imshow(only_zeros[1]);"
      ]
    },
    {
      "cell_type": "markdown",
      "metadata": {
        "id": "VWz7xJN1261t"
      },
      "source": [
        "## Build GAN"
      ]
    },
    {
      "cell_type": "markdown",
      "metadata": {
        "id": "o_D0KNL0261w"
      },
      "source": [
        "### Discriminator"
      ]
    },
    {
      "cell_type": "code",
      "execution_count": 58,
      "metadata": {
        "id": "fpX8RKpe261x"
      },
      "outputs": [],
      "source": [
        "import tensorflow as tf\n",
        "from tensorflow.keras.models import Sequential\n",
        "from tensorflow.keras.layers import Dense, Flatten, Reshape"
      ]
    },
    {
      "cell_type": "code",
      "execution_count": 59,
      "metadata": {
        "colab": {
          "base_uri": "https://localhost:8080/"
        },
        "id": "bE83h8C6261y",
        "outputId": "c095cbf4-e845-418a-9520-dfe705798ee1"
      },
      "outputs": [
        {
          "output_type": "execute_result",
          "data": {
            "text/plain": [
              "(28, 28)"
            ]
          },
          "metadata": {},
          "execution_count": 59
        }
      ],
      "source": [
        "X_train[0].shape"
      ]
    },
    {
      "cell_type": "code",
      "execution_count": 60,
      "metadata": {
        "id": "h4w3KKNx2611"
      },
      "outputs": [],
      "source": [
        "discriminator = Sequential()\n",
        "\n",
        "discriminator.add(Flatten(input_shape=[28,28]))         # flatten images from 2D to 1D\n",
        "\n",
        "discriminator.add(Dense(150, activation='relu')) # can add any number of neruons (problem specific)\n",
        "discriminator.add(Dense(100, activation='relu'))  # can add more layers \n",
        "\n",
        "# Final Output Layer\n",
        "discriminator.add(Dense(1, activation='sigmoid')) \n",
        "\n",
        "discriminator.compile(optimizer='adam', loss='binary_crossentropy')"
      ]
    },
    {
      "cell_type": "markdown",
      "metadata": {
        "id": "WDs8CfSX2614"
      },
      "source": [
        "### Generator"
      ]
    },
    {
      "cell_type": "code",
      "execution_count": 61,
      "metadata": {
        "id": "0xUEJCcH2617"
      },
      "outputs": [],
      "source": [
        "np.random.seed(42)\n",
        "tf.random.set_seed(42)"
      ]
    },
    {
      "cell_type": "code",
      "execution_count": 62,
      "metadata": {
        "id": "1fOQGItT261-"
      },
      "outputs": [],
      "source": [
        "# 100 -- 150 -- > 784\n",
        "\n",
        "generator = Sequential()\n",
        "\n",
        "generator.add(Dense(100, activation='relu', input_shape=[100])) \n",
        "generator.add(Dense(150, activation='relu'))\n",
        "generator.add(Dense(784, activation='relu'))\n",
        "\n",
        "generator.add(Reshape([28,28]))  #reshaping (28* 28)\n",
        "\n",
        "# we don't need to compile Generator\n",
        "# it is trained through full GAN model."
      ]
    },
    {
      "cell_type": "markdown",
      "metadata": {
        "id": "3YJBQk5H262A"
      },
      "source": [
        "### Generator + Discriminator as GAN\n"
      ]
    },
    {
      "cell_type": "code",
      "execution_count": 63,
      "metadata": {
        "id": "6szFNl_N262A"
      },
      "outputs": [],
      "source": [
        "GAN = Sequential([generator, discriminator])"
      ]
    },
    {
      "cell_type": "code",
      "execution_count": 64,
      "metadata": {
        "id": "RjvAfgCf262B"
      },
      "outputs": [],
      "source": [
        "discriminator.trainable = False"
      ]
    },
    {
      "cell_type": "code",
      "execution_count": 65,
      "metadata": {
        "id": "f4CBtCBy262B"
      },
      "outputs": [],
      "source": [
        "GAN.compile(optimizer='adam', loss='binary_crossentropy')  #  Discriminator shouldn't be trained in GAN compiling phase."
      ]
    },
    {
      "cell_type": "code",
      "execution_count": 66,
      "metadata": {
        "colab": {
          "base_uri": "https://localhost:8080/"
        },
        "id": "7MSCr7bI262D",
        "outputId": "5f6f43a1-22ca-4477-ae04-2b37d2e426c0"
      },
      "outputs": [
        {
          "output_type": "execute_result",
          "data": {
            "text/plain": [
              "[<keras.engine.sequential.Sequential at 0x7fa7f2be44d0>,\n",
              " <keras.engine.sequential.Sequential at 0x7fa7f2c4f050>]"
            ]
          },
          "metadata": {},
          "execution_count": 66
        }
      ],
      "source": [
        "GAN.layers"
      ]
    },
    {
      "cell_type": "code",
      "execution_count": 67,
      "metadata": {
        "colab": {
          "base_uri": "https://localhost:8080/"
        },
        "id": "klrxzyFq262F",
        "outputId": "7795e73b-c00d-493a-e756-903e62f32a8b"
      },
      "outputs": [
        {
          "output_type": "stream",
          "name": "stdout",
          "text": [
            "Model: \"sequential_5\"\n",
            "_________________________________________________________________\n",
            " Layer (type)                Output Shape              Param #   \n",
            "=================================================================\n",
            " sequential_4 (Sequential)   (None, 28, 28)            143634    \n",
            "                                                                 \n",
            " sequential_3 (Sequential)   (None, 1)                 132951    \n",
            "                                                                 \n",
            "=================================================================\n",
            "Total params: 276,585\n",
            "Trainable params: 143,634\n",
            "Non-trainable params: 132,951\n",
            "_________________________________________________________________\n"
          ]
        }
      ],
      "source": [
        "GAN.summary()"
      ]
    },
    {
      "cell_type": "code",
      "execution_count": 68,
      "metadata": {
        "colab": {
          "base_uri": "https://localhost:8080/"
        },
        "id": "kYWZTyfi262F",
        "outputId": "6005999d-8f8b-4abb-86f8-c10adc0e37d3"
      },
      "outputs": [
        {
          "output_type": "stream",
          "name": "stdout",
          "text": [
            "Model: \"sequential_4\"\n",
            "_________________________________________________________________\n",
            " Layer (type)                Output Shape              Param #   \n",
            "=================================================================\n",
            " dense_9 (Dense)             (None, 100)               10100     \n",
            "                                                                 \n",
            " dense_10 (Dense)            (None, 150)               15150     \n",
            "                                                                 \n",
            " dense_11 (Dense)            (None, 784)               118384    \n",
            "                                                                 \n",
            " reshape_1 (Reshape)         (None, 28, 28)            0         \n",
            "                                                                 \n",
            "=================================================================\n",
            "Total params: 143,634\n",
            "Trainable params: 143,634\n",
            "Non-trainable params: 0\n",
            "_________________________________________________________________\n"
          ]
        }
      ],
      "source": [
        "GAN.layers[0].summary() # Generator Summary"
      ]
    },
    {
      "cell_type": "code",
      "execution_count": 69,
      "metadata": {
        "colab": {
          "base_uri": "https://localhost:8080/"
        },
        "id": "PiD2r9-7262H",
        "outputId": "6f78c843-bba7-40c1-ecd6-2b7c6424cf6a"
      },
      "outputs": [
        {
          "output_type": "stream",
          "name": "stdout",
          "text": [
            "Model: \"sequential_3\"\n",
            "_________________________________________________________________\n",
            " Layer (type)                Output Shape              Param #   \n",
            "=================================================================\n",
            " flatten_1 (Flatten)         (None, 784)               0         \n",
            "                                                                 \n",
            " dense_6 (Dense)             (None, 150)               117750    \n",
            "                                                                 \n",
            " dense_7 (Dense)             (None, 100)               15100     \n",
            "                                                                 \n",
            " dense_8 (Dense)             (None, 1)                 101       \n",
            "                                                                 \n",
            "=================================================================\n",
            "Total params: 132,951\n",
            "Trainable params: 0\n",
            "Non-trainable params: 132,951\n",
            "_________________________________________________________________\n"
          ]
        }
      ],
      "source": [
        "GAN.layers[1].summary() # Discriminator Summary"
      ]
    },
    {
      "cell_type": "markdown",
      "metadata": {
        "id": "XRqVatDN262I"
      },
      "source": [
        "### Training\n"
      ]
    },
    {
      "cell_type": "code",
      "execution_count": 70,
      "metadata": {
        "id": "vdfvO5wm262J"
      },
      "outputs": [],
      "source": [
        "import tensorflow as tf"
      ]
    },
    {
      "cell_type": "code",
      "execution_count": 71,
      "metadata": {
        "id": "R1q7kpW7262K"
      },
      "outputs": [],
      "source": [
        "batch_size = 32"
      ]
    },
    {
      "cell_type": "code",
      "execution_count": 72,
      "metadata": {
        "id": "R9WnprF8262K"
      },
      "outputs": [],
      "source": [
        "# my_data = X_train, we can change to what ever data we want to process\n",
        "my_data = only_zeros"
      ]
    },
    {
      "cell_type": "markdown",
      "metadata": {
        "id": "9A5fqcvG262M"
      },
      "source": [
        "### Shuffle the data"
      ]
    },
    {
      "cell_type": "code",
      "execution_count": 73,
      "metadata": {
        "id": "JP40qOHm262M"
      },
      "outputs": [],
      "source": [
        "dataset = tf.data.Dataset.from_tensor_slices(my_data).shuffle(buffer_size=1000) # shuffle in memory 1K each time"
      ]
    },
    {
      "cell_type": "code",
      "execution_count": 74,
      "metadata": {
        "colab": {
          "base_uri": "https://localhost:8080/"
        },
        "id": "wiHBMyJk262N",
        "outputId": "0b241bc5-7964-4048-c5b9-7a9312aa6b27"
      },
      "outputs": [
        {
          "output_type": "execute_result",
          "data": {
            "text/plain": [
              "tensorflow.python.data.ops.dataset_ops.ShuffleDataset"
            ]
          },
          "metadata": {},
          "execution_count": 74
        }
      ],
      "source": [
        "type(dataset)"
      ]
    },
    {
      "cell_type": "markdown",
      "metadata": {
        "id": "vRYbKwgw262O"
      },
      "source": [
        "### Actual Setting up Batches"
      ]
    },
    {
      "cell_type": "code",
      "execution_count": 75,
      "metadata": {
        "colab": {
          "base_uri": "https://localhost:8080/"
        },
        "id": "Htw8LaOC262O",
        "outputId": "d661439b-e86e-4354-f4da-5e6d87df1908"
      },
      "outputs": [
        {
          "output_type": "execute_result",
          "data": {
            "text/plain": [
              "185.09375"
            ]
          },
          "metadata": {},
          "execution_count": 75
        }
      ],
      "source": [
        "len(my_data)/batch_size"
      ]
    },
    {
      "cell_type": "code",
      "execution_count": 76,
      "metadata": {
        "id": "t1vZsJnd262P"
      },
      "outputs": [],
      "source": [
        "dataset = dataset.batch(batch_size=32, drop_remainder=True).prefetch(1)   # Setting up Batches"
      ]
    },
    {
      "cell_type": "markdown",
      "metadata": {
        "id": "qmTVhOtp262Q"
      },
      "source": [
        "-------"
      ]
    },
    {
      "cell_type": "markdown",
      "metadata": {
        "id": "HVqETujc262R"
      },
      "source": [
        "#### Training GAN Loop"
      ]
    },
    {
      "cell_type": "code",
      "execution_count": 77,
      "metadata": {
        "colab": {
          "base_uri": "https://localhost:8080/"
        },
        "id": "HmoOIpSj262S",
        "outputId": "d75b2a97-e2b2-4e95-c9d9-868dfe60b1ff"
      },
      "outputs": [
        {
          "output_type": "execute_result",
          "data": {
            "text/plain": [
              "[0.0, 0.0, 0.0, 0.0, 0.0, 0.0, 0.0, 0.0, 0.0, 0.0]"
            ]
          },
          "metadata": {},
          "execution_count": 77
        }
      ],
      "source": [
        "[0.0] * 10"
      ]
    },
    {
      "cell_type": "code",
      "execution_count": 78,
      "metadata": {
        "colab": {
          "base_uri": "https://localhost:8080/"
        },
        "id": "1Jx00yxq262T",
        "outputId": "ccee8786-46e3-4605-f100-f9eb5ab20cc7"
      },
      "outputs": [
        {
          "output_type": "execute_result",
          "data": {
            "text/plain": [
              "[[0.0],\n",
              " [0.0],\n",
              " [0.0],\n",
              " [0.0],\n",
              " [0.0],\n",
              " [0.0],\n",
              " [0.0],\n",
              " [0.0],\n",
              " [0.0],\n",
              " [0.0],\n",
              " [0.0],\n",
              " [0.0],\n",
              " [0.0],\n",
              " [0.0],\n",
              " [0.0],\n",
              " [0.0],\n",
              " [0.0],\n",
              " [0.0],\n",
              " [0.0],\n",
              " [0.0],\n",
              " [0.0],\n",
              " [0.0],\n",
              " [0.0],\n",
              " [0.0],\n",
              " [0.0],\n",
              " [0.0],\n",
              " [0.0],\n",
              " [0.0],\n",
              " [0.0],\n",
              " [0.0],\n",
              " [0.0],\n",
              " [0.0],\n",
              " [1.0],\n",
              " [1.0],\n",
              " [1.0],\n",
              " [1.0],\n",
              " [1.0],\n",
              " [1.0],\n",
              " [1.0],\n",
              " [1.0],\n",
              " [1.0],\n",
              " [1.0],\n",
              " [1.0],\n",
              " [1.0],\n",
              " [1.0],\n",
              " [1.0],\n",
              " [1.0],\n",
              " [1.0],\n",
              " [1.0],\n",
              " [1.0],\n",
              " [1.0],\n",
              " [1.0],\n",
              " [1.0],\n",
              " [1.0],\n",
              " [1.0],\n",
              " [1.0],\n",
              " [1.0],\n",
              " [1.0],\n",
              " [1.0],\n",
              " [1.0],\n",
              " [1.0],\n",
              " [1.0],\n",
              " [1.0],\n",
              " [1.0]]"
            ]
          },
          "metadata": {},
          "execution_count": 78
        }
      ],
      "source": [
        "[[0.0]]*batch_size + [[1.0]]*batch_size"
      ]
    },
    {
      "cell_type": "code",
      "execution_count": 83,
      "metadata": {
        "id": "gaNwdVVa262V"
      },
      "outputs": [],
      "source": [
        "epochs = 1"
      ]
    },
    {
      "cell_type": "code",
      "execution_count": 84,
      "metadata": {
        "id": "TAluDqWj262V"
      },
      "outputs": [],
      "source": [
        "# Grab the seprate components\n",
        "generator, discriminator = GAN.layers\n"
      ]
    },
    {
      "cell_type": "code",
      "source": [
        "generator, discriminator"
      ],
      "metadata": {
        "colab": {
          "base_uri": "https://localhost:8080/"
        },
        "id": "e1E2H07uAkwX",
        "outputId": "e97a1811-c843-4881-f71a-dbe65261554a"
      },
      "execution_count": 85,
      "outputs": [
        {
          "output_type": "execute_result",
          "data": {
            "text/plain": [
              "(<keras.engine.sequential.Sequential at 0x7fa7f2be44d0>,\n",
              " <keras.engine.sequential.Sequential at 0x7fa7f2c4f050>)"
            ]
          },
          "metadata": {},
          "execution_count": 85
        }
      ]
    },
    {
      "cell_type": "code",
      "execution_count": 86,
      "metadata": {
        "colab": {
          "base_uri": "https://localhost:8080/"
        },
        "id": "NimeHe0u262W",
        "outputId": "2f93b732-6854-4186-8729-996b128dc407"
      },
      "outputs": [
        {
          "output_type": "stream",
          "name": "stdout",
          "text": [
            "TRAINING COMPLETE\n"
          ]
        }
      ],
      "source": [
        "# For every batch in the dataset\n",
        "for X_batch in dataset:\n",
        "        \n",
        "    #DISCRIMINATOR TRAINING PHASE \n",
        "    \n",
        "    \n",
        "    \n",
        "    noise = tf.random.normal(shape=[batch_size, 100])       # Create Noise\n",
        "    \n",
        "    \n",
        "    gen_images = generator(noise)    # Generate Image (noise input)\n",
        "    \n",
        "    # Concatenate Generated Images and actual images\n",
        "    X_fake_vs_real = tf.concat([gen_images, tf.dtypes.cast(X_batch, tf.float32)], axis=0)  # type cast to float32 for actual images\n",
        "    \n",
        "    # Targets Labels - 0s for fake images and 1s for real images \n",
        "    y1 = tf.constant([[0.0]]*batch_size + [[1.0]]*batch_size)    # (concat 32 labels(batch size)\n",
        "\n",
        "    # train Discriminator\n",
        "    discriminator.trainable = True\n",
        "    \n",
        "    # Train the discriminator on this current batch\n",
        "    discriminator.train_on_batch(X_fake_vs_real, y1) # pass features and labels\n",
        "    \n",
        "    \n",
        "    # GENERATOR TRAINING PHASE\n",
        "    \n",
        "    \n",
        "    noise = tf.random.normal(shape=[batch_size, 100])     # Creating noise\n",
        "    \n",
        "    # making labels of real images for fake images \n",
        "\n",
        "    y2 = tf.constant([[1.0]] * batch_size)\n",
        "    \n",
        "    \n",
        "    discriminator.trainable = False        # Discriminator not training\n",
        "    \n",
        "    # Training on GAN model\n",
        "    GAN.train_on_batch(noise, y2)\n",
        "        \n",
        "print(\"TRAINING COMPLETE\")         "
      ]
    },
    {
      "cell_type": "markdown",
      "metadata": {
        "id": "ufuXDebl262Y"
      },
      "source": [
        "## Generating Images\n",
        "\n",
        "Generator will only learn to create one type of noisey zero, regardless of noise"
      ]
    },
    {
      "cell_type": "code",
      "execution_count": 87,
      "metadata": {
        "id": "pk234RXq262Y"
      },
      "outputs": [],
      "source": [
        "noise = tf.random.normal(shape=[10, 100]) # 10 noisy things"
      ]
    },
    {
      "cell_type": "code",
      "execution_count": 88,
      "metadata": {
        "colab": {
          "base_uri": "https://localhost:8080/"
        },
        "id": "PEvHuZrc262Z",
        "outputId": "7141d70a-2bbf-4ce7-c624-94fd8526d103"
      },
      "outputs": [
        {
          "output_type": "execute_result",
          "data": {
            "text/plain": [
              "TensorShape([10, 100])"
            ]
          },
          "metadata": {},
          "execution_count": 88
        }
      ],
      "source": [
        "noise.shape"
      ]
    },
    {
      "cell_type": "code",
      "execution_count": 90,
      "metadata": {
        "colab": {
          "base_uri": "https://localhost:8080/",
          "height": 84
        },
        "id": "e1p-6y3k262a",
        "outputId": "5893a52c-e3ea-481d-e089-5f38df8ac8ac"
      },
      "outputs": [
        {
          "output_type": "display_data",
          "data": {
            "text/plain": [
              "<Figure size 432x288 with 1 Axes>"
            ],
            "image/png": "[encoded data removed]"
          },
          "metadata": {
            "needs_background": "light"
          }
        }
      ],
      "source": [
        "plt.imshow(noise); # 100 noise points"
      ]
    },
    {
      "cell_type": "code",
      "execution_count": 91,
      "metadata": {
        "id": "x1aDf-oI262b"
      },
      "outputs": [],
      "source": [
        "# we just pass in those noises to generate images\n",
        "images = generator(noise)"
      ]
    },
    {
      "cell_type": "code",
      "execution_count": 92,
      "metadata": {
        "colab": {
          "base_uri": "https://localhost:8080/"
        },
        "id": "rdRmMocx262c",
        "outputId": "b571749f-847b-404b-f4cf-9d3e5370fcce"
      },
      "outputs": [
        {
          "output_type": "execute_result",
          "data": {
            "text/plain": [
              "TensorShape([10, 28, 28])"
            ]
          },
          "metadata": {},
          "execution_count": 92
        }
      ],
      "source": [
        "images.shape # now we get 10 images with 28x28"
      ]
    },
    {
      "cell_type": "code",
      "execution_count": 93,
      "metadata": {
        "colab": {
          "base_uri": "https://localhost:8080/",
          "height": 265
        },
        "id": "0044EHjQ262c",
        "outputId": "2a55d64c-08be-42dd-f96e-29c40b05f2db"
      },
      "outputs": [
        {
          "output_type": "display_data",
          "data": {
            "text/plain": [
              "<Figure size 432x288 with 1 Axes>"
            ],
            "image/png": "[encoded data removed]"
          },
          "metadata": {
            "needs_background": "light"
          }
        }
      ],
      "source": [
        "plt.imshow(images[0]);"
      ]
    },
    {
      "cell_type": "code",
      "execution_count": 94,
      "metadata": {
        "colab": {
          "base_uri": "https://localhost:8080/",
          "height": 265
        },
        "id": "Zt6SDrkw262d",
        "outputId": "baac00bd-51c1-4f44-90fd-a044fabc4a76"
      },
      "outputs": [
        {
          "output_type": "display_data",
          "data": {
            "text/plain": [
              "<Figure size 432x288 with 1 Axes>"
            ],
            "image/png": "[encoded data removed]"
          },
          "metadata": {
            "needs_background": "light"
          }
        }
      ],
      "source": [
        "plt.imshow(images[7]);"
      ]
    },
    {
      "cell_type": "code",
      "execution_count": 95,
      "metadata": {
        "colab": {
          "base_uri": "https://localhost:8080/",
          "height": 265
        },
        "id": "myewTsW4262f",
        "outputId": "c036f4ba-56f9-4e51-b353-423cc81c09e9"
      },
      "outputs": [
        {
          "output_type": "display_data",
          "data": {
            "text/plain": [
              "<Figure size 432x288 with 1 Axes>"
            ],
            "image/png": "[encoded data removed]"
          },
          "metadata": {
            "needs_background": "light"
          }
        }
      ],
      "source": [
        "plt.imshow(images[5]);"
      ]
    },
    {
      "cell_type": "code",
      "source": [],
      "metadata": {
        "id": "qUziJ0dBmdZF"
      },
      "execution_count": 49,
      "outputs": []
    }
  ],
  "metadata": {
    "kernelspec": {
      "display_name": "venv-datascience",
      "language": "python",
      "name": "venv-datascience"
    },
    "language_info": {
      "codemirror_mode": {
        "name": "ipython",
        "version": 3
      },
      "file_extension": ".py",
      "mimetype": "text/x-python",
      "name": "python",
      "nbconvert_exporter": "python",
      "pygments_lexer": "ipython3",
      "version": "3.8.5"
    },
    "colab": {
      "provenance": [],
      "collapsed_sections": []
    }
  },
  "nbformat": 4,
  "nbformat_minor": 0
}
