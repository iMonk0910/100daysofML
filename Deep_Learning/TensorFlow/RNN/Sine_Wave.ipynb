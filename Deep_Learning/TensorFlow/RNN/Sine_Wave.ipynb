{
  "cells": [
    {
      "cell_type": "markdown",
      "metadata": {
        "id": "I520FdpexLu7"
      },
      "source": [
        "# Sine Wave using RNN (TensorFlow)"
      ]
    },
    {
      "cell_type": "code",
      "execution_count": 1,
      "metadata": {
        "id": "XsQNPJltxLvD"
      },
      "outputs": [],
      "source": [
        "import numpy as np\n",
        "import pandas as pd\n",
        "import matplotlib.pyplot as plt\n",
        "import seaborn as sns"
      ]
    },
    {
      "cell_type": "markdown",
      "metadata": {
        "id": "7V16P_AMxLvG"
      },
      "source": [
        "## Data"
      ]
    },
    {
      "cell_type": "code",
      "execution_count": 3,
      "metadata": {
        "id": "cQZ3dDtwxLvH"
      },
      "outputs": [],
      "source": [
        "x = np.linspace(0, 50, 501) # create 500 linearly spaced out points "
      ]
    },
    {
      "cell_type": "code",
      "execution_count": 4,
      "metadata": {
        "colab": {
          "base_uri": "https://localhost:8080/"
        },
        "id": "36gnLuaNxLvI",
        "outputId": "66136b41-8a56-4d58-b35c-cfbdd075bbff"
      },
      "outputs": [
        {
          "output_type": "execute_result",
          "data": {
            "text/plain": [
              "array([ 0. ,  0.1,  0.2,  0.3,  0.4,  0.5,  0.6,  0.7,  0.8,  0.9,  1. ,\n",
              "        1.1,  1.2,  1.3,  1.4,  1.5,  1.6,  1.7,  1.8,  1.9,  2. ,  2.1,\n",
              "        2.2,  2.3,  2.4,  2.5,  2.6,  2.7,  2.8,  2.9,  3. ,  3.1,  3.2,\n",
              "        3.3,  3.4,  3.5,  3.6,  3.7,  3.8,  3.9,  4. ,  4.1,  4.2,  4.3,\n",
              "        4.4,  4.5,  4.6,  4.7,  4.8,  4.9,  5. ,  5.1,  5.2,  5.3,  5.4,\n",
              "        5.5,  5.6,  5.7,  5.8,  5.9,  6. ,  6.1,  6.2,  6.3,  6.4,  6.5,\n",
              "        6.6,  6.7,  6.8,  6.9,  7. ,  7.1,  7.2,  7.3,  7.4,  7.5,  7.6,\n",
              "        7.7,  7.8,  7.9,  8. ,  8.1,  8.2,  8.3,  8.4,  8.5,  8.6,  8.7,\n",
              "        8.8,  8.9,  9. ,  9.1,  9.2,  9.3,  9.4,  9.5,  9.6,  9.7,  9.8,\n",
              "        9.9, 10. , 10.1, 10.2, 10.3, 10.4, 10.5, 10.6, 10.7, 10.8, 10.9,\n",
              "       11. , 11.1, 11.2, 11.3, 11.4, 11.5, 11.6, 11.7, 11.8, 11.9, 12. ,\n",
              "       12.1, 12.2, 12.3, 12.4, 12.5, 12.6, 12.7, 12.8, 12.9, 13. , 13.1,\n",
              "       13.2, 13.3, 13.4, 13.5, 13.6, 13.7, 13.8, 13.9, 14. , 14.1, 14.2,\n",
              "       14.3, 14.4, 14.5, 14.6, 14.7, 14.8, 14.9, 15. , 15.1, 15.2, 15.3,\n",
              "       15.4, 15.5, 15.6, 15.7, 15.8, 15.9, 16. , 16.1, 16.2, 16.3, 16.4,\n",
              "       16.5, 16.6, 16.7, 16.8, 16.9, 17. , 17.1, 17.2, 17.3, 17.4, 17.5,\n",
              "       17.6, 17.7, 17.8, 17.9, 18. , 18.1, 18.2, 18.3, 18.4, 18.5, 18.6,\n",
              "       18.7, 18.8, 18.9, 19. , 19.1, 19.2, 19.3, 19.4, 19.5, 19.6, 19.7,\n",
              "       19.8, 19.9, 20. , 20.1, 20.2, 20.3, 20.4, 20.5, 20.6, 20.7, 20.8,\n",
              "       20.9, 21. , 21.1, 21.2, 21.3, 21.4, 21.5, 21.6, 21.7, 21.8, 21.9,\n",
              "       22. , 22.1, 22.2, 22.3, 22.4, 22.5, 22.6, 22.7, 22.8, 22.9, 23. ,\n",
              "       23.1, 23.2, 23.3, 23.4, 23.5, 23.6, 23.7, 23.8, 23.9, 24. , 24.1,\n",
              "       24.2, 24.3, 24.4, 24.5, 24.6, 24.7, 24.8, 24.9, 25. , 25.1, 25.2,\n",
              "       25.3, 25.4, 25.5, 25.6, 25.7, 25.8, 25.9, 26. , 26.1, 26.2, 26.3,\n",
              "       26.4, 26.5, 26.6, 26.7, 26.8, 26.9, 27. , 27.1, 27.2, 27.3, 27.4,\n",
              "       27.5, 27.6, 27.7, 27.8, 27.9, 28. , 28.1, 28.2, 28.3, 28.4, 28.5,\n",
              "       28.6, 28.7, 28.8, 28.9, 29. , 29.1, 29.2, 29.3, 29.4, 29.5, 29.6,\n",
              "       29.7, 29.8, 29.9, 30. , 30.1, 30.2, 30.3, 30.4, 30.5, 30.6, 30.7,\n",
              "       30.8, 30.9, 31. , 31.1, 31.2, 31.3, 31.4, 31.5, 31.6, 31.7, 31.8,\n",
              "       31.9, 32. , 32.1, 32.2, 32.3, 32.4, 32.5, 32.6, 32.7, 32.8, 32.9,\n",
              "       33. , 33.1, 33.2, 33.3, 33.4, 33.5, 33.6, 33.7, 33.8, 33.9, 34. ,\n",
              "       34.1, 34.2, 34.3, 34.4, 34.5, 34.6, 34.7, 34.8, 34.9, 35. , 35.1,\n",
              "       35.2, 35.3, 35.4, 35.5, 35.6, 35.7, 35.8, 35.9, 36. , 36.1, 36.2,\n",
              "       36.3, 36.4, 36.5, 36.6, 36.7, 36.8, 36.9, 37. , 37.1, 37.2, 37.3,\n",
              "       37.4, 37.5, 37.6, 37.7, 37.8, 37.9, 38. , 38.1, 38.2, 38.3, 38.4,\n",
              "       38.5, 38.6, 38.7, 38.8, 38.9, 39. , 39.1, 39.2, 39.3, 39.4, 39.5,\n",
              "       39.6, 39.7, 39.8, 39.9, 40. , 40.1, 40.2, 40.3, 40.4, 40.5, 40.6,\n",
              "       40.7, 40.8, 40.9, 41. , 41.1, 41.2, 41.3, 41.4, 41.5, 41.6, 41.7,\n",
              "       41.8, 41.9, 42. , 42.1, 42.2, 42.3, 42.4, 42.5, 42.6, 42.7, 42.8,\n",
              "       42.9, 43. , 43.1, 43.2, 43.3, 43.4, 43.5, 43.6, 43.7, 43.8, 43.9,\n",
              "       44. , 44.1, 44.2, 44.3, 44.4, 44.5, 44.6, 44.7, 44.8, 44.9, 45. ,\n",
              "       45.1, 45.2, 45.3, 45.4, 45.5, 45.6, 45.7, 45.8, 45.9, 46. , 46.1,\n",
              "       46.2, 46.3, 46.4, 46.5, 46.6, 46.7, 46.8, 46.9, 47. , 47.1, 47.2,\n",
              "       47.3, 47.4, 47.5, 47.6, 47.7, 47.8, 47.9, 48. , 48.1, 48.2, 48.3,\n",
              "       48.4, 48.5, 48.6, 48.7, 48.8, 48.9, 49. , 49.1, 49.2, 49.3, 49.4,\n",
              "       49.5, 49.6, 49.7, 49.8, 49.9, 50. ])"
            ]
          },
          "metadata": {},
          "execution_count": 4
        }
      ],
      "source": [
        "x"
      ]
    },
    {
      "cell_type": "code",
      "execution_count": 5,
      "metadata": {
        "id": "x-WAXSAaxLvK"
      },
      "outputs": [],
      "source": [
        "y = np.sin(x) # Numpy to create a simple sine wave"
      ]
    },
    {
      "cell_type": "code",
      "execution_count": 6,
      "metadata": {
        "colab": {
          "base_uri": "https://localhost:8080/"
        },
        "id": "ZgkFZD3GxLvL",
        "outputId": "1a082eec-a848-47dd-83f2-d7d474010821"
      },
      "outputs": [
        {
          "output_type": "execute_result",
          "data": {
            "text/plain": [
              "array([ 0.00000000e+00,  9.98334166e-02,  1.98669331e-01,  2.95520207e-01,\n",
              "        3.89418342e-01,  4.79425539e-01,  5.64642473e-01,  6.44217687e-01,\n",
              "        7.17356091e-01,  7.83326910e-01,  8.41470985e-01,  8.91207360e-01,\n",
              "        9.32039086e-01,  9.63558185e-01,  9.85449730e-01,  9.97494987e-01,\n",
              "        9.99573603e-01,  9.91664810e-01,  9.73847631e-01,  9.46300088e-01,\n",
              "        9.09297427e-01,  8.63209367e-01,  8.08496404e-01,  7.45705212e-01,\n",
              "        6.75463181e-01,  5.98472144e-01,  5.15501372e-01,  4.27379880e-01,\n",
              "        3.34988150e-01,  2.39249329e-01,  1.41120008e-01,  4.15806624e-02,\n",
              "       -5.83741434e-02, -1.57745694e-01, -2.55541102e-01, -3.50783228e-01,\n",
              "       -4.42520443e-01, -5.29836141e-01, -6.11857891e-01, -6.87766159e-01,\n",
              "       -7.56802495e-01, -8.18277111e-01, -8.71575772e-01, -9.16165937e-01,\n",
              "       -9.51602074e-01, -9.77530118e-01, -9.93691004e-01, -9.99923258e-01,\n",
              "       -9.96164609e-01, -9.82452613e-01, -9.58924275e-01, -9.25814682e-01,\n",
              "       -8.83454656e-01, -8.32267442e-01, -7.72764488e-01, -7.05540326e-01,\n",
              "       -6.31266638e-01, -5.50685543e-01, -4.64602179e-01, -3.73876665e-01,\n",
              "       -2.79415498e-01, -1.82162504e-01, -8.30894028e-02,  1.68139005e-02,\n",
              "        1.16549205e-01,  2.15119988e-01,  3.11541364e-01,  4.04849921e-01,\n",
              "        4.94113351e-01,  5.78439764e-01,  6.56986599e-01,  7.28969040e-01,\n",
              "        7.93667864e-01,  8.50436621e-01,  8.98708096e-01,  9.37999977e-01,\n",
              "        9.67919672e-01,  9.88168234e-01,  9.98543345e-01,  9.98941342e-01,\n",
              "        9.89358247e-01,  9.69889811e-01,  9.40730557e-01,  9.02171834e-01,\n",
              "        8.54598908e-01,  7.98487113e-01,  7.34397098e-01,  6.62969230e-01,\n",
              "        5.84917193e-01,  5.01020856e-01,  4.12118485e-01,  3.19098362e-01,\n",
              "        2.22889914e-01,  1.24454424e-01,  2.47754255e-02, -7.51511205e-02,\n",
              "       -1.74326781e-01, -2.71760626e-01, -3.66479129e-01, -4.57535894e-01,\n",
              "       -5.44021111e-01, -6.25070649e-01, -6.99874688e-01, -7.67685810e-01,\n",
              "       -8.27826469e-01, -8.79695760e-01, -9.22775422e-01, -9.56635016e-01,\n",
              "       -9.80936230e-01, -9.95436253e-01, -9.99990207e-01, -9.94552588e-01,\n",
              "       -9.79177729e-01, -9.54019250e-01, -9.19328526e-01, -8.75452175e-01,\n",
              "       -8.22828595e-01, -7.61983584e-01, -6.93525085e-01, -6.18137112e-01,\n",
              "       -5.36572918e-01, -4.49647465e-01, -3.58229282e-01, -2.63231791e-01,\n",
              "       -1.65604175e-01, -6.63218974e-02,  3.36230472e-02,  1.33232041e-01,\n",
              "        2.31509825e-01,  3.27474439e-01,  4.20167037e-01,  5.08661464e-01,\n",
              "        5.92073515e-01,  6.69569762e-01,  7.40375890e-01,  8.03784427e-01,\n",
              "        8.59161815e-01,  9.05954742e-01,  9.43695669e-01,  9.72007501e-01,\n",
              "        9.90607356e-01,  9.99309389e-01,  9.98026653e-01,  9.86771964e-01,\n",
              "        9.65657777e-01,  9.34895056e-01,  8.94791172e-01,  8.45746831e-01,\n",
              "        7.88252067e-01,  7.22881350e-01,  6.50287840e-01,  5.71196870e-01,\n",
              "        4.86398689e-01,  3.96740573e-01,  3.03118357e-01,  2.06467482e-01,\n",
              "        1.07753652e-01,  7.96318379e-03, -9.19068502e-02, -1.90858581e-01,\n",
              "       -2.87903317e-01, -3.82071417e-01, -4.72421986e-01, -5.58052271e-01,\n",
              "       -6.38106682e-01, -7.11785342e-01, -7.78352079e-01, -8.37141778e-01,\n",
              "       -8.87567034e-01, -9.29124013e-01, -9.61397492e-01, -9.84065005e-01,\n",
              "       -9.96900066e-01, -9.99774431e-01, -9.92659380e-01, -9.75626005e-01,\n",
              "       -9.48844498e-01, -9.12582450e-01, -8.67202179e-01, -8.13157112e-01,\n",
              "       -7.50987247e-01, -6.81313766e-01, -6.04832822e-01, -5.22308590e-01,\n",
              "       -4.34565622e-01, -3.42480618e-01, -2.46973662e-01, -1.48999026e-01,\n",
              "       -4.95356409e-02,  5.04226878e-02,  1.49877210e-01,  2.47834208e-01,\n",
              "        3.43314929e-01,  4.35365360e-01,  5.23065765e-01,  6.05539870e-01,\n",
              "        6.81963620e-01,  7.51573415e-01,  8.13673738e-01,  8.67644101e-01,\n",
              "        9.12945251e-01,  9.49124554e-01,  9.75820518e-01,  9.92766406e-01,\n",
              "        9.99792900e-01,  9.96829794e-01,  9.83906695e-01,  9.61152725e-01,\n",
              "        9.28795234e-01,  8.87157529e-01,  8.36655639e-01,  7.77794162e-01,\n",
              "        7.11161223e-01,  6.37422596e-01,  5.57315054e-01,  4.71639003e-01,\n",
              "        3.81250492e-01,  2.87052651e-01,  1.89986676e-01,  9.10224162e-02,\n",
              "       -8.85130929e-03, -1.08636595e-01, -2.07336421e-01, -3.03964609e-01,\n",
              "       -3.97555683e-01, -4.87174512e-01, -5.71925655e-01, -6.50962306e-01,\n",
              "       -7.23494756e-01, -7.88798286e-01, -8.46220404e-01, -8.95187368e-01,\n",
              "       -9.35209915e-01, -9.65888154e-01, -9.86915558e-01, -9.98082028e-01,\n",
              "       -9.99275992e-01, -9.90485521e-01, -9.71798446e-01, -9.43401482e-01,\n",
              "       -9.05578362e-01, -8.58707003e-01, -8.03255727e-01, -7.39778585e-01,\n",
              "       -6.68909820e-01, -5.91357530e-01, -5.07896590e-01, -4.19360916e-01,\n",
              "       -3.26635126e-01, -2.30645706e-01, -1.32351750e-01, -3.27353793e-02,\n",
              "        6.72080725e-02,  1.66480004e-01,  2.64088521e-01,  3.59058354e-01,\n",
              "        4.50440594e-01,  5.37322181e-01,  6.18835022e-01,  6.94164668e-01,\n",
              "        7.62558450e-01,  8.23333001e-01,  8.75881080e-01,  9.19677645e-01,\n",
              "        9.54285094e-01,  9.79357643e-01,  9.94644774e-01,  9.99993743e-01,\n",
              "        9.95351105e-01,  9.80763248e-01,  9.56375928e-01,  9.22432817e-01,\n",
              "        8.79273062e-01,  8.27327901e-01,  7.67116353e-01,  6.99240032e-01,\n",
              "        6.24377135e-01,  5.43275669e-01,  4.56745972e-01,  3.65652620e-01,\n",
              "        2.70905788e-01,  1.73452155e-01,  7.42654456e-02, -2.56632999e-02,\n",
              "       -1.25335626e-01, -2.23755640e-01, -3.19939962e-01, -4.12927549e-01,\n",
              "       -5.01789301e-01, -5.85637340e-01, -6.63633884e-01, -7.34999618e-01,\n",
              "       -7.99021479e-01, -8.55059781e-01, -9.02554608e-01, -9.41031408e-01,\n",
              "       -9.70105734e-01, -9.89487083e-01, -9.98981805e-01, -9.98495031e-01,\n",
              "       -9.88031624e-01, -9.67696132e-01, -9.37691740e-01, -8.98318243e-01,\n",
              "       -8.49969046e-01, -7.93127239e-01, -7.28360768e-01, -6.56316756e-01,\n",
              "       -5.77715044e-01, -4.93340995e-01, -4.04037645e-01, -3.10697285e-01,\n",
              "       -2.14252540e-01, -1.15667055e-01, -1.59258626e-02,  8.39744557e-02,\n",
              "        1.83035729e-01,  2.80268170e-01,  3.74700264e-01,  4.65388476e-01,\n",
              "        5.51426681e-01,  6.31955213e-01,  7.06169457e-01,  7.73327890e-01,\n",
              "        8.32759485e-01,  8.83870424e-01,  9.26150021e-01,  9.59175833e-01,\n",
              "        9.82617877e-01,  9.96241929e-01,  9.99911860e-01,  9.93591003e-01,\n",
              "        9.77342512e-01,  9.51328739e-01,  9.15809603e-01,  8.71140000e-01,\n",
              "        8.17766255e-01,  7.56221659e-01,  6.87121146e-01,  6.11155146e-01,\n",
              "        5.29082686e-01,  4.41723807e-01,  3.49951369e-01,  2.54682333e-01,\n",
              "        1.56868595e-01,  5.74874781e-02, -4.24680347e-02, -1.41999221e-01,\n",
              "       -2.40111598e-01, -3.35824859e-01, -4.28182669e-01, -5.16262220e-01,\n",
              "       -5.99183449e-01, -6.76117835e-01, -7.46296676e-01, -8.09018766e-01,\n",
              "       -8.63657409e-01, -9.09666672e-01, -9.46586846e-01, -9.74049038e-01,\n",
              "       -9.91778853e-01, -9.99599143e-01, -9.97431767e-01, -9.85298384e-01,\n",
              "       -9.63320224e-01, -9.31716888e-01, -8.90804144e-01, -8.40990780e-01,\n",
              "       -7.82774514e-01, -7.16737023e-01, -6.43538133e-01, -5.63909223e-01,\n",
              "       -4.78645919e-01, -3.88600142e-01, -2.94671602e-01, -1.97798800e-01,\n",
              "       -9.89496576e-02,  8.88156806e-04,  1.00717097e-01,  1.99539705e-01,\n",
              "        2.96368579e-01,  3.90236235e-01,  4.80204780e-01,  5.65375278e-01,\n",
              "        6.44896733e-01,  7.17974593e-01,  7.83878688e-01,  8.41950526e-01,\n",
              "        8.91609873e-01,  9.32360549e-01,  9.63795386e-01,  9.85600299e-01,\n",
              "        9.97557419e-01,  9.99547275e-01,  9.91549985e-01,  9.73645456e-01,\n",
              "        9.46012583e-01,  9.08927465e-01,  8.62760644e-01,  8.07973404e-01,\n",
              "        7.45113160e-01,  6.74807993e-01,  5.97760367e-01,  5.14740117e-01,\n",
              "        4.26576754e-01,  3.34151177e-01,  2.38386872e-01,  1.40240684e-01,\n",
              "        4.06932573e-02, -5.92607627e-02, -1.58622669e-01, -2.56399670e-01,\n",
              "       -3.51614810e-01, -4.43316731e-01, -5.30589178e-01, -6.12560153e-01,\n",
              "       -6.88410630e-01, -7.57382735e-01, -8.18787322e-01, -8.72010857e-01,\n",
              "       -9.16521548e-01, -9.51874658e-01, -9.77716952e-01, -9.93790221e-01,\n",
              "       -9.99933866e-01, -9.96086503e-01, -9.82286573e-01, -9.58671960e-01,\n",
              "       -9.25478614e-01, -8.83038191e-01, -8.31774743e-01, -7.72200476e-01,\n",
              "       -7.04910637e-01, -6.30577565e-01, -5.49943970e-01, -4.63815516e-01,\n",
              "       -3.73052771e-01, -2.78562606e-01, -1.81289136e-01, -8.22042844e-02,\n",
              "        1.77019251e-02,  1.17431263e-01,  2.15987266e-01,  3.12385196e-01,\n",
              "        4.05661877e-01,  4.94885318e-01,  5.79164028e-01,  6.57655923e-01,\n",
              "        7.29576737e-01,  7.94207862e-01,  8.50903525e-01,  8.99097240e-01,\n",
              "        9.38307473e-01,  9.68142448e-01,  9.88304064e-01,  9.98590872e-01,\n",
              "        9.98900091e-01,  9.89228630e-01,  9.69673123e-01,  9.40428963e-01,\n",
              "        9.01788348e-01,  8.54137361e-01,  7.97952117e-01,  7.33793998e-01,\n",
              "        6.62304053e-01,  5.84196584e-01,  5.00252017e-01,  4.11309096e-01,\n",
              "        3.18256511e-01,  2.22024012e-01,  1.23573123e-01,  2.38875315e-02,\n",
              "       -7.60367361e-02, -1.75201270e-01, -2.72615250e-01, -3.67305349e-01,\n",
              "       -4.58325454e-01, -5.44766123e-01, -6.25763669e-01, -7.00508791e-01,\n",
              "       -7.68254661e-01, -8.28324385e-01, -8.80117764e-01, -9.23117298e-01,\n",
              "       -9.56893350e-01, -9.81108439e-01, -9.95520616e-01, -9.99985881e-01,\n",
              "       -9.94459618e-01, -9.78997043e-01, -9.53752653e-01, -9.18978681e-01,\n",
              "       -8.75022579e-01, -8.22323540e-01, -7.61408116e-01, -6.92884954e-01,\n",
              "       -6.17438715e-01, -5.35823232e-01, -4.48853980e-01, -3.57399928e-01,\n",
              "       -2.62374854e-01])"
            ]
          },
          "metadata": {},
          "execution_count": 6
        }
      ],
      "source": [
        "y"
      ]
    },
    {
      "cell_type": "markdown",
      "metadata": {
        "id": "3bw2cZyExLvM"
      },
      "source": [
        "## Visulaization"
      ]
    },
    {
      "cell_type": "code",
      "execution_count": 7,
      "metadata": {
        "colab": {
          "base_uri": "https://localhost:8080/",
          "height": 265
        },
        "id": "DcsOfQodxLvN",
        "outputId": "f43a0566-c9d5-496d-9aa2-29169a819768"
      },
      "outputs": [
        {
          "output_type": "display_data",
          "data": {
            "text/plain": [
              "<Figure size 432x288 with 1 Axes>"
            ],
            "image/png": "[encoded data removed]"
          },
          "metadata": {
            "needs_background": "light"
          }
        }
      ],
      "source": [
        "plt.plot(x, y);"
      ]
    },
    {
      "cell_type": "markdown",
      "metadata": {
        "id": "acCsHciGxLvO"
      },
      "source": [
        "## Dataframe "
      ]
    },
    {
      "cell_type": "code",
      "execution_count": 8,
      "metadata": {
        "id": "-WnV3755xLvQ"
      },
      "outputs": [],
      "source": [
        "df = pd.DataFrame(data=y, index=x, columns=['Sine'])"
      ]
    },
    {
      "cell_type": "code",
      "execution_count": 9,
      "metadata": {
        "colab": {
          "base_uri": "https://localhost:8080/",
          "height": 206
        },
        "id": "Z07Gy54ExLvQ",
        "outputId": "586b4fd7-d4cf-4295-cf01-c4419ceef24c"
      },
      "outputs": [
        {
          "output_type": "execute_result",
          "data": {
            "text/plain": [
              "         Sine\n",
              "0.0  0.000000\n",
              "0.1  0.099833\n",
              "0.2  0.198669\n",
              "0.3  0.295520\n",
              "0.4  0.389418"
            ],
            "text/html": [
              "\n",
              "  <div id=\"df-1fb86332-116b-4cf7-9a5c-885db585e504\">\n",
              "    <div class=\"colab-df-container\">\n",
              "      <div>\n",
              "<style scoped>\n",
              "    .dataframe tbody tr th:only-of-type {\n",
              "        vertical-align: middle;\n",
              "    }\n",
              "\n",
              "    .dataframe tbody tr th {\n",
              "        vertical-align: top;\n",
              "    }\n",
              "\n",
              "    .dataframe thead th {\n",
              "        text-align: right;\n",
              "    }\n",
              "</style>\n",
              "<table border=\"1\" class=\"dataframe\">\n",
              "  <thead>\n",
              "    <tr style=\"text-align: right;\">\n",
              "      <th></th>\n",
              "      <th>Sine</th>\n",
              "    </tr>\n",
              "  </thead>\n",
              "  <tbody>\n",
              "    <tr>\n",
              "      <th>0.0</th>\n",
              "      <td>0.000000</td>\n",
              "    </tr>\n",
              "    <tr>\n",
              "      <th>0.1</th>\n",
              "      <td>0.099833</td>\n",
              "    </tr>\n",
              "    <tr>\n",
              "      <th>0.2</th>\n",
              "      <td>0.198669</td>\n",
              "    </tr>\n",
              "    <tr>\n",
              "      <th>0.3</th>\n",
              "      <td>0.295520</td>\n",
              "    </tr>\n",
              "    <tr>\n",
              "      <th>0.4</th>\n",
              "      <td>0.389418</td>\n",
              "    </tr>\n",
              "  </tbody>\n",
              "</table>\n",
              "</div>\n",
              "      <button class=\"colab-df-convert\" onclick=\"convertToInteractive('df-1fb86332-116b-4cf7-9a5c-885db585e504')\"\n",
              "              title=\"Convert this dataframe to an interactive table.\"\n",
              "              style=\"display:none;\">\n",
              "        \n",
              "  <svg xmlns=\"http://www.w3.org/2000/svg\" height=\"24px\"viewBox=\"0 0 24 24\"\n",
              "       width=\"24px\">\n",
              "    <path d=\"M0 0h24v24H0V0z\" fill=\"none\"/>\n",
              "    <path d=\"M18.56 5.44l.94 2.06.94-2.06 2.06-.94-2.06-.94-.94-2.06-.94 2.06-2.06.94zm-11 1L8.5 8.5l.94-2.06 2.06-.94-2.06-.94L8.5 2.5l-.94 2.06-2.06.94zm10 10l.94 2.06.94-2.06 2.06-.94-2.06-.94-.94-2.06-.94 2.06-2.06.94z\"/><path d=\"M17.41 7.96l-1.37-1.37c-.4-.4-.92-.59-1.43-.59-.52 0-1.04.2-1.43.59L10.3 9.45l-7.72 7.72c-.78.78-.78 2.05 0 2.83L4 21.41c.39.39.9.59 1.41.59.51 0 1.02-.2 1.41-.59l7.78-7.78 2.81-2.81c.8-.78.8-2.07 0-2.86zM5.41 20L4 18.59l7.72-7.72 1.47 1.35L5.41 20z\"/>\n",
              "  </svg>\n",
              "      </button>\n",
              "      \n",
              "  <style>\n",
              "    .colab-df-container {\n",
              "      display:flex;\n",
              "      flex-wrap:wrap;\n",
              "      gap: 12px;\n",
              "    }\n",
              "\n",
              "    .colab-df-convert {\n",
              "      background-color: #E8F0FE;\n",
              "      border: none;\n",
              "      border-radius: 50%;\n",
              "      cursor: pointer;\n",
              "      display: none;\n",
              "      fill: #1967D2;\n",
              "      height: 32px;\n",
              "      padding: 0 0 0 0;\n",
              "      width: 32px;\n",
              "    }\n",
              "\n",
              "    .colab-df-convert:hover {\n",
              "      background-color: #E2EBFA;\n",
              "      box-shadow: 0px 1px 2px rgba(60, 64, 67, 0.3), 0px 1px 3px 1px rgba(60, 64, 67, 0.15);\n",
              "      fill: #174EA6;\n",
              "    }\n",
              "\n",
              "    [theme=dark] .colab-df-convert {\n",
              "      background-color: #3B4455;\n",
              "      fill: #D2E3FC;\n",
              "    }\n",
              "\n",
              "    [theme=dark] .colab-df-convert:hover {\n",
              "      background-color: #434B5C;\n",
              "      box-shadow: 0px 1px 3px 1px rgba(0, 0, 0, 0.15);\n",
              "      filter: drop-shadow(0px 1px 2px rgba(0, 0, 0, 0.3));\n",
              "      fill: #FFFFFF;\n",
              "    }\n",
              "  </style>\n",
              "\n",
              "      <script>\n",
              "        const buttonEl =\n",
              "          document.querySelector('#df-1fb86332-116b-4cf7-9a5c-885db585e504 button.colab-df-convert');\n",
              "        buttonEl.style.display =\n",
              "          google.colab.kernel.accessAllowed ? 'block' : 'none';\n",
              "\n",
              "        async function convertToInteractive(key) {\n",
              "          const element = document.querySelector('#df-1fb86332-116b-4cf7-9a5c-885db585e504');\n",
              "          const dataTable =\n",
              "            await google.colab.kernel.invokeFunction('convertToInteractive',\n",
              "                                                     [key], {});\n",
              "          if (!dataTable) return;\n",
              "\n",
              "          const docLinkHtml = 'Like what you see? Visit the ' +\n",
              "            '<a target=\"_blank\" href=https://colab.research.google.com/notebooks/data_table.ipynb>data table notebook</a>'\n",
              "            + ' to learn more about interactive tables.';\n",
              "          element.innerHTML = '';\n",
              "          dataTable['output_type'] = 'display_data';\n",
              "          await google.colab.output.renderOutput(dataTable, element);\n",
              "          const docLink = document.createElement('div');\n",
              "          docLink.innerHTML = docLinkHtml;\n",
              "          element.appendChild(docLink);\n",
              "        }\n",
              "      </script>\n",
              "    </div>\n",
              "  </div>\n",
              "  "
            ]
          },
          "metadata": {},
          "execution_count": 9
        }
      ],
      "source": [
        "df.head()"
      ]
    },
    {
      "cell_type": "markdown",
      "metadata": {
        "id": "4R9eaAppxLvR"
      },
      "source": [
        "-----"
      ]
    },
    {
      "cell_type": "markdown",
      "metadata": {
        "id": "7MhVtVMfxLvS"
      },
      "source": [
        "## Train Test Split"
      ]
    },
    {
      "cell_type": "code",
      "execution_count": 10,
      "metadata": {
        "colab": {
          "base_uri": "https://localhost:8080/"
        },
        "id": "RMsKxoSkxLvS",
        "outputId": "d854f3c9-de3f-40fd-f3a7-ea1ddd5de761"
      },
      "outputs": [
        {
          "output_type": "execute_result",
          "data": {
            "text/plain": [
              "501"
            ]
          },
          "metadata": {},
          "execution_count": 10
        }
      ],
      "source": [
        "len(df) #length"
      ]
    },
    {
      "cell_type": "code",
      "execution_count": 37,
      "metadata": {
        "id": "XhjbyfZvxLvT"
      },
      "outputs": [],
      "source": [
        "# pecentage of test data (# 10%)\n",
        "test_percent = 0.1 "
      ]
    },
    {
      "cell_type": "code",
      "execution_count": 13,
      "metadata": {
        "colab": {
          "base_uri": "https://localhost:8080/"
        },
        "id": "A5AilxgcxLvU",
        "outputId": "8d128e3f-7fae-4189-ded1-4d6a4cd5a649"
      },
      "outputs": [
        {
          "output_type": "execute_result",
          "data": {
            "text/plain": [
              "50.1"
            ]
          },
          "metadata": {},
          "execution_count": 13
        }
      ],
      "source": [
        "# 50 data points needed for the testing data\n",
        "len(df) * test_percent"
      ]
    },
    {
      "cell_type": "code",
      "execution_count": 38,
      "metadata": {
        "colab": {
          "base_uri": "https://localhost:8080/"
        },
        "id": "ozFgM8NQxLvW",
        "outputId": "9cf86466-f02a-4978-9747-88fc302ed1b4"
      },
      "outputs": [
        {
          "output_type": "execute_result",
          "data": {
            "text/plain": [
              "50.0"
            ]
          },
          "metadata": {},
          "execution_count": 38
        }
      ],
      "source": [
        "test_point = np.round(len(df) * test_percent)\n",
        "test_point"
      ]
    },
    {
      "cell_type": "code",
      "execution_count": 39,
      "metadata": {
        "colab": {
          "base_uri": "https://localhost:8080/"
        },
        "id": "lIaUt14XxLvW",
        "outputId": "6d9281cf-685e-4a21-f917-f36901bd5120"
      },
      "outputs": [
        {
          "output_type": "execute_result",
          "data": {
            "text/plain": [
              "451"
            ]
          },
          "metadata": {},
          "execution_count": 39
        }
      ],
      "source": [
        "test_index_start = int(len(df) - test_point)  # Index of testing data start\n",
        "test_index_start"
      ]
    },
    {
      "cell_type": "code",
      "execution_count": 40,
      "metadata": {
        "id": "n98-T2wExLvX"
      },
      "outputs": [],
      "source": [
        "train = df.iloc[:test_index_start]   #train Data\n",
        "test = df.iloc[test_index_start:]    #test Data"
      ]
    },
    {
      "cell_type": "code",
      "execution_count": 41,
      "metadata": {
        "colab": {
          "base_uri": "https://localhost:8080/",
          "height": 424
        },
        "id": "NY2RxVW0xLvX",
        "outputId": "5776ed6b-2abd-442d-ab20-e5a765b60bcc"
      },
      "outputs": [
        {
          "output_type": "execute_result",
          "data": {
            "text/plain": [
              "          Sine\n",
              "0.0   0.000000\n",
              "0.1   0.099833\n",
              "0.2   0.198669\n",
              "0.3   0.295520\n",
              "0.4   0.389418\n",
              "...        ...\n",
              "44.6  0.579164\n",
              "44.7  0.657656\n",
              "44.8  0.729577\n",
              "44.9  0.794208\n",
              "45.0  0.850904\n",
              "\n",
              "[451 rows x 1 columns]"
            ],
            "text/html": [
              "\n",
              "  <div id=\"df-af638f7d-16bf-4bdd-ac86-5f4d714d01cc\">\n",
              "    <div class=\"colab-df-container\">\n",
              "      <div>\n",
              "<style scoped>\n",
              "    .dataframe tbody tr th:only-of-type {\n",
              "        vertical-align: middle;\n",
              "    }\n",
              "\n",
              "    .dataframe tbody tr th {\n",
              "        vertical-align: top;\n",
              "    }\n",
              "\n",
              "    .dataframe thead th {\n",
              "        text-align: right;\n",
              "    }\n",
              "</style>\n",
              "<table border=\"1\" class=\"dataframe\">\n",
              "  <thead>\n",
              "    <tr style=\"text-align: right;\">\n",
              "      <th></th>\n",
              "      <th>Sine</th>\n",
              "    </tr>\n",
              "  </thead>\n",
              "  <tbody>\n",
              "    <tr>\n",
              "      <th>0.0</th>\n",
              "      <td>0.000000</td>\n",
              "    </tr>\n",
              "    <tr>\n",
              "      <th>0.1</th>\n",
              "      <td>0.099833</td>\n",
              "    </tr>\n",
              "    <tr>\n",
              "      <th>0.2</th>\n",
              "      <td>0.198669</td>\n",
              "    </tr>\n",
              "    <tr>\n",
              "      <th>0.3</th>\n",
              "      <td>0.295520</td>\n",
              "    </tr>\n",
              "    <tr>\n",
              "      <th>0.4</th>\n",
              "      <td>0.389418</td>\n",
              "    </tr>\n",
              "    <tr>\n",
              "      <th>...</th>\n",
              "      <td>...</td>\n",
              "    </tr>\n",
              "    <tr>\n",
              "      <th>44.6</th>\n",
              "      <td>0.579164</td>\n",
              "    </tr>\n",
              "    <tr>\n",
              "      <th>44.7</th>\n",
              "      <td>0.657656</td>\n",
              "    </tr>\n",
              "    <tr>\n",
              "      <th>44.8</th>\n",
              "      <td>0.729577</td>\n",
              "    </tr>\n",
              "    <tr>\n",
              "      <th>44.9</th>\n",
              "      <td>0.794208</td>\n",
              "    </tr>\n",
              "    <tr>\n",
              "      <th>45.0</th>\n",
              "      <td>0.850904</td>\n",
              "    </tr>\n",
              "  </tbody>\n",
              "</table>\n",
              "<p>451 rows × 1 columns</p>\n",
              "</div>\n",
              "      <button class=\"colab-df-convert\" onclick=\"convertToInteractive('df-af638f7d-16bf-4bdd-ac86-5f4d714d01cc')\"\n",
              "              title=\"Convert this dataframe to an interactive table.\"\n",
              "              style=\"display:none;\">\n",
              "        \n",
              "  <svg xmlns=\"http://www.w3.org/2000/svg\" height=\"24px\"viewBox=\"0 0 24 24\"\n",
              "       width=\"24px\">\n",
              "    <path d=\"M0 0h24v24H0V0z\" fill=\"none\"/>\n",
              "    <path d=\"M18.56 5.44l.94 2.06.94-2.06 2.06-.94-2.06-.94-.94-2.06-.94 2.06-2.06.94zm-11 1L8.5 8.5l.94-2.06 2.06-.94-2.06-.94L8.5 2.5l-.94 2.06-2.06.94zm10 10l.94 2.06.94-2.06 2.06-.94-2.06-.94-.94-2.06-.94 2.06-2.06.94z\"/><path d=\"M17.41 7.96l-1.37-1.37c-.4-.4-.92-.59-1.43-.59-.52 0-1.04.2-1.43.59L10.3 9.45l-7.72 7.72c-.78.78-.78 2.05 0 2.83L4 21.41c.39.39.9.59 1.41.59.51 0 1.02-.2 1.41-.59l7.78-7.78 2.81-2.81c.8-.78.8-2.07 0-2.86zM5.41 20L4 18.59l7.72-7.72 1.47 1.35L5.41 20z\"/>\n",
              "  </svg>\n",
              "      </button>\n",
              "      \n",
              "  <style>\n",
              "    .colab-df-container {\n",
              "      display:flex;\n",
              "      flex-wrap:wrap;\n",
              "      gap: 12px;\n",
              "    }\n",
              "\n",
              "    .colab-df-convert {\n",
              "      background-color: #E8F0FE;\n",
              "      border: none;\n",
              "      border-radius: 50%;\n",
              "      cursor: pointer;\n",
              "      display: none;\n",
              "      fill: #1967D2;\n",
              "      height: 32px;\n",
              "      padding: 0 0 0 0;\n",
              "      width: 32px;\n",
              "    }\n",
              "\n",
              "    .colab-df-convert:hover {\n",
              "      background-color: #E2EBFA;\n",
              "      box-shadow: 0px 1px 2px rgba(60, 64, 67, 0.3), 0px 1px 3px 1px rgba(60, 64, 67, 0.15);\n",
              "      fill: #174EA6;\n",
              "    }\n",
              "\n",
              "    [theme=dark] .colab-df-convert {\n",
              "      background-color: #3B4455;\n",
              "      fill: #D2E3FC;\n",
              "    }\n",
              "\n",
              "    [theme=dark] .colab-df-convert:hover {\n",
              "      background-color: #434B5C;\n",
              "      box-shadow: 0px 1px 3px 1px rgba(0, 0, 0, 0.15);\n",
              "      filter: drop-shadow(0px 1px 2px rgba(0, 0, 0, 0.3));\n",
              "      fill: #FFFFFF;\n",
              "    }\n",
              "  </style>\n",
              "\n",
              "      <script>\n",
              "        const buttonEl =\n",
              "          document.querySelector('#df-af638f7d-16bf-4bdd-ac86-5f4d714d01cc button.colab-df-convert');\n",
              "        buttonEl.style.display =\n",
              "          google.colab.kernel.accessAllowed ? 'block' : 'none';\n",
              "\n",
              "        async function convertToInteractive(key) {\n",
              "          const element = document.querySelector('#df-af638f7d-16bf-4bdd-ac86-5f4d714d01cc');\n",
              "          const dataTable =\n",
              "            await google.colab.kernel.invokeFunction('convertToInteractive',\n",
              "                                                     [key], {});\n",
              "          if (!dataTable) return;\n",
              "\n",
              "          const docLinkHtml = 'Like what you see? Visit the ' +\n",
              "            '<a target=\"_blank\" href=https://colab.research.google.com/notebooks/data_table.ipynb>data table notebook</a>'\n",
              "            + ' to learn more about interactive tables.';\n",
              "          element.innerHTML = '';\n",
              "          dataTable['output_type'] = 'display_data';\n",
              "          await google.colab.output.renderOutput(dataTable, element);\n",
              "          const docLink = document.createElement('div');\n",
              "          docLink.innerHTML = docLinkHtml;\n",
              "          element.appendChild(docLink);\n",
              "        }\n",
              "      </script>\n",
              "    </div>\n",
              "  </div>\n",
              "  "
            ]
          },
          "metadata": {},
          "execution_count": 41
        }
      ],
      "source": [
        "train"
      ]
    },
    {
      "cell_type": "code",
      "execution_count": 42,
      "metadata": {
        "colab": {
          "base_uri": "https://localhost:8080/",
          "height": 1000
        },
        "id": "OLCCpkvOxLvY",
        "outputId": "e3565b0b-a97f-4d42-9b94-ed50f5cf156d"
      },
      "outputs": [
        {
          "output_type": "execute_result",
          "data": {
            "text/plain": [
              "          Sine\n",
              "45.1  0.899097\n",
              "45.2  0.938307\n",
              "45.3  0.968142\n",
              "45.4  0.988304\n",
              "45.5  0.998591\n",
              "45.6  0.998900\n",
              "45.7  0.989229\n",
              "45.8  0.969673\n",
              "45.9  0.940429\n",
              "46.0  0.901788\n",
              "46.1  0.854137\n",
              "46.2  0.797952\n",
              "46.3  0.733794\n",
              "46.4  0.662304\n",
              "46.5  0.584197\n",
              "46.6  0.500252\n",
              "46.7  0.411309\n",
              "46.8  0.318257\n",
              "46.9  0.222024\n",
              "47.0  0.123573\n",
              "47.1  0.023888\n",
              "47.2 -0.076037\n",
              "47.3 -0.175201\n",
              "47.4 -0.272615\n",
              "47.5 -0.367305\n",
              "47.6 -0.458325\n",
              "47.7 -0.544766\n",
              "47.8 -0.625764\n",
              "47.9 -0.700509\n",
              "48.0 -0.768255\n",
              "48.1 -0.828324\n",
              "48.2 -0.880118\n",
              "48.3 -0.923117\n",
              "48.4 -0.956893\n",
              "48.5 -0.981108\n",
              "48.6 -0.995521\n",
              "48.7 -0.999986\n",
              "48.8 -0.994460\n",
              "48.9 -0.978997\n",
              "49.0 -0.953753\n",
              "49.1 -0.918979\n",
              "49.2 -0.875023\n",
              "49.3 -0.822324\n",
              "49.4 -0.761408\n",
              "49.5 -0.692885\n",
              "49.6 -0.617439\n",
              "49.7 -0.535823\n",
              "49.8 -0.448854\n",
              "49.9 -0.357400\n",
              "50.0 -0.262375"
            ],
            "text/html": [
              "\n",
              "  <div id=\"df-c84b91b0-fc13-4a82-8d38-da1579fc0bad\">\n",
              "    <div class=\"colab-df-container\">\n",
              "      <div>\n",
              "<style scoped>\n",
              "    .dataframe tbody tr th:only-of-type {\n",
              "        vertical-align: middle;\n",
              "    }\n",
              "\n",
              "    .dataframe tbody tr th {\n",
              "        vertical-align: top;\n",
              "    }\n",
              "\n",
              "    .dataframe thead th {\n",
              "        text-align: right;\n",
              "    }\n",
              "</style>\n",
              "<table border=\"1\" class=\"dataframe\">\n",
              "  <thead>\n",
              "    <tr style=\"text-align: right;\">\n",
              "      <th></th>\n",
              "      <th>Sine</th>\n",
              "    </tr>\n",
              "  </thead>\n",
              "  <tbody>\n",
              "    <tr>\n",
              "      <th>45.1</th>\n",
              "      <td>0.899097</td>\n",
              "    </tr>\n",
              "    <tr>\n",
              "      <th>45.2</th>\n",
              "      <td>0.938307</td>\n",
              "    </tr>\n",
              "    <tr>\n",
              "      <th>45.3</th>\n",
              "      <td>0.968142</td>\n",
              "    </tr>\n",
              "    <tr>\n",
              "      <th>45.4</th>\n",
              "      <td>0.988304</td>\n",
              "    </tr>\n",
              "    <tr>\n",
              "      <th>45.5</th>\n",
              "      <td>0.998591</td>\n",
              "    </tr>\n",
              "    <tr>\n",
              "      <th>45.6</th>\n",
              "      <td>0.998900</td>\n",
              "    </tr>\n",
              "    <tr>\n",
              "      <th>45.7</th>\n",
              "      <td>0.989229</td>\n",
              "    </tr>\n",
              "    <tr>\n",
              "      <th>45.8</th>\n",
              "      <td>0.969673</td>\n",
              "    </tr>\n",
              "    <tr>\n",
              "      <th>45.9</th>\n",
              "      <td>0.940429</td>\n",
              "    </tr>\n",
              "    <tr>\n",
              "      <th>46.0</th>\n",
              "      <td>0.901788</td>\n",
              "    </tr>\n",
              "    <tr>\n",
              "      <th>46.1</th>\n",
              "      <td>0.854137</td>\n",
              "    </tr>\n",
              "    <tr>\n",
              "      <th>46.2</th>\n",
              "      <td>0.797952</td>\n",
              "    </tr>\n",
              "    <tr>\n",
              "      <th>46.3</th>\n",
              "      <td>0.733794</td>\n",
              "    </tr>\n",
              "    <tr>\n",
              "      <th>46.4</th>\n",
              "      <td>0.662304</td>\n",
              "    </tr>\n",
              "    <tr>\n",
              "      <th>46.5</th>\n",
              "      <td>0.584197</td>\n",
              "    </tr>\n",
              "    <tr>\n",
              "      <th>46.6</th>\n",
              "      <td>0.500252</td>\n",
              "    </tr>\n",
              "    <tr>\n",
              "      <th>46.7</th>\n",
              "      <td>0.411309</td>\n",
              "    </tr>\n",
              "    <tr>\n",
              "      <th>46.8</th>\n",
              "      <td>0.318257</td>\n",
              "    </tr>\n",
              "    <tr>\n",
              "      <th>46.9</th>\n",
              "      <td>0.222024</td>\n",
              "    </tr>\n",
              "    <tr>\n",
              "      <th>47.0</th>\n",
              "      <td>0.123573</td>\n",
              "    </tr>\n",
              "    <tr>\n",
              "      <th>47.1</th>\n",
              "      <td>0.023888</td>\n",
              "    </tr>\n",
              "    <tr>\n",
              "      <th>47.2</th>\n",
              "      <td>-0.076037</td>\n",
              "    </tr>\n",
              "    <tr>\n",
              "      <th>47.3</th>\n",
              "      <td>-0.175201</td>\n",
              "    </tr>\n",
              "    <tr>\n",
              "      <th>47.4</th>\n",
              "      <td>-0.272615</td>\n",
              "    </tr>\n",
              "    <tr>\n",
              "      <th>47.5</th>\n",
              "      <td>-0.367305</td>\n",
              "    </tr>\n",
              "    <tr>\n",
              "      <th>47.6</th>\n",
              "      <td>-0.458325</td>\n",
              "    </tr>\n",
              "    <tr>\n",
              "      <th>47.7</th>\n",
              "      <td>-0.544766</td>\n",
              "    </tr>\n",
              "    <tr>\n",
              "      <th>47.8</th>\n",
              "      <td>-0.625764</td>\n",
              "    </tr>\n",
              "    <tr>\n",
              "      <th>47.9</th>\n",
              "      <td>-0.700509</td>\n",
              "    </tr>\n",
              "    <tr>\n",
              "      <th>48.0</th>\n",
              "      <td>-0.768255</td>\n",
              "    </tr>\n",
              "    <tr>\n",
              "      <th>48.1</th>\n",
              "      <td>-0.828324</td>\n",
              "    </tr>\n",
              "    <tr>\n",
              "      <th>48.2</th>\n",
              "      <td>-0.880118</td>\n",
              "    </tr>\n",
              "    <tr>\n",
              "      <th>48.3</th>\n",
              "      <td>-0.923117</td>\n",
              "    </tr>\n",
              "    <tr>\n",
              "      <th>48.4</th>\n",
              "      <td>-0.956893</td>\n",
              "    </tr>\n",
              "    <tr>\n",
              "      <th>48.5</th>\n",
              "      <td>-0.981108</td>\n",
              "    </tr>\n",
              "    <tr>\n",
              "      <th>48.6</th>\n",
              "      <td>-0.995521</td>\n",
              "    </tr>\n",
              "    <tr>\n",
              "      <th>48.7</th>\n",
              "      <td>-0.999986</td>\n",
              "    </tr>\n",
              "    <tr>\n",
              "      <th>48.8</th>\n",
              "      <td>-0.994460</td>\n",
              "    </tr>\n",
              "    <tr>\n",
              "      <th>48.9</th>\n",
              "      <td>-0.978997</td>\n",
              "    </tr>\n",
              "    <tr>\n",
              "      <th>49.0</th>\n",
              "      <td>-0.953753</td>\n",
              "    </tr>\n",
              "    <tr>\n",
              "      <th>49.1</th>\n",
              "      <td>-0.918979</td>\n",
              "    </tr>\n",
              "    <tr>\n",
              "      <th>49.2</th>\n",
              "      <td>-0.875023</td>\n",
              "    </tr>\n",
              "    <tr>\n",
              "      <th>49.3</th>\n",
              "      <td>-0.822324</td>\n",
              "    </tr>\n",
              "    <tr>\n",
              "      <th>49.4</th>\n",
              "      <td>-0.761408</td>\n",
              "    </tr>\n",
              "    <tr>\n",
              "      <th>49.5</th>\n",
              "      <td>-0.692885</td>\n",
              "    </tr>\n",
              "    <tr>\n",
              "      <th>49.6</th>\n",
              "      <td>-0.617439</td>\n",
              "    </tr>\n",
              "    <tr>\n",
              "      <th>49.7</th>\n",
              "      <td>-0.535823</td>\n",
              "    </tr>\n",
              "    <tr>\n",
              "      <th>49.8</th>\n",
              "      <td>-0.448854</td>\n",
              "    </tr>\n",
              "    <tr>\n",
              "      <th>49.9</th>\n",
              "      <td>-0.357400</td>\n",
              "    </tr>\n",
              "    <tr>\n",
              "      <th>50.0</th>\n",
              "      <td>-0.262375</td>\n",
              "    </tr>\n",
              "  </tbody>\n",
              "</table>\n",
              "</div>\n",
              "      <button class=\"colab-df-convert\" onclick=\"convertToInteractive('df-c84b91b0-fc13-4a82-8d38-da1579fc0bad')\"\n",
              "              title=\"Convert this dataframe to an interactive table.\"\n",
              "              style=\"display:none;\">\n",
              "        \n",
              "  <svg xmlns=\"http://www.w3.org/2000/svg\" height=\"24px\"viewBox=\"0 0 24 24\"\n",
              "       width=\"24px\">\n",
              "    <path d=\"M0 0h24v24H0V0z\" fill=\"none\"/>\n",
              "    <path d=\"M18.56 5.44l.94 2.06.94-2.06 2.06-.94-2.06-.94-.94-2.06-.94 2.06-2.06.94zm-11 1L8.5 8.5l.94-2.06 2.06-.94-2.06-.94L8.5 2.5l-.94 2.06-2.06.94zm10 10l.94 2.06.94-2.06 2.06-.94-2.06-.94-.94-2.06-.94 2.06-2.06.94z\"/><path d=\"M17.41 7.96l-1.37-1.37c-.4-.4-.92-.59-1.43-.59-.52 0-1.04.2-1.43.59L10.3 9.45l-7.72 7.72c-.78.78-.78 2.05 0 2.83L4 21.41c.39.39.9.59 1.41.59.51 0 1.02-.2 1.41-.59l7.78-7.78 2.81-2.81c.8-.78.8-2.07 0-2.86zM5.41 20L4 18.59l7.72-7.72 1.47 1.35L5.41 20z\"/>\n",
              "  </svg>\n",
              "      </button>\n",
              "      \n",
              "  <style>\n",
              "    .colab-df-container {\n",
              "      display:flex;\n",
              "      flex-wrap:wrap;\n",
              "      gap: 12px;\n",
              "    }\n",
              "\n",
              "    .colab-df-convert {\n",
              "      background-color: #E8F0FE;\n",
              "      border: none;\n",
              "      border-radius: 50%;\n",
              "      cursor: pointer;\n",
              "      display: none;\n",
              "      fill: #1967D2;\n",
              "      height: 32px;\n",
              "      padding: 0 0 0 0;\n",
              "      width: 32px;\n",
              "    }\n",
              "\n",
              "    .colab-df-convert:hover {\n",
              "      background-color: #E2EBFA;\n",
              "      box-shadow: 0px 1px 2px rgba(60, 64, 67, 0.3), 0px 1px 3px 1px rgba(60, 64, 67, 0.15);\n",
              "      fill: #174EA6;\n",
              "    }\n",
              "\n",
              "    [theme=dark] .colab-df-convert {\n",
              "      background-color: #3B4455;\n",
              "      fill: #D2E3FC;\n",
              "    }\n",
              "\n",
              "    [theme=dark] .colab-df-convert:hover {\n",
              "      background-color: #434B5C;\n",
              "      box-shadow: 0px 1px 3px 1px rgba(0, 0, 0, 0.15);\n",
              "      filter: drop-shadow(0px 1px 2px rgba(0, 0, 0, 0.3));\n",
              "      fill: #FFFFFF;\n",
              "    }\n",
              "  </style>\n",
              "\n",
              "      <script>\n",
              "        const buttonEl =\n",
              "          document.querySelector('#df-c84b91b0-fc13-4a82-8d38-da1579fc0bad button.colab-df-convert');\n",
              "        buttonEl.style.display =\n",
              "          google.colab.kernel.accessAllowed ? 'block' : 'none';\n",
              "\n",
              "        async function convertToInteractive(key) {\n",
              "          const element = document.querySelector('#df-c84b91b0-fc13-4a82-8d38-da1579fc0bad');\n",
              "          const dataTable =\n",
              "            await google.colab.kernel.invokeFunction('convertToInteractive',\n",
              "                                                     [key], {});\n",
              "          if (!dataTable) return;\n",
              "\n",
              "          const docLinkHtml = 'Like what you see? Visit the ' +\n",
              "            '<a target=\"_blank\" href=https://colab.research.google.com/notebooks/data_table.ipynb>data table notebook</a>'\n",
              "            + ' to learn more about interactive tables.';\n",
              "          element.innerHTML = '';\n",
              "          dataTable['output_type'] = 'display_data';\n",
              "          await google.colab.output.renderOutput(dataTable, element);\n",
              "          const docLink = document.createElement('div');\n",
              "          docLink.innerHTML = docLinkHtml;\n",
              "          element.appendChild(docLink);\n",
              "        }\n",
              "      </script>\n",
              "    </div>\n",
              "  </div>\n",
              "  "
            ]
          },
          "metadata": {},
          "execution_count": 42
        }
      ],
      "source": [
        "test"
      ]
    },
    {
      "cell_type": "markdown",
      "metadata": {
        "id": "1-YZkkmaxLvZ"
      },
      "source": [
        "-------"
      ]
    },
    {
      "cell_type": "markdown",
      "metadata": {
        "id": "V-xtOWu1xLvZ"
      },
      "source": [
        "## Scale Data\n"
      ]
    },
    {
      "cell_type": "code",
      "execution_count": 43,
      "metadata": {
        "id": "-KYHXod4xLva"
      },
      "outputs": [],
      "source": [
        "from sklearn.preprocessing import MinMaxScaler"
      ]
    },
    {
      "cell_type": "code",
      "execution_count": 44,
      "metadata": {
        "id": "GkXODF4CxLva"
      },
      "outputs": [],
      "source": [
        "scaler = MinMaxScaler()"
      ]
    },
    {
      "cell_type": "code",
      "execution_count": 45,
      "metadata": {
        "id": "QzkpUVqqxLvb"
      },
      "outputs": [],
      "source": [
        "scaled_train = scaler.fit_transform(train) \n",
        "scaled_test = scaler.transform(test)"
      ]
    },
    {
      "cell_type": "code",
      "source": [
        "scaled_train"
      ],
      "metadata": {
        "colab": {
          "base_uri": "https://localhost:8080/"
        },
        "id": "_uq-bsg_3Nyw",
        "outputId": "0a87653d-58c5-48a2-9790-3bf086286980"
      },
      "execution_count": 48,
      "outputs": [
        {
          "output_type": "execute_result",
          "data": {
            "text/plain": [
              "array([[4.99999116e-01],\n",
              "       [5.49916225e-01],\n",
              "       [5.99334579e-01],\n",
              "       [6.47760405e-01],\n",
              "       [6.94709850e-01],\n",
              "       [7.39713809e-01],\n",
              "       [7.82322618e-01],\n",
              "       [8.22110545e-01],\n",
              "       [8.58680040e-01],\n",
              "       [8.91665714e-01],\n",
              "       [9.20737985e-01],\n",
              "       [9.45606372e-01],\n",
              "       [9.66022399e-01],\n",
              "       [9.81782075e-01],\n",
              "       [9.92727935e-01],\n",
              "       [9.98750612e-01],\n",
              "       [9.99789928e-01],\n",
              "       [9.95835500e-01],\n",
              "       [9.86926839e-01],\n",
              "       [9.73152957e-01],\n",
              "       [9.54651478e-01],\n",
              "       [9.31607263e-01],\n",
              "       [9.04250562e-01],\n",
              "       [8.72854714e-01],\n",
              "       [8.37733417e-01],\n",
              "       [7.99237589e-01],\n",
              "       [7.57751870e-01],\n",
              "       [7.13690771e-01],\n",
              "       [6.67494535e-01],\n",
              "       [6.19624741e-01],\n",
              "       [5.70559686e-01],\n",
              "       [5.20789614e-01],\n",
              "       [4.70811810e-01],\n",
              "       [4.21125636e-01],\n",
              "       [3.72227539e-01],\n",
              "       [3.24606094e-01],\n",
              "       [2.78737119e-01],\n",
              "       [2.35078919e-01],\n",
              "       [1.94067715e-01],\n",
              "       [1.56113277e-01],\n",
              "       [1.21594831e-01],\n",
              "       [9.08572769e-02],\n",
              "       [6.42077324e-02],\n",
              "       [4.19124713e-02],\n",
              "       [2.41942605e-02],\n",
              "       [1.12301346e-02],\n",
              "       [3.14962674e-03],\n",
              "       [3.34747619e-05],\n",
              "       [1.91281421e-03],\n",
              "       [8.76886734e-03],\n",
              "       [2.05331307e-02],\n",
              "       [3.70880598e-02],\n",
              "       [5.82682430e-02],\n",
              "       [8.38620552e-02],\n",
              "       [1.13613771e-01],\n",
              "       [1.47226122e-01],\n",
              "       [1.84363264e-01],\n",
              "       [2.24654135e-01],\n",
              "       [2.67696162e-01],\n",
              "       [3.13059283e-01],\n",
              "       [3.60290246e-01],\n",
              "       [4.08917133e-01],\n",
              "       [4.58454081e-01],\n",
              "       [5.08406134e-01],\n",
              "       [5.58274186e-01],\n",
              "       [6.07559973e-01],\n",
              "       [6.55771048e-01],\n",
              "       [7.02425701e-01],\n",
              "       [7.47057774e-01],\n",
              "       [7.89221319e-01],\n",
              "       [8.28495052e-01],\n",
              "       [8.64486561e-01],\n",
              "       [8.96836233e-01],\n",
              "       [9.25220839e-01],\n",
              "       [9.49356770e-01],\n",
              "       [9.69002868e-01],\n",
              "       [9.83962836e-01],\n",
              "       [9.94087198e-01],\n",
              "       [9.99274795e-01],\n",
              "       [9.99473795e-01],\n",
              "       [9.94682209e-01],\n",
              "       [9.84947913e-01],\n",
              "       [9.70368169e-01],\n",
              "       [9.51088653e-01],\n",
              "       [9.27301999e-01],\n",
              "       [8.99245876e-01],\n",
              "       [8.67200612e-01],\n",
              "       [8.31486391e-01],\n",
              "       [7.92460059e-01],\n",
              "       [7.50511555e-01],\n",
              "       [7.06060012e-01],\n",
              "       [6.59549578e-01],\n",
              "       [6.11444967e-01],\n",
              "       [5.62226827e-01],\n",
              "       [5.12386928e-01],\n",
              "       [4.62423254e-01],\n",
              "       [4.12835026e-01],\n",
              "       [3.64117712e-01],\n",
              "       [3.16758081e-01],\n",
              "       [2.71229333e-01],\n",
              "       [2.27986377e-01],\n",
              "       [1.87461283e-01],\n",
              "       [1.50058964e-01],\n",
              "       [1.16153131e-01],\n",
              "       [8.60825596e-02],\n",
              "       [6.01477060e-02],\n",
              "       [3.86077023e-02],\n",
              "       [2.16777691e-02],\n",
              "       [9.52706470e-03],\n",
              "       [2.27699490e-03],\n",
              "       [0.00000000e+00],\n",
              "       [2.71883099e-03],\n",
              "       [1.04063222e-02],\n",
              "       [2.29856628e-02],\n",
              "       [4.03311641e-02],\n",
              "       [6.22695157e-02],\n",
              "       [8.85815167e-02],\n",
              "       [1.19004266e-01],\n",
              "       [1.53233791e-01],\n",
              "       [1.90928079e-01],\n",
              "       [2.31710504e-01],\n",
              "       [2.75173579e-01],\n",
              "       [3.20883037e-01],\n",
              "       [3.68382164e-01],\n",
              "       [4.17196364e-01],\n",
              "       [4.66837901e-01],\n",
              "       [5.16810774e-01],\n",
              "       [5.66615671e-01],\n",
              "       [6.15754957e-01],\n",
              "       [6.63737650e-01],\n",
              "       [7.10084320e-01],\n",
              "       [7.54331889e-01],\n",
              "       [7.96038249e-01],\n",
              "       [8.34786684e-01],\n",
              "       [8.70190032e-01],\n",
              "       [9.01894555e-01],\n",
              "       [9.29583471e-01],\n",
              "       [9.52980122e-01],\n",
              "       [9.71850737e-01],\n",
              "       [9.86006767e-01],\n",
              "       [9.95306769e-01],\n",
              "       [9.99657820e-01],\n",
              "       [9.99016447e-01],\n",
              "       [9.93389058e-01],\n",
              "       [9.82831879e-01],\n",
              "       [9.67450395e-01],\n",
              "       [9.47398292e-01],\n",
              "       [9.22875925e-01],\n",
              "       [8.94128313e-01],\n",
              "       [8.61442691e-01],\n",
              "       [8.25145645e-01],\n",
              "       [7.85599843e-01],\n",
              "       [7.43200412e-01],\n",
              "       [6.98370994e-01],\n",
              "       [6.51559511e-01],\n",
              "       [6.03233685e-01],\n",
              "       [5.53876374e-01],\n",
              "       [5.03980740e-01],\n",
              "       [4.54045322e-01],\n",
              "       [4.04569059e-01],\n",
              "       [3.56046302e-01],\n",
              "       [3.08961874e-01],\n",
              "       [2.63786227e-01],\n",
              "       [2.20970741e-01],\n",
              "       [1.80943214e-01],\n",
              "       [1.44103589e-01],\n",
              "       [1.10819953e-01],\n",
              "       [8.14248677e-02],\n",
              "       [5.62120376e-02],\n",
              "       [3.54333813e-02],\n",
              "       [1.92965122e-02],\n",
              "       [7.96266464e-03],\n",
              "       [1.54508265e-03],\n",
              "       [1.07888605e-04],\n",
              "       [3.66544246e-03],\n",
              "       [1.21821983e-02],\n",
              "       [2.55730595e-02],\n",
              "       [4.37042291e-02],\n",
              "       [6.63945464e-02],\n",
              "       [9.34172971e-02],\n",
              "       [1.24502479e-01],\n",
              "       [1.59339499e-01],\n",
              "       [1.97580278e-01],\n",
              "       [2.38842725e-01],\n",
              "       [2.82714561e-01],\n",
              "       [3.28757432e-01],\n",
              "       [3.76511294e-01],\n",
              "       [4.25499005e-01],\n",
              "       [4.75231097e-01],\n",
              "       [5.25210662e-01],\n",
              "       [5.74938322e-01],\n",
              "       [6.23917214e-01],\n",
              "       [6.71657958e-01],\n",
              "       [7.17683543e-01],\n",
              "       [7.61534097e-01],\n",
              "       [8.02771481e-01],\n",
              "       [8.40983662e-01],\n",
              "       [8.75788839e-01],\n",
              "       [9.06839250e-01],\n",
              "       [9.33824648e-01],\n",
              "       [9.56475405e-01],\n",
              "       [9.74565201e-01],\n",
              "       [9.87913290e-01],\n",
              "       [9.96386302e-01],\n",
              "       [9.99899578e-01],\n",
              "       [9.98418013e-01],\n",
              "       [9.91956411e-01],\n",
              "       [9.80579335e-01],\n",
              "       [9.64400460e-01],\n",
              "       [9.43581440e-01],\n",
              "       [9.18330292e-01],\n",
              "       [8.88899318e-01],\n",
              "       [8.55582581e-01],\n",
              "       [8.18712972e-01],\n",
              "       [7.78658879e-01],\n",
              "       [7.35820510e-01],\n",
              "       [6.90625892e-01],\n",
              "       [6.43526593e-01],\n",
              "       [5.94993216e-01],\n",
              "       [5.45510689e-01],\n",
              "       [4.95573426e-01],\n",
              "       [4.45680382e-01],\n",
              "       [3.96330074e-01],\n",
              "       [3.48015592e-01],\n",
              "       [3.01219679e-01],\n",
              "       [2.56409905e-01],\n",
              "       [2.14033993e-01],\n",
              "       [1.74515351e-01],\n",
              "       [1.38248835e-01],\n",
              "       [1.05596808e-01],\n",
              "       [7.68855182e-02],\n",
              "       [5.24018399e-02],\n",
              "       [3.23904056e-02],\n",
              "       [1.70511630e-02],\n",
              "       [6.53737668e-03],\n",
              "       [9.54096943e-04],\n",
              "       [3.57110073e-04],\n",
              "       [4.75238097e-03],\n",
              "       [1.40959935e-02],\n",
              "       [2.82945895e-02],\n",
              "       [4.72063011e-02],\n",
              "       [7.06421689e-02],\n",
              "       [9.83680294e-02],\n",
              "       [1.30106855e-01],\n",
              "       [1.65541522e-01],\n",
              "       [2.04317978e-01],\n",
              "       [2.46048783e-01],\n",
              "       [2.90316975e-01],\n",
              "       [3.36680242e-01],\n",
              "       [3.84675337e-01],\n",
              "       [4.33822710e-01],\n",
              "       [4.83631295e-01],\n",
              "       [5.33603422e-01],\n",
              "       [5.83239786e-01],\n",
              "       [6.32044436e-01],\n",
              "       [6.79529734e-01],\n",
              "       [7.25221221e-01],\n",
              "       [7.68662363e-01],\n",
              "       [8.09419110e-01],\n",
              "       [8.47084236e-01],\n",
              "       [8.81281401e-01],\n",
              "       [9.11668920e-01],\n",
              "       [9.37943170e-01],\n",
              "       [9.59841629e-01],\n",
              "       [9.77145492e-01],\n",
              "       [9.89681867e-01],\n",
              "       [9.97325494e-01],\n",
              "       [1.00000000e+00],\n",
              "       [9.97678662e-01],\n",
              "       [9.90384675e-01],\n",
              "       [9.78190918e-01],\n",
              "       [9.61219226e-01],\n",
              "       [9.39639175e-01],\n",
              "       [9.13666386e-01],\n",
              "       [8.83560370e-01],\n",
              "       [8.49621938e-01],\n",
              "       [8.12190189e-01],\n",
              "       [7.71639131e-01],\n",
              "       [7.28373935e-01],\n",
              "       [6.82826893e-01],\n",
              "       [6.35453097e-01],\n",
              "       [5.86725890e-01],\n",
              "       [5.37132137e-01],\n",
              "       [4.87167363e-01],\n",
              "       [4.37330800e-01],\n",
              "       [3.88120398e-01],\n",
              "       [3.40027851e-01],\n",
              "       [2.93533684e-01],\n",
              "       [2.49102452e-01],\n",
              "       [2.07178096e-01],\n",
              "       [1.68179511e-01],\n",
              "       [1.32496358e-01],\n",
              "       [1.00485170e-01],\n",
              "       [7.24657944e-02],\n",
              "       [4.87181901e-02],\n",
              "       [2.94796357e-02],\n",
              "       [1.49423563e-02],\n",
              "       [5.25160379e-03],\n",
              "       [5.04204848e-04],\n",
              "       [7.47593943e-04],\n",
              "       [5.97933921e-03],\n",
              "       [1.61471668e-02],\n",
              "       [3.11494831e-02],\n",
              "       [5.08363900e-02],\n",
              "       [7.50111823e-02],\n",
              "       [1.03432314e-01],\n",
              "       [1.35815809e-01],\n",
              "       [1.71838104e-01],\n",
              "       [2.11139276e-01],\n",
              "       [2.53326639e-01],\n",
              "       [2.97978672e-01],\n",
              "       [3.44649227e-01],\n",
              "       [3.92871986e-01],\n",
              "       [4.42165124e-01],\n",
              "       [4.92036121e-01],\n",
              "       [5.41986681e-01],\n",
              "       [5.91517715e-01],\n",
              "       [6.40134325e-01],\n",
              "       [6.87350751e-01],\n",
              "       [7.32695222e-01],\n",
              "       [7.75714669e-01],\n",
              "       [8.15979258e-01],\n",
              "       [8.53086678e-01],\n",
              "       [8.86666164e-01],\n",
              "       [9.16382200e-01],\n",
              "       [9.41937874e-01],\n",
              "       [9.63077843e-01],\n",
              "       [9.79590881e-01],\n",
              "       [9.91311998e-01],\n",
              "       [9.98124078e-01],\n",
              "       [9.99959058e-01],\n",
              "       [9.96798604e-01],\n",
              "       [9.88674294e-01],\n",
              "       [9.75667303e-01],\n",
              "       [9.57907592e-01],\n",
              "       [9.35572612e-01],\n",
              "       [9.08885525e-01],\n",
              "       [8.78112980e-01],\n",
              "       [8.43562446e-01],\n",
              "       [8.05579141e-01],\n",
              "       [7.64542582e-01],\n",
              "       [7.20862792e-01],\n",
              "       [6.74976205e-01],\n",
              "       [6.27341304e-01],\n",
              "       [5.78434043e-01],\n",
              "       [5.28743086e-01],\n",
              "       [4.78764928e-01],\n",
              "       [4.28998936e-01],\n",
              "       [3.79942353e-01],\n",
              "       [3.32085339e-01],\n",
              "       [2.85906063e-01],\n",
              "       [2.41865934e-01],\n",
              "       [2.00404987e-01],\n",
              "       [1.61937485e-01],\n",
              "       [1.26847783e-01],\n",
              "       [9.54864865e-02],\n",
              "       [6.81669460e-02],\n",
              "       [4.51621298e-02],\n",
              "       [2.67018944e-02],\n",
              "       [1.29706884e-02],\n",
              "       [4.10570950e-03],\n",
              "       [1.95533568e-04],\n",
              "       [1.27922981e-03],\n",
              "       [7.34597031e-03],\n",
              "       [1.83351382e-02],\n",
              "       [3.41369333e-02],\n",
              "       [5.45934694e-02],\n",
              "       [7.95003514e-02],\n",
              "       [1.08608718e-01],\n",
              "       [1.41627728e-01],\n",
              "       [1.78227467e-01],\n",
              "       [2.18042242e-01],\n",
              "       [2.60674236e-01],\n",
              "       [3.05697486e-01],\n",
              "       [3.52662133e-01],\n",
              "       [4.01098922e-01],\n",
              "       [4.50523890e-01],\n",
              "       [5.00443198e-01],\n",
              "       [5.50358069e-01],\n",
              "       [5.99769769e-01],\n",
              "       [6.48184595e-01],\n",
              "       [6.95118799e-01],\n",
              "       [7.40103433e-01],\n",
              "       [7.82689024e-01],\n",
              "       [8.22450070e-01],\n",
              "       [8.58989293e-01],\n",
              "       [8.91941605e-01],\n",
              "       [9.20977757e-01],\n",
              "       [9.45807630e-01],\n",
              "       [9.66183132e-01],\n",
              "       [9.81900676e-01],\n",
              "       [9.92803220e-01],\n",
              "       [9.98781828e-01],\n",
              "       [9.99776764e-01],\n",
              "       [9.95778087e-01],\n",
              "       [9.86825751e-01],\n",
              "       [9.73009203e-01],\n",
              "       [9.54466495e-01],\n",
              "       [9.31382900e-01],\n",
              "       [9.03989060e-01],\n",
              "       [8.72558686e-01],\n",
              "       [8.37405820e-01],\n",
              "       [7.98881698e-01],\n",
              "       [7.57371240e-01],\n",
              "       [7.13289205e-01],\n",
              "       [6.67076045e-01],\n",
              "       [6.19193508e-01],\n",
              "       [5.70120021e-01],\n",
              "       [5.20345908e-01],\n",
              "       [4.70368497e-01],\n",
              "       [4.20687145e-01],\n",
              "       [3.71798252e-01],\n",
              "       [3.24190300e-01],\n",
              "       [2.78338972e-01],\n",
              "       [2.34702398e-01],\n",
              "       [1.93716581e-01],\n",
              "       [1.55791039e-01],\n",
              "       [1.21304709e-01],\n",
              "       [9.06021693e-02],\n",
              "       [6.39901882e-02],\n",
              "       [4.17346643e-02],\n",
              "       [2.40579672e-02],\n",
              "       [1.11367167e-02],\n",
              "       [3.10001778e-03],\n",
              "       [2.81703720e-05],\n",
              "       [1.95186738e-03],\n",
              "       [8.85188786e-03],\n",
              "       [2.06592891e-02],\n",
              "       [3.72560954e-02],\n",
              "       [5.84764771e-02],\n",
              "       [8.41084070e-02],\n",
              "       [1.13895779e-01],\n",
              "       [1.47540969e-01],\n",
              "       [1.84707803e-01],\n",
              "       [2.25024924e-01],\n",
              "       [2.68089497e-01],\n",
              "       [3.13471233e-01],\n",
              "       [3.60716695e-01],\n",
              "       [4.09353821e-01],\n",
              "       [4.58896644e-01],\n",
              "       [5.08850150e-01],\n",
              "       [5.58715219e-01],\n",
              "       [6.07993616e-01],\n",
              "       [6.56192968e-01],\n",
              "       [7.02831682e-01],\n",
              "       [7.47443761e-01],\n",
              "       [7.89583454e-01],\n",
              "       [8.28829716e-01],\n",
              "       [8.64790412e-01],\n",
              "       [8.97106234e-01],\n",
              "       [9.25454293e-01]])"
            ]
          },
          "metadata": {},
          "execution_count": 48
        }
      ]
    },
    {
      "cell_type": "code",
      "source": [
        "scaled_test"
      ],
      "metadata": {
        "colab": {
          "base_uri": "https://localhost:8080/"
        },
        "id": "nyFV94Hn3X-e",
        "outputId": "e5bbd6f6-111b-4a25-c1bf-7ab0740fae8a"
      },
      "execution_count": 49,
      "outputs": [
        {
          "output_type": "execute_result",
          "data": {
            "text/plain": [
              "array([[9.49551344e-01],\n",
              "       [9.69156618e-01],\n",
              "       [9.84074225e-01],\n",
              "       [9.94155114e-01],\n",
              "       [9.99298559e-01],\n",
              "       [9.99453170e-01],\n",
              "       [9.94617400e-01],\n",
              "       [9.84839568e-01],\n",
              "       [9.70217371e-01],\n",
              "       [9.50896908e-01],\n",
              "       [9.27071224e-01],\n",
              "       [8.98978376e-01],\n",
              "       [8.66899060e-01],\n",
              "       [8.31153800e-01],\n",
              "       [7.92099752e-01],\n",
              "       [7.50127132e-01],\n",
              "       [7.05655314e-01],\n",
              "       [6.59128649e-01],\n",
              "       [6.11012013e-01],\n",
              "       [5.61786173e-01],\n",
              "       [5.11942978e-01],\n",
              "       [4.61980443e-01],\n",
              "       [4.12397778e-01],\n",
              "       [3.63690397e-01],\n",
              "       [3.16344967e-01],\n",
              "       [2.70834550e-01],\n",
              "       [2.27613868e-01],\n",
              "       [1.87114770e-01],\n",
              "       [1.49741909e-01],\n",
              "       [1.15868702e-01],\n",
              "       [8.58335998e-02],\n",
              "       [5.99367021e-02],\n",
              "       [3.84367625e-02],\n",
              "       [2.15486014e-02],\n",
              "       [9.44095974e-03],\n",
              "       [2.23481297e-03],\n",
              "       [2.16257798e-06],\n",
              "       [2.76531647e-03],\n",
              "       [1.04966661e-02],\n",
              "       [2.31189624e-02],\n",
              "       [4.05060876e-02],\n",
              "       [6.24843152e-02],\n",
              "       [8.88340461e-02],\n",
              "       [1.19292002e-01],\n",
              "       [1.53553858e-01],\n",
              "       [1.91277281e-01],\n",
              "       [2.32085350e-01],\n",
              "       [2.75570325e-01],\n",
              "       [3.21297718e-01],\n",
              "       [3.68810636e-01]])"
            ]
          },
          "metadata": {},
          "execution_count": 49
        }
      ]
    },
    {
      "cell_type": "markdown",
      "metadata": {
        "id": "6AtuXhqoxLvb"
      },
      "source": [
        "## Time Series Generator\n"
      ]
    },
    {
      "cell_type": "code",
      "execution_count": 25,
      "metadata": {
        "id": "xsCOnmlOxLvc"
      },
      "outputs": [],
      "source": [
        "from tensorflow.keras.preprocessing.sequence import TimeseriesGenerator"
      ]
    },
    {
      "cell_type": "code",
      "execution_count": 71,
      "metadata": {
        "colab": {
          "base_uri": "https://localhost:8080/"
        },
        "id": "ezogfbD8xLvd",
        "outputId": "17039ecd-a847-4c53-8df5-74e0b4c48736"
      },
      "outputs": [
        {
          "output_type": "execute_result",
          "data": {
            "text/plain": [
              "<keras.preprocessing.sequence.TimeseriesGenerator at 0x7fd63681ac90>"
            ]
          },
          "metadata": {},
          "execution_count": 71
        }
      ],
      "source": [
        "length = 2          # Length of the output sequences Length (timesteps)\n",
        "batch_size = 1      # timeseries samples in each batch\n",
        "\n",
        "# data and targets are same value)\n",
        "\n",
        "generator = TimeseriesGenerator(data=scaled_train, targets=scaled_train,\n",
        "                                                   length=length, batch_size=batch_size)    # generator\n",
        "\n",
        "\n",
        "generator"
      ]
    },
    {
      "cell_type": "code",
      "source": [
        "len(scaled_train)"
      ],
      "metadata": {
        "colab": {
          "base_uri": "https://localhost:8080/"
        },
        "id": "shTMv5-H7Pqj",
        "outputId": "d7cca72f-1dd8-4a70-bf0a-9a1e57b52557"
      },
      "execution_count": 82,
      "outputs": [
        {
          "output_type": "execute_result",
          "data": {
            "text/plain": [
              "451"
            ]
          },
          "metadata": {},
          "execution_count": 82
        }
      ]
    },
    {
      "cell_type": "code",
      "execution_count": 72,
      "metadata": {
        "colab": {
          "base_uri": "https://localhost:8080/"
        },
        "id": "kog5l3SlxLve",
        "outputId": "4066f974-1a58-49bb-c516-264b832bc8fb"
      },
      "outputs": [
        {
          "output_type": "execute_result",
          "data": {
            "text/plain": [
              "449"
            ]
          },
          "metadata": {},
          "execution_count": 72
        }
      ],
      "source": [
        "len(generator) # n_input = 2"
      ]
    },
    {
      "cell_type": "code",
      "execution_count": 73,
      "metadata": {
        "id": "92LPMIAaxLve"
      },
      "outputs": [],
      "source": [
        "X, y = generator[0]"
      ]
    },
    {
      "cell_type": "code",
      "execution_count": 74,
      "metadata": {
        "colab": {
          "base_uri": "https://localhost:8080/"
        },
        "id": "0rt7MzZExLvf",
        "outputId": "b6b0cf09-a472-42b3-a777-18d7a0eee84f"
      },
      "outputs": [
        {
          "output_type": "execute_result",
          "data": {
            "text/plain": [
              "array([[[0.49999912],\n",
              "        [0.54991622]]])"
            ]
          },
          "metadata": {},
          "execution_count": 74
        }
      ],
      "source": [
        "\n",
        "X"
      ]
    },
    {
      "cell_type": "code",
      "execution_count": 75,
      "metadata": {
        "colab": {
          "base_uri": "https://localhost:8080/"
        },
        "id": "kRg26kDjxLvf",
        "outputId": "72b07e76-d7e3-4e74-9f73-9b99c03f264f"
      },
      "outputs": [
        {
          "output_type": "execute_result",
          "data": {
            "text/plain": [
              "array([[0.59933458]])"
            ]
          },
          "metadata": {},
          "execution_count": 75
        }
      ],
      "source": [
        "y"
      ]
    },
    {
      "cell_type": "markdown",
      "source": [
        "for 2 values in `X`, we are predicting the third number `y`"
      ],
      "metadata": {
        "id": "OsWcQGa65bjB"
      }
    },
    {
      "cell_type": "code",
      "execution_count": 76,
      "metadata": {
        "colab": {
          "base_uri": "https://localhost:8080/"
        },
        "id": "t64Hbnf7xLvh",
        "outputId": "6f57d561-8634-4167-ae75-23fd4a073e31"
      },
      "outputs": [
        {
          "output_type": "execute_result",
          "data": {
            "text/plain": [
              "array([[0.49999912],\n",
              "       [0.54991622],\n",
              "       [0.59933458],\n",
              "       [0.64776041],\n",
              "       [0.69470985],\n",
              "       [0.73971381],\n",
              "       [0.78232262]])"
            ]
          },
          "metadata": {},
          "execution_count": 76
        }
      ],
      "source": [
        "scaled_train[:7]"
      ]
    },
    {
      "cell_type": "code",
      "source": [
        "# 5 generators\n",
        "for i in range(5):\n",
        "  X, y = generator[i]\n",
        "  print(\"X = \", X, \"\\n\")\n",
        "  print(\"y = \", y, \"\\n\")"
      ],
      "metadata": {
        "colab": {
          "base_uri": "https://localhost:8080/"
        },
        "id": "Q0Frbg0-3-sz",
        "outputId": "1232544c-1f3c-465f-bf58-7f34f36aeef1"
      },
      "execution_count": 77,
      "outputs": [
        {
          "output_type": "stream",
          "name": "stdout",
          "text": [
            "X =  [[[0.49999912]\n",
            "  [0.54991622]]] \n",
            "\n",
            "y =  [[0.59933458]] \n",
            "\n",
            "X =  [[[0.54991622]\n",
            "  [0.59933458]]] \n",
            "\n",
            "y =  [[0.64776041]] \n",
            "\n",
            "X =  [[[0.59933458]\n",
            "  [0.64776041]]] \n",
            "\n",
            "y =  [[0.69470985]] \n",
            "\n",
            "X =  [[[0.64776041]\n",
            "  [0.69470985]]] \n",
            "\n",
            "y =  [[0.73971381]] \n",
            "\n",
            "X =  [[[0.69470985]\n",
            "  [0.73971381]]] \n",
            "\n",
            "y =  [[0.78232262]] \n",
            "\n"
          ]
        }
      ]
    },
    {
      "cell_type": "code",
      "execution_count": 89,
      "metadata": {
        "id": "RVYZCGBixLvi"
      },
      "outputs": [],
      "source": [
        "# changing parameters\n",
        "length = 4\n",
        "batch_size = 1\n",
        "\n",
        "generator = TimeseriesGenerator(data=scaled_train, targets=scaled_train,\n",
        "                                                   length= length, batch_size=batch_size)"
      ]
    },
    {
      "cell_type": "code",
      "execution_count": 90,
      "metadata": {
        "colab": {
          "base_uri": "https://localhost:8080/"
        },
        "id": "gQYdOWFbxLvi",
        "outputId": "df8a9906-0ad5-45bb-f682-f4ba9b7b6859"
      },
      "outputs": [
        {
          "output_type": "execute_result",
          "data": {
            "text/plain": [
              "(451, 447)"
            ]
          },
          "metadata": {},
          "execution_count": 90
        }
      ],
      "source": [
        "len(scaled_train), len(generator) # for 4 values in X,  predict the third number y"
      ]
    },
    {
      "cell_type": "code",
      "source": [
        "# changing parameters\n",
        "length = 4\n",
        "batch_size = 2\n",
        "\n",
        "generator = TimeseriesGenerator(data=scaled_train, targets=scaled_train,\n",
        "                                                   length= length, batch_size=batch_size)"
      ],
      "metadata": {
        "id": "A6SGFQBF7udc"
      },
      "execution_count": 93,
      "outputs": []
    },
    {
      "cell_type": "code",
      "source": [
        "# with batch size of two, \n",
        "\n",
        "len(scaled_train), len(generator)  # 1 predictions(y) for each length of 4 "
      ],
      "metadata": {
        "colab": {
          "base_uri": "https://localhost:8080/"
        },
        "id": "nB-pLral72Zi",
        "outputId": "f3e12d2d-64bd-41bb-c4fc-6ea5e33f8a56"
      },
      "execution_count": 96,
      "outputs": [
        {
          "output_type": "execute_result",
          "data": {
            "text/plain": [
              "(451, 224)"
            ]
          },
          "metadata": {},
          "execution_count": 96
        }
      ]
    },
    {
      "cell_type": "code",
      "execution_count": 97,
      "metadata": {
        "id": "UNOOjHYGxLvi"
      },
      "outputs": [],
      "source": [
        "X, y = generator[0]"
      ]
    },
    {
      "cell_type": "code",
      "execution_count": 113,
      "metadata": {
        "colab": {
          "base_uri": "https://localhost:8080/"
        },
        "id": "5szQ4ML6xLvj",
        "outputId": "094f4fda-6e06-4d0c-924b-0472db6b8d0c"
      },
      "outputs": [
        {
          "output_type": "execute_result",
          "data": {
            "text/plain": [
              "((2, 4, 1), (2, 1))"
            ]
          },
          "metadata": {},
          "execution_count": 113
        }
      ],
      "source": [
        "np.shape(X) , np.shape(y) "
      ]
    },
    {
      "cell_type": "markdown",
      "source": [
        "first four points, predict the fifth\n",
        " \n",
        "for next four point(leaving only first point), predict the sixth point"
      ],
      "metadata": {
        "id": "wYokSsBvAooW"
      }
    },
    {
      "cell_type": "code",
      "source": [
        "X"
      ],
      "metadata": {
        "colab": {
          "base_uri": "https://localhost:8080/"
        },
        "id": "UbuK_nJZ_LSS",
        "outputId": "5083f7b4-3d7a-49fd-af12-a353dca80e91"
      },
      "execution_count": 112,
      "outputs": [
        {
          "output_type": "execute_result",
          "data": {
            "text/plain": [
              "array([[[0.49999912],\n",
              "        [0.54991622],\n",
              "        [0.59933458],\n",
              "        [0.64776041]],\n",
              "\n",
              "       [[0.54991622],\n",
              "        [0.59933458],\n",
              "        [0.64776041],\n",
              "        [0.69470985]]])"
            ]
          },
          "metadata": {},
          "execution_count": 112
        }
      ]
    },
    {
      "cell_type": "code",
      "source": [
        "y"
      ],
      "metadata": {
        "colab": {
          "base_uri": "https://localhost:8080/"
        },
        "id": "5GTRorNE-Owt",
        "outputId": "4138a506-8115-453a-f9f3-1758a1f76613"
      },
      "execution_count": 108,
      "outputs": [
        {
          "output_type": "execute_result",
          "data": {
            "text/plain": [
              "array([[0.69470985],\n",
              "       [0.73971381]])"
            ]
          },
          "metadata": {},
          "execution_count": 108
        }
      ]
    },
    {
      "cell_type": "code",
      "execution_count": 102,
      "metadata": {
        "colab": {
          "base_uri": "https://localhost:8080/"
        },
        "id": "512R1C5KxLvj",
        "outputId": "723f801c-e7e6-4084-d5ba-c658950bb847"
      },
      "outputs": [
        {
          "output_type": "execute_result",
          "data": {
            "text/plain": [
              "array([[4.99999116e-01],\n",
              "       [5.49916225e-01],\n",
              "       [5.99334579e-01],\n",
              "       [6.47760405e-01],\n",
              "       [6.94709850e-01],\n",
              "       [7.39713809e-01],\n",
              "       [7.82322618e-01],\n",
              "       [8.22110545e-01],\n",
              "       [8.58680040e-01],\n",
              "       [8.91665714e-01],\n",
              "       [9.20737985e-01],\n",
              "       [9.45606372e-01],\n",
              "       [9.66022399e-01],\n",
              "       [9.81782075e-01],\n",
              "       [9.92727935e-01],\n",
              "       [9.98750612e-01],\n",
              "       [9.99789928e-01],\n",
              "       [9.95835500e-01],\n",
              "       [9.86926839e-01],\n",
              "       [9.73152957e-01],\n",
              "       [9.54651478e-01],\n",
              "       [9.31607263e-01],\n",
              "       [9.04250562e-01],\n",
              "       [8.72854714e-01],\n",
              "       [8.37733417e-01],\n",
              "       [7.99237589e-01],\n",
              "       [7.57751870e-01],\n",
              "       [7.13690771e-01],\n",
              "       [6.67494535e-01],\n",
              "       [6.19624741e-01],\n",
              "       [5.70559686e-01],\n",
              "       [5.20789614e-01],\n",
              "       [4.70811810e-01],\n",
              "       [4.21125636e-01],\n",
              "       [3.72227539e-01],\n",
              "       [3.24606094e-01],\n",
              "       [2.78737119e-01],\n",
              "       [2.35078919e-01],\n",
              "       [1.94067715e-01],\n",
              "       [1.56113277e-01],\n",
              "       [1.21594831e-01],\n",
              "       [9.08572769e-02],\n",
              "       [6.42077324e-02],\n",
              "       [4.19124713e-02],\n",
              "       [2.41942605e-02],\n",
              "       [1.12301346e-02],\n",
              "       [3.14962674e-03],\n",
              "       [3.34747619e-05],\n",
              "       [1.91281421e-03],\n",
              "       [8.76886734e-03],\n",
              "       [2.05331307e-02],\n",
              "       [3.70880598e-02],\n",
              "       [5.82682430e-02],\n",
              "       [8.38620552e-02],\n",
              "       [1.13613771e-01],\n",
              "       [1.47226122e-01],\n",
              "       [1.84363264e-01],\n",
              "       [2.24654135e-01],\n",
              "       [2.67696162e-01],\n",
              "       [3.13059283e-01],\n",
              "       [3.60290246e-01],\n",
              "       [4.08917133e-01],\n",
              "       [4.58454081e-01],\n",
              "       [5.08406134e-01],\n",
              "       [5.58274186e-01],\n",
              "       [6.07559973e-01],\n",
              "       [6.55771048e-01],\n",
              "       [7.02425701e-01],\n",
              "       [7.47057774e-01],\n",
              "       [7.89221319e-01],\n",
              "       [8.28495052e-01],\n",
              "       [8.64486561e-01],\n",
              "       [8.96836233e-01],\n",
              "       [9.25220839e-01],\n",
              "       [9.49356770e-01],\n",
              "       [9.69002868e-01],\n",
              "       [9.83962836e-01],\n",
              "       [9.94087198e-01],\n",
              "       [9.99274795e-01],\n",
              "       [9.99473795e-01],\n",
              "       [9.94682209e-01],\n",
              "       [9.84947913e-01],\n",
              "       [9.70368169e-01],\n",
              "       [9.51088653e-01],\n",
              "       [9.27301999e-01],\n",
              "       [8.99245876e-01],\n",
              "       [8.67200612e-01],\n",
              "       [8.31486391e-01],\n",
              "       [7.92460059e-01],\n",
              "       [7.50511555e-01],\n",
              "       [7.06060012e-01],\n",
              "       [6.59549578e-01],\n",
              "       [6.11444967e-01],\n",
              "       [5.62226827e-01],\n",
              "       [5.12386928e-01],\n",
              "       [4.62423254e-01],\n",
              "       [4.12835026e-01],\n",
              "       [3.64117712e-01],\n",
              "       [3.16758081e-01],\n",
              "       [2.71229333e-01],\n",
              "       [2.27986377e-01],\n",
              "       [1.87461283e-01],\n",
              "       [1.50058964e-01],\n",
              "       [1.16153131e-01],\n",
              "       [8.60825596e-02],\n",
              "       [6.01477060e-02],\n",
              "       [3.86077023e-02],\n",
              "       [2.16777691e-02],\n",
              "       [9.52706470e-03],\n",
              "       [2.27699490e-03],\n",
              "       [0.00000000e+00],\n",
              "       [2.71883099e-03],\n",
              "       [1.04063222e-02],\n",
              "       [2.29856628e-02],\n",
              "       [4.03311641e-02],\n",
              "       [6.22695157e-02],\n",
              "       [8.85815167e-02],\n",
              "       [1.19004266e-01],\n",
              "       [1.53233791e-01],\n",
              "       [1.90928079e-01],\n",
              "       [2.31710504e-01],\n",
              "       [2.75173579e-01],\n",
              "       [3.20883037e-01],\n",
              "       [3.68382164e-01],\n",
              "       [4.17196364e-01],\n",
              "       [4.66837901e-01],\n",
              "       [5.16810774e-01],\n",
              "       [5.66615671e-01],\n",
              "       [6.15754957e-01],\n",
              "       [6.63737650e-01],\n",
              "       [7.10084320e-01],\n",
              "       [7.54331889e-01],\n",
              "       [7.96038249e-01],\n",
              "       [8.34786684e-01],\n",
              "       [8.70190032e-01],\n",
              "       [9.01894555e-01],\n",
              "       [9.29583471e-01],\n",
              "       [9.52980122e-01],\n",
              "       [9.71850737e-01],\n",
              "       [9.86006767e-01],\n",
              "       [9.95306769e-01],\n",
              "       [9.99657820e-01],\n",
              "       [9.99016447e-01],\n",
              "       [9.93389058e-01],\n",
              "       [9.82831879e-01],\n",
              "       [9.67450395e-01],\n",
              "       [9.47398292e-01],\n",
              "       [9.22875925e-01],\n",
              "       [8.94128313e-01],\n",
              "       [8.61442691e-01],\n",
              "       [8.25145645e-01],\n",
              "       [7.85599843e-01],\n",
              "       [7.43200412e-01],\n",
              "       [6.98370994e-01],\n",
              "       [6.51559511e-01],\n",
              "       [6.03233685e-01],\n",
              "       [5.53876374e-01],\n",
              "       [5.03980740e-01],\n",
              "       [4.54045322e-01],\n",
              "       [4.04569059e-01],\n",
              "       [3.56046302e-01],\n",
              "       [3.08961874e-01],\n",
              "       [2.63786227e-01],\n",
              "       [2.20970741e-01],\n",
              "       [1.80943214e-01],\n",
              "       [1.44103589e-01],\n",
              "       [1.10819953e-01],\n",
              "       [8.14248677e-02],\n",
              "       [5.62120376e-02],\n",
              "       [3.54333813e-02],\n",
              "       [1.92965122e-02],\n",
              "       [7.96266464e-03],\n",
              "       [1.54508265e-03],\n",
              "       [1.07888605e-04],\n",
              "       [3.66544246e-03],\n",
              "       [1.21821983e-02],\n",
              "       [2.55730595e-02],\n",
              "       [4.37042291e-02],\n",
              "       [6.63945464e-02],\n",
              "       [9.34172971e-02],\n",
              "       [1.24502479e-01],\n",
              "       [1.59339499e-01],\n",
              "       [1.97580278e-01],\n",
              "       [2.38842725e-01],\n",
              "       [2.82714561e-01],\n",
              "       [3.28757432e-01],\n",
              "       [3.76511294e-01],\n",
              "       [4.25499005e-01],\n",
              "       [4.75231097e-01],\n",
              "       [5.25210662e-01],\n",
              "       [5.74938322e-01],\n",
              "       [6.23917214e-01],\n",
              "       [6.71657958e-01],\n",
              "       [7.17683543e-01],\n",
              "       [7.61534097e-01],\n",
              "       [8.02771481e-01],\n",
              "       [8.40983662e-01],\n",
              "       [8.75788839e-01],\n",
              "       [9.06839250e-01],\n",
              "       [9.33824648e-01],\n",
              "       [9.56475405e-01],\n",
              "       [9.74565201e-01],\n",
              "       [9.87913290e-01],\n",
              "       [9.96386302e-01],\n",
              "       [9.99899578e-01],\n",
              "       [9.98418013e-01],\n",
              "       [9.91956411e-01],\n",
              "       [9.80579335e-01],\n",
              "       [9.64400460e-01],\n",
              "       [9.43581440e-01],\n",
              "       [9.18330292e-01],\n",
              "       [8.88899318e-01],\n",
              "       [8.55582581e-01],\n",
              "       [8.18712972e-01],\n",
              "       [7.78658879e-01],\n",
              "       [7.35820510e-01],\n",
              "       [6.90625892e-01],\n",
              "       [6.43526593e-01],\n",
              "       [5.94993216e-01],\n",
              "       [5.45510689e-01],\n",
              "       [4.95573426e-01],\n",
              "       [4.45680382e-01],\n",
              "       [3.96330074e-01],\n",
              "       [3.48015592e-01],\n",
              "       [3.01219679e-01],\n",
              "       [2.56409905e-01],\n",
              "       [2.14033993e-01],\n",
              "       [1.74515351e-01],\n",
              "       [1.38248835e-01],\n",
              "       [1.05596808e-01],\n",
              "       [7.68855182e-02],\n",
              "       [5.24018399e-02],\n",
              "       [3.23904056e-02],\n",
              "       [1.70511630e-02],\n",
              "       [6.53737668e-03],\n",
              "       [9.54096943e-04],\n",
              "       [3.57110073e-04],\n",
              "       [4.75238097e-03],\n",
              "       [1.40959935e-02],\n",
              "       [2.82945895e-02],\n",
              "       [4.72063011e-02],\n",
              "       [7.06421689e-02],\n",
              "       [9.83680294e-02],\n",
              "       [1.30106855e-01],\n",
              "       [1.65541522e-01],\n",
              "       [2.04317978e-01],\n",
              "       [2.46048783e-01],\n",
              "       [2.90316975e-01],\n",
              "       [3.36680242e-01],\n",
              "       [3.84675337e-01],\n",
              "       [4.33822710e-01],\n",
              "       [4.83631295e-01],\n",
              "       [5.33603422e-01],\n",
              "       [5.83239786e-01],\n",
              "       [6.32044436e-01],\n",
              "       [6.79529734e-01],\n",
              "       [7.25221221e-01],\n",
              "       [7.68662363e-01],\n",
              "       [8.09419110e-01],\n",
              "       [8.47084236e-01],\n",
              "       [8.81281401e-01],\n",
              "       [9.11668920e-01],\n",
              "       [9.37943170e-01],\n",
              "       [9.59841629e-01],\n",
              "       [9.77145492e-01],\n",
              "       [9.89681867e-01],\n",
              "       [9.97325494e-01],\n",
              "       [1.00000000e+00],\n",
              "       [9.97678662e-01],\n",
              "       [9.90384675e-01],\n",
              "       [9.78190918e-01],\n",
              "       [9.61219226e-01],\n",
              "       [9.39639175e-01],\n",
              "       [9.13666386e-01],\n",
              "       [8.83560370e-01],\n",
              "       [8.49621938e-01],\n",
              "       [8.12190189e-01],\n",
              "       [7.71639131e-01],\n",
              "       [7.28373935e-01],\n",
              "       [6.82826893e-01],\n",
              "       [6.35453097e-01],\n",
              "       [5.86725890e-01],\n",
              "       [5.37132137e-01],\n",
              "       [4.87167363e-01],\n",
              "       [4.37330800e-01],\n",
              "       [3.88120398e-01],\n",
              "       [3.40027851e-01],\n",
              "       [2.93533684e-01],\n",
              "       [2.49102452e-01],\n",
              "       [2.07178096e-01],\n",
              "       [1.68179511e-01],\n",
              "       [1.32496358e-01],\n",
              "       [1.00485170e-01],\n",
              "       [7.24657944e-02],\n",
              "       [4.87181901e-02],\n",
              "       [2.94796357e-02],\n",
              "       [1.49423563e-02],\n",
              "       [5.25160379e-03],\n",
              "       [5.04204848e-04],\n",
              "       [7.47593943e-04],\n",
              "       [5.97933921e-03],\n",
              "       [1.61471668e-02],\n",
              "       [3.11494831e-02],\n",
              "       [5.08363900e-02],\n",
              "       [7.50111823e-02],\n",
              "       [1.03432314e-01],\n",
              "       [1.35815809e-01],\n",
              "       [1.71838104e-01],\n",
              "       [2.11139276e-01],\n",
              "       [2.53326639e-01],\n",
              "       [2.97978672e-01],\n",
              "       [3.44649227e-01],\n",
              "       [3.92871986e-01],\n",
              "       [4.42165124e-01],\n",
              "       [4.92036121e-01],\n",
              "       [5.41986681e-01],\n",
              "       [5.91517715e-01],\n",
              "       [6.40134325e-01],\n",
              "       [6.87350751e-01],\n",
              "       [7.32695222e-01],\n",
              "       [7.75714669e-01],\n",
              "       [8.15979258e-01],\n",
              "       [8.53086678e-01],\n",
              "       [8.86666164e-01],\n",
              "       [9.16382200e-01],\n",
              "       [9.41937874e-01],\n",
              "       [9.63077843e-01],\n",
              "       [9.79590881e-01],\n",
              "       [9.91311998e-01],\n",
              "       [9.98124078e-01],\n",
              "       [9.99959058e-01],\n",
              "       [9.96798604e-01],\n",
              "       [9.88674294e-01],\n",
              "       [9.75667303e-01],\n",
              "       [9.57907592e-01],\n",
              "       [9.35572612e-01],\n",
              "       [9.08885525e-01],\n",
              "       [8.78112980e-01],\n",
              "       [8.43562446e-01],\n",
              "       [8.05579141e-01],\n",
              "       [7.64542582e-01],\n",
              "       [7.20862792e-01],\n",
              "       [6.74976205e-01],\n",
              "       [6.27341304e-01],\n",
              "       [5.78434043e-01],\n",
              "       [5.28743086e-01],\n",
              "       [4.78764928e-01],\n",
              "       [4.28998936e-01],\n",
              "       [3.79942353e-01],\n",
              "       [3.32085339e-01],\n",
              "       [2.85906063e-01],\n",
              "       [2.41865934e-01],\n",
              "       [2.00404987e-01],\n",
              "       [1.61937485e-01],\n",
              "       [1.26847783e-01],\n",
              "       [9.54864865e-02],\n",
              "       [6.81669460e-02],\n",
              "       [4.51621298e-02],\n",
              "       [2.67018944e-02],\n",
              "       [1.29706884e-02],\n",
              "       [4.10570950e-03],\n",
              "       [1.95533568e-04],\n",
              "       [1.27922981e-03],\n",
              "       [7.34597031e-03],\n",
              "       [1.83351382e-02],\n",
              "       [3.41369333e-02],\n",
              "       [5.45934694e-02],\n",
              "       [7.95003514e-02],\n",
              "       [1.08608718e-01],\n",
              "       [1.41627728e-01],\n",
              "       [1.78227467e-01],\n",
              "       [2.18042242e-01],\n",
              "       [2.60674236e-01],\n",
              "       [3.05697486e-01],\n",
              "       [3.52662133e-01],\n",
              "       [4.01098922e-01],\n",
              "       [4.50523890e-01],\n",
              "       [5.00443198e-01],\n",
              "       [5.50358069e-01],\n",
              "       [5.99769769e-01],\n",
              "       [6.48184595e-01],\n",
              "       [6.95118799e-01],\n",
              "       [7.40103433e-01],\n",
              "       [7.82689024e-01],\n",
              "       [8.22450070e-01],\n",
              "       [8.58989293e-01],\n",
              "       [8.91941605e-01],\n",
              "       [9.20977757e-01],\n",
              "       [9.45807630e-01],\n",
              "       [9.66183132e-01],\n",
              "       [9.81900676e-01],\n",
              "       [9.92803220e-01],\n",
              "       [9.98781828e-01],\n",
              "       [9.99776764e-01],\n",
              "       [9.95778087e-01],\n",
              "       [9.86825751e-01],\n",
              "       [9.73009203e-01],\n",
              "       [9.54466495e-01],\n",
              "       [9.31382900e-01],\n",
              "       [9.03989060e-01],\n",
              "       [8.72558686e-01],\n",
              "       [8.37405820e-01],\n",
              "       [7.98881698e-01],\n",
              "       [7.57371240e-01],\n",
              "       [7.13289205e-01],\n",
              "       [6.67076045e-01],\n",
              "       [6.19193508e-01],\n",
              "       [5.70120021e-01],\n",
              "       [5.20345908e-01],\n",
              "       [4.70368497e-01],\n",
              "       [4.20687145e-01],\n",
              "       [3.71798252e-01],\n",
              "       [3.24190300e-01],\n",
              "       [2.78338972e-01],\n",
              "       [2.34702398e-01],\n",
              "       [1.93716581e-01],\n",
              "       [1.55791039e-01],\n",
              "       [1.21304709e-01],\n",
              "       [9.06021693e-02],\n",
              "       [6.39901882e-02],\n",
              "       [4.17346643e-02],\n",
              "       [2.40579672e-02],\n",
              "       [1.11367167e-02],\n",
              "       [3.10001778e-03],\n",
              "       [2.81703720e-05],\n",
              "       [1.95186738e-03],\n",
              "       [8.85188786e-03],\n",
              "       [2.06592891e-02],\n",
              "       [3.72560954e-02],\n",
              "       [5.84764771e-02],\n",
              "       [8.41084070e-02],\n",
              "       [1.13895779e-01],\n",
              "       [1.47540969e-01],\n",
              "       [1.84707803e-01],\n",
              "       [2.25024924e-01],\n",
              "       [2.68089497e-01],\n",
              "       [3.13471233e-01],\n",
              "       [3.60716695e-01],\n",
              "       [4.09353821e-01],\n",
              "       [4.58896644e-01],\n",
              "       [5.08850150e-01],\n",
              "       [5.58715219e-01],\n",
              "       [6.07993616e-01],\n",
              "       [6.56192968e-01],\n",
              "       [7.02831682e-01],\n",
              "       [7.47443761e-01],\n",
              "       [7.89583454e-01],\n",
              "       [8.28829716e-01],\n",
              "       [8.64790412e-01],\n",
              "       [8.97106234e-01],\n",
              "       [9.25454293e-01]])"
            ]
          },
          "metadata": {},
          "execution_count": 102
        }
      ],
      "source": [
        "scaled_train"
      ]
    },
    {
      "cell_type": "markdown",
      "source": [
        "#### What should be the length value?\n",
        "\n",
        "1.   choose reasonable value for length, so that neural network can pick up patterns like any seasonality, or repeated effects.\n",
        "\n",
        "2.   Our data is in sine wave.So neural network shoul pick up the pattern.\n",
        "\n",
        "3.  Larger the data, the longer to train.\n",
        "\n"
      ],
      "metadata": {
        "id": "t47Aw7qKCuOK"
      }
    },
    {
      "cell_type": "code",
      "source": [
        "df.plot()"
      ],
      "metadata": {
        "colab": {
          "base_uri": "https://localhost:8080/",
          "height": 282
        },
        "id": "FOEGyr7ACbpD",
        "outputId": "34b9e3f2-6172-43fb-f486-5bb9ff8ad5ed"
      },
      "execution_count": 125,
      "outputs": [
        {
          "output_type": "execute_result",
          "data": {
            "text/plain": [
              "<matplotlib.axes._subplots.AxesSubplot at 0x7fd5cd6c0390>"
            ]
          },
          "metadata": {},
          "execution_count": 125
        },
        {
          "output_type": "display_data",
          "data": {
            "text/plain": [
              "<Figure size 432x288 with 1 Axes>"
            ],
            "image/png": "[encoded data removed]"
          },
          "metadata": {
            "needs_background": "light"
          }
        }
      ]
    },
    {
      "cell_type": "code",
      "source": [
        "length = 50                    # taking length = 50\n",
        "batch_size = 1\n",
        "\n",
        "generator = TimeseriesGenerator(data=scaled_train, targets=scaled_train,\n",
        "                                                   length= length, batch_size=batch_size)"
      ],
      "metadata": {
        "id": "FEqTd4JqECfT"
      },
      "execution_count": 130,
      "outputs": []
    },
    {
      "cell_type": "code",
      "source": [
        "len(df), len(generator)\n"
      ],
      "metadata": {
        "colab": {
          "base_uri": "https://localhost:8080/"
        },
        "id": "yRp0eDHVEQb0",
        "outputId": "2d1b8efc-0b97-4075-ce91-140e27299b63"
      },
      "execution_count": 131,
      "outputs": [
        {
          "output_type": "execute_result",
          "data": {
            "text/plain": [
              "(501, 401)"
            ]
          },
          "metadata": {},
          "execution_count": 131
        }
      ]
    },
    {
      "cell_type": "code",
      "source": [
        "X, y = generator[0]"
      ],
      "metadata": {
        "id": "i0noc1yOETVc"
      },
      "execution_count": 132,
      "outputs": []
    },
    {
      "cell_type": "code",
      "source": [
        "X"
      ],
      "metadata": {
        "colab": {
          "base_uri": "https://localhost:8080/"
        },
        "id": "6asj4tNBEUfm",
        "outputId": "5b2b67a2-0df4-41ee-a834-cff613e7db38"
      },
      "execution_count": 133,
      "outputs": [
        {
          "output_type": "execute_result",
          "data": {
            "text/plain": [
              "array([[[4.99999116e-01],\n",
              "        [5.49916225e-01],\n",
              "        [5.99334579e-01],\n",
              "        [6.47760405e-01],\n",
              "        [6.94709850e-01],\n",
              "        [7.39713809e-01],\n",
              "        [7.82322618e-01],\n",
              "        [8.22110545e-01],\n",
              "        [8.58680040e-01],\n",
              "        [8.91665714e-01],\n",
              "        [9.20737985e-01],\n",
              "        [9.45606372e-01],\n",
              "        [9.66022399e-01],\n",
              "        [9.81782075e-01],\n",
              "        [9.92727935e-01],\n",
              "        [9.98750612e-01],\n",
              "        [9.99789928e-01],\n",
              "        [9.95835500e-01],\n",
              "        [9.86926839e-01],\n",
              "        [9.73152957e-01],\n",
              "        [9.54651478e-01],\n",
              "        [9.31607263e-01],\n",
              "        [9.04250562e-01],\n",
              "        [8.72854714e-01],\n",
              "        [8.37733417e-01],\n",
              "        [7.99237589e-01],\n",
              "        [7.57751870e-01],\n",
              "        [7.13690771e-01],\n",
              "        [6.67494535e-01],\n",
              "        [6.19624741e-01],\n",
              "        [5.70559686e-01],\n",
              "        [5.20789614e-01],\n",
              "        [4.70811810e-01],\n",
              "        [4.21125636e-01],\n",
              "        [3.72227539e-01],\n",
              "        [3.24606094e-01],\n",
              "        [2.78737119e-01],\n",
              "        [2.35078919e-01],\n",
              "        [1.94067715e-01],\n",
              "        [1.56113277e-01],\n",
              "        [1.21594831e-01],\n",
              "        [9.08572769e-02],\n",
              "        [6.42077324e-02],\n",
              "        [4.19124713e-02],\n",
              "        [2.41942605e-02],\n",
              "        [1.12301346e-02],\n",
              "        [3.14962674e-03],\n",
              "        [3.34747619e-05],\n",
              "        [1.91281421e-03],\n",
              "        [8.76886734e-03]]])"
            ]
          },
          "metadata": {},
          "execution_count": 133
        }
      ]
    },
    {
      "cell_type": "code",
      "source": [
        "y"
      ],
      "metadata": {
        "colab": {
          "base_uri": "https://localhost:8080/"
        },
        "id": "LKEhs-3kEXdz",
        "outputId": "ce5d0efe-f3c3-42be-ed61-dd1f8db7aaba"
      },
      "execution_count": 134,
      "outputs": [
        {
          "output_type": "execute_result",
          "data": {
            "text/plain": [
              "array([[0.02053313]])"
            ]
          },
          "metadata": {},
          "execution_count": 134
        }
      ]
    },
    {
      "cell_type": "markdown",
      "metadata": {
        "id": "0-oDFAlbxLvn"
      },
      "source": [
        "## Create a model"
      ]
    },
    {
      "cell_type": "code",
      "execution_count": 135,
      "metadata": {
        "id": "HoeaxSYWxLvo"
      },
      "outputs": [],
      "source": [
        "from tensorflow.keras.models import Sequential\n",
        "from tensorflow.keras.layers import Dense, SimpleRNN, LSTM"
      ]
    },
    {
      "cell_type": "code",
      "execution_count": 136,
      "metadata": {
        "id": "mcXjGqg8xLvo"
      },
      "outputs": [],
      "source": [
        "n_features = 1     # predicting 1 feature\n",
        "\n",
        "\n",
        "model = Sequential()          # define model\n",
        "\n",
        "\n",
        "model.add(SimpleRNN(units=50, input_shape=(length, n_features)))       # Simple RNN layer\n",
        "\n",
        "\n",
        "model.add(Dense(1))   # Final Prediction layer\n",
        "\n",
        "model.compile(optimizer='adam', loss='mse')   #model complie  "
      ]
    },
    {
      "cell_type": "code",
      "execution_count": 137,
      "metadata": {
        "colab": {
          "base_uri": "https://localhost:8080/"
        },
        "id": "PCHWALY1xLvp",
        "outputId": "e2b5df6d-e195-4a8f-862a-493ad965c251"
      },
      "outputs": [
        {
          "output_type": "stream",
          "name": "stdout",
          "text": [
            "Model: \"sequential_3\"\n",
            "_________________________________________________________________\n",
            " Layer (type)                Output Shape              Param #   \n",
            "=================================================================\n",
            " simple_rnn_3 (SimpleRNN)    (None, 50)                2600      \n",
            "                                                                 \n",
            " dense_3 (Dense)             (None, 1)                 51        \n",
            "                                                                 \n",
            "=================================================================\n",
            "Total params: 2,651\n",
            "Trainable params: 2,651\n",
            "Non-trainable params: 0\n",
            "_________________________________________________________________\n"
          ]
        }
      ],
      "source": [
        "model.summary()"
      ]
    },
    {
      "cell_type": "code",
      "execution_count": 138,
      "metadata": {
        "colab": {
          "base_uri": "https://localhost:8080/"
        },
        "id": "Gv9xK5_gxLvp",
        "outputId": "871244f8-9daf-42fd-b7bc-716954db72f5"
      },
      "outputs": [
        {
          "output_type": "stream",
          "name": "stdout",
          "text": [
            "Epoch 1/5\n",
            "401/401 [==============================] - 4s 8ms/step - loss: 0.0113\n",
            "Epoch 2/5\n",
            "401/401 [==============================] - 3s 9ms/step - loss: 5.7334e-04\n",
            "Epoch 3/5\n",
            "401/401 [==============================] - 4s 9ms/step - loss: 9.0500e-05\n",
            "Epoch 4/5\n",
            "401/401 [==============================] - 3s 8ms/step - loss: 2.9700e-05\n",
            "Epoch 5/5\n",
            "401/401 [==============================] - 3s 8ms/step - loss: 5.8932e-05\n"
          ]
        },
        {
          "output_type": "execute_result",
          "data": {
            "text/plain": [
              "<keras.callbacks.History at 0x7fd5cd3be3d0>"
            ]
          },
          "metadata": {},
          "execution_count": 138
        }
      ],
      "source": [
        "model.fit(generator, epochs=5, verbose=1)            # fit model using generator"
      ]
    },
    {
      "cell_type": "code",
      "execution_count": 139,
      "metadata": {
        "colab": {
          "base_uri": "https://localhost:8080/",
          "height": 265
        },
        "id": "ZUVVyCAExLvq",
        "outputId": "423d4663-5f8d-48d7-c1a2-fddb2ea9ac1c"
      },
      "outputs": [
        {
          "output_type": "display_data",
          "data": {
            "text/plain": [
              "<Figure size 432x288 with 1 Axes>"
            ],
            "image/png": "[encoded data removed]"
          },
          "metadata": {
            "needs_background": "light"
          }
        }
      ],
      "source": [
        "losses = pd.DataFrame(model.history.history)\n",
        "losses.plot();     # Visualize the losses"
      ]
    },
    {
      "cell_type": "markdown",
      "metadata": {
        "id": "ZJRFvA_FxLvr"
      },
      "source": [
        "## Evaluate the model\n"
      ]
    },
    {
      "cell_type": "code",
      "source": [
        "length"
      ],
      "metadata": {
        "colab": {
          "base_uri": "https://localhost:8080/"
        },
        "id": "1fUAPzp-B1Ln",
        "outputId": "c88da3cc-9d7f-49a6-9f6d-41dc2adabf35"
      },
      "execution_count": 140,
      "outputs": [
        {
          "output_type": "execute_result",
          "data": {
            "text/plain": [
              "50"
            ]
          },
          "metadata": {},
          "execution_count": 140
        }
      ]
    },
    {
      "cell_type": "code",
      "execution_count": 141,
      "metadata": {
        "id": "lqfGYBbfxLvr"
      },
      "outputs": [],
      "source": [
        "first_evaluation_batch = scaled_train[-length: ] # get the tail 50 data points that we leave before fitting the model"
      ]
    },
    {
      "cell_type": "code",
      "execution_count": 142,
      "metadata": {
        "colab": {
          "base_uri": "https://localhost:8080/"
        },
        "id": "9VC6idAixLvr",
        "outputId": "d5382a0b-a914-4fa0-fe6c-f2f7e936aafe"
      },
      "outputs": [
        {
          "output_type": "execute_result",
          "data": {
            "text/plain": [
              "array([[0.83740582],\n",
              "       [0.7988817 ],\n",
              "       [0.75737124],\n",
              "       [0.7132892 ],\n",
              "       [0.66707605]])"
            ]
          },
          "metadata": {},
          "execution_count": 142
        }
      ],
      "source": [
        "first_evaluation_batch[:5]"
      ]
    },
    {
      "cell_type": "code",
      "execution_count": 143,
      "metadata": {
        "id": "8569v2-hxLvs"
      },
      "outputs": [],
      "source": [
        "first_evaluation_batch = first_evaluation_batch.reshape((1, length, n_features)) # 1 is we want to predict one sample only"
      ]
    },
    {
      "cell_type": "code",
      "execution_count": 144,
      "metadata": {
        "colab": {
          "base_uri": "https://localhost:8080/"
        },
        "id": "llRPoZLIxLvs",
        "outputId": "103c662f-56c0-4c3b-863b-33a9a1365d78"
      },
      "outputs": [
        {
          "output_type": "execute_result",
          "data": {
            "text/plain": [
              "array([[[8.37405820e-01],\n",
              "        [7.98881698e-01],\n",
              "        [7.57371240e-01],\n",
              "        [7.13289205e-01],\n",
              "        [6.67076045e-01],\n",
              "        [6.19193508e-01],\n",
              "        [5.70120021e-01],\n",
              "        [5.20345908e-01],\n",
              "        [4.70368497e-01],\n",
              "        [4.20687145e-01],\n",
              "        [3.71798252e-01],\n",
              "        [3.24190300e-01],\n",
              "        [2.78338972e-01],\n",
              "        [2.34702398e-01],\n",
              "        [1.93716581e-01],\n",
              "        [1.55791039e-01],\n",
              "        [1.21304709e-01],\n",
              "        [9.06021693e-02],\n",
              "        [6.39901882e-02],\n",
              "        [4.17346643e-02],\n",
              "        [2.40579672e-02],\n",
              "        [1.11367167e-02],\n",
              "        [3.10001778e-03],\n",
              "        [2.81703720e-05],\n",
              "        [1.95186738e-03],\n",
              "        [8.85188786e-03],\n",
              "        [2.06592891e-02],\n",
              "        [3.72560954e-02],\n",
              "        [5.84764771e-02],\n",
              "        [8.41084070e-02],\n",
              "        [1.13895779e-01],\n",
              "        [1.47540969e-01],\n",
              "        [1.84707803e-01],\n",
              "        [2.25024924e-01],\n",
              "        [2.68089497e-01],\n",
              "        [3.13471233e-01],\n",
              "        [3.60716695e-01],\n",
              "        [4.09353821e-01],\n",
              "        [4.58896644e-01],\n",
              "        [5.08850150e-01],\n",
              "        [5.58715219e-01],\n",
              "        [6.07993616e-01],\n",
              "        [6.56192968e-01],\n",
              "        [7.02831682e-01],\n",
              "        [7.47443761e-01],\n",
              "        [7.89583454e-01],\n",
              "        [8.28829716e-01],\n",
              "        [8.64790412e-01],\n",
              "        [8.97106234e-01],\n",
              "        [9.25454293e-01]]])"
            ]
          },
          "metadata": {},
          "execution_count": 144
        }
      ],
      "source": [
        "first_evaluation_batch"
      ]
    },
    {
      "cell_type": "markdown",
      "metadata": {
        "id": "lZ2OJiLBxLvs"
      },
      "source": [
        "### Predict"
      ]
    },
    {
      "cell_type": "code",
      "execution_count": 145,
      "metadata": {
        "scrolled": true,
        "colab": {
          "base_uri": "https://localhost:8080/"
        },
        "id": "jV8Yz66mxLvt",
        "outputId": "abac25f2-d7ae-437c-98fe-ab0f2749114a"
      },
      "outputs": [
        {
          "output_type": "execute_result",
          "data": {
            "text/plain": [
              "array([[0.9384902]], dtype=float32)"
            ]
          },
          "metadata": {},
          "execution_count": 145
        }
      ],
      "source": [
        "model.predict(first_evaluation_batch)"
      ]
    },
    {
      "cell_type": "code",
      "execution_count": null,
      "metadata": {
        "id": "Bvh9NbgcxLvt",
        "outputId": "64fef64e-dc56-450a-ebbb-332246447c34"
      },
      "outputs": [
        {
          "data": {
            "text/plain": [
              "array([0.94955134])"
            ]
          },
          "execution_count": 130,
          "metadata": {},
          "output_type": "execute_result"
        }
      ],
      "source": [
        "scaled_test[0] #get the first data point from test set"
      ]
    },
    {
      "cell_type": "markdown",
      "metadata": {
        "id": "R7km-WpVxLvt"
      },
      "source": [
        "![image.png](data:image/png;base64,iVBORw0KGgoAAAANSUhEUgAAArEAAAISCAIAAABUMAA6AAAgAElEQVR4Ae3dC3hU1b3w/zUzuZAEAsEQQhgTSCL3aECuUfBgRY6ilnqB2h6PbVWslxbf09bz9uH4156W43t6eV+1auvltE/ray2Kl1bQF1A5iIarglwCgYAEQ4AQIDcSCEnm/+zr7LlkMjOZy57ZX57znOzL2mv91mdNnd+svWaPzeVyCf4hgAACCCCAgOUF7JYXAAABBBBAAAEEJAFyAl4HCCCAAAIIICAJkBPwOkAAAQQQQAABSYCcgNcBAggggAACCEgC5AS8DhBAAAEEEEBAEkjRGVwuV09Pj77LBgIIIIAAAnEXsNvtNpst7mFYJAB3TtDT09Pe3m6RbtNNBBBAAIGEEMjMzHQ4HAkRahIEyb2DJBhEuoAAAggggEAEBMgJIoBIFQgggAACURJYuWFTVW1dlCqnWi8B970D44m/H2n8orHVeIRtBBBAAAEEYiNwRe6gW0blxqYtWjEK+M8J6tvOV505ZyzHNgIIIIAAArERGDYgNTYN0YqXAPcOvEDYRQABBBBAwKIC5AQWHXi6jQACCCCAgJcAOYEXCLsIIIAAAghYVICcwKIDT7cRQAABBBDwEiAn8AJhFwEEEEAAAYsKkBNYdODpNgIIIIAAAl4C5AReIOwigAACCCBgUQFyAosOPN1GAAEEEEDAS4CcwAuEXQQQQAABBCwqQE5g0YGn2wgggAACCHgJkBN4gbCLAAIIIICARQXICSw68HQbAQQQQAABLwFyAi8QduMsUDyhfNVt5XdnxzkMr+bnzpy16raxc72OsosAAggkl4D/30VMrj7SG1nAOXbVjKEeFq11P1z71WGPQ947c2fO+tFIsWXLpp/39fPlwZf0biP4fd8uiI431u38U4tWhVeBYwdu2nxaOydE4LPucom6FYshSFQb4kYAgaAEyAmCYkr0QsUTyp8ZnyHEmd+8Wb1e7oz8/uF85rZM/YjfPq6vqlss2vtMCIQQwZf021DQBz2TAONlylu+lujIXR6zaqaWFgQ+a6ynn9vZl/5+nlPs2/n9qo5+1hTq5aENQfziDLVflEcAgZgJcO8gZtTxa8g5VkoIjh24SUsIpLfwzZtu2nJGiKE/mnlJoMhavvq+8aN2gKLBlwxQSfinMu6eMFRKerSZj8NV1W+0CjEyV57wD3w2/FbNdWWch8BcGESDAAJhCDBPEAZagl0y1zlUiI43qgyz6EoP6o6+MWHoHdK75un1QsgfrDt+82bj1beNmSGElENsPi0fFPr8vDbfYBDw+FyultSqOlp4ffkdg+TCWjHtyoy79VPSIfcEhlYg1L+ZhYOEONaozILIF3dsrOu4Y/zQq51ifV3gs/7akj9GO+Uzdft2rvAo0mvwyuy9VHZ8+arxer96Le9RqzIEztM/XNs4243jK3PJY8oAKRcb7o/4G6yO37zpZxR6iVMI4RFqMPeMvLrALgIIJLQAOUFCD18wwWcUZgvRenqjftPdfVHH0RYhBskF1LNDf3TbUNFa98OqzGeU90N3YSVpyFDfJ+Sp+IDvGVpVb34lpDsXzmdmtut39+fOLL9jkPZuJ1f1o+svrdU+4hvaDHozO3OkEHUt7cYLDrd0CJEhHQl81niNsq3caFAyFWm7/EeGMgGCX79503qfOfkA5Q216puXPHqb09la98M3vzrsK6NmKuoNFDkJGLPq+gDrQvyPgt84tYTAPS6/z84QItZ3QHQINhBAIPYC3DuIvXmMW5Q/IvfSZq38riklDfq/YwduWvvV4bpq/f1bO5Mx2yndgFDXFtRV/+aYmDHh0mLttO/fun07paqEOFy18zfH9Gl8qaB050K/kVFX/cN9HWJQZpFvFX6OZNwxb9aq27T/0298ZGf65DDqxSOzM0Tgsz6tyDMr2ltjXfVNbx7YYigTavChlR+UITQ3oco4v631be4Ep1PKVNRllYerdsp07gKGMNXNAKPgU1h6qdTtO6rOtdRVx35JhE9IHEAAgZgKkBPElNuUjcmzBWpk/m4xqKcC5Rb++tWxqc79EVNOPvyVch+Tpyvcu/62pLfnTfr/yXnGmN9PkGcC/BUP99glV4/0ug1x+pNjgSsLIniPCgKU93A7XHe6TggprZH++QYmlAIznL0tCvGora9RaD/aKpzjyx/TUhCPkNlBAAELCHDvwAKD3HsXi0KYHD796r6OGePHPOaUv5foHPujkaJuX2PgrzL23rLHfWu5mDuB6P0qjzPrNx+Qlj6ML5xbVb2+pb1OeH7TUit7rKVDBD6rlQz6b6jBh1q+l0D83QERLe3HhIjQm3jHn9buFNeX3zFj1qoZ6oKSXkLhMAIIJKcAOUFyjquhV9KHvxmDLpmd/dVh7yUF8qdV/0sNDBWom/K9AyFmKG8YQtSF/3U75T1Sm5xXlzf6ttjnEaVr7mLO7Ezj/e9iOeOR1kzI/wKfddfSx1aowYdavvfm5bf/GZ59VJZK9H5NqGc6/rR205/UEQm8UiHUmimPAAIJIMC9gwQYpP6F2PGnqjNCZNwxwXt6uXjC2DsGibq64D7rZ+fOGiQ9vEifug//ZrNclfu+dfjdk29ntLbXCiFaGje5v3mo1KgkMfKdkcBnvQOQUg2RnWlYKmGY6g81+FDLC0NbQhQ7L3EKIU11SP98A5PidAqxpc7nSyXenQptX1upEOQij9AqpzQCCJhWgJzAtEMTucDqjsrf1B+z6np9SWDG3dfPkh5a0Fr3yyAfrSO/rUqTBPr6vrCfQKxMdztz1Tdd5fEJfXf3ksc8WlS+ktfxxmblUYzSNw+Nj1uQV/vrK+YCn/VqWy48yPmMuoBRalf9RqWUfMhz9QGC9yrgtRtEZ2fMmKUuksi+9FF5jF5VHyKpBaaPo/L9iNY6rYBXRwLuegUmfTvj0t/rNYtLvi01LedbAavhJAIIJJMA9w6SaTR764s0IbxR+ULgbe5bz2FN/msT/vKX4u6YN2tWOHcQTv98y5lVM5zPqMGc+c2WMz+a0edSwfajrdKXDu5w99LjmYbSR1tR/sz4MatuU0sYOxj4rLtKeUv6okT2rB+N1Ko6duCmulzpFrv0r8/glYUXSu8krhA72/HGltOzZiiPN5CfcGD4iqbWC51OSF8cNRRQQgzu/3vHub6l/digMdqgeDcdXJ2UQgCBxBawuVwupQfd3d3t7erXu3+/p25DfVNi94zoIysgfSTN0B9eJNct3ylv0R4eHNnmLFmb10OHLGlApxGQBK4pGPL9SeoHmPe2fVFWMmpCkfvzDEbRE+DeQfRsk6pmeb2eZ4+UO+WejwnyLMEeAggggEAiCXDvIJFGK46xSj8f4Cz3nLqXJ66DXI4Qx9BpGgEEEEAgOAFyguCcKCXUb6khET2Bw1U7b6qKXvXUjAACCPQhwL2DPoA4jQACCCCAgEUEyAksMtB0EwEEEEAAgT4EyAn6AOI0AggggAACFhEgJ7DIQNNNBBBAAAEE+hAgJ+gDiNMIIIAAAghYRICcwCIDTTcRQAABBBDoQ4CcoA8gTiOAAAIIIGARAXICiww03UQAAQQQQKAPAXKCPoA4jQACCCCAgEUEyAksMtB0EwEEEEAAgT4EyAn6AOI0AggggAACFhEgJ7DIQNNNBBBAAAEE+hAgJ+gDiNMIIIAAAghYRICcwCIDTTcRQAABBBDoQ4CcoA8gTiOAAAIIIGARAXICiww03UQAAQQQQKAPAXKCPoA4jQACCCCAgEUEyAksMtB0EwEEEEAAgT4EyAn6AOI0AggggAACFhEgJ7DIQNNNBBBAAAEE+hAgJ+gDiNMIIIAAAghYRCDFbz9vGT3smpFD/Z7iIAIIIIAAAlEVGJzmiGr9VN6bgP+coCArvSCrt0s4jgACCCCAAAJJKMC9gyQcVLqEAAIIIIBAGAIe8wQpKSl1p06HUQuXIIAAAgggEA2BCxcvRqNa6vQr4M4JHA5HRkbG6q07/ZbjIAIIIIAAAggktwD3DpJ7fOkdAggggAACwQrYXC6XsSz3DowabCOAAAIIxF1g6KCBmQPS4x6GFQLwzgms0Gf6iAACCCCAAAK+Atw78DXhCAIIIIAAAlYUICew4qjTZwQQQAABBHwFyAl8TTiCAAIIIICAFQVSWltbrdhv+owAAokjYLfbs7Ii82jVjo6Orq6uxOk6kYrMzEyHg0cdx+iVwDxBjKBpBgEEEEAAAZMLkBOYfIAIDwEEREf7+f/37vqO9vNYWFDgq+1rm+sPWbDjcemy+hzDCx0XP/8Y9LgMAY0igIB/gdKyEcMKBgshuru7T9Q3dHd3+y8X3tHOc/b9q8O7lKuiLeDKGeW6dLrSSvvZE4OGFUS7RepXBLSc4PzFTWv2g4IAAgiYRyB7aKaSE0QjJNvFdseu16NRM3X2X6CnZG63lhP0vzZqCF6AewfBW1ESAQQQQACBZBYgJ0jm0aVvCCCAAAIIBC9AThC8FSURQAABBBBIZgFygmQeXfqGAAIIIIBA8ALkBMFbURIBBBBAAIFkFiAnSObRpW8IIIAAAggEL0BOELwVJRFAAAEEEEhmAXKCZB5d+oYAAggggEDwAuQEwVtREgEEEEAAgWQWICdI5tGlbwgggAACCAQvQE4QvBUlEUAAAQQQSGYBcoJkHl36hgACCCCAQPAC5ATBW1ESAQQQQACBZBYgJ0jm0aVvCCCAAAIIBC9AThC8FSURQAABBBBIZgFygmQeXfqGAAIIIIBA8ALkBMFbURIBBBBIDAHb9JcHPLAmbXpJFMMd+r20B9YM+Ob3bFFsg6pjLZAS6wZpL+ICzvKHHi/Llao9+tZ9G3bL9Zc9dNet5caWmjf+7O8f1alHjGcb33v3ubebjEWFGHLtz2+ene95TN7b9/Irr2/xc9zfoVGLXpo9Xni0249i/i7lGAKxFbDPX5NWbGzyq64V93adUY8Yz/Z89mDn1kPGokKUpHzz+ZQcz2PyXve6+Rdr/Bzvx6GvpVx5qRCbutwxaK2fXXHhr39wGaruLWz38cO/PL/mQ+2Kr6U+8KhDOXLmD12HF6cVL04p/UOk49da42/MBZgniDl5pBss+7qSEBjrHTLM3zu6UsKYEAghcm+8+aFvDDFezDYCCPgTKLH7e0dXSrrfQeV9+5XPR/Uzeh/TAKWzHUKIwxt75GDkwv7TkV7DLn0irfirrhXzz6/bJIrvTBmqetjnP+oQmzq1FKHn0CYhhKPka+pp/iS+APMECT6GzvI55ULsPLqvvHC8d1f8fUZXymsf34d/45bv3zg4d8qo4W/vPOm+vOmjx175SNpVJwxCmR7Qazny+n1H9J3eN4Is1nsFnEEgpgIecwNqy0O/lyLNH6inbNNfTr/yUnvxNbathwyfyA91/XV+l3SB+pE9CtMDajj2kllCiJ6zyv8ASxzFl4rDv7xw9s50afLA8K/3sMVQpxB1PdIUyNEeMcteWiK2HrJNf1lOFJ5QUg2pojPy2eLZdvGh+6ChBTYTToCcIOGGzBjwkGvvL8sVzRv/VptbXmg80ev2yMHSXYYTR/fK9xFObjvaeGNZbv7gPCEMOUGvVwsh3xE4sfutzwtvvXGwOLH794/tFHJioV+jJRDGewfqVb9fNfj79ypx6vlKkMWEcN8i0ZraufFnzwWTdmjl+YtAlASGFkozrmcru+X7CK6ayp4rF9tzCm1CGHKCPto2fmT3SBdKnxgwT3qPF0LIx7W7AELYr3x+wJXKQWPlynzGVz01ys0LNRexTb/TWEjaDjps15lDYuj3Uq+8tOezB/V7JVINZ2rlDjrtQ4WcQHi3wH7CCXDvIOGGzBDwjCuku/47d+kLBQznhBCDZz9+1+MvSf+n3x0YXjBYKnOiSc0A6ppOSfuDhzk9Lw28l18mJQTqv1HXuLelQ+PvveVav7Xll2kJgRzb/eXDtSo8/vovNmqRumbCoyw7CMRc4NKUxWsGPCD9n353wCZ9qhbirPIG6fFOGWR4xoRAmo2ftya1VL506PfStIRAOj41mAV9o2y93+MwxhMgbNeZOiGkd3o5b/jKdeZrqYsX2w//0meRxBHXWSHEpTbt5oKxfrYTUYB5gkQcNSXmUYukz9xH35I+K48K3A1p0YDwXUsY+KKAZw2f0Y33COTFCoNzRwqhrWf0qEW5SvnEn1840bnzZJDFRhZJd0bURrVZByYJPHDZibWAtGhA+K4lDD0MdQ5/U+fv5Gn5od9LW7zYUfK1izUfqh/l1VV+X0v9ZpEQ0uf+bvn2hL+VjEIMLZK/CKDM/IcejHJFzROdJWvSFq9JEaLnswd7pj2fJjZ1bitKe2CN/DlSv4FyqOesEMGlIOGGwnUxFSAniCl3BBsb/o3LxwvR+N4XyhcNPGvWFwS41wQoiwY8i4W917zxb4ZJe99Zff8Va1fJkxPyFyX8lvNX7FhzoxC55UVl4kiD3HH3VIffOjiIQOQF9AUB7jUByqKB/jalzOGLWWkPrHFXlSO9tbtqNnbPm+UofnTAA48Kn68MuAtHYatnzfzzcrXS8ghpveEr9uuft0vZyRHpCxTTvtalrTQUQtiGlgjh9T2LKMREldEX4N5B9I2j00KefBcg98ab5bsDs+UFhoW3vnTXohle7TXt/bxZP3SyXt7OH6LO2zuHDJPONZ/y+3ldvyzARrAJQYAqgjil3uOQOvh9ZR0DkwRBsFEkagKHug9/pVcuz7QLIb+LSwcj8kldrf3Di7+bf+Ezua2cxekPPBHB/2QHFba6jODJrjPSLQl53aI8NyCtK3T/kxYc8C8pBJgnSIph9OqEs/yh+8XKx5SvEgyZOMWwhkD5wK3N2w+fVigvOWxu8Koh+F1l0aJ2K8Hri47BVxO4pDIpoq1eDFyWswhER2Do99KuFxfVL/fLi/n1NQTK8vucCsfQP3SdEbbSCun98uzRYBcYKpf7nQYofWJAycbza+49v1XIaw5mOUpFT+CHGQS/7q/vsNVlBOel5xx43qBUexfo+5nRGQZqja4AOUF0faNX++7nXjHcNVBW72vPLHIKkV/2/ZfKDK3rE/JH9p0om50vLT+crZ3et8r4RUTtaJB/1Vn92Y+/pNcX5JUhFJOnNwaPv/eux+/VrtKyEG2fvwhEX0D6pL7Y0MxXXdvkh/mc2dBzdrE9R1p+qP8ntXu7x6OBDFf5bKqXe1TuXiug3DhQL/rKpT0iSWjfO3CXVMvI6/5y5HV/cmGPBYxKF5T8o6+wPZ9GIFXryJEyA+k5DeqCSmU9o0dUPt3jQCIJGKd/EiluYg0kULfzuZ/tbnSXOPrWffpDDJs+euzdjSfc5/r74btu58r39HsTzRvfO+quOoJbW2r3edVWPlv/MoXXGXYRiIrAmT90rlhh+Bb+ps7f6Q8xPNT11we7pBX46j+PLxNqB3v/K61U6Dzs73zNE4bj+so+4dr6pN6cz7y9PLev3uP3V6f7WKCwfZ5GcKhr7YoeKUF5PiVHe2xRJO+SuMNiK44CtpaWFiFEy9n2l3++No5x0DQCAQTkWxL6Iw2E8qgl7WsIAa7jVGILzL9zysRp0gMt2s91vP+39bd/66aBg7L62aWOjo6uLunRQbZzp1LefqCftZn0cuWRBuq3FaIYo/J0JhGFhnpK5nbPekgJ/atPVw4fM+WS4iui2BOq1gT0iS7tAH8RMKmAx/0OIcS+7YbvPpg0ZsJCIB4C6rcVov54QVuO9GDE7kP6ryHEo7O0GVEB7h1ElJPKoiOw+zmP+x1CejZz8L/GFJ2YqBUB8wp82CV9VWFWSpR/F1F6ovPZFV2B1zyaV4nI/AgwT+AHhUPmEzA+ccF80RERAiYTcG2VvqoQ3X9n/tD5uz9Etwlqj7kA8wQxJ6dBBBBAAAEETClATmDKYSEoBBBAAAEEYi5AThBzchpEAAEEEEDAlALkBKYcFoJCAAEEEEAg5gLkBDEnp0EEEEAAAQRMKUBOYMphISgEEEAAAQRiLkBOEHNyGkQAAQQQQMCUAuQEphwWgkIAAQQQQCDmAuQEMSenQQQQQAABBEwpQE5gymEhKAQQQAABBGIuQE4Qc3IaRAABBBBAwJQC5ASmHBaCQgABBBBAIOYC5AQxJ6dBBBBAAAEETClATmDKYSEoBBBAAAEEYi5AThBzchpEAAEEEEDAlALkBKYcFoJCAAEEEEAg5gLkBDEnp0EEEEAAAQRMKUBOYMphISgEEEAAAQRiLpCitJg+IHXW/HExb50GEUAAgV4F8kYO7vVcv0+4UjO7L1/U72qoICoCrpxRUamXSvsS0HKCDHKCvqg4jwACySSQltVDTpBMA0pfIiHAvYNIKFIHAggggAACiS9ATpD4Y0gPEEAAAQQQiIRAyqEDR3du3xOJqqgDAQQQMLtARkZG/a6P63dtMHugxGcUGDPFuMd29ASYJ4ieLTUjgAACCCCQSAIp+SOGlU+dlEghEysCCFhSIC09LSL9HjS8qODyayJSFZXERiAjJz82DdGKzeVyoYAAAggggAACCHDvgNcAAggggAACCEgC5AS8DhBAAAEEEEBAEiAn4HWAAAIIIIAAApIAOQGvAwQQQAABBBCQBMgJeB0ggAACCCCAgCRATsDrAAEEEEAAAQQkAfU3kMBAAAEEEEAgPIGOjo6urq7wrk1LS0tPTw/vWq6KuADzBBEnpUIEEEAAAQQSUoCcICGHjaARQACB5BD4at++PR9/nBx9SYJecO8gCQaRLiCAAAKmEOhsbDy9MajflxrxjduUiNtbWlobG00RPUEIkXLhwgUcEEDA/AJ2uz01NTVAnN3d3WHf0w1QrRlO2Wy2tLTI/NiBGbqTxDF0Np46/vZbwXRQzwmCKUyZmAmkdHZ2xqwxGkIAgbAFUlJSAucEXV1dyfo/Z7vdTk4Q9iuHCxEIXoD1BMFbURKBeAp0Xug8dfJ0PCOIX9vd3d0Njce6e7rjFwItI2AJAXICSwwznUwCgTOnmzZ8uCkJOhJGF85fOPfhp2+fP98exrVcggACwQuoawxbzra//PO1wV9GSQQQiI3AvY9dn52TGWpbK7bcH+olJiw/vfg7o4fNMmFghIRAsgowT5CsI0u/EEAAAQQQCE2AnCA0L0ojgAACCCCQrALkBMk6svQLAQQQQACB0ATICULzojQCCCCAAALJKkBOkKwjS78QQAABBBAITYCcIDQvSiOAAAIIIJCsAuQEyTqy9AsBBBBAAIHQBMgJQvOiNAIIIIAAAskqQE6QrCNLvxBAAAEEEAhNgJwgNC9KI4AAAgggkKwC5ATJOrL0CwEEEEAAgdAEyAlC86I0AggggAACySpATpCsI0u/EEAAAQQQCE2AnCA0L0ojgAACCCCQrALkBMk6svQLAQQQQACB0ATICULzojQCCCCAAALJKkBOkKwjS78QQAABBBAITYCcIDQvSiOAAAIIIJCsAinJ2rHk6Zez/KHHy3Kl/hx9674Nu7WOlT10163l6k7je+8+93aTdkYEOCWXGXLtz2+ena8Xd2/se/mV17e4dwNujVr00uzxonnjz/7+UV2AgkEWC1ADp6IrUHz5X67NMzZRv3Pzj7e3qUeMZ5u+/OnKQ7XGomwjgECSCTBPYPYBLfu6khB4xGl81xdC5N5480PfGKKUCHDKowp2EJAEioZm9QphTAiEEENGP3l7SVGvpTmBAAKJL8A8gbnH0Fk+p1yInUf3lReO1yNVDmqf0Yd/45bv3zg4d8qo4W/vPBnglH65aProsVc+knbVCYNQpgf0Wo68ft8Rfaf3jSCL9V4BZ2Ih4DE3oDY48JtTpPkD9VROya9vG10wJG9WzqHas7EIiTYQQCAOAuQEcUAPuskh195fliuaN/6tNre80H3VyMHSrYQTR/fKk/Yntx1tvLEsN39wnhAnA5xyXx9gS57qP7H7rc8Lb71xsDix+/eP7RRyzqFfoyUQxpsC6lW/XzX4+/cqcer3FIIsJoT7FonW1M6NP3sumLRDK8/fyApkFUhTT+e2H5LvI5w9ub1p9C1DsgpyhCAniKw0tSFgHgHuHZhnLHwimXGFdNd/5y6vG/bDCwZLRU80nVSuqGs6JW0MHuYUAU751N77gfwyKSFQ/426xr0tHRp/7y3XOrWTxr/5ZVpCIAUz+/7y4caz+rb/YqMWqWsm9HJsxFKgoHzmX+69Tvo//e5AzsACKYJzX6kZQNtX8oqVgqEDYxkYbSGAQEwFmCeIKXcojY1aJH3mPvqW9Fl5VCgXRqKs4TO68R6BvFhhcO5IIfyuK1SuUj7x5xdOdO48GWSxkUXSnRG1UW3WgUmCSIxkqHVIiwYEawlDZaM8AkkiQE5g0oEc/o3LxwvR+N4X+hcNYhho88a/GSbtfWf1/YeiXSXPW8hflPBbzl+xY82NQuSWF5WJIw1yx92zIH7r4GDEBGq3b/rWdrW2oqmznizPEsqigYi1QEUIIJA4AuQEJh2rPPkGQe6NNz9+ox5h4a0v3TX+5Vder28WYrDIHzJcCOn2gXPIMKlI86k6cXJkr6f0WkLbCDYhCK1W79JqGiF1UDp1YvfvmSTwNorBfu2hhvry0fItAyHOttULUSCyLlUXEAy8VP5mS/0Z7WuKMQiIJhBAIMYC5AQxBo9Ec8qnam1yfvi0QnnJYXODECLAqfBaVhYtarcSvL7oGF6VvlcpkyLa6kXf8xyJmsDAb95eJj7c9Fd50UBRSZ5hDcG5+iYhhmRNLRn41+1tImf4VHnJYT0LDKM2GFSMQPwFyAniPwZ+I9j93CuGuwbK6n39mUVH9p0om50/ePbjd83WLt63aqc0Z1DX+ymtZGh/1Vn92Y+/pDcVWgXBlD4pz3yMv/eux+/VimtZiLbP36gJZN1y23W3GGqv33n4U2m3bdORc7eUZ0nLD7WHY4kjh5XswVCcTQQQSCIBvneQiIPZ9NFj72484Y7c8Ak7wCl3+RC26naufK9ZK9+88b2j2nZE/26p3edVX/ls/SlMXmfYjaRA219Xbv67+99WZwgAACAASURBVBGYYvtHH+gPMazdvumnO8+5Wzuy+1sfqN91cR9kCwEEkknA1tLSIoRoOdv+8s/XJlPH6EsCCci3JPRHGgjlKUza1xASqB9RCfXex67PzskUQjQ2nPlsy+7bv3VTb81cuHChs7NTObtiy/29FUug49OLvzN62CwhRMf5tg8r37xl3t1ZmYMSKH7rhNrR0dHV1SXNLu3fd+A/fhFMx6f8+VWl2Jc7drQ2Nl51663BXEWZaAtw7yDawtQfpIDHrRAhxL7thu8+BFkHxRBAAAEE+iHAvYN+4HFphAR2P+dxK0RIj20O/teYIhQE1SCAAAKWF2CewPIvAVMA6D/BYIpoCAIBBBCwpgDzBNYcd3qNAAIIIICAtwA5gbcI+wgggAACCFhTgJzAmuNOrxFAAAEEEPAWICfwFmEfAQQQQAABawqQE1hz3Ok1AggggAAC3gLkBN4i7COAAAIIIGBNAXICa447vUYAAQQQQMBbgJzAW4R9BBBAAAEErClATmDNcafXCCCAAAIIeAuQE3iLsI8AAggggIA1BcgJrDnu9BoBBBBAAAFvAXICbxH2EUAAAQQQsKYAOYE1x51eI4AAAggg4C1ATuAtwj4CCCCAAALWFCAnsOa402sEEEAAAQS8BcgJvEXYRwABBBBAwJoC5ATWHHd6jQACCCCAgLcAOYG3CPsIIIAAAghYUyBF6XZ2Tua//O+F1iSg1wgkn8DiGS8kX6foEQIIRFuAeYJoC1M/AggggAACiSFATpAY40SUCCCAAAIIRFsg5czp5hP1DdFuhvoRQKCfAu3nOgLXkJKS0tTcWHficOBiiXj2YldnIoZNzAgknEDK2dPN+3YfTLi4CRgBCwoMHJQVoNcOh6P9fOuBL78IUIZTCCCAQAAB7h0EwOEUAggggAACFhJIKb9yYvmVEy3UY7qKQPIKjC4cN7pwXPL2j54hgEB0BZgniK4vtSOAAAIIIJAoAuQEiTJSxIkAAggggEB0BcgJoutL7QgggAACCCSKADlBoowUcSKAAAIIIBBdAXKC6PpSOwIIIIAAAokiQE6QKCNFnAgggAACCERXgJwgur7UjgACCCCAQKIIkBMkykgRJwIIIIAAAtEVICeIri+1I4AAAgggkCgC5ASJMlLEiQACCCCAQHQFyAmi60vtCCCAAAIIJIpASqIESpwIIBBfge7u7v4EYLfbbTZbf2rgWgQQiLYAOUG0hakfgWQQ6OnpaW9v709PBgwYkJqa2p8auBYBBKItwL2DaAtTPwIIIIAAAokhQE6QGONElAgkusDBzz47um9foveC+BFIbgHuHST3+NI7BCIvcHL1uy27dgVTb0ZhofPbdykl286ccbCeIBg1yiAQPwFygvjZ0zICiSlwvr6+dV9VYsZO1AggEEiAeweBdDiHAAIIIICAdQTICawz1vQUAQQQQACBQALkBIF0OIcAAggggIB1BMgJrDPW9BQBBBBAAIFAAuQEgXQ4hwACCCCAgHUEyAmsM9b0FAEEEEAAgUAC5ASBdDiHAAIIIICAdQTICawz1vQUAQQQQACBQALkBIF0OIcAAggggIB1BMgJrDPW9BQBBBBAAIFAAuQEgXQ4hwACCCCAgHUEyAmsM9b0FAEEEEAAgUAC5ASBdDiHAAIIIICAdQTICawz1vQUAQQQQACBQALkBIF0OIcAAggggIB1BMgJrDPW9BQBBBBAAIFAAuQEgXQ4hwACCCCAgHUEyAmsM9b0FAEEEEAAgUAC5ASBdDiHAAIIIICAdQTICawz1vQUAQQQQACBQALkBIF0OIcAAggggIB1BMgJrDPW9BQBBBBAAIFAAuQEgXQ4hwACCCCAgHUEyAmsM9b0FAEEEEAAgUAC5ASBdDiHAAIIIICAdQTICawz1vQUAQQQQACBQALkBIF0OIcAAggggIB1BFKs01V6igACvgIul6uzs9P3eMSP5BYWDsjMvHDhQuCaU1JSHA5H4DKcRQCBKAmQE0QJlmoRSAwBm82Wmpp6/vz57u7uqEY8rKhICBEg/7DZbAMGDCAhiOooUDkCgQXICQL7cBaB5Bc439bW3trqSE11pKfb7HG4n+hyuVwXL3ZduHC+uVnhHpqfb2e2IPlfevTQdALkBKYbEgJCIMYCA7Kyjh04sH/LFrvDUTp1asHYsbEMoOnEif2Vle1aNjAwJ+eKa68lIYjlENAWAroAOYFOwQYCFhWwOxyXTZ06csyYL9av319ZWX/w4LiKioFDhxo5Wnbvqn3xhYvNTcaDfW637qv6/J+/LYRwZGbm33zL8AU3Gy/p7Og4tH378Zoa5aDd4Rg3Y0bJ5MkkBEYlthGIpQA5QSy1aQsB8wpkZmfP+vrXG2prv1i/fuvf/nbphAmjJ09OSUtTIs4uu3zi//4/x99669TaNT0XQ1uTmDNjpvOf7kodPMTY+a+qqr7csaNLW944orj4imuvTc/MNJZhGwEEYixAThBjcJpDwNQCeUVFX7vrrv1bthzasePkl1+OmTEjb/RoJWJ7atrIxd+8ZM6cuv/7SsvuXcF0Y8CIAuc/3ZVddrmxcMupUwe2bGk5dUo5mJmdfcXcuXnyCkRjMbYRQCD2AuQEsTenRQRMLWB3OCZUVBSOH7/744/3/Pd/51RXj501K3PwYCXoASMKSn/yr2e3bK77v68EuJVgT00bceutw66fb09VZxqEEF2dnTXbt9dXVytV2R2OMVOnXjZ1KjcLTP2CIDgrCZATWGm06SsCQQsMzMmZ9fWvHz98+IuPPtr6t785J0woNtzpz5kxM7vs8hPv/v3k6nd9q8wuu7zwu/ek5eYaTx2vqTm0fXtnR4dyMK+o6Iq5czOzs41l2EYAgfgKkBPE15/WETC1wIji4tyRIw9+9tnB7dtP1NRMmD176MiRSsSOzEzlVkLtiy+cO6SuE0wdPKRoyf1eNwvam5urNm7UbxakZ2Zece21I4qLTd1zgkPAkgLkBJYcdjqNQNACqenpyq2Ez9et27l27dCRI8dVVAwYOFCpYMCIgrGP/+z0xo+Pv/1mzoxZI2691etmwZFdu47u3q23dtnUqeNmzOBmgQ7CBgKmEiAnMNVwEAwCJhUYmJMzZ9Gio/v2VX366ea33iqePNk5YYL+1n7J7DmXzJ7jFfqp2trqTZv0mwW5TucVc+cOzMnxKsYuAgiYR4CcwDxjQSQImF2gcPz4EcXF1Vu2SEsFDx4cM2OGfivBGHp7c/OBLVvOHDumHEzPzCybM2fkmDHGMmwjgIAJBcgJTDgohISAeQVS09MnyW/wuz/+eOfatXmjR4+ZMSMtI0OJuKe7u3bXrtrdu3u0X08oKS8fO2NGanq6ebtEZAggoAmQE2gS/EUAgaAFcvLz5yxadGT37qrKys1vvTXq8ssLy8rOHDu2v7LyfFubUk1Ofv4Vc+cOHjYs6FopiAACcRYgJ4jzANA8AokrMKqsbOSYMXs+/rhm+/a6/fv1bECZSygcPz5xu0bkCFhTgJzAmuNOrxGIjEBqevrkefNGlZV9sX69khOMKiubUFHBzYLI+FILArEVICeIrTetIZCMAjn5+f9w551Hdu8ePGxYTn5+MnaRPiFgCQFyAksMM52MkkBPT8+5c+eiVHnCVXvJqFFCiNbW1oSL3AwBZ2Vl2e12M0RCDFYW4CVo5dGn7wgggAACCLgFyAncFmwhgAAC8RI4cPiLs82N8WqddhFQBLh3wCsBgcgInGo9cLJZ/cW/yNRILckukJN16ciccqWX+w99kZ6WkTPY44ejkh2A/plOgJzAdENCQAkqcLK5eu+xVQkaPGHHRWD0sFl6ThCXAGgUAS8B7h14gbCLAAIIIICARQXICSw68HQbAQQQQAABLwFyAi8QdhFAAAEEELCoADmBRQeebiOAAAIIIOAlQE7gBcIuAggggAACFhUgJ7DowNNtBBBAAAEEvATICbxA2EUAAQQQQMCiAuQEFh14uo0AAggggICXADmBFwi7CCCAAAIIWFSAnMCiA0+3EUAAAQQQ8BIgJ/ACYRcBBBBAAAGLCpATWHTg6TYCCCCAAAJeAuQEXiDsIoAAAgggYFEBcgKLDjzdRgABBBBAwEuAnMALhF0EEEAAAQQsKkBOYNGBp9sIIIAAAgh4CZATeIGwi0CCC9RXP7m0uiHBOxFm+PXVT8577b556z6oD7MCLkPA4gLkBBZ/AdB9BJJHYPfrnzuX3/nSunnXFWidkrKEiKQIrR8sfe2VrVq1/EUgSQVSkrRfdAsBBKwm0HrySyEqPHtdMPan68Z6HmIPAQR6FSAn6JWGEwjEXKD+lXnHytdNKxNC1Fc/+Z/inqfH5onWD5auWlElxTJn+Z13TRdi67b7ltXIsZX+UCksRMNb65b9rlEIUbygVIhsj8jrq5+8+/PDyqEF17z0SIHwrVO9IKi29ACKH5ji3CDmS0H6jdxvqFLJEQ80rZCjVXtkiF8IrVP+uunul/uswqJFvuy1jydMWS6FpPzTA/Pbbq8HPUehYJcyBMte+1gPzx0KWwgkjwA5QfKMJT1JToGt+1eMvualp7XZ8PrqJ1/NXr7uTuk9b+u2+56ql97j66v/63di8Z/uvK5A7H7qtWfEFA8K92fl1g+Wbv6gvuC6Os869dLBtfXksiZjW/P1y702/IYqlanZJm56ad0gKY95tXr+9LF5UvxDfrhunpQMKf96vVY+XV+txyAlT3dv271u2nVP3ySWrjr+bTlt0qrx/OvTrnRaPajX447BffGgICp3l2YLgcQVICdI3LEjcmsIOLOLV2+4Tyif74WoazlcVbNs3udq5ydkNwiRV9dyeMHEn8ppQ9miKcX/6S0jJQqr1YNz6oTwqlMv7nU8rLb0yvyHKp0uvenWQUKIvJmFxRvk4lL8Iz3ejP02rVdt6K8oKJg24fOdW6eVTddP97bh065UUD0o13P0ZL0o07Kv3mrhOAJJLEBOkMSDS9eSQkD5lL91233zNkgz7UIIdf4/6N5t3fbMl1OWr1NvQxwXQnjVqb+beh0Poy2voIILtaGuSYiRXpcG6Kb/8t7Xs48AAiEL8L2DkMm4AIFoCjSdlL9Ht/t1bQWA0tj0acsfyK2ra5U/4u/1/q6d9PlePeh9oXL56EHSvYb6+m3yugQ1fr1OdV/7ox83VKudU+YY/LblE7nfy90VubekCYPVx3a7D3i0YjysbMvlNYSt+1dUlZbraY1v6T6O1Kx6q1UqItUzZLg6SeDTFzFo+Og+KuI0AkkgwDxBEgwiXUgagYL5D+xddvdrK6TlhNfM+VJ6r9IXD8qL7wYJMfany1vuk8tI3VY+iBeMveeBo14XulGmj1v86qr75knz5HMWSId96lTL+hzvq60HphR/qVzrJ3JpNsI3VHdYhi0p/nXL5r0mH5LXGAa+1uNs7uI/GRYiGGoNbrN0mth83zxpeeac5XfK9y/89UWIsorSZ1hjGJwppRJXwOZyuRI3eiJHIL4CPT09586dU2LYU/fu3mOr4htPrFt3fzki1i1HqD39WwkRqi/EakYPmzW9+DvKRR9WvnnF+JmjC8eFWIcpind0dHR1dQkh2vbvO/Afvwgmpil/flUp9uWOHa2NjVfdemswV1Em2gLcO4i2MPUjgAACCCCQGALcO0iMcSJKBMwoUDD2p0+bMa6gYyq4ax1fMwhai4IWEGCewAKDTBcRQAABBBAIQoCcIAgkiiCAAAIIIGABAXICCwwyXUQAAQQQQCAIAXKCIJAoggACCCCAgAUEyAksMMh0EQEEEEAAgSAEyAmCQKIIAkkpUF/95NLqhoTpWv0r87Z5POswYSInUAQSRoCcIGGGikAtIND6wdLXXtka847WVz85b53385LVKCIeUsQrjDkXDSKQvAI8nyB5x5aeIRCkgPvHlIO8gGIIIJCcAuQEyTmu9CoBBVo/WLpqRZUQ+kP1t267b1mN0hHpFxE9fuZHeijviAeaVvxOfVC/fFY6KBbUfLxaenS/dMRdg/wjAnJd+o8aFC8oFSJbPuZ+xK9+Vv55hXEnvUJSWf227qc5qbajE196pEAIpQn/Fe5+6rVVhTf9VP4BZfWSRa1P3q39CpT3jyu6oxXGhyv766waL38QQCA4AXKC4JwohUDUBQZd9/RNYumq49+W387rq59c1rT4T3deJ72fVj9597bd66bJv9Cjx1GzTdz00rpBnmdr6grlg9KvIFY/+Wr28nV3Sr+IuHXbfU/VS+/N9dX/9TuhVLv7qdeeEVP06qQN6eyQH65z/6RQmTEkj6Jq69Jb+KvV86ePzfPXXN6tMxcvXfXK1jvLKzcI+ReG/FYo/bzQq/UNt0q/5rxrg1j8rwWiQPx03Vi5wdYPlm7+oL5Acgjwz1/rAYpzCgEE/AqQE/hl4SAC8Raoazm8YOJPlTfCgoJpEz7fuXVamcdUQelN8gdrIZ09erJelEmFtYNCiLqWw1U1y+Z9rvZkQnaDEHmGassWTSn+T89uSmdHemYengXce2pD0s8Wb5CP+m1ODLruX6c8efdrH0+YsvwR98XeW9NHzlm2d1f92OtE/TZReI/cayllWa0WnFMnROCcwH/r3u2wjwACgQXICQL7cBaB+Ag01DUJMbK/bXvPuvdRX38b9dtcXcvhPpoVQhSUL9iwanPr5eKouGamMrHxzJdTlq+TZg4+WLrqeN81aD8bHUxJyiCAQC8CfO+gFxgOIxAHgUHDR6utSp+/V+9Vvwuwdf+KqtJyj0kCIUTNqrdapdLS2SHDfT9GO7PdNeh9MRzc/bp2w147Kzd6zPP7fu6QtFK9/DXUbChR/4p8B+SHoz//LyVa4b/CskVTxIb9azaIaTMHqZePHiQlB/X126oM9ambTSfrpS13F/y37nshRxBAIJAA8wSBdDiHQIwFpDvr2hrDny5vue/u11ZIEeQu/pP7Hr8WUuk0sfm+eeoaQz8T/gVjDTVoH6MLxt7zwNFlcrVzll8z50s5q9BqFNLZdcvmvSYfUJclGkPy04rhWt/mdj+1oe6Bm+4qEGLRlFV3b/5g5rzrCoT/CgsKponPV4gpy5XkZvq4xa+uum+edDdkzgK9DWWjYP4De7274LezXtexiwACfQnYXC5XX2U4jwAC/gV6enrOnTunnNtT9+7eY6v8l4v8UcPa+8hXTo0xEhg9bNb04u8ojX1Y+eYV42eOLhwXo7Yj2kxHR0dXV5cQom3/vgP/8Ytg6p7y51eVYl/u2NHa2HjVrbcGcxVloi3AvYNoC1M/AggggAACiSHAvYPEGCeiRMBToOCudb4rCDyLsIcAAgiEKMA8QYhgFEcAAQQQQCBJBcgJknRg6RYCCCCAAAIhCpAThAhGcQQQQAABBJJUgJwgSQeWbiGAAAIIIBCiADlBiGAURwABBBBAIEkFyAmSdGDpFgIIIIAAAiEKkBOECEZxBBBAAAEEklSAnCBJB5ZuIYAAAgggEKIAOUGIYBRHAAEEEEAgSQXICZJ0YOkWAggggAACIQqQE4QIRnEEEEAAAQSSVICcIEkHlm4hgAACCCAQogA5QYhgFEcAAQQQQCBJBcgJknRg6RYCCCCAAAIhCpAThAhGcQQQQAABBJJUgJwgSQeWbiGAAAIIIBCiADlBiGAURwABBBBAIEkFUpK0X3QLAQQQQCCSAhcuXOjs7IxkjXJdoydPFkK0trb61pyRkZGSwpuUL0wUjzBPEEVcqkYAAQSSRsDhcMS4L7FvMcYdNGFz5AQmHBRCQgABBEwnEON36PNtbZVvv31k927TQSR1QEzLJPXw0rkYCkxy3jzJeXMMG6QpBGIqYLPZbEK4tDaPv/2mtun+29nY6N4JuOX38tQhQ3Lnfk257tTRo411dcXl5QGr4WSEBcgJIgxKdQgggECyCqSmpelLCpo++6zjaG3YPT3+9lu+114ye46eEzSdOCGEyB050rcYR6InwL2D6NlSMwIIIJBUAsYVf4PGj4943waOU+vs6e4+XVc3eNiw1PT0iLdChQEEmCcIgMMpBPoQsNlsaWlp1Ye/uHjxQh9FOY1AQIGursgv6Q/YYDgnHQ6Hy+WS7yGIgePGN6z5f+HU0vs1g8ZPUE62nDrV093NJEHvVNE6Q04QLVnqtYKAzWZLT08/Urf/XHuLFfpLHxGw22zKkgL9/TtSJmm5uWm5uUptZ48fF0Jc4nRGqnLqCVKAnCBIKIoh0KtAbs7wrMxBvZ7mBALBCQwYkBlcwXiW0pcUODIzs0pKzx2qiVQ0xiSj6eRJFhNECjakesgJQuKiMAJ+BCqmzvdzlEMIJKNASkqKvsww+/LLI5gTDJ5ypQLW093d3NDAYoK4vHxYYxgXdhpFAAEEElJAWVKghG78ZN//zui1sZig/5hh10BOEDYdFyKAAAJWFLBLzymQ/mWWlNhT0yJCkFFY5MhUb52wmCAipOFVQk4QnhtXIYAAAhYVSE1T8wB7alpWaWlEFIzfbGQxQURIw6uE9QThuXEVAhYVOH/+vMulP8suEEJGRkag05xLWAHjkoKB48a17qvqf1eMTyZobmjIyc/nyQT9Vw2jBuYJwkDjEgSsK9Dd3d0V3D/rGiV7z6OxpMBrMcHwoqJkVzRp/8gJTDowhIVAogs0Hjt28QKPckr0YfQfv/57SBFZUmBcTHCqVnpeMk8m8O8e/aPkBNE3pgUELCnw6ZtvNgf9iziWFErgTqempirRR2RJgXExwdkTJ+wOx9D8/ATWSeTQWU+QyKNH7AjET6Bt/74D//ELr/aL7rv/ktlzvA6ym3wC+jyBEKL/Swr0xQRdnZ1tZ87kOp12hyP50BKiR8wTJMQwESQCCCBgIoHILinQFxMo30LkZw7iONLkBHHEp2kEEEAgUQX0qYKB48brjxYIozODxk/QL1d+H5nFBGEwRuoScoJISVIPAgggYCEBfUmBEEL/oB9G/weOG6dfxWICnSJeG+QE8ZKnXQQQQCCBBfR5AnlJwfiwe6LnE8pigqEjRrCYIGzM/l9ITtB/Q2pAAAEELCcg5QTa06uMXxwICcKempZZUqJcwmKCkOiiVJicIEqwVIsAAggkuYAjRf3mmvEBAyH1Oau0VP/FBBYThEQXpcLkBFGCpVoEEEAgyQVStJwg7CUFxsUEp48d48kEcX/FkBPEfQgIAAEEEEhIAWNOoD9jIKSe6IsJzre1tTc382SCkPSiUZicIBqq1IkAAggkv4Ddbtd/ECuMJQUeiwlOnBBC5PEzB/F+1ZATxHsEaB8BBBBIWAH9G4lhLCnwWExw/LgQgqcVxf2FQE4Q9yEgAAQQQCBRBYy3D/QbAUF2xriY4OyJE6np6YOHDQvyWopFSYCcIEqwVIsAAggkv4DxKQWDp1wZUoeHXDlVKX++re18WxuTBCHpRakwOUGUYKkWAQQQSH4BzyUFE4LvsCMzM6OwSCl/Vl5MwCONg9eLXklygujZUjMCCCCQ/AL6koK03Ny03NwgO2y80dDEYoIg1aJfjJwg+sa0gAACCCSvQHhLCozfXWQxgXleHeQE5hkLIkEAAQQST8C4pMD4Th+4J/p3F1lMEBgqxmfJCWIMTnMIIIBAUgnY7XbDDx8EtaSAxQSmfQWQE5h2aAgMAQQQSAyBtPR0JdAglxQYFxM0Hj3KkwnMM8zkBOYZCyJBAAEEElLAePvA+H7fW2eMtxjOHj+enpnJkwl6s4rxcXKCGIPTHAIIIJBsAsacwPh+31s/9cUEbWfOdHV2DueRxr1Jxfw4OUHMyWkQAQQQSC4Bm80W/JICFhOYefDJCcw8OsSGAAIIJIaAcUmB/jAiv6Hrjy8UQjTJTyviCYZ+oeJykJwgLuw0igACCCSVgPH2gX5rwG8PjTcXzh4/npmdnZmd7bckB2MvQE4Qe3NaRAABBJJNwJgTGN/1ffupL0JUFhMwSeBLFMcj5ARxxKdpBBBAIEkEbNKaAvWf/q6vHXD/NX5ZkZ85cLuYZoucwDRDQSAIIIBAIgukpqUp4RtXEXp1yJgusJjAC8cMu+QEZhgFYkAAAQQSXsB4+6C3JQX6bYWe7m4WE5hwyMkJTDgohIQAAggknkBKSorL5VLi1t/7vbqhzxO0nDrV1dnJYgIvn7jvkhPEfQgIAAEEEEgSAbu2qEB/7zd2zGMxgfz7yJc4ncYCbMddgJwg7kNAAAgggECSCAReUmBMFJpOnuRnDkw46uQEJhwUQkIAAQQSUiAlJUWP23dJgX5Doae7u7mhYWBODk8m0LlMskFOYJKBIAwEEEAg4QUcDoe+pMD4vEKlY/qRllOnerq7+ZkDE443OYEJB4WQEEAAgUQV0JcUZJaU2FPVbycKITIKixyZmUqvzrKYwKzDS05g1pEhLgQQQCABBfQlBfbUtKzSUr0HxlsJLCbQWcy24b73Y7bIiAcBBOIrcOHChZ6eHq8YfI94FdB3p9xwQ1pWVkdHh37EZrMNGDBA32UjKQVSUlI6OzuVrg0cN651X5W2PV7ZUBYTDB42LDU9PSkFErpTzBMk9PARPAJRFEhNTe3u7u7y/Bd8e0Py820Oh/Hq1NTU4C+nZIIKGJcUGL9ooG8riwl4MoE5x5d5AnOOC1EhEH8Bu90uurqEwxGRULrOnz/b0iKEGJybywfEiJCatpIUh6NbnmFSlhT0XOw0LiZorKsTQvBkAnMOH/ME5hwXokLAFALdFy/WbNvW/1CO19R8/Nprn7755sHt20kI+u9p8hpStAkhfUmBcTHBmWPHeDKBaUeQeQLTDg2BIRB/gcHDhuU5nQ1ffpk3erQSTWdjY/XPHr/Y3OQ3uNqXXqh96QV7alrpTx7Vv4zecupUdWWlECIzO3vqP/6j3ws5mEwCxh8+UJYU6C+Grs7OtjNnWExg2uFmnsC0Q0NgCJhCYOSYMedbWtqbm5Vo0nJzRz/0cODIChYt1t8DOjs69vz3f/d0d9sdjllf/zqTBIHpkuOs75ICfTGBxCRgBQAAG3JJREFU8i1EFhOYdqDJCUw7NASGgFkExs+aVbtrV5d7Mfl457fv6i24S2bPyZvvngzYu2HD+bY2IcTUG24YmJPT21UcTzIBfaogs6Qkq6RUfzKB8vvILCYw7XCTE5h2aAgMAbMI2B2OK/7hHw5u3aoHlDf/H3NmzNR39Y2MwqJLv/Ndfffgli3K58LLpk4dUVysH2cj6QX075jYU9Oc/+TOIM+eOGF3OJgnMO0LgJzAtENDYAiYSCA9M/OyyZMPffaZHlPRkvsHjCjQd4UQjszMkkf+RX90XcOXX35VJX03Pa+oaEJFhbEk20kvoM8TCCGyStQnFymLCYaOGMEtJNO+AMgJTDs0BIaAuQRy8vOHDh9+qrZWCUteSPiv+pywEKLkkX9Jy81VzradOVO1cSPrCs01hDGMxrikQG+WxQQ6hWk3yAlMOzQEhoDpBArHjz935oznesMfKFGOXPxNfV1hV2fnrg8/ZF2h6cYvtgEZfyNRaZnFBLEdgXBaIycIR41rELCswMSrrqr94gt9vWF22eUjF39zyJVThy+4WTfZ/dFHrCvUNSy74ZsTKIsJhubnW9bE/B3n+QTmHyMiRMBEAtJ6w7lzd23YMO7qq5Wwhi+4ueei+nx7IQTrCk00WnENJSUl5cKFC3oInR0dbWfO5Dqd9gg9GVOvmY0ICjBPEEFMqkLAEgLpmZmlkycf+eILvbesK9Qp2NAF7Ha7y+XSd0/z+ELdwsQb5AQmHhxCQ8CsAjn5+ZkDByoPqdVjZF2hTsGGIqB/I1EI0XT8OD9zYP4XBjmB+ceICBEwo0BJeXlTfb2ybkAIYVxXOH3BAr5sZsYxi3lMxiUFLCaIOX84DZIThKPGNQggIIQou+aaLz//vKe7WwihryucMm/e4GHD8EFAemSFtnTgfFvb+ba2oSNGsJjA5C8M1hiafIAIDwHzCtgdjkmzZ+/99FNHaqry1fOS8vKRY8aYN2Iii62AsqTAZrOdPXGC30KMrX2YrTFPECYclyGAgPJIotGXX648rzDX6Zw0Zw4sCBgFlCUFLCYwmph5m5zAzKNDbAgkgEDuyJGT5szJzM6evmBBAoRLiLEVUJYUnD1xIjU9nZ85iK19OK1x7yAcNa5BAAGjQEl5+YjiYtYVGk3YVgQcDkdPV9f5tjZ+BCshXhLkBAkxTARpXYFueQWf+fufnpWVKKH2iamvjOuzJAX6FLDb7Ta5EL+P3KeVGQqQE5hhFIgBgV4Fzp8/39PT0+tpTkRaICUlJSMjI9K1Wrq+QUOGcOMgUV4B5ASJMlLEiQAC1hJwuVxJkw4Wl5cPHDrUDDNJNpvNbmchXa//U7IZnz3ZaylOIIBAnATOnTuXNG8McSIMrdmzbe1bDxy+/ZpZoV0WhdLd3d3t7e1RqNjSVaalpaWnp1uaIGDnmScIyMNJBEwjUNt6/s/V0tNh+RcNgR+UXTokXfrv4YWLF+tOnY5GE9SJgPkFyAnMP0ZEiIAk0N7VU3XmHBZRErho+LWeKDVBtWYQOH34i+5zTZdOvd4MwZgwBnICEw4KISGAAAIeAravttrOHvE4xE7wAmlZPePUh2dcaGvubJIeqsg/vwLkBH5ZOIgAAgiYSMBet81+aL2JAkqoUFxZw/ScIKECj0OwLL+MAzpNIoAAAgggYEIBcgITDgohIYAAAgggEAcBcoI4oNMkAggggAACJhQgJzDhoBASAggggAACcRAgJ4gDOk0igAACCCBgQgFyAhMOCiEhgAACCCAQBwFygjig0yQCCCCAAAImFCAnMOGgEBICCCCAAAJxECAniAM6TSKAAAIIIGBCAXICEw4KISGAAAIIIBAHAXKCOKDTJAIIIIAAAiYUICcw4aAQEgIIIIAAAnEQICeIAzpNIoAAAgggYEIBcgITDgohIYAAAgggEAcBcoI4oNMkAokhcHxF5bIV7RGMNeIVRjA2qoqKQOPDD1atiUrNVBoVAXKCqLBSKQLxFqg7sqxi9e3q/+3Z0b9wjq+ovH3JkeN+K5Ea6m/9fivu+2Acm+47uEQr0fjwg2sz/tIYMOz2Z3+99uG9AYuEeHLNX9ZmPLj12YYQL6N41ATICaJGS8UIxFlg0sTfVi5YWblg2cLa5b/s1391RyyuWPniqBFx7g/NR0/g0PrDe692zvykIYaf6aUs5N0rptwTvV5Rc+gCKaFfwhUIIJBQApNnF4k/th8XYsSmPbdvFPPeqV0nipZVTposxI5frl7+jtyZhdNWPponb7WvXrL+j3uEEDnzFgpRJB+TLsyTC+hnhVg4beW32pct2lstxPKKWmn30bxgK9QBpZoHfrdmr9yiGpXwE5jUbt13F9w/SwglGJ+m9SrZCFmg/f3PxG3/PErUf/Lu3gnzJ6rXH1q/ddIbTfKO853nRx389Sc/OSzEc2v/SzjfeT7v3Qcbbn5+wnwhREPt3D+Ll39cVNJQO/eJ6s3K1VdP6fhWbsBAcp99/nohGh8OWIiTMRYgJ4gxOM0hEHOBHRtrRek09VP+Oy3O1xesdEpBHF9RubJo7srKTOU9+IVN0jvu8RU7/ygm/rZy1AjR8ELFNrHUI1zpbOm0lS8q2YN0avnrYtmittvlDCOMCqUq3qkXUkjSu/7KFcWTF2f6qydzwf83cdmiPTsq87b+SCyrlAIwNu0RJTshCjScelMMfzkvs+QGZ8YXjc9OlN/LG2rvfWPgO89Pl9715X/zf3y1+PUn+2+4/lkpaWh8Vzvu/ptXtP55JYlsf/bXe55tyH3Y/UJxl2LLzALkBGYeHWJDoD8Ce/b+oEK++Ttp4m/1d/GFpQvkhEAIcaL2bPU7629/Wm1jbFG7mJV5ovbsvO9WyAlE3i1Lc571DEA6O7vX/86HUaFUvRpS5pSv5VTKzfmtRzhHPby08gcVtWOXzr3fMyr2+idwaO9JceWkEiHExLx7njv87HXye/mpc5uvztMTgiBbWPOXtQs/Ucvec0qIXl8rQdZHsVgLkBPEWpz2EIiVgJQK9LEIYN5v5Nn4YCNqr68RYnag0iFW2GtVfus5UXu21ws4EbZA4/95o2mz+CTjDbWGmXvbH87LPNTQFvJb+t6qhfVj9zxfVCLan/31J/vDjogL4yfAGsP42dMyAvEVyC/KWfdH728TGA42/P1pr/dg6aP8uo2eyxWdmYVaNwzXaoeEMBz0rdBdzLhluMRweNOe5TUTf1s5rfDpnavr5OOGpg3l2AxNYG/DfxWP3fP89R3K/z3k3PzZqUNClEwc7rPkMPOyAmPdbQfll8KaD7Q1BEKIgixpvqHh1JuHjSXZThgB5gkSZqgIFIEIC4xYXLGsdrV6f0EI5aP5iMXl3/1wvXywaNlvio4e9WhUOrtk/e0V8kF1WWLe9IXbtDWGIVfoUbu24y+whhd+1PLd1yeNEOKWpTU/+PcjU6QpEGPTzFJrfKH9XfNF3cwrr5beyJV/8u2D9xuKHs4revmOrZMeXCsfdr4jLyecf4VzobrGcML/uOPwpCfW/kSIex6ack/9OanYxFG/ev+TjAeFEM57rlbr6/2PNJcgLVoUQjyx9ifFY/f8uMgdRu+XcSaqAjaXyxXVBqgcAQT6I3Du3Lmenh4hxL6z7f++jQ9f/bEMdO0zc8YOG5AqrbI427x6685Hbr8pUOmYnOvu7m5vVx8Z5dj0nP3Q+pg0m4SNuLKGdX3jd0rHGvdv7mw6PnbePydhPyPRJe4dREKROhBAAAEEEEh8AXKCxB9DeoAAAggggEAkBMgJIqFIHQgggAACCCS+ADlB4o8hPUAAAQQQQCASAuQEkVCkDgQQQAABBBJfgJwg8ceQHiCAAAIIIBAJAXKCSChSBwIIIIAAAokvQE6Q+GNIDxDoj8DxFZXLVqjfgu9PPVybBAINtXN/XXsoCTpCF8IVICcIV47rEDC9QMMLFatvX+L99OIQwq47sqxiz44QLuij6PEVlYHiiXRzfUTD6ZAE2p/99dqH5d/UCumyXgs31M59cOuzng/KNhSOdHOGqtkMIEBOEACHUwgkrsCmPbdXNEz/jfLLtWbpxojFFSv7+lkms8RKHFEWkH5YeTo/phxl5ZCr5/cOQibjAgQSQWDWpJWVQmza00us7auXrP+jdDJn3kIh5Mzh+IrKH2g/eiT99sGlR5Yt2lsthPJbBr8tqvE4O8tQ8aY9t28c+N2avXKFRcsqJ02WT+745erl7yjFtINSybyVj+YJ30vqPJqTyvAvRgKH1m+d9EaTEGLm1U4hsqRWG2rnPqH9stHVUzq+lan+NoHyYwdPZP0vj7O5hkAbH36wYdwdbT+RK7znoeufnSif3FuV8Zzyy1VCOyiVvFn6GQXfS7SfQtB+WyHUn2w2xMNmaALkBKF5URqBZBA4vmLnH8XE31aOGiEaXqjYJpZKnZI+xC+We1d3ZNm/Hzn+4qjlr4tli9puV9/j8zzOzvL8FeZ36sXrC1Y6hZRY/LJh5aN5x1dUyj9jKBXTD3rYqZdI2cnKFcWTF3s151GWnegJNNTe+4b41RPXP5wn1vxl7UIxVmpK+hCvzDG1P/vrPc82TH/4x1eLX3+y/wb1PX6+x9lcz4/7dW+Kqzuez5QTi6o1z0+Y31A797k2pQn3QY8eqZdI2cn7tf9jYpFXcx5l2YmmADlBNHWpGwFzCpyoPTvvuxUjpODyblma86wapZQfrFO3i04IIRfQexDw7MLSBU6p5IirCsZ+2H5cCEMT8sGnG3Y8mqfMH6g1qpdIv79cqTfCRswFTp3bfHXxenlaZv51Y2f+WQ1Ayg8+UbfvOSWE57xNwLPO/zk3U7oyb9htxScPNoj5hibkg9Xv7p0wX5k/UFtQL5F+oPkz9RB/4iLAeoK4sNMoAuYT2PHLbUeXzl1ZuWDl6xPlz4oeIQY+61FU2mmvr/E5xoHEEdhbtbB+7J7nr+94/upfFfuEHfisT/FDDW0+xzhgUgFyApMODGEhEEWB/KKcdX9Uvo/Q8HdtDYEQorBQ+nx3/NP6aqVxZ2ahIQrvs4ZT4p2a1fLd4h1/2VtdmjlCSJ/+tSaEdHCh5ySB8Vp927M5/TAbURUYljXzk8PK+v81H2hrCIQQBVkl0sKCU2+qP9CdeVmBIQ7vs4ZTou5/rZe/3Lr3yE8OD7wsT0if/rUmhHTQebPHJIHxWn3bszn9MBtRFuDeQZSBqR6B+AhoS/aEED+o2Dt26dzli+X5XDmaEYvLv/vh+h9U7BWiaNlvio4elY5O/tbElYtW3y6EWFg0Tw06b/rCbcoaw5V+zhp6trBA/Pvq26VFi0XLKqVp5hGLK5bVrpabEGLSxN++6Dn3bLjUsGlojjWGBpeobuYVvXzHyUlPrP2JEPc8NOWe+nNSaxNH/er9TzIeFEI477labX7+Fc6F6qI/P2cNMTpvE3syHpQWLd7z0PXS8sC8ovUPncuQmxBiyK+emB7MmkFDcxOCKW8IgM3wBWwulyv8q7kSAQSiLHDu3Lmenh4hxL6z7f++Tf3IFuU2Q61e/zZBqBeaqPwzc8YOG5AqhDhxtnn11p2P3H5T3IPr7u5ub1efJuXY9Jz90Pq4hxREAPq3CYIoG6sirqxhXd/4ndJa4/7NnU3Hx87751g1nmDtcO8gwQaMcBFAAAEEEIiSAPcOogRLtQhYR2DWpJXGxxVYp+P01Fcg99nnjY8r8C3AEVMLME9g6uEhOAQQQAABBGImQE4QM2oaQgABBBBAwNQC5ASmHh6CQwABBBBAIGYC5AQxo6YhBBBAAAEETC1ATmDq4SE4BBBAAAEEYiZAThAzahpCAAEEEEDA1ALkBKYeHoJDAAEEEEAgZgLkBDGjpiEEEEAAAQRMLUBOYOrhITgEEEAAAQRiJkBOEDNqGkIAAQQQQMDUAuQEph4egkMAAQQQQCBmAuQEMaOmIQQQQAABBEwtQE5g6uEhOAQQQAABBGImQE4QM2oaQgABBBBAwNQC5ASmHh6CQwABBBBAIGYC5AQxo6YhBBBAAAEETC1ATmDq4SE4BBBAAAEEYiZAThAzahpCAAEEEEDA1AIppo6O4BBAQBPITLFPGJql7fE3wgKpNluEa6Q6BBJQgJwgAQeNkC0pUDRowGNTR1uy63QaAQRiJEBOECNomkEAAQTCFxg80jV8YviXW/tK14Ah1gYIoffkBCFgURQBBBCIi0D3hIViwsK4NE2jlhIgJ7DUcNPZxBMYMGDA9upDR040JF7oiRnxhYsXEzNwokYgAgLkBBFApAoEoifgcDia2zuOn2mKXhPUjAACCCgC5AS8EhAwu8DQQVnOYZeYPUrii7SAzWZLS0ur3/VxpCu2dH0dp+scDoelCQJ2npwgIA8nETCBwNSxpVPHlpogEEKIqYDdbk9PTz9dvTmmrVqgsUHDiyzQyzC7SE4QJhyXIYAAAjEQ4A0s4siZOfkRrzNpKrS5XK6k6QwdQQABBBBAAIGwBXi2cdh0XIgAAggggEBSCZATJNVw0hkEEEAAAQTCFiAnCJuOCxFAAAEEEEgqAXKCpBpOOoMAAggggEDYAuQEYdNxIQIIIIAAAkklwHcRk2o4k74zkydP3rlzZ9J3kw4igAACvQmUl5fv2LGjt7P9PM53EfsJyOUxFbDZeMXGFJzGEEDAbAJR/c8g9w7MNtzEgwACCCCAQHwEyAni406rCCCAAAIImE2AnMBsI0I8CCCAAAIIxEeAnCA+7rSKAAIIIICA2QTICcw2IsSDAAIIIIBAfATICeLjTqsIIIAAAgiYTYCcwGwjQjwIIIAAAgjER4CcID7utIpAXAXev992//txjSCajYfXu/Cu6q0fka2tt1Z8jtc8fdVVT9f4HOYAAkEKkBMECUWxBBCoefoqwzvd+/fbbIb/PL5/v3EvAXoT8RA9eSJevVRhDJqIbNyRDTiytfWvp1Ishpe/R2WGOAMV87jGz05/rvVTXT8PGTrVz5r6vjyWbfUdTWRL8GzjyHpSWzwFShcsqnj9QI24oVR6ezqwR4jKqoNCSHvi/XderFh0UN6MZ4i0jUBsBEqXfupa2ndTQRbzW1F/rvVbIQdNIMA8gQkGgRAiJVA6ZlLl66vlmdOa1a+Lp55a8uI7ygx5zYE9FYsWqCmBNIOg/PMzfy59BDCeNexrkxDStPDTWjHfKgxXaCfdLWp1CGMlVz1do12kfrQzntUu0YpI0akVS8Xul3vjPmAM3g1b8/RVlz1SKV680X3xAd8uuOPUIpc/+itVhtyEuzYtXo94PAN1F9abFhKSZym9AsMcuVRIvcZwNIjehW3iwy6FFXZtep/8Dbr8OulziPWXxlW/qtKqk2pTX/zaQMtOXnG6ixm0tSs9XqX6Qa0F+azchN6+dxn3Cf2Me0yNh4wvYx9e9yXu14ZnzV6d0iM0voR6a04v7Nfft4be29JrSugNF/8QSBwBIUTgYN9bIiqeOuhyud5bUvHUwYNPVYgl77lcroNPVSiHPTZd7y1RTrvr1K9wH9K39EreWyLUVqTiWsVqOd8ajIXcZz0rEXqcyob7rBS7nyi1XmqRSK3rAcr9977IoyJ3/e7o/F7uReS3jC5kbMJdrxyYVzTBVBu4LX2kDz61pEIdXY0q6N4ZA5ZeDT7D6j8Gd0l319UB0PvpLuOW8F+bXof7EkNchoO9DbG7AUMf9Be3hqI34zke2kgYKvHbuvG8VpV2rfZXO6799W3aWIv7rGcfjZ0I1GX5f9laU56d0o4G1ZxW2NCu+zr3lrEFd+j6xbHc6PM/g/0JhnmChM7oCN5b4IaFS+T7Be+/8+KkMaXSzYQ9B2pEzerXKyeNUWYJDlZVVj5ymfLp88YXhXTa8O9gVeWShTcYDki3HdQPq5c9UinXLZ1d8m9LpeqkBjwLC98apCNKceUCbe5Cr2TMJFHx1E+kVrWADU0YjwWIRLoicNe84tRb17vg9/LLJlS8eKP+CSuEJnrttRxHMNX6jUfvhTbS0oTQv/3bJHl6yGDvM0CBa1OrDf4qfUT1gHw3gq9Nv1ar1vhC0EZKKuS3FwbqG37yVN8vSL0144ahEvkl5/Mq1V8nxquUba/R1AsYxkM91lcr2qWaQ6Aue//vVLvW8DfY5vRL/A2ZHos0KDqLfkmybZATJNuIWr0/NyyU7he8/86L8lt76YJF4vXVNV7/bTJ+wPhUfm/X1ORFCNqO8vf9+2/cI888yJ+ePM/52fOtwfeIn8uCORRMJL13LZgW9A+50ucMRUa6Z+xyLXzHfcshuCb66HWQ1QZqSxlpcbBq0sIbblg4qeqgtGbEJ6EzdjtQbcZyntvhXeVZh3uv/7WFWEMfA6FFFmQxrbjnX9/RlM/71ul7xLOiXvZ8uhxkPUEW66VV6XD/awhQuTlPkROYc1yIKmwB6TPLL36xp2LCZVIV8gqDu39heK+Qz/f2bS3/nwSUKQZpsqHvqHxrkI/8Qm3x/V894jsR4b/WF9VrpEu0SY7AkQTsmmzhvyX1aIDLb3jh4FPyjEuAMlItpWMmqZUF1evA1fbRlpCTgvvf2SON9GUT9rzz9IE9AVIC/7W5A/ZP4/8q/2WN3fdfou/a/A26sS6/NRgOSi8WY3mvmSn1lJ9eBzVenjV77+mjqZ2IzP8WDL3TKvacyFCPRqVTvbD4aUuPLeE3+nPjgWsRiLFAMDfSpHt9hpv80r1Kj8+/0loD9/9ujR9B5M7IlyvnlXP6gSVL1OUHhtunxjvEmoV+gbtdd4v66gNDJfqtcfmWpVxCOvuUNg2sxahX7C8SpXV3Q+7Gtbj0ji95T7/Z7Hu/VqeRW9WbdFcXbBN6c8I4HEowwVYbuC3DDWBlEkeDMtgaB8hvberBEEzkjmlNuXHlrXBq06vwO+iGvigF/fVC91zynryQRirpvlA/6zOInr121+zvVWqUVENWm/BTv9YnP6cCt+IZubsdz5el8rLVjmlj4cbXmlcY1HL+OmUoaBSTXk7G4t416K9tBdDrvy8elUZjJ5j/DIbdrs3lcmmy/EXA7AI2m0Vese/fb3tnoesFr5UNZh8e4uuXAIPeLz7rXBzV/wxy78A6LyR6igACCCCAQCABi3zqCkTAuQQSiGqCnEAOhIoAApYViOp/BpknsOzrio4jgAACCCDgIUBO4MHBDgIIIIAAApYVICew7NDTcQQQQAABBDwEyAk8ONhBAAEEEEDAsgLkBJYdejqOAAIIIICAhwA5gQcHOwgggAACCFhWgJzAskNPxxFAAAEEEPAQICfw4GAHAQQQQAABywqkWLbndDwRBYYMGWKz2RIxcmJGAAEEIiIwZMiQiNTjtxKeY+iXhYMIIIAAAghYToB7B5YbcjqMAAIIIICAXwFyAr8sHEQAAQQQQMByAuQElhtyOowAAggggIBfAXICvywcRAABBBBAwHIC/z8H1F1tiEXzsgAAAABJRU5ErkJggg==)"
      ]
    },
    {
      "cell_type": "code",
      "execution_count": 149,
      "metadata": {
        "id": "33NApAm9xLvv"
      },
      "outputs": [],
      "source": [
        "#predict the entire test range.\n",
        "\n",
        "test_predictions = []\n",
        "\n",
        "first_evaluation_batch = scaled_train[-length: ]     #2D shape\n",
        "\n",
        "# predict 1 sample data point, using a input sequences of 50 data points, with 1 feature.\n",
        "current_batch = first_evaluation_batch.reshape(1, length, n_features)      #3D shape"
      ]
    },
    {
      "cell_type": "code",
      "execution_count": 147,
      "metadata": {
        "colab": {
          "base_uri": "https://localhost:8080/"
        },
        "id": "dNqNVv3jxLvw",
        "outputId": "99ff9bdf-ab4f-44ba-ab52-7fa86c360687"
      },
      "outputs": [
        {
          "output_type": "execute_result",
          "data": {
            "text/plain": [
              "array([[8.37405820e-01],\n",
              "       [7.98881698e-01],\n",
              "       [7.57371240e-01],\n",
              "       [7.13289205e-01],\n",
              "       [6.67076045e-01],\n",
              "       [6.19193508e-01],\n",
              "       [5.70120021e-01],\n",
              "       [5.20345908e-01],\n",
              "       [4.70368497e-01],\n",
              "       [4.20687145e-01],\n",
              "       [3.71798252e-01],\n",
              "       [3.24190300e-01],\n",
              "       [2.78338972e-01],\n",
              "       [2.34702398e-01],\n",
              "       [1.93716581e-01],\n",
              "       [1.55791039e-01],\n",
              "       [1.21304709e-01],\n",
              "       [9.06021693e-02],\n",
              "       [6.39901882e-02],\n",
              "       [4.17346643e-02],\n",
              "       [2.40579672e-02],\n",
              "       [1.11367167e-02],\n",
              "       [3.10001778e-03],\n",
              "       [2.81703720e-05],\n",
              "       [1.95186738e-03],\n",
              "       [8.85188786e-03],\n",
              "       [2.06592891e-02],\n",
              "       [3.72560954e-02],\n",
              "       [5.84764771e-02],\n",
              "       [8.41084070e-02],\n",
              "       [1.13895779e-01],\n",
              "       [1.47540969e-01],\n",
              "       [1.84707803e-01],\n",
              "       [2.25024924e-01],\n",
              "       [2.68089497e-01],\n",
              "       [3.13471233e-01],\n",
              "       [3.60716695e-01],\n",
              "       [4.09353821e-01],\n",
              "       [4.58896644e-01],\n",
              "       [5.08850150e-01],\n",
              "       [5.58715219e-01],\n",
              "       [6.07993616e-01],\n",
              "       [6.56192968e-01],\n",
              "       [7.02831682e-01],\n",
              "       [7.47443761e-01],\n",
              "       [7.89583454e-01],\n",
              "       [8.28829716e-01],\n",
              "       [8.64790412e-01],\n",
              "       [8.97106234e-01],\n",
              "       [9.25454293e-01]])"
            ]
          },
          "metadata": {},
          "execution_count": 147
        }
      ],
      "source": [
        "first_evaluation_batch"
      ]
    },
    {
      "cell_type": "code",
      "execution_count": 148,
      "metadata": {
        "colab": {
          "base_uri": "https://localhost:8080/"
        },
        "id": "2TUK9n5OxLvw",
        "outputId": "d795723e-0b6d-44c4-eeef-0262c905d3de"
      },
      "outputs": [
        {
          "output_type": "execute_result",
          "data": {
            "text/plain": [
              "array([[[8.37405820e-01],\n",
              "        [7.98881698e-01],\n",
              "        [7.57371240e-01],\n",
              "        [7.13289205e-01],\n",
              "        [6.67076045e-01],\n",
              "        [6.19193508e-01],\n",
              "        [5.70120021e-01],\n",
              "        [5.20345908e-01],\n",
              "        [4.70368497e-01],\n",
              "        [4.20687145e-01],\n",
              "        [3.71798252e-01],\n",
              "        [3.24190300e-01],\n",
              "        [2.78338972e-01],\n",
              "        [2.34702398e-01],\n",
              "        [1.93716581e-01],\n",
              "        [1.55791039e-01],\n",
              "        [1.21304709e-01],\n",
              "        [9.06021693e-02],\n",
              "        [6.39901882e-02],\n",
              "        [4.17346643e-02],\n",
              "        [2.40579672e-02],\n",
              "        [1.11367167e-02],\n",
              "        [3.10001778e-03],\n",
              "        [2.81703720e-05],\n",
              "        [1.95186738e-03],\n",
              "        [8.85188786e-03],\n",
              "        [2.06592891e-02],\n",
              "        [3.72560954e-02],\n",
              "        [5.84764771e-02],\n",
              "        [8.41084070e-02],\n",
              "        [1.13895779e-01],\n",
              "        [1.47540969e-01],\n",
              "        [1.84707803e-01],\n",
              "        [2.25024924e-01],\n",
              "        [2.68089497e-01],\n",
              "        [3.13471233e-01],\n",
              "        [3.60716695e-01],\n",
              "        [4.09353821e-01],\n",
              "        [4.58896644e-01],\n",
              "        [5.08850150e-01],\n",
              "        [5.58715219e-01],\n",
              "        [6.07993616e-01],\n",
              "        [6.56192968e-01],\n",
              "        [7.02831682e-01],\n",
              "        [7.47443761e-01],\n",
              "        [7.89583454e-01],\n",
              "        [8.28829716e-01],\n",
              "        [8.64790412e-01],\n",
              "        [8.97106234e-01],\n",
              "        [9.25454293e-01]]])"
            ]
          },
          "metadata": {},
          "execution_count": 148
        }
      ],
      "source": [
        "current_batch"
      ]
    },
    {
      "cell_type": "markdown",
      "metadata": {
        "id": "g23jZAddxLvw"
      },
      "source": [
        " So basically, we need to loop the process of \n",
        "+  removing first data point, \n",
        "+  appending new data point to the end to `current_batch`."
      ]
    },
    {
      "cell_type": "code",
      "execution_count": null,
      "metadata": {
        "id": "CTsjaV9QxLvx",
        "outputId": "013e7ead-a4c5-4cab-e9ce-118957464975"
      },
      "outputs": [
        {
          "data": {
            "text/plain": [
              "array([0.83740582])"
            ]
          },
          "execution_count": 134,
          "metadata": {},
          "output_type": "execute_result"
        }
      ],
      "source": [
        "current_batch[0][0]"
      ]
    },
    {
      "cell_type": "markdown",
      "metadata": {
        "id": "_P4QPIttxLvx"
      },
      "source": [
        "+  get everythings from first dimension\n",
        "+  in second dimension , skip the item at zero index (skipping the first data point as we are now sliding or stepping one step at a time) and get the data till the end. \n",
        "+  get everything from third dimension"
      ]
    },
    {
      "cell_type": "code",
      "execution_count": null,
      "metadata": {
        "id": "QDl9Lkh3xLvx",
        "outputId": "33f23771-89ee-4bab-b180-de589269d735"
      },
      "outputs": [
        {
          "data": {
            "text/plain": [
              "array([[[7.98881698e-01],\n",
              "        [7.57371240e-01],\n",
              "        [7.13289205e-01],\n",
              "        [6.67076045e-01],\n",
              "        [6.19193508e-01],\n",
              "        [5.70120021e-01],\n",
              "        [5.20345908e-01],\n",
              "        [4.70368497e-01],\n",
              "        [4.20687145e-01],\n",
              "        [3.71798252e-01],\n",
              "        [3.24190300e-01],\n",
              "        [2.78338972e-01],\n",
              "        [2.34702398e-01],\n",
              "        [1.93716581e-01],\n",
              "        [1.55791039e-01],\n",
              "        [1.21304709e-01],\n",
              "        [9.06021693e-02],\n",
              "        [6.39901882e-02],\n",
              "        [4.17346643e-02],\n",
              "        [2.40579672e-02],\n",
              "        [1.11367167e-02],\n",
              "        [3.10001778e-03],\n",
              "        [2.81703720e-05],\n",
              "        [1.95186738e-03],\n",
              "        [8.85188786e-03],\n",
              "        [2.06592891e-02],\n",
              "        [3.72560954e-02],\n",
              "        [5.84764771e-02],\n",
              "        [8.41084070e-02],\n",
              "        [1.13895779e-01],\n",
              "        [1.47540969e-01],\n",
              "        [1.84707803e-01],\n",
              "        [2.25024924e-01],\n",
              "        [2.68089497e-01],\n",
              "        [3.13471233e-01],\n",
              "        [3.60716695e-01],\n",
              "        [4.09353821e-01],\n",
              "        [4.58896644e-01],\n",
              "        [5.08850150e-01],\n",
              "        [5.58715219e-01],\n",
              "        [6.07993616e-01],\n",
              "        [6.56192968e-01],\n",
              "        [7.02831682e-01],\n",
              "        [7.47443761e-01],\n",
              "        [7.89583454e-01],\n",
              "        [8.28829716e-01],\n",
              "        [8.64790412e-01],\n",
              "        [8.97106234e-01],\n",
              "        [9.25454293e-01]]])"
            ]
          },
          "execution_count": 135,
          "metadata": {},
          "output_type": "execute_result"
        }
      ],
      "source": [
        "current_batch[:, 1:, :]"
      ]
    },
    {
      "cell_type": "markdown",
      "metadata": {
        "id": "xGESDpzrxLvy"
      },
      "source": [
        "### Dropping and Appending\n",
        "\n",
        "+ if we compare the demo of current_batch first data point with first data point of first_evaluation_batch,\n",
        "`first_evaluation_batch`: 8.37405820e-01\n",
        "`current_batch`: 7.98881698e-01\n",
        "+ we see that first data point of `current batch` has been shifted to next one and newly predicted value 99 is added to the end."
      ]
    },
    {
      "cell_type": "code",
      "execution_count": 150,
      "metadata": {
        "colab": {
          "base_uri": "https://localhost:8080/"
        },
        "id": "NaNNln9NxLvy",
        "outputId": "03ac0967-ffe9-4c73-83b9-7d12f7479350"
      },
      "outputs": [
        {
          "output_type": "execute_result",
          "data": {
            "text/plain": [
              "[[[99]]]"
            ]
          },
          "metadata": {},
          "execution_count": 150
        }
      ],
      "source": [
        "predicted_value = [[[99]]] # let say we predicted value of 99\n",
        "predicted_value"
      ]
    },
    {
      "cell_type": "code",
      "execution_count": null,
      "metadata": {
        "id": "iEn3yz4PxLvz",
        "outputId": "a64163f5-bba0-4efc-9827-17d1a1a17b26"
      },
      "outputs": [
        {
          "data": {
            "text/plain": [
              "array([[[7.98881698e-01],\n",
              "        [7.57371240e-01],\n",
              "        [7.13289205e-01],\n",
              "        [6.67076045e-01],\n",
              "        [6.19193508e-01],\n",
              "        [5.70120021e-01],\n",
              "        [5.20345908e-01],\n",
              "        [4.70368497e-01],\n",
              "        [4.20687145e-01],\n",
              "        [3.71798252e-01],\n",
              "        [3.24190300e-01],\n",
              "        [2.78338972e-01],\n",
              "        [2.34702398e-01],\n",
              "        [1.93716581e-01],\n",
              "        [1.55791039e-01],\n",
              "        [1.21304709e-01],\n",
              "        [9.06021693e-02],\n",
              "        [6.39901882e-02],\n",
              "        [4.17346643e-02],\n",
              "        [2.40579672e-02],\n",
              "        [1.11367167e-02],\n",
              "        [3.10001778e-03],\n",
              "        [2.81703720e-05],\n",
              "        [1.95186738e-03],\n",
              "        [8.85188786e-03],\n",
              "        [2.06592891e-02],\n",
              "        [3.72560954e-02],\n",
              "        [5.84764771e-02],\n",
              "        [8.41084070e-02],\n",
              "        [1.13895779e-01],\n",
              "        [1.47540969e-01],\n",
              "        [1.84707803e-01],\n",
              "        [2.25024924e-01],\n",
              "        [2.68089497e-01],\n",
              "        [3.13471233e-01],\n",
              "        [3.60716695e-01],\n",
              "        [4.09353821e-01],\n",
              "        [4.58896644e-01],\n",
              "        [5.08850150e-01],\n",
              "        [5.58715219e-01],\n",
              "        [6.07993616e-01],\n",
              "        [6.56192968e-01],\n",
              "        [7.02831682e-01],\n",
              "        [7.47443761e-01],\n",
              "        [7.89583454e-01],\n",
              "        [8.28829716e-01],\n",
              "        [8.64790412e-01],\n",
              "        [8.97106234e-01],\n",
              "        [9.25454293e-01],\n",
              "        [9.90000000e+01]]])"
            ]
          },
          "execution_count": 137,
          "metadata": {},
          "output_type": "execute_result"
        }
      ],
      "source": [
        "np.append(current_batch[:, 1:, :], predicted_value, axis=1)"
      ]
    },
    {
      "cell_type": "code",
      "execution_count": null,
      "metadata": {
        "id": "1N_0c56dxLvz",
        "outputId": "447dc932-723f-48df-e8fb-6c419b191e9b"
      },
      "outputs": [
        {
          "data": {
            "text/plain": [
              "array([[8.37405820e-01],\n",
              "       [7.98881698e-01],\n",
              "       [7.57371240e-01],\n",
              "       [7.13289205e-01],\n",
              "       [6.67076045e-01],\n",
              "       [6.19193508e-01],\n",
              "       [5.70120021e-01],\n",
              "       [5.20345908e-01],\n",
              "       [4.70368497e-01],\n",
              "       [4.20687145e-01],\n",
              "       [3.71798252e-01],\n",
              "       [3.24190300e-01],\n",
              "       [2.78338972e-01],\n",
              "       [2.34702398e-01],\n",
              "       [1.93716581e-01],\n",
              "       [1.55791039e-01],\n",
              "       [1.21304709e-01],\n",
              "       [9.06021693e-02],\n",
              "       [6.39901882e-02],\n",
              "       [4.17346643e-02],\n",
              "       [2.40579672e-02],\n",
              "       [1.11367167e-02],\n",
              "       [3.10001778e-03],\n",
              "       [2.81703720e-05],\n",
              "       [1.95186738e-03],\n",
              "       [8.85188786e-03],\n",
              "       [2.06592891e-02],\n",
              "       [3.72560954e-02],\n",
              "       [5.84764771e-02],\n",
              "       [8.41084070e-02],\n",
              "       [1.13895779e-01],\n",
              "       [1.47540969e-01],\n",
              "       [1.84707803e-01],\n",
              "       [2.25024924e-01],\n",
              "       [2.68089497e-01],\n",
              "       [3.13471233e-01],\n",
              "       [3.60716695e-01],\n",
              "       [4.09353821e-01],\n",
              "       [4.58896644e-01],\n",
              "       [5.08850150e-01],\n",
              "       [5.58715219e-01],\n",
              "       [6.07993616e-01],\n",
              "       [6.56192968e-01],\n",
              "       [7.02831682e-01],\n",
              "       [7.47443761e-01],\n",
              "       [7.89583454e-01],\n",
              "       [8.28829716e-01],\n",
              "       [8.64790412e-01],\n",
              "       [8.97106234e-01],\n",
              "       [9.25454293e-01]])"
            ]
          },
          "execution_count": 138,
          "metadata": {},
          "output_type": "execute_result"
        }
      ],
      "source": [
        "first_evaluation_batch"
      ]
    },
    {
      "cell_type": "markdown",
      "metadata": {
        "id": "a3d5V1u7xLv0"
      },
      "source": [
        "### Acutal loop for the process"
      ]
    },
    {
      "cell_type": "code",
      "execution_count": 151,
      "metadata": {
        "id": "WCJt07M_xLv0"
      },
      "outputs": [],
      "source": [
        "test_predictions = [] # for predictions\n",
        "\n",
        "first_evaluation_batch = scaled_train[-length: ]\n",
        "\n",
        "# predict 1 sample data point, using a input sequences of 50 data points, with 1 feature.\n",
        "current_batch = first_evaluation_batch.reshape((1, length, n_features))\n",
        "\n",
        "for i in range(len(test)):\n",
        "    current_prediction = model.predict(current_batch)[0] \n",
        "   \n",
        "    test_predictions.append(current_prediction)\n",
        "    \n",
        "     # drop first data point, append newly predicted value at the end and reasign back\n",
        "    current_batch = np.append(current_batch[:, 1:, :], [[current_prediction]], axis=1)"
      ]
    },
    {
      "cell_type": "markdown",
      "metadata": {
        "id": "JZSqIbOBxLv0"
      },
      "source": [
        "### This is predictions"
      ]
    },
    {
      "cell_type": "code",
      "execution_count": 152,
      "metadata": {
        "colab": {
          "base_uri": "https://localhost:8080/"
        },
        "id": "TzqAnoKVxLv1",
        "outputId": "e3966026-b415-43e3-97ab-c1fd4ac196e2"
      },
      "outputs": [
        {
          "output_type": "execute_result",
          "data": {
            "text/plain": [
              "[array([0.9384902], dtype=float32),\n",
              " array([0.95978695], dtype=float32),\n",
              " array([0.9689485], dtype=float32),\n",
              " array([0.98011845], dtype=float32),\n",
              " array([0.981145], dtype=float32)]"
            ]
          },
          "metadata": {},
          "execution_count": 152
        }
      ],
      "source": [
        "test_predictions[:5]"
      ]
    },
    {
      "cell_type": "code",
      "execution_count": 153,
      "metadata": {
        "colab": {
          "base_uri": "https://localhost:8080/"
        },
        "id": "1MtswCA-xLv1",
        "outputId": "bf5ec1a3-d60a-454a-b60c-96797f27dfbe"
      },
      "outputs": [
        {
          "output_type": "execute_result",
          "data": {
            "text/plain": [
              "array([[0.94955134],\n",
              "       [0.96915662],\n",
              "       [0.98407422],\n",
              "       [0.99415511],\n",
              "       [0.99929856]])"
            ]
          },
          "metadata": {},
          "execution_count": 153
        }
      ],
      "source": [
        "scaled_test[:5]"
      ]
    },
    {
      "cell_type": "markdown",
      "metadata": {
        "id": "jeXeqzgAxLv2"
      },
      "source": [
        "# Inverse Transformations and Compare\n",
        "\n",
        "As our predictions was in scaled version, we need to transform it to original form."
      ]
    },
    {
      "cell_type": "code",
      "execution_count": 154,
      "metadata": {
        "id": "Isw0rB_sxLv2"
      },
      "outputs": [],
      "source": [
        "true_predictions = scaler.inverse_transform(test_predictions)"
      ]
    },
    {
      "cell_type": "code",
      "execution_count": 155,
      "metadata": {
        "colab": {
          "base_uri": "https://localhost:8080/"
        },
        "id": "NBh-s9JbxLv3",
        "outputId": "7ec402bc-ccd6-4dc1-d50c-e6cae3931db1"
      },
      "outputs": [
        {
          "output_type": "execute_result",
          "data": {
            "text/plain": [
              "array([[0.87697515],\n",
              "       [0.91956829],\n",
              "       [0.93789121],\n",
              "       [0.96023097],\n",
              "       [0.96228409]])"
            ]
          },
          "metadata": {},
          "execution_count": 155
        }
      ],
      "source": [
        "true_predictions[:5]"
      ]
    },
    {
      "cell_type": "code",
      "execution_count": 156,
      "metadata": {
        "colab": {
          "base_uri": "https://localhost:8080/",
          "height": 206
        },
        "id": "CflPQq7hxLv3",
        "outputId": "0fc0ecee-80d2-45ee-871d-7cfd7d34d8fd"
      },
      "outputs": [
        {
          "output_type": "execute_result",
          "data": {
            "text/plain": [
              "          Sine\n",
              "45.1  0.899097\n",
              "45.2  0.938307\n",
              "45.3  0.968142\n",
              "45.4  0.988304\n",
              "45.5  0.998591"
            ],
            "text/html": [
              "\n",
              "  <div id=\"df-4f901d4a-06ca-4b29-83c4-61eb67f5067e\">\n",
              "    <div class=\"colab-df-container\">\n",
              "      <div>\n",
              "<style scoped>\n",
              "    .dataframe tbody tr th:only-of-type {\n",
              "        vertical-align: middle;\n",
              "    }\n",
              "\n",
              "    .dataframe tbody tr th {\n",
              "        vertical-align: top;\n",
              "    }\n",
              "\n",
              "    .dataframe thead th {\n",
              "        text-align: right;\n",
              "    }\n",
              "</style>\n",
              "<table border=\"1\" class=\"dataframe\">\n",
              "  <thead>\n",
              "    <tr style=\"text-align: right;\">\n",
              "      <th></th>\n",
              "      <th>Sine</th>\n",
              "    </tr>\n",
              "  </thead>\n",
              "  <tbody>\n",
              "    <tr>\n",
              "      <th>45.1</th>\n",
              "      <td>0.899097</td>\n",
              "    </tr>\n",
              "    <tr>\n",
              "      <th>45.2</th>\n",
              "      <td>0.938307</td>\n",
              "    </tr>\n",
              "    <tr>\n",
              "      <th>45.3</th>\n",
              "      <td>0.968142</td>\n",
              "    </tr>\n",
              "    <tr>\n",
              "      <th>45.4</th>\n",
              "      <td>0.988304</td>\n",
              "    </tr>\n",
              "    <tr>\n",
              "      <th>45.5</th>\n",
              "      <td>0.998591</td>\n",
              "    </tr>\n",
              "  </tbody>\n",
              "</table>\n",
              "</div>\n",
              "      <button class=\"colab-df-convert\" onclick=\"convertToInteractive('df-4f901d4a-06ca-4b29-83c4-61eb67f5067e')\"\n",
              "              title=\"Convert this dataframe to an interactive table.\"\n",
              "              style=\"display:none;\">\n",
              "        \n",
              "  <svg xmlns=\"http://www.w3.org/2000/svg\" height=\"24px\"viewBox=\"0 0 24 24\"\n",
              "       width=\"24px\">\n",
              "    <path d=\"M0 0h24v24H0V0z\" fill=\"none\"/>\n",
              "    <path d=\"M18.56 5.44l.94 2.06.94-2.06 2.06-.94-2.06-.94-.94-2.06-.94 2.06-2.06.94zm-11 1L8.5 8.5l.94-2.06 2.06-.94-2.06-.94L8.5 2.5l-.94 2.06-2.06.94zm10 10l.94 2.06.94-2.06 2.06-.94-2.06-.94-.94-2.06-.94 2.06-2.06.94z\"/><path d=\"M17.41 7.96l-1.37-1.37c-.4-.4-.92-.59-1.43-.59-.52 0-1.04.2-1.43.59L10.3 9.45l-7.72 7.72c-.78.78-.78 2.05 0 2.83L4 21.41c.39.39.9.59 1.41.59.51 0 1.02-.2 1.41-.59l7.78-7.78 2.81-2.81c.8-.78.8-2.07 0-2.86zM5.41 20L4 18.59l7.72-7.72 1.47 1.35L5.41 20z\"/>\n",
              "  </svg>\n",
              "      </button>\n",
              "      \n",
              "  <style>\n",
              "    .colab-df-container {\n",
              "      display:flex;\n",
              "      flex-wrap:wrap;\n",
              "      gap: 12px;\n",
              "    }\n",
              "\n",
              "    .colab-df-convert {\n",
              "      background-color: #E8F0FE;\n",
              "      border: none;\n",
              "      border-radius: 50%;\n",
              "      cursor: pointer;\n",
              "      display: none;\n",
              "      fill: #1967D2;\n",
              "      height: 32px;\n",
              "      padding: 0 0 0 0;\n",
              "      width: 32px;\n",
              "    }\n",
              "\n",
              "    .colab-df-convert:hover {\n",
              "      background-color: #E2EBFA;\n",
              "      box-shadow: 0px 1px 2px rgba(60, 64, 67, 0.3), 0px 1px 3px 1px rgba(60, 64, 67, 0.15);\n",
              "      fill: #174EA6;\n",
              "    }\n",
              "\n",
              "    [theme=dark] .colab-df-convert {\n",
              "      background-color: #3B4455;\n",
              "      fill: #D2E3FC;\n",
              "    }\n",
              "\n",
              "    [theme=dark] .colab-df-convert:hover {\n",
              "      background-color: #434B5C;\n",
              "      box-shadow: 0px 1px 3px 1px rgba(0, 0, 0, 0.15);\n",
              "      filter: drop-shadow(0px 1px 2px rgba(0, 0, 0, 0.3));\n",
              "      fill: #FFFFFF;\n",
              "    }\n",
              "  </style>\n",
              "\n",
              "      <script>\n",
              "        const buttonEl =\n",
              "          document.querySelector('#df-4f901d4a-06ca-4b29-83c4-61eb67f5067e button.colab-df-convert');\n",
              "        buttonEl.style.display =\n",
              "          google.colab.kernel.accessAllowed ? 'block' : 'none';\n",
              "\n",
              "        async function convertToInteractive(key) {\n",
              "          const element = document.querySelector('#df-4f901d4a-06ca-4b29-83c4-61eb67f5067e');\n",
              "          const dataTable =\n",
              "            await google.colab.kernel.invokeFunction('convertToInteractive',\n",
              "                                                     [key], {});\n",
              "          if (!dataTable) return;\n",
              "\n",
              "          const docLinkHtml = 'Like what you see? Visit the ' +\n",
              "            '<a target=\"_blank\" href=https://colab.research.google.com/notebooks/data_table.ipynb>data table notebook</a>'\n",
              "            + ' to learn more about interactive tables.';\n",
              "          element.innerHTML = '';\n",
              "          dataTable['output_type'] = 'display_data';\n",
              "          await google.colab.output.renderOutput(dataTable, element);\n",
              "          const docLink = document.createElement('div');\n",
              "          docLink.innerHTML = docLinkHtml;\n",
              "          element.appendChild(docLink);\n",
              "        }\n",
              "      </script>\n",
              "    </div>\n",
              "  </div>\n",
              "  "
            ]
          },
          "metadata": {},
          "execution_count": 156
        }
      ],
      "source": [
        "test.head()"
      ]
    },
    {
      "cell_type": "code",
      "execution_count": 157,
      "metadata": {
        "colab": {
          "base_uri": "https://localhost:8080/"
        },
        "id": "MseZGB8WxLv4",
        "outputId": "aabc6d36-8cb2-40de-eaef-908ebc83ecae"
      },
      "outputs": [
        {
          "output_type": "stream",
          "name": "stderr",
          "text": [
            "/usr/local/lib/python3.7/dist-packages/ipykernel_launcher.py:1: SettingWithCopyWarning: \n",
            "A value is trying to be set on a copy of a slice from a DataFrame.\n",
            "Try using .loc[row_indexer,col_indexer] = value instead\n",
            "\n",
            "See the caveats in the documentation: https://pandas.pydata.org/pandas-docs/stable/user_guide/indexing.html#returning-a-view-versus-a-copy\n",
            "  \"\"\"Entry point for launching an IPython kernel.\n"
          ]
        }
      ],
      "source": [
        "test['Predictions'] = true_predictions"
      ]
    },
    {
      "cell_type": "code",
      "execution_count": 158,
      "metadata": {
        "colab": {
          "base_uri": "https://localhost:8080/",
          "height": 206
        },
        "id": "Xrg7ro5rxLv4",
        "outputId": "555920e5-4baa-4407-e7dd-6559eeb7ff8a"
      },
      "outputs": [
        {
          "output_type": "execute_result",
          "data": {
            "text/plain": [
              "          Sine  Predictions\n",
              "45.1  0.899097     0.876975\n",
              "45.2  0.938307     0.919568\n",
              "45.3  0.968142     0.937891\n",
              "45.4  0.988304     0.960231\n",
              "45.5  0.998591     0.962284"
            ],
            "text/html": [
              "\n",
              "  <div id=\"df-6a5e644b-c9f6-4712-b9b3-f7df33a748bc\">\n",
              "    <div class=\"colab-df-container\">\n",
              "      <div>\n",
              "<style scoped>\n",
              "    .dataframe tbody tr th:only-of-type {\n",
              "        vertical-align: middle;\n",
              "    }\n",
              "\n",
              "    .dataframe tbody tr th {\n",
              "        vertical-align: top;\n",
              "    }\n",
              "\n",
              "    .dataframe thead th {\n",
              "        text-align: right;\n",
              "    }\n",
              "</style>\n",
              "<table border=\"1\" class=\"dataframe\">\n",
              "  <thead>\n",
              "    <tr style=\"text-align: right;\">\n",
              "      <th></th>\n",
              "      <th>Sine</th>\n",
              "      <th>Predictions</th>\n",
              "    </tr>\n",
              "  </thead>\n",
              "  <tbody>\n",
              "    <tr>\n",
              "      <th>45.1</th>\n",
              "      <td>0.899097</td>\n",
              "      <td>0.876975</td>\n",
              "    </tr>\n",
              "    <tr>\n",
              "      <th>45.2</th>\n",
              "      <td>0.938307</td>\n",
              "      <td>0.919568</td>\n",
              "    </tr>\n",
              "    <tr>\n",
              "      <th>45.3</th>\n",
              "      <td>0.968142</td>\n",
              "      <td>0.937891</td>\n",
              "    </tr>\n",
              "    <tr>\n",
              "      <th>45.4</th>\n",
              "      <td>0.988304</td>\n",
              "      <td>0.960231</td>\n",
              "    </tr>\n",
              "    <tr>\n",
              "      <th>45.5</th>\n",
              "      <td>0.998591</td>\n",
              "      <td>0.962284</td>\n",
              "    </tr>\n",
              "  </tbody>\n",
              "</table>\n",
              "</div>\n",
              "      <button class=\"colab-df-convert\" onclick=\"convertToInteractive('df-6a5e644b-c9f6-4712-b9b3-f7df33a748bc')\"\n",
              "              title=\"Convert this dataframe to an interactive table.\"\n",
              "              style=\"display:none;\">\n",
              "        \n",
              "  <svg xmlns=\"http://www.w3.org/2000/svg\" height=\"24px\"viewBox=\"0 0 24 24\"\n",
              "       width=\"24px\">\n",
              "    <path d=\"M0 0h24v24H0V0z\" fill=\"none\"/>\n",
              "    <path d=\"M18.56 5.44l.94 2.06.94-2.06 2.06-.94-2.06-.94-.94-2.06-.94 2.06-2.06.94zm-11 1L8.5 8.5l.94-2.06 2.06-.94-2.06-.94L8.5 2.5l-.94 2.06-2.06.94zm10 10l.94 2.06.94-2.06 2.06-.94-2.06-.94-.94-2.06-.94 2.06-2.06.94z\"/><path d=\"M17.41 7.96l-1.37-1.37c-.4-.4-.92-.59-1.43-.59-.52 0-1.04.2-1.43.59L10.3 9.45l-7.72 7.72c-.78.78-.78 2.05 0 2.83L4 21.41c.39.39.9.59 1.41.59.51 0 1.02-.2 1.41-.59l7.78-7.78 2.81-2.81c.8-.78.8-2.07 0-2.86zM5.41 20L4 18.59l7.72-7.72 1.47 1.35L5.41 20z\"/>\n",
              "  </svg>\n",
              "      </button>\n",
              "      \n",
              "  <style>\n",
              "    .colab-df-container {\n",
              "      display:flex;\n",
              "      flex-wrap:wrap;\n",
              "      gap: 12px;\n",
              "    }\n",
              "\n",
              "    .colab-df-convert {\n",
              "      background-color: #E8F0FE;\n",
              "      border: none;\n",
              "      border-radius: 50%;\n",
              "      cursor: pointer;\n",
              "      display: none;\n",
              "      fill: #1967D2;\n",
              "      height: 32px;\n",
              "      padding: 0 0 0 0;\n",
              "      width: 32px;\n",
              "    }\n",
              "\n",
              "    .colab-df-convert:hover {\n",
              "      background-color: #E2EBFA;\n",
              "      box-shadow: 0px 1px 2px rgba(60, 64, 67, 0.3), 0px 1px 3px 1px rgba(60, 64, 67, 0.15);\n",
              "      fill: #174EA6;\n",
              "    }\n",
              "\n",
              "    [theme=dark] .colab-df-convert {\n",
              "      background-color: #3B4455;\n",
              "      fill: #D2E3FC;\n",
              "    }\n",
              "\n",
              "    [theme=dark] .colab-df-convert:hover {\n",
              "      background-color: #434B5C;\n",
              "      box-shadow: 0px 1px 3px 1px rgba(0, 0, 0, 0.15);\n",
              "      filter: drop-shadow(0px 1px 2px rgba(0, 0, 0, 0.3));\n",
              "      fill: #FFFFFF;\n",
              "    }\n",
              "  </style>\n",
              "\n",
              "      <script>\n",
              "        const buttonEl =\n",
              "          document.querySelector('#df-6a5e644b-c9f6-4712-b9b3-f7df33a748bc button.colab-df-convert');\n",
              "        buttonEl.style.display =\n",
              "          google.colab.kernel.accessAllowed ? 'block' : 'none';\n",
              "\n",
              "        async function convertToInteractive(key) {\n",
              "          const element = document.querySelector('#df-6a5e644b-c9f6-4712-b9b3-f7df33a748bc');\n",
              "          const dataTable =\n",
              "            await google.colab.kernel.invokeFunction('convertToInteractive',\n",
              "                                                     [key], {});\n",
              "          if (!dataTable) return;\n",
              "\n",
              "          const docLinkHtml = 'Like what you see? Visit the ' +\n",
              "            '<a target=\"_blank\" href=https://colab.research.google.com/notebooks/data_table.ipynb>data table notebook</a>'\n",
              "            + ' to learn more about interactive tables.';\n",
              "          element.innerHTML = '';\n",
              "          dataTable['output_type'] = 'display_data';\n",
              "          await google.colab.output.renderOutput(dataTable, element);\n",
              "          const docLink = document.createElement('div');\n",
              "          docLink.innerHTML = docLinkHtml;\n",
              "          element.appendChild(docLink);\n",
              "        }\n",
              "      </script>\n",
              "    </div>\n",
              "  </div>\n",
              "  "
            ]
          },
          "metadata": {},
          "execution_count": 158
        }
      ],
      "source": [
        "test.head()"
      ]
    },
    {
      "cell_type": "code",
      "execution_count": 160,
      "metadata": {
        "colab": {
          "base_uri": "https://localhost:8080/",
          "height": 428
        },
        "id": "K8JSWVLBxLv5",
        "outputId": "861d48d1-1c2d-4380-c061-a215258593a5"
      },
      "outputs": [
        {
          "output_type": "display_data",
          "data": {
            "text/plain": [
              "<Figure size 720x504 with 1 Axes>"
            ],
            "image/png": "[encoded data removed]"
          },
          "metadata": {
            "needs_background": "light"
          }
        }
      ],
      "source": [
        "test.plot(figsize=(10,7));"
      ]
    },
    {
      "cell_type": "markdown",
      "metadata": {
        "id": "-vRF28FXxLv6"
      },
      "source": [
        "## Early Stopping and Validation Generator"
      ]
    },
    {
      "cell_type": "markdown",
      "metadata": {
        "id": "amtC-xhexLv6"
      },
      "source": [
        "### Two generator: one for training and one for testing"
      ]
    },
    {
      "cell_type": "code",
      "execution_count": 164,
      "metadata": {
        "id": "gYRvJfA_xLv6"
      },
      "outputs": [],
      "source": [
        "from tensorflow.keras.callbacks import EarlyStopping\n",
        "\n",
        "early_stopping = EarlyStopping(monitor='val_loss',\n",
        "                                                patience=2)"
      ]
    },
    {
      "cell_type": "markdown",
      "metadata": {
        "id": "ygvZmq0qxLv7"
      },
      "source": [
        "NOTE: As `length` needs to at least 1 size shorter than length of passed data, we need to redefine `length` and `Training Generator.`"
      ]
    },
    {
      "cell_type": "code",
      "execution_count": 165,
      "metadata": {
        "id": "qoGex0SuxLv8"
      },
      "outputs": [],
      "source": [
        "length = 49\n",
        "\n",
        "\n",
        "generator = TimeseriesGenerator(data=scaled_train, targets=scaled_train,\n",
        "                                                    length=length, batch_size=1)\n",
        "\n",
        "validation_generator = TimeseriesGenerator(data=scaled_test, targets=scaled_test,\n",
        "                                                                      length=length, batch_size=1)"
      ]
    },
    {
      "cell_type": "markdown",
      "metadata": {
        "id": "U5E20BoBxLv8"
      },
      "source": [
        "## Creating Model with LSTM"
      ]
    },
    {
      "cell_type": "code",
      "execution_count": 166,
      "metadata": {
        "id": "QB18aUTyxLv8"
      },
      "outputs": [],
      "source": [
        "model = Sequential()\n",
        "\n",
        "model.add(LSTM(50, input_shape=(length, n_features)))\n",
        "\n",
        "model.add(Dense(1))\n",
        "\n",
        "model.compile(optimizer='adam', loss='mse')"
      ]
    },
    {
      "cell_type": "code",
      "execution_count": 168,
      "metadata": {
        "colab": {
          "base_uri": "https://localhost:8080/"
        },
        "id": "gROnntuzxLv9",
        "outputId": "eeee57d5-d701-4a94-9213-e1ccd42160ef"
      },
      "outputs": [
        {
          "output_type": "stream",
          "name": "stdout",
          "text": [
            "Epoch 1/20\n",
            "402/402 [==============================] - 8s 20ms/step - loss: 6.9723e-05 - val_loss: 1.2848e-05\n",
            "Epoch 2/20\n",
            "402/402 [==============================] - 8s 20ms/step - loss: 0.0016 - val_loss: 7.2086e-04\n",
            "Epoch 3/20\n",
            "402/402 [==============================] - 8s 20ms/step - loss: 5.4791e-04 - val_loss: 3.7005e-06\n",
            "Epoch 4/20\n",
            "402/402 [==============================] - 9s 21ms/step - loss: 3.3070e-05 - val_loss: 2.0446e-05\n",
            "Epoch 5/20\n",
            "402/402 [==============================] - 8s 21ms/step - loss: 2.7412e-05 - val_loss: 2.1957e-06\n",
            "Epoch 6/20\n",
            "402/402 [==============================] - 8s 19ms/step - loss: 1.2633e-05 - val_loss: 5.4654e-06\n",
            "Epoch 7/20\n",
            "402/402 [==============================] - 8s 20ms/step - loss: 2.4033e-05 - val_loss: 2.2231e-06\n"
          ]
        },
        {
          "output_type": "execute_result",
          "data": {
            "text/plain": [
              "<keras.callbacks.History at 0x7fd5cc0ffd90>"
            ]
          },
          "metadata": {},
          "execution_count": 168
        }
      ],
      "source": [
        "model.fit(generator, epochs=20, \n",
        "             validation_data=validation_generator,\n",
        "             callbacks=[early_stopping],\n",
        "             verbose=1)"
      ]
    },
    {
      "cell_type": "code",
      "execution_count": 169,
      "metadata": {
        "colab": {
          "base_uri": "https://localhost:8080/",
          "height": 265
        },
        "id": "88piQWKkxLv9",
        "outputId": "0ec4af0a-9b4a-49ee-a1c1-48193219cd7e"
      },
      "outputs": [
        {
          "output_type": "display_data",
          "data": {
            "text/plain": [
              "<Figure size 432x288 with 1 Axes>"
            ],
            "image/png": "[encoded data removed]"
          },
          "metadata": {
            "needs_background": "light"
          }
        }
      ],
      "source": [
        "losses = pd.DataFrame(model.history.history)\n",
        "\n",
        "losses.plot();"
      ]
    },
    {
      "cell_type": "markdown",
      "metadata": {
        "id": "M7ZSsUtnxLv-"
      },
      "source": [
        "## Predictions and Evaluation"
      ]
    },
    {
      "cell_type": "code",
      "execution_count": 170,
      "metadata": {
        "id": "Offi0LnXxLv-"
      },
      "outputs": [],
      "source": [
        "test_predictions = []\n",
        "\n",
        "first_evaluation_batch = scaled_train[-length:]\n",
        "\n",
        "current_batch = first_evaluation_batch.reshape(1, length, n_features)\n",
        "\n",
        "for i in range(len(test)):\n",
        "    current_prediction = model.predict(current_batch)[0]\n",
        "    \n",
        "    test_predictions.append(current_prediction)\n",
        "    \n",
        "    current_batch = np.append(current_batch[:, 1:, :], [[current_prediction]], axis=1)"
      ]
    },
    {
      "cell_type": "markdown",
      "metadata": {
        "id": "1iaEc6gexLv-"
      },
      "source": [
        "## Inverse Transformation and Compare"
      ]
    },
    {
      "cell_type": "code",
      "execution_count": 171,
      "metadata": {
        "colab": {
          "base_uri": "https://localhost:8080/"
        },
        "id": "HyuWyav3xLv_",
        "outputId": "a02e5f10-86ad-4566-f8cb-61bf6f0325af"
      },
      "outputs": [
        {
          "output_type": "stream",
          "name": "stderr",
          "text": [
            "/usr/local/lib/python3.7/dist-packages/ipykernel_launcher.py:3: SettingWithCopyWarning: \n",
            "A value is trying to be set on a copy of a slice from a DataFrame.\n",
            "Try using .loc[row_indexer,col_indexer] = value instead\n",
            "\n",
            "See the caveats in the documentation: https://pandas.pydata.org/pandas-docs/stable/user_guide/indexing.html#returning-a-view-versus-a-copy\n",
            "  This is separate from the ipykernel package so we can avoid doing imports until\n"
          ]
        }
      ],
      "source": [
        "true_predictions = scaler.inverse_transform(test_predictions)\n",
        "\n",
        "test['LSTM Predictions'] = true_predictions"
      ]
    },
    {
      "cell_type": "code",
      "execution_count": 172,
      "metadata": {
        "colab": {
          "base_uri": "https://localhost:8080/",
          "height": 206
        },
        "id": "PdUV-UEHxLv_",
        "outputId": "0d67037d-a127-4f2e-c4bf-2b8728586f47"
      },
      "outputs": [
        {
          "output_type": "execute_result",
          "data": {
            "text/plain": [
              "          Sine  Predictions  LSTM Predictions\n",
              "45.1  0.899097     0.876975          0.901144\n",
              "45.2  0.938307     0.919568          0.939948\n",
              "45.3  0.968142     0.937891          0.969225\n",
              "45.4  0.988304     0.960231          0.988694\n",
              "45.5  0.998591     0.962284          0.998188"
            ],
            "text/html": [
              "\n",
              "  <div id=\"df-9f709bb8-2dd8-4bd6-9a2f-a7c9675ef987\">\n",
              "    <div class=\"colab-df-container\">\n",
              "      <div>\n",
              "<style scoped>\n",
              "    .dataframe tbody tr th:only-of-type {\n",
              "        vertical-align: middle;\n",
              "    }\n",
              "\n",
              "    .dataframe tbody tr th {\n",
              "        vertical-align: top;\n",
              "    }\n",
              "\n",
              "    .dataframe thead th {\n",
              "        text-align: right;\n",
              "    }\n",
              "</style>\n",
              "<table border=\"1\" class=\"dataframe\">\n",
              "  <thead>\n",
              "    <tr style=\"text-align: right;\">\n",
              "      <th></th>\n",
              "      <th>Sine</th>\n",
              "      <th>Predictions</th>\n",
              "      <th>LSTM Predictions</th>\n",
              "    </tr>\n",
              "  </thead>\n",
              "  <tbody>\n",
              "    <tr>\n",
              "      <th>45.1</th>\n",
              "      <td>0.899097</td>\n",
              "      <td>0.876975</td>\n",
              "      <td>0.901144</td>\n",
              "    </tr>\n",
              "    <tr>\n",
              "      <th>45.2</th>\n",
              "      <td>0.938307</td>\n",
              "      <td>0.919568</td>\n",
              "      <td>0.939948</td>\n",
              "    </tr>\n",
              "    <tr>\n",
              "      <th>45.3</th>\n",
              "      <td>0.968142</td>\n",
              "      <td>0.937891</td>\n",
              "      <td>0.969225</td>\n",
              "    </tr>\n",
              "    <tr>\n",
              "      <th>45.4</th>\n",
              "      <td>0.988304</td>\n",
              "      <td>0.960231</td>\n",
              "      <td>0.988694</td>\n",
              "    </tr>\n",
              "    <tr>\n",
              "      <th>45.5</th>\n",
              "      <td>0.998591</td>\n",
              "      <td>0.962284</td>\n",
              "      <td>0.998188</td>\n",
              "    </tr>\n",
              "  </tbody>\n",
              "</table>\n",
              "</div>\n",
              "      <button class=\"colab-df-convert\" onclick=\"convertToInteractive('df-9f709bb8-2dd8-4bd6-9a2f-a7c9675ef987')\"\n",
              "              title=\"Convert this dataframe to an interactive table.\"\n",
              "              style=\"display:none;\">\n",
              "        \n",
              "  <svg xmlns=\"http://www.w3.org/2000/svg\" height=\"24px\"viewBox=\"0 0 24 24\"\n",
              "       width=\"24px\">\n",
              "    <path d=\"M0 0h24v24H0V0z\" fill=\"none\"/>\n",
              "    <path d=\"M18.56 5.44l.94 2.06.94-2.06 2.06-.94-2.06-.94-.94-2.06-.94 2.06-2.06.94zm-11 1L8.5 8.5l.94-2.06 2.06-.94-2.06-.94L8.5 2.5l-.94 2.06-2.06.94zm10 10l.94 2.06.94-2.06 2.06-.94-2.06-.94-.94-2.06-.94 2.06-2.06.94z\"/><path d=\"M17.41 7.96l-1.37-1.37c-.4-.4-.92-.59-1.43-.59-.52 0-1.04.2-1.43.59L10.3 9.45l-7.72 7.72c-.78.78-.78 2.05 0 2.83L4 21.41c.39.39.9.59 1.41.59.51 0 1.02-.2 1.41-.59l7.78-7.78 2.81-2.81c.8-.78.8-2.07 0-2.86zM5.41 20L4 18.59l7.72-7.72 1.47 1.35L5.41 20z\"/>\n",
              "  </svg>\n",
              "      </button>\n",
              "      \n",
              "  <style>\n",
              "    .colab-df-container {\n",
              "      display:flex;\n",
              "      flex-wrap:wrap;\n",
              "      gap: 12px;\n",
              "    }\n",
              "\n",
              "    .colab-df-convert {\n",
              "      background-color: #E8F0FE;\n",
              "      border: none;\n",
              "      border-radius: 50%;\n",
              "      cursor: pointer;\n",
              "      display: none;\n",
              "      fill: #1967D2;\n",
              "      height: 32px;\n",
              "      padding: 0 0 0 0;\n",
              "      width: 32px;\n",
              "    }\n",
              "\n",
              "    .colab-df-convert:hover {\n",
              "      background-color: #E2EBFA;\n",
              "      box-shadow: 0px 1px 2px rgba(60, 64, 67, 0.3), 0px 1px 3px 1px rgba(60, 64, 67, 0.15);\n",
              "      fill: #174EA6;\n",
              "    }\n",
              "\n",
              "    [theme=dark] .colab-df-convert {\n",
              "      background-color: #3B4455;\n",
              "      fill: #D2E3FC;\n",
              "    }\n",
              "\n",
              "    [theme=dark] .colab-df-convert:hover {\n",
              "      background-color: #434B5C;\n",
              "      box-shadow: 0px 1px 3px 1px rgba(0, 0, 0, 0.15);\n",
              "      filter: drop-shadow(0px 1px 2px rgba(0, 0, 0, 0.3));\n",
              "      fill: #FFFFFF;\n",
              "    }\n",
              "  </style>\n",
              "\n",
              "      <script>\n",
              "        const buttonEl =\n",
              "          document.querySelector('#df-9f709bb8-2dd8-4bd6-9a2f-a7c9675ef987 button.colab-df-convert');\n",
              "        buttonEl.style.display =\n",
              "          google.colab.kernel.accessAllowed ? 'block' : 'none';\n",
              "\n",
              "        async function convertToInteractive(key) {\n",
              "          const element = document.querySelector('#df-9f709bb8-2dd8-4bd6-9a2f-a7c9675ef987');\n",
              "          const dataTable =\n",
              "            await google.colab.kernel.invokeFunction('convertToInteractive',\n",
              "                                                     [key], {});\n",
              "          if (!dataTable) return;\n",
              "\n",
              "          const docLinkHtml = 'Like what you see? Visit the ' +\n",
              "            '<a target=\"_blank\" href=https://colab.research.google.com/notebooks/data_table.ipynb>data table notebook</a>'\n",
              "            + ' to learn more about interactive tables.';\n",
              "          element.innerHTML = '';\n",
              "          dataTable['output_type'] = 'display_data';\n",
              "          await google.colab.output.renderOutput(dataTable, element);\n",
              "          const docLink = document.createElement('div');\n",
              "          docLink.innerHTML = docLinkHtml;\n",
              "          element.appendChild(docLink);\n",
              "        }\n",
              "      </script>\n",
              "    </div>\n",
              "  </div>\n",
              "  "
            ]
          },
          "metadata": {},
          "execution_count": 172
        }
      ],
      "source": [
        "test.head()"
      ]
    },
    {
      "cell_type": "code",
      "execution_count": 173,
      "metadata": {
        "colab": {
          "base_uri": "https://localhost:8080/",
          "height": 483
        },
        "id": "T8nOSzjNxLwA",
        "outputId": "d6620a7e-bcbe-491a-d127-c9934999d41c"
      },
      "outputs": [
        {
          "output_type": "display_data",
          "data": {
            "text/plain": [
              "<Figure size 864x576 with 1 Axes>"
            ],
            "image/png": "[encoded data removed]"
          },
          "metadata": {
            "needs_background": "light"
          }
        }
      ],
      "source": [
        "test.plot(figsize=(12,8));"
      ]
    },
    {
      "cell_type": "markdown",
      "metadata": {
        "id": "CAaTMvOExLwA"
      },
      "source": [
        "## Forecasting\n"
      ]
    },
    {
      "cell_type": "code",
      "execution_count": 178,
      "metadata": {
        "id": "JKOB2_lkxLwB"
      },
      "outputs": [],
      "source": [
        "# scale the full data set\n",
        "\n",
        "scaled_full_data = MinMaxScaler().fit_transform(df)"
      ]
    },
    {
      "cell_type": "code",
      "execution_count": 179,
      "metadata": {
        "id": "TvDgd2muxLwB"
      },
      "outputs": [],
      "source": [
        "# generator\n",
        "length = 50\n",
        "\n",
        "generator = TimeseriesGenerator(scaled_full_data, scaled_full_data, length=length, batch_size=1)"
      ]
    },
    {
      "cell_type": "code",
      "execution_count": 180,
      "metadata": {
        "id": "oPepmjRDxLwB"
      },
      "outputs": [],
      "source": [
        "# create model\n",
        "model = Sequential()\n",
        "\n",
        "model.add(LSTM(50, input_shape=(length, n_features)))\n",
        "\n",
        "model.add(Dense(1))\n",
        "\n",
        "model.compile(optimizer='adam', loss='mse')"
      ]
    },
    {
      "cell_type": "code",
      "execution_count": 181,
      "metadata": {
        "colab": {
          "base_uri": "https://localhost:8080/"
        },
        "id": "vKgdMGnLxLwC",
        "outputId": "d62749e0-41b2-4f52-ba16-2e9ee3731cc1"
      },
      "outputs": [
        {
          "output_type": "stream",
          "name": "stdout",
          "text": [
            "Epoch 1/6\n",
            "451/451 [==============================] - 11s 20ms/step - loss: 0.0091\n",
            "Epoch 2/6\n",
            "451/451 [==============================] - 9s 20ms/step - loss: 7.8954e-05\n",
            "Epoch 3/6\n",
            "451/451 [==============================] - 9s 20ms/step - loss: 2.1853e-04\n",
            "Epoch 4/6\n",
            "451/451 [==============================] - 10s 21ms/step - loss: 5.1341e-04\n",
            "Epoch 5/6\n",
            "451/451 [==============================] - 9s 21ms/step - loss: 4.9083e-05\n",
            "Epoch 6/6\n",
            "451/451 [==============================] - 9s 20ms/step - loss: 6.1248e-05\n"
          ]
        },
        {
          "output_type": "execute_result",
          "data": {
            "text/plain": [
              "<keras.callbacks.History at 0x7fd5cc3392d0>"
            ]
          },
          "metadata": {},
          "execution_count": 181
        }
      ],
      "source": [
        "# fit the model\n",
        "model.fit(generator, \n",
        "              epochs=6,\n",
        "              verbose=1)"
      ]
    },
    {
      "cell_type": "code",
      "execution_count": 182,
      "metadata": {
        "id": "DLumq3FTxLwC"
      },
      "outputs": [],
      "source": [
        "# make forecast into the future\n",
        "forecast = []\n",
        "\n",
        "first_evaluation_batch = scaled_full_data[-length: ]\n",
        "current_batch = first_evaluation_batch.reshape((1, length, n_features))\n",
        "\n",
        "for i in range(len(test)):\n",
        "    current_prediction = model.predict(current_batch)[0]\n",
        "    \n",
        "    forecast.append(current_prediction)\n",
        "    \n",
        "    current_batch = np.append(current_batch[:, 1: , :], [[current_prediction]], axis=1)"
      ]
    },
    {
      "cell_type": "code",
      "execution_count": 183,
      "metadata": {
        "id": "EJXEwjT5xLwD"
      },
      "outputs": [],
      "source": [
        "# inverse transform the forecast values\n",
        "true_forecast = MinMaxScaler().inverse_transform(forecast)"
      ]
    },
    {
      "cell_type": "code",
      "execution_count": 184,
      "metadata": {
        "colab": {
          "base_uri": "https://localhost:8080/",
          "height": 206
        },
        "id": "sWk1eX6ExLwD",
        "outputId": "bc8d83fa-8f29-4dd8-9655-54f483143470"
      },
      "outputs": [
        {
          "output_type": "execute_result",
          "data": {
            "text/plain": [
              "          Sine\n",
              "49.6 -0.617439\n",
              "49.7 -0.535823\n",
              "49.8 -0.448854\n",
              "49.9 -0.357400\n",
              "50.0 -0.262375"
            ],
            "text/html": [
              "\n",
              "  <div id=\"df-a8954690-68db-4b67-8b68-3d8018a82c74\">\n",
              "    <div class=\"colab-df-container\">\n",
              "      <div>\n",
              "<style scoped>\n",
              "    .dataframe tbody tr th:only-of-type {\n",
              "        vertical-align: middle;\n",
              "    }\n",
              "\n",
              "    .dataframe tbody tr th {\n",
              "        vertical-align: top;\n",
              "    }\n",
              "\n",
              "    .dataframe thead th {\n",
              "        text-align: right;\n",
              "    }\n",
              "</style>\n",
              "<table border=\"1\" class=\"dataframe\">\n",
              "  <thead>\n",
              "    <tr style=\"text-align: right;\">\n",
              "      <th></th>\n",
              "      <th>Sine</th>\n",
              "    </tr>\n",
              "  </thead>\n",
              "  <tbody>\n",
              "    <tr>\n",
              "      <th>49.6</th>\n",
              "      <td>-0.617439</td>\n",
              "    </tr>\n",
              "    <tr>\n",
              "      <th>49.7</th>\n",
              "      <td>-0.535823</td>\n",
              "    </tr>\n",
              "    <tr>\n",
              "      <th>49.8</th>\n",
              "      <td>-0.448854</td>\n",
              "    </tr>\n",
              "    <tr>\n",
              "      <th>49.9</th>\n",
              "      <td>-0.357400</td>\n",
              "    </tr>\n",
              "    <tr>\n",
              "      <th>50.0</th>\n",
              "      <td>-0.262375</td>\n",
              "    </tr>\n",
              "  </tbody>\n",
              "</table>\n",
              "</div>\n",
              "      <button class=\"colab-df-convert\" onclick=\"convertToInteractive('df-a8954690-68db-4b67-8b68-3d8018a82c74')\"\n",
              "              title=\"Convert this dataframe to an interactive table.\"\n",
              "              style=\"display:none;\">\n",
              "        \n",
              "  <svg xmlns=\"http://www.w3.org/2000/svg\" height=\"24px\"viewBox=\"0 0 24 24\"\n",
              "       width=\"24px\">\n",
              "    <path d=\"M0 0h24v24H0V0z\" fill=\"none\"/>\n",
              "    <path d=\"M18.56 5.44l.94 2.06.94-2.06 2.06-.94-2.06-.94-.94-2.06-.94 2.06-2.06.94zm-11 1L8.5 8.5l.94-2.06 2.06-.94-2.06-.94L8.5 2.5l-.94 2.06-2.06.94zm10 10l.94 2.06.94-2.06 2.06-.94-2.06-.94-.94-2.06-.94 2.06-2.06.94z\"/><path d=\"M17.41 7.96l-1.37-1.37c-.4-.4-.92-.59-1.43-.59-.52 0-1.04.2-1.43.59L10.3 9.45l-7.72 7.72c-.78.78-.78 2.05 0 2.83L4 21.41c.39.39.9.59 1.41.59.51 0 1.02-.2 1.41-.59l7.78-7.78 2.81-2.81c.8-.78.8-2.07 0-2.86zM5.41 20L4 18.59l7.72-7.72 1.47 1.35L5.41 20z\"/>\n",
              "  </svg>\n",
              "      </button>\n",
              "      \n",
              "  <style>\n",
              "    .colab-df-container {\n",
              "      display:flex;\n",
              "      flex-wrap:wrap;\n",
              "      gap: 12px;\n",
              "    }\n",
              "\n",
              "    .colab-df-convert {\n",
              "      background-color: #E8F0FE;\n",
              "      border: none;\n",
              "      border-radius: 50%;\n",
              "      cursor: pointer;\n",
              "      display: none;\n",
              "      fill: #1967D2;\n",
              "      height: 32px;\n",
              "      padding: 0 0 0 0;\n",
              "      width: 32px;\n",
              "    }\n",
              "\n",
              "    .colab-df-convert:hover {\n",
              "      background-color: #E2EBFA;\n",
              "      box-shadow: 0px 1px 2px rgba(60, 64, 67, 0.3), 0px 1px 3px 1px rgba(60, 64, 67, 0.15);\n",
              "      fill: #174EA6;\n",
              "    }\n",
              "\n",
              "    [theme=dark] .colab-df-convert {\n",
              "      background-color: #3B4455;\n",
              "      fill: #D2E3FC;\n",
              "    }\n",
              "\n",
              "    [theme=dark] .colab-df-convert:hover {\n",
              "      background-color: #434B5C;\n",
              "      box-shadow: 0px 1px 3px 1px rgba(0, 0, 0, 0.15);\n",
              "      filter: drop-shadow(0px 1px 2px rgba(0, 0, 0, 0.3));\n",
              "      fill: #FFFFFF;\n",
              "    }\n",
              "  </style>\n",
              "\n",
              "      <script>\n",
              "        const buttonEl =\n",
              "          document.querySelector('#df-a8954690-68db-4b67-8b68-3d8018a82c74 button.colab-df-convert');\n",
              "        buttonEl.style.display =\n",
              "          google.colab.kernel.accessAllowed ? 'block' : 'none';\n",
              "\n",
              "        async function convertToInteractive(key) {\n",
              "          const element = document.querySelector('#df-a8954690-68db-4b67-8b68-3d8018a82c74');\n",
              "          const dataTable =\n",
              "            await google.colab.kernel.invokeFunction('convertToInteractive',\n",
              "                                                     [key], {});\n",
              "          if (!dataTable) return;\n",
              "\n",
              "          const docLinkHtml = 'Like what you see? Visit the ' +\n",
              "            '<a target=\"_blank\" href=https://colab.research.google.com/notebooks/data_table.ipynb>data table notebook</a>'\n",
              "            + ' to learn more about interactive tables.';\n",
              "          element.innerHTML = '';\n",
              "          dataTable['output_type'] = 'display_data';\n",
              "          await google.colab.output.renderOutput(dataTable, element);\n",
              "          const docLink = document.createElement('div');\n",
              "          docLink.innerHTML = docLinkHtml;\n",
              "          element.appendChild(docLink);\n",
              "        }\n",
              "      </script>\n",
              "    </div>\n",
              "  </div>\n",
              "  "
            ]
          },
          "metadata": {},
          "execution_count": 184
        }
      ],
      "source": [
        "df.tail()"
      ]
    },
    {
      "cell_type": "markdown",
      "metadata": {
        "id": "XPyG8-4axLwD"
      },
      "source": [
        "Data Frame index ends at `50.0`. \n",
        "\n",
        "for adding our forecast to original df, we have to pass indexes and values."
      ]
    },
    {
      "cell_type": "code",
      "execution_count": 185,
      "metadata": {
        "colab": {
          "base_uri": "https://localhost:8080/"
        },
        "id": "2rYDnwYyxLwE",
        "outputId": "95da34f2-bdd8-474f-b23f-2f4aa4933493"
      },
      "outputs": [
        {
          "output_type": "execute_result",
          "data": {
            "text/plain": [
              "5.0"
            ]
          },
          "metadata": {},
          "execution_count": 185
        }
      ],
      "source": [
        "50 * 0.1 # 0.1 is the step size for indexes"
      ]
    },
    {
      "cell_type": "code",
      "execution_count": 187,
      "metadata": {
        "colab": {
          "base_uri": "https://localhost:8080/"
        },
        "id": "e5v-OBdHxLwE",
        "outputId": "9480a3f5-845b-4c55-aecd-797d9fe51121"
      },
      "outputs": [
        {
          "output_type": "execute_result",
          "data": {
            "text/plain": [
              "55.1"
            ]
          },
          "metadata": {},
          "execution_count": 187
        }
      ],
      "source": [
        "50.1 + 5.0 # ending index"
      ]
    },
    {
      "cell_type": "code",
      "execution_count": 188,
      "metadata": {
        "id": "V871537mxLwF"
      },
      "outputs": [],
      "source": [
        "forecast_index = np.arange(50.1, 55.1, step=0.1)"
      ]
    },
    {
      "cell_type": "code",
      "execution_count": 189,
      "metadata": {
        "colab": {
          "base_uri": "https://localhost:8080/"
        },
        "id": "8jL4qD3jxLwF",
        "outputId": "35d435b1-5606-4fce-8333-b112febc49cf"
      },
      "outputs": [
        {
          "output_type": "execute_result",
          "data": {
            "text/plain": [
              "(50, 50)"
            ]
          },
          "metadata": {},
          "execution_count": 189
        }
      ],
      "source": [
        "len(forecast_index), len(forecast) # make sure both has same length"
      ]
    },
    {
      "cell_type": "code",
      "execution_count": 190,
      "metadata": {
        "colab": {
          "base_uri": "https://localhost:8080/",
          "height": 265
        },
        "id": "i6oQRfZ3xLwG",
        "outputId": "86d72a38-906f-4823-8482-41e9bbc30307"
      },
      "outputs": [
        {
          "output_type": "display_data",
          "data": {
            "text/plain": [
              "<Figure size 432x288 with 1 Axes>"
            ],
            "image/png": "[encoded data removed]"
          },
          "metadata": {
            "needs_background": "light"
          }
        }
      ],
      "source": [
        "plt.plot(df.index, df['Sine'])\n",
        "plt.plot(forecast_index, forecast);"
      ]
    },
    {
      "cell_type": "code",
      "source": [
        ""
      ],
      "metadata": {
        "id": "Qyknvr_TPSHx"
      },
      "execution_count": null,
      "outputs": []
    }
  ],
  "metadata": {
    "kernelspec": {
      "display_name": "venv-datascience",
      "language": "python",
      "name": "venv-datascience"
    },
    "language_info": {
      "codemirror_mode": {
        "name": "ipython",
        "version": 3
      },
      "file_extension": ".py",
      "mimetype": "text/x-python",
      "name": "python",
      "nbconvert_exporter": "python",
      "pygments_lexer": "ipython3",
      "version": "3.8.5"
    },
    "colab": {
      "name": "RNN_sinewave.ipynb",
      "provenance": []
    }
  },
  "nbformat": 4,
  "nbformat_minor": 0
}
