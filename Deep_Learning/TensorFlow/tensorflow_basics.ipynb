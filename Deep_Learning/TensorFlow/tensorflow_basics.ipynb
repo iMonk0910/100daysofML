
{
  "cells": [
    {
      "cell_type": "markdown",
      "metadata": {
        "id": "u7jGejCthOTA"
      },
      "source": [
        "# TensorFlow Fundamentals\n",
        "\n",
        "\n",
        "## Introduction to Tensors\n",
        "\n",
        "\n",
        "We can imagine tensor as a multi-dimensional numerical representation (also referred to as n-dimensional, where n can be any number) of something(numbers, image, text or some other form of information or data)\n",
        "\n",
        "\n",
        "* Numbers (using tensors to represent the price of houses)\n",
        "\n",
        "* Image (using tensors to represent the pixels of an image)\n",
        "\n",
        "* Text (using tensors to represent words)\n",
        "\n",
        "* Some other form of information (or data) you want to represent with numbers.\n",
        "\n",
        "\n",
        "Tensors are kind of like NumPy arrays. The main difference between tensors and NumPy arrays (also an n-dimensional array of numbers) is that tensors can be used on GPUs (graphical processing units)\n",
        "\n",
        "\n",
        "The benefit of being able to run on GPUs and TPUs is faster computation.\n",
        "\n",
        "Using GPUs and TPUs we can find the patterns in the numerical representations of data faster.\n",
        "\n",
        "\n",
        "[list of TensorFlow Python APIs](https://www.tensorflow.org/api_docs/python/)\n"
      ]
    },
    {
      "cell_type": "markdown",
      "metadata": {
        "id": "WbVyRIH5hunR"
      },
      "source": [
        "\n",
        "### A scalar is known as a rank 0 tensor. It has no dimensions\n",
        "\n",
        "Tensors can have an unlimited range of dimensions"
      ]
    },
    {
      "cell_type": "code",
      "execution_count": 1,
      "metadata": {
        "colab": {
          "base_uri": "https://localhost:8080/"
        },
        "id": "3_3UIdAmhVfh",
        "outputId": "91631b51-fdd7-416b-b839-60877801c1b9"
      },
      "outputs": [
        {
          "output_type": "stream",
          "name": "stdout",
          "text": [
            "2.8.2\n"
          ]
        }
      ],
      "source": [
        "import tensorflow as tf\n",
        "print(tf.__version__)\n"
      ]
    },
    {
      "cell_type": "code",
      "execution_count": 10,
      "metadata": {
        "colab": {
          "base_uri": "https://localhost:8080/"
        },
        "id": "szvdkd1ohYPS",
        "outputId": "d860ac2b-aa8c-452a-8c1f-797a414a307c"
      },
      "outputs": [
        {
          "output_type": "execute_result",
          "data": {
            "text/plain": [
              "<tf.Tensor: shape=(), dtype=int32, numpy=10>"
            ]
          },
          "metadata": {},
          "execution_count": 10
        }
      ],
      "source": [
        "# create tensors with tf.constant()\n",
        "scaler = tf.constant(10)\n",
        "scaler"
      ]
    },
    {
      "cell_type": "code",
      "execution_count": 3,
      "metadata": {
        "colab": {
          "base_uri": "https://localhost:8080/"
        },
        "id": "ulwdFGdgiabt",
        "outputId": "fcbccb82-3acc-46d9-fa2c-693d76ceeb7d"
      },
      "outputs": [
        {
          "output_type": "execute_result",
          "data": {
            "text/plain": [
              "0"
            ]
          },
          "metadata": {},
          "execution_count": 3
        }
      ],
      "source": [
        "# check the number of dimensions in tensor\n",
        "scaler.ndim"
      ]
    },
    {
      "cell_type": "code",
      "execution_count": 9,
      "metadata": {
        "colab": {
          "base_uri": "https://localhost:8080/"
        },
        "id": "obw_18g4usJp",
        "outputId": "0fba0b65-a80a-4a58-b79e-f403b111bf8c"
      },
      "outputs": [
        {
          "output_type": "execute_result",
          "data": {
            "text/plain": [
              "<tf.Tensor: shape=(2,), dtype=int32, numpy=array([9, 8], dtype=int32)>"
            ]
          },
          "metadata": {},
          "execution_count": 9
        }
      ],
      "source": [
        "# create a vector\n",
        "vector = tf.constant([9, 8])\n",
        "vector"
      ]
    },
    {
      "cell_type": "code",
      "execution_count": 4,
      "metadata": {
        "colab": {
          "base_uri": "https://localhost:8080/"
        },
        "id": "Hx9848crvL06",
        "outputId": "02da4d46-2222-4e7c-a462-ad46f0ca5046"
      },
      "outputs": [
        {
          "output_type": "execute_result",
          "data": {
            "text/plain": [
              "1"
            ]
          },
          "metadata": {},
          "execution_count": 4
        }
      ],
      "source": [
        "# check the dimensions of vector\n",
        "vector.ndim"
      ]
    },
    {
      "cell_type": "code",
      "execution_count": 11,
      "metadata": {
        "colab": {
          "base_uri": "https://localhost:8080/"
        },
        "id": "mvRT6J7VvTkT",
        "outputId": "3bcd07a9-5fda-4966-9f39-6fc021952c16"
      },
      "outputs": [
        {
          "output_type": "execute_result",
          "data": {
            "text/plain": [
              "<tf.Tensor: shape=(2, 2), dtype=int32, numpy=\n",
              "array([[5, 0],\n",
              "       [9, 4]], dtype=int32)>"
            ]
          },
          "metadata": {},
          "execution_count": 11
        }
      ],
      "source": [
        "# create a matrix (has more than 1 dimensions)\n",
        "matrix = tf.constant([\n",
        "    [5, 0],\n",
        "    [9, 4]\n",
        "])\n",
        "\n",
        "matrix"
      ]
    },
    {
      "cell_type": "code",
      "execution_count": 12,
      "metadata": {
        "colab": {
          "base_uri": "https://localhost:8080/"
        },
        "id": "fO106rHlvfcx",
        "outputId": "b3224451-d806-4f0a-d67b-247cef1c8f0a"
      },
      "outputs": [
        {
          "output_type": "execute_result",
          "data": {
            "text/plain": [
              "2"
            ]
          },
          "metadata": {},
          "execution_count": 12
        }
      ],
      "source": [
        "matrix.ndim"
      ]
    },
    {
      "cell_type": "code",
      "execution_count": 15,
      "metadata": {
        "colab": {
          "base_uri": "https://localhost:8080/"
        },
        "id": "Ixs7_FHevoXb",
        "outputId": "eee83724-f4c8-412d-d8ed-b3c2e0ce2d99"
      },
      "outputs": [
        {
          "output_type": "execute_result",
          "data": {
            "text/plain": [
              "<tf.Tensor: shape=(3, 2), dtype=float16, numpy=\n",
              "array([[ 5.,  6.],\n",
              "       [ 1.,  8.],\n",
              "       [ 5., 10.]], dtype=float16)>"
            ]
          },
          "metadata": {},
          "execution_count": 15
        }
      ],
      "source": [
        "# create another matrix\n",
        "another_matrix = tf.constant([\n",
        "        [5, 6],\n",
        "        [1, 8],\n",
        "        [5.0, 10.0]],\n",
        "        dtype=tf.float16\n",
        ")\n",
        "\n",
        "another_matrix"
      ]
    },
    {
      "cell_type": "code",
      "execution_count": 16,
      "metadata": {
        "colab": {
          "base_uri": "https://localhost:8080/"
        },
        "id": "y3bwAuVCwGzy",
        "outputId": "fff31437-8e36-4988-d277-96ab674374d2"
      },
      "outputs": [
        {
          "output_type": "execute_result",
          "data": {
            "text/plain": [
              "2"
            ]
          },
          "metadata": {},
          "execution_count": 16
        }
      ],
      "source": [
        "another_matrix.ndim"
      ]
    },
    {
      "cell_type": "code",
      "execution_count": 19,
      "metadata": {
        "colab": {
          "base_uri": "https://localhost:8080/"
        },
        "id": "hLIJuIAxwe6q",
        "outputId": "2a7cb4e1-e105-4038-9f8a-881fe4c2be06"
      },
      "outputs": [
        {
          "output_type": "execute_result",
          "data": {
            "text/plain": [
              "<tf.Tensor: shape=(3, 2, 3), dtype=int32, numpy=\n",
              "array([[[ 1,  2,  3],\n",
              "        [ 4,  5,  6]],\n",
              "\n",
              "       [[ 7,  8,  9],\n",
              "        [10, 11, 12]],\n",
              "\n",
              "       [[13, 14, 15],\n",
              "        [16, 17, 18]]], dtype=int32)>"
            ]
          },
          "metadata": {},
          "execution_count": 19
        }
      ],
      "source": [
        "# Let's creat a tensor\n",
        "tensor = tf.constant([[[1,2,3], [4,5,6]], [[7,8,9], [10, 11, 12]], [[13, 14, 15], [16, 17, 18]]])\n",
        "tensor"
      ]
    },
    {
      "cell_type": "code",
      "execution_count": 20,
      "metadata": {
        "colab": {
          "base_uri": "https://localhost:8080/"
        },
        "id": "2LO21hKHxRB8",
        "outputId": "44b38930-4385-4564-8ab6-b0d433f7a5cb"
      },
      "outputs": [
        {
          "output_type": "execute_result",
          "data": {
            "text/plain": [
              "3"
            ]
          },
          "metadata": {},
          "execution_count": 20
        }
      ],
      "source": [
        "\n",
        "tensor.ndim"
      ]
    },
    {
      "cell_type": "markdown",
      "metadata": {
        "id": "00iNF16cxhDP"
      },
      "source": [
        "**scalar**: a single number.\n",
        "**vector**: a number with direction (e.g. wind speed with direction).\n",
        "**matrix**: a 2-dimensional array of numbers.\n",
        "**tensor**: an n-dimensional arrary of numbers (where n can be any number, a 0-dimension tensor is a scalar, a 1-dimension tensor is a vector)."
      ]
    },
    {
      "cell_type": "markdown",
      "metadata": {
        "id": "pQ9MKXeXyQUX"
      },
      "source": [
        "-----\n"
      ]
    },
    {
      "cell_type": "markdown",
      "metadata": {
        "id": "cDukmNaWySaf"
      },
      "source": [
        "# Creating tensor with `tf.Variable()`\n",
        "\n",
        "\n",
        "The difference between `tf.Variable()` and `tf.constant()` is tensors created with `tf.constant()` are immutable (can't be changed, can only be used to create a new tensor), where as, tensors created with `tf.Variable() `are mutable (can be changed)."
      ]
    },
    {
      "cell_type": "code",
      "execution_count": 21,
      "metadata": {
        "colab": {
          "base_uri": "https://localhost:8080/"
        },
        "id": "ui7duBtFyXsj",
        "outputId": "1be3b807-c67f-4689-ca14-791023a5b178"
      },
      "outputs": [
        {
          "output_type": "execute_result",
          "data": {
            "text/plain": [
              "(<tf.Variable 'Variable:0' shape=(2,) dtype=int32, numpy=array([10,  7], dtype=int32)>,\n",
              " <tf.Tensor: shape=(2,), dtype=int32, numpy=array([10,  7], dtype=int32)>)"
            ]
          },
          "metadata": {},
          "execution_count": 21
        }
      ],
      "source": [
        "\n",
        "# create same tensor with tf.variable() as above\n",
        "changable_tensor = tf.Variable([10, 7])\n",
        "unchangable_tensor = tf.constant([10, 7])\n",
        "\n",
        "changable_tensor, unchangable_tensor"
      ]
    },
    {
      "cell_type": "code",
      "execution_count": 22,
      "metadata": {
        "colab": {
          "base_uri": "https://localhost:8080/"
        },
        "id": "n3wDn6JWy6Ie",
        "outputId": "759dc26a-745a-455c-cebe-dc1d0f9ed070"
      },
      "outputs": [
        {
          "output_type": "execute_result",
          "data": {
            "text/plain": [
              "<tf.Variable 'Variable:0' shape=(2,) dtype=int32, numpy=array([7, 7], dtype=int32)>"
            ]
          },
          "metadata": {},
          "execution_count": 22
        }
      ],
      "source": [
        "# Let's try change one the elements in changable tensor\n",
        "changable_tensor[0].assign(7)\n",
        "changable_tensor"
      ]
    },
    {
      "cell_type": "code",
      "execution_count": null,
      "metadata": {
        "id": "u7xBTY_NzSgd"
      },
      "outputs": [],
      "source": [
        "unchangable_tensor[0].assign(7) # we can't change constant value\n",
        "unchangable_tensor"
      ]
    },
    {
      "cell_type": "markdown",
      "metadata": {
        "id": "Vv9mWKSl29SQ"
      },
      "source": [
        "Most of the time, TensorFlow will automatically (when loading data or modelling data).(tf.Variable() or tf.constant())"
      ]
    },
    {
      "cell_type": "markdown",
      "metadata": {
        "id": "STxD4snI0eiC"
      },
      "source": [
        "# Random Tensors\n",
        "\n",
        "Tensors of arbitary size which contain random numbers."
      ]
    },
    {
      "cell_type": "code",
      "execution_count": 24,
      "metadata": {
        "colab": {
          "base_uri": "https://localhost:8080/"
        },
        "id": "VI3EyUJz0j0z",
        "outputId": "d4296654-538b-456b-aebc-19c94dd42497"
      },
      "outputs": [
        {
          "output_type": "execute_result",
          "data": {
            "text/plain": [
              "<tf.Tensor: shape=(3, 2), dtype=float32, numpy=\n",
              "array([[-0.7565803 , -0.06854702],\n",
              "       [ 0.07595026, -1.2573844 ],\n",
              "       [-0.23193765, -1.8107855 ]], dtype=float32)>"
            ]
          },
          "metadata": {},
          "execution_count": 24
        }
      ],
      "source": [
        "# create two random tensors\n",
        "random_1 = tf.random.Generator.from_seed(42) # set seed for reproducibility\n",
        "random_1 = random_1.normal(shape=(3, 2))\n",
        "random_1"
      ]
    },
    {
      "cell_type": "code",
      "execution_count": 25,
      "metadata": {
        "colab": {
          "base_uri": "https://localhost:8080/"
        },
        "id": "hkGiiraAEavS",
        "outputId": "cdad80b5-e610-4e56-9c8c-7f8fd9a4a267"
      },
      "outputs": [
        {
          "output_type": "execute_result",
          "data": {
            "text/plain": [
              "<tf.Tensor: shape=(3, 2), dtype=float32, numpy=\n",
              "array([[-0.7565803 , -0.06854702],\n",
              "       [ 0.07595026, -1.2573844 ],\n",
              "       [-0.23193765, -1.8107855 ]], dtype=float32)>"
            ]
          },
          "metadata": {},
          "execution_count": 25
        }
      ],
      "source": [
        "\n",
        "random_2 = tf.random.Generator.from_seed(42)\n",
        "random_2 = random_2.normal(shape=(3, 2))\n",
        "random_2"
      ]
    },
    {
      "cell_type": "code",
      "execution_count": 26,
      "metadata": {
        "colab": {
          "base_uri": "https://localhost:8080/"
        },
        "id": "yfntSfn3FRbE",
        "outputId": "da12ef22-d095-4f0d-dbca-deb5d25d6be0"
      },
      "outputs": [
        {
          "output_type": "execute_result",
          "data": {
            "text/plain": [
              "<tf.Tensor: shape=(3, 2), dtype=bool, numpy=\n",
              "array([[ True,  True],\n",
              "       [ True,  True],\n",
              "       [ True,  True]])>"
            ]
          },
          "metadata": {},
          "execution_count": 26
        }
      ],
      "source": [
        "# are they equal?\n",
        "random_1 == random_2"
      ]
    },
    {
      "cell_type": "markdown",
      "metadata": {
        "id": "Dp_TXjPtFVb6"
      },
      "source": [
        "-----\n",
        "\n",
        "# Shuffling the order elements in  tensor\n",
        "\n",
        "- **if we want to shuffle the data and make them in same order, we need to use both operational level and global level seed.**\n",
        "\n",
        "### Global vs Operation Level Seed\n",
        "\n",
        "`tf.random.set_seed(42)` sets the global seed, and the seed parameter in `tf.random.shuffle(seed=42)` sets the operation seed.\n",
        "\n",
        "\n",
        "If both the global and the operation seed are set: Both seeds are used in conjunction to determine the random sequence.\"\n",
        "\n"
      ]
    },
    {
      "cell_type": "code",
      "execution_count": 27,
      "metadata": {
        "colab": {
          "base_uri": "https://localhost:8080/"
        },
        "id": "3e1pCKqPFzOw",
        "outputId": "6e16de89-8abf-4fca-dcbf-4cb1090c797d"
      },
      "outputs": [
        {
          "output_type": "execute_result",
          "data": {
            "text/plain": [
              "2"
            ]
          },
          "metadata": {},
          "execution_count": 27
        }
      ],
      "source": [
        "not_shuffle = tf.constant([[10, 7], [1, 2], [3, 4]])\n",
        "not_shuffle.ndim"
      ]
    },
    {
      "cell_type": "code",
      "execution_count": 28,
      "metadata": {
        "colab": {
          "base_uri": "https://localhost:8080/"
        },
        "id": "xGaVpW99Glsk",
        "outputId": "fd8bb58b-6f7c-4f19-c820-e88c30c13e39"
      },
      "outputs": [
        {
          "output_type": "execute_result",
          "data": {
            "text/plain": [
              "<tf.Tensor: shape=(3, 2), dtype=int32, numpy=\n",
              "array([[ 3,  4],\n",
              "       [10,  7],\n",
              "       [ 1,  2]], dtype=int32)>"
            ]
          },
          "metadata": {},
          "execution_count": 28
        }
      ],
      "source": [
        "# shuffle our tensor\n",
        "# we can see that shuffling make the first dimension shuffle\n",
        "after_shuffled = tf.random.shuffle(not_shuffle)\n",
        "after_shuffled"
      ]
    },
    {
      "cell_type": "code",
      "execution_count": 29,
      "metadata": {
        "colab": {
          "base_uri": "https://localhost:8080/"
        },
        "id": "rDu8O0RLG701",
        "outputId": "f81c1b84-1b2c-4163-df94-e129b1917f8b"
      },
      "outputs": [
        {
          "output_type": "execute_result",
          "data": {
            "text/plain": [
              "<tf.Tensor: shape=(3, 2), dtype=int32, numpy=\n",
              "array([[ 3,  4],\n",
              "       [ 1,  2],\n",
              "       [10,  7]], dtype=int32)>"
            ]
          },
          "metadata": {},
          "execution_count": 29
        }
      ],
      "source": [
        "after_shuffled = tf.random.shuffle(not_shuffle, seed=42)\n",
        "after_shuffled"
      ]
    },
    {
      "cell_type": "code",
      "execution_count": 30,
      "metadata": {
        "colab": {
          "base_uri": "https://localhost:8080/"
        },
        "id": "19Hwfy6ULW3E",
        "outputId": "256cb8d7-d4a4-49ee-e09c-8ca08cfde6a4"
      },
      "outputs": [
        {
          "output_type": "execute_result",
          "data": {
            "text/plain": [
              "<tf.Tensor: shape=(3, 2), dtype=int32, numpy=\n",
              "array([[ 1,  2],\n",
              "       [ 3,  4],\n",
              "       [10,  7]], dtype=int32)>"
            ]
          },
          "metadata": {},
          "execution_count": 30
        }
      ],
      "source": [
        "tf.random.set_seed(42)\n",
        "after_shuffled = tf.random.shuffle(not_shuffle)\n",
        "after_shuffled"
      ]
    },
    {
      "cell_type": "code",
      "execution_count": 31,
      "metadata": {
        "colab": {
          "base_uri": "https://localhost:8080/"
        },
        "id": "FiPouFgSL2PR",
        "outputId": "15dab765-8e18-47c6-ee63-5eb9b5e61dbc"
      },
      "outputs": [
        {
          "output_type": "execute_result",
          "data": {
            "text/plain": [
              "<tf.Tensor: shape=(3, 2), dtype=int32, numpy=\n",
              "array([[ 3,  4],\n",
              "       [10,  7],\n",
              "       [ 1,  2]], dtype=int32)>"
            ]
          },
          "metadata": {},
          "execution_count": 31
        }
      ],
      "source": [
        "after_shuffled = tf.random.shuffle(not_shuffle)\n",
        "after_shuffled"
      ]
    },
    {
      "cell_type": "code",
      "execution_count": 33,
      "metadata": {
        "colab": {
          "base_uri": "https://localhost:8080/"
        },
        "id": "giLvz8h7NB8S",
        "outputId": "ac5042ea-2bb5-439f-aa44-da21445a4754"
      },
      "outputs": [
        {
          "output_type": "execute_result",
          "data": {
            "text/plain": [
              "<tf.Tensor: shape=(3, 2), dtype=int32, numpy=\n",
              "array([[10,  7],\n",
              "       [ 1,  2],\n",
              "       [ 3,  4]], dtype=int32)>"
            ]
          },
          "metadata": {},
          "execution_count": 33
        }
      ],
      "source": [
        "# Shuffle in the same order every time\n",
        "\n",
        "# Set the global random seed\n",
        "tf.random.set_seed(42)\n",
        "\n",
        "# Set the operation random seed\n",
        "# tf.random.shuffle(not_shuffle)\n",
        "tf.random.shuffle(not_shuffle, seed=42)"
      ]
    },
    {
      "cell_type": "code",
      "execution_count": 34,
      "metadata": {
        "colab": {
          "base_uri": "https://localhost:8080/"
        },
        "id": "-1qSUf1PNUKx",
        "outputId": "76d184a7-0972-4282-d050-c56ec901a29b"
      },
      "outputs": [
        {
          "output_type": "execute_result",
          "data": {
            "text/plain": [
              "<tf.Tensor: shape=(3, 2), dtype=int32, numpy=\n",
              "array([[ 1,  2],\n",
              "       [ 3,  4],\n",
              "       [10,  7]], dtype=int32)>"
            ]
          },
          "metadata": {},
          "execution_count": 34
        }
      ],
      "source": [
        "# Set the global random seed\n",
        "tf.random.set_seed(42) # if you comment this out you'll get different results\n",
        "\n",
        "# Set the operation random seed\n",
        "tf.random.shuffle(not_shuffle)"
      ]
    },
    {
      "cell_type": "code",
      "execution_count": 36,
      "metadata": {
        "colab": {
          "base_uri": "https://localhost:8080/"
        },
        "id": "1I3fCnfgNZpl",
        "outputId": "e37a9ac4-c009-4704-f314-59ff479abf56"
      },
      "outputs": [
        {
          "output_type": "execute_result",
          "data": {
            "text/plain": [
              "<tf.Tensor: shape=(3, 2), dtype=int32, numpy=\n",
              "array([[3, 4],\n",
              "       [5, 6],\n",
              "       [1, 2]], dtype=int32)>"
            ]
          },
          "metadata": {},
          "execution_count": 36
        }
      ],
      "source": [
        "tf1 = tf.constant([[3, 4], [5, 6], [1,2]])\n",
        "tf1"
      ]
    },
    {
      "cell_type": "markdown",
      "metadata": {
        "id": "pbD-5Bzc4m-4"
      },
      "source": [
        "#### operation level random seed"
      ]
    },
    {
      "cell_type": "code",
      "execution_count": 37,
      "metadata": {
        "colab": {
          "base_uri": "https://localhost:8080/"
        },
        "id": "rV7I1h88SNiR",
        "outputId": "b74f071b-7ebc-4cb8-e11b-d209409cb546"
      },
      "outputs": [
        {
          "output_type": "execute_result",
          "data": {
            "text/plain": [
              "<tf.Tensor: shape=(3, 2), dtype=int32, numpy=\n",
              "array([[3, 4],\n",
              "       [5, 6],\n",
              "       [1, 2]], dtype=int32)>"
            ]
          },
          "metadata": {},
          "execution_count": 37
        }
      ],
      "source": [
        "tf.random.shuffle(tf1, seed=42) # operation level random seed\n",
        "# we can see that this will produce randomly shuffled every time we re-run the line"
      ]
    },
    {
      "cell_type": "markdown",
      "metadata": {
        "id": "npaW_wcH4vbB"
      },
      "source": [
        "#### global level random seed"
      ]
    },
    {
      "cell_type": "code",
      "execution_count": 38,
      "metadata": {
        "colab": {
          "base_uri": "https://localhost:8080/"
        },
        "id": "SKBBmQ65S16_",
        "outputId": "b99f15f9-232a-4c8d-fb25-2095628c408b"
      },
      "outputs": [
        {
          "output_type": "execute_result",
          "data": {
            "text/plain": [
              "<tf.Tensor: shape=(3, 2), dtype=int32, numpy=\n",
              "array([[5, 6],\n",
              "       [1, 2],\n",
              "       [3, 4]], dtype=int32)>"
            ]
          },
          "metadata": {},
          "execution_count": 38
        }
      ],
      "source": [
        "tf.random.set_seed(42) # global level random seed\n",
        "tf.random.shuffle(tf1, seed=41)\n",
        "\n",
        "# after setting global level random seed, we can see that no matter how many time we re-run this block of code, it doesn't change the seqeuence at all."
      ]
    },
    {
      "cell_type": "markdown",
      "metadata": {
        "id": "Geh89AxLYlQ8"
      },
      "source": [
        "# Creating tensors from NumPy arrays\n",
        "\n"
      ]
    },
    {
      "cell_type": "code",
      "execution_count": 39,
      "metadata": {
        "colab": {
          "base_uri": "https://localhost:8080/"
        },
        "id": "TPwRwjLk5hkF",
        "outputId": "80171dec-5d8f-44a2-cbf3-6afaf9f2ae12"
      },
      "outputs": [
        {
          "output_type": "execute_result",
          "data": {
            "text/plain": [
              "<tf.Tensor: shape=(2, 3), dtype=float32, numpy=\n",
              "array([[1., 1., 1.],\n",
              "       [1., 1., 1.]], dtype=float32)>"
            ]
          },
          "metadata": {},
          "execution_count": 39
        }
      ],
      "source": [
        "# create a tensor of ones\n",
        "tf.ones(shape=(2,3))"
      ]
    },
    {
      "cell_type": "code",
      "execution_count": 40,
      "metadata": {
        "colab": {
          "base_uri": "https://localhost:8080/"
        },
        "id": "4XKSanD85wJa",
        "outputId": "9a6530e4-ccf2-46fa-c16a-e3422db7233f"
      },
      "outputs": [
        {
          "output_type": "execute_result",
          "data": {
            "text/plain": [
              "<tf.Tensor: shape=(3, 5), dtype=float32, numpy=\n",
              "array([[0., 0., 0., 0., 0.],\n",
              "       [0., 0., 0., 0., 0.],\n",
              "       [0., 0., 0., 0., 0.]], dtype=float32)>"
            ]
          },
          "metadata": {},
          "execution_count": 40
        }
      ],
      "source": [
        "# create a tensor of zeros\n",
        "tf.zeros(shape=(3, 5))"
      ]
    },
    {
      "cell_type": "code",
      "execution_count": 41,
      "metadata": {
        "colab": {
          "base_uri": "https://localhost:8080/"
        },
        "id": "XiKfrJfT54yM",
        "outputId": "81d9a6cd-21ab-470f-baf3-bee853ee64b6"
      },
      "outputs": [
        {
          "output_type": "execute_result",
          "data": {
            "text/plain": [
              "<tf.Tensor: shape=(3, 5), dtype=float32, numpy=\n",
              "array([[0., 0., 0., 0., 0.],\n",
              "       [0., 0., 0., 0., 0.],\n",
              "       [0., 0., 0., 0., 0.]], dtype=float32)>"
            ]
          },
          "metadata": {},
          "execution_count": 41
        }
      ],
      "source": [
        "tf.zeros([3, 5])"
      ]
    },
    {
      "cell_type": "markdown",
      "metadata": {
        "id": "oOG_jeNa6E_p"
      },
      "source": [
        "## Turn Numpy array to Tensor\n",
        "The main difference between Numpy arrys and Tensors is that Tensors can be run on GPU computing."
      ]
    },
    {
      "cell_type": "code",
      "execution_count": 44,
      "metadata": {
        "colab": {
          "base_uri": "https://localhost:8080/"
        },
        "id": "vljm31NS5-Wv",
        "outputId": "6af82ba1-8a8e-4fdf-de90-d47c53e55528"
      },
      "outputs": [
        {
          "output_type": "execute_result",
          "data": {
            "text/plain": [
              "array([ 1,  2,  3,  4,  5,  6,  7,  8,  9, 10, 11, 12, 13, 14, 15, 16, 17,\n",
              "       18, 19, 20, 21, 22, 23, 24], dtype=int32)"
            ]
          },
          "metadata": {},
          "execution_count": 44
        }
      ],
      "source": [
        "# you can also turn Numpy array to tensors\n",
        "import numpy as np\n",
        "\n",
        "numpy_A = np.arange(1, 25, dtype=np.int32)\n",
        "numpy_A\n",
        "\n",
        "# X = tf.constant(matrix) # capital for matrix or tensor\n",
        "# y = tf.constant(vector) # non capital for vector"
      ]
    },
    {
      "cell_type": "code",
      "execution_count": 45,
      "metadata": {
        "colab": {
          "base_uri": "https://localhost:8080/"
        },
        "id": "os4n5v8a6zXW",
        "outputId": "5a30e566-0ec7-4623-dc51-f7018c6f1d67"
      },
      "outputs": [
        {
          "output_type": "execute_result",
          "data": {
            "text/plain": [
              "<tf.Tensor: shape=(24,), dtype=int32, numpy=\n",
              "array([ 1,  2,  3,  4,  5,  6,  7,  8,  9, 10, 11, 12, 13, 14, 15, 16, 17,\n",
              "       18, 19, 20, 21, 22, 23, 24], dtype=int32)>"
            ]
          },
          "metadata": {},
          "execution_count": 45
        }
      ],
      "source": [
        "A = tf.constant(numpy_A)\n",
        "A"
      ]
    },
    {
      "cell_type": "code",
      "execution_count": 46,
      "metadata": {
        "colab": {
          "base_uri": "https://localhost:8080/"
        },
        "id": "m6iCYiTY6_P7",
        "outputId": "a78c12bc-cde5-401f-e252-e305afbb7ef3"
      },
      "outputs": [
        {
          "output_type": "execute_result",
          "data": {
            "text/plain": [
              "(<tf.Tensor: shape=(2, 3, 4), dtype=int32, numpy=\n",
              " array([[[ 1,  2,  3,  4],\n",
              "         [ 5,  6,  7,  8],\n",
              "         [ 9, 10, 11, 12]],\n",
              " \n",
              "        [[13, 14, 15, 16],\n",
              "         [17, 18, 19, 20],\n",
              "         [21, 22, 23, 24]]], dtype=int32)>,\n",
              " <tf.Tensor: shape=(24,), dtype=int32, numpy=\n",
              " array([ 1,  2,  3,  4,  5,  6,  7,  8,  9, 10, 11, 12, 13, 14, 15, 16, 17,\n",
              "        18, 19, 20, 21, 22, 23, 24], dtype=int32)>)"
            ]
          },
          "metadata": {},
          "execution_count": 46
        }
      ],
      "source": [
        "A = tf.constant(numpy_A, shape=(2, 3, 4))\n",
        "B = tf.constant(numpy_A)\n",
        "\n",
        "A, B"
      ]
    },
    {
      "cell_type": "code",
      "execution_count": 47,
      "metadata": {
        "colab": {
          "base_uri": "https://localhost:8080/"
        },
        "id": "0NRrE2Gb7SoR",
        "outputId": "3a3725bf-ffdf-4bd5-eb20-30318a326195"
      },
      "outputs": [
        {
          "output_type": "execute_result",
          "data": {
            "text/plain": [
              "24"
            ]
          },
          "metadata": {},
          "execution_count": 47
        }
      ],
      "source": [
        "2 * 3 * 4"
      ]
    },
    {
      "cell_type": "code",
      "execution_count": 48,
      "metadata": {
        "colab": {
          "base_uri": "https://localhost:8080/"
        },
        "id": "W7M2swh97vKe",
        "outputId": "783fe94b-8a52-4b46-d3cf-ae17c09ba523"
      },
      "outputs": [
        {
          "output_type": "execute_result",
          "data": {
            "text/plain": [
              "<tf.Tensor: shape=(8, 3), dtype=int32, numpy=\n",
              "array([[ 1,  2,  3],\n",
              "       [ 4,  5,  6],\n",
              "       [ 7,  8,  9],\n",
              "       [10, 11, 12],\n",
              "       [13, 14, 15],\n",
              "       [16, 17, 18],\n",
              "       [19, 20, 21],\n",
              "       [22, 23, 24]], dtype=int32)>"
            ]
          },
          "metadata": {},
          "execution_count": 48
        }
      ],
      "source": [
        "A = tf.constant(numpy_A, shape=(8, 3))\n",
        "A"
      ]
    },
    {
      "cell_type": "code",
      "execution_count": 49,
      "metadata": {
        "colab": {
          "base_uri": "https://localhost:8080/"
        },
        "id": "bzgEuhSo8A0B",
        "outputId": "53f57c18-b6bf-4996-d665-889c2f0bb5fe"
      },
      "outputs": [
        {
          "output_type": "execute_result",
          "data": {
            "text/plain": [
              "2"
            ]
          },
          "metadata": {},
          "execution_count": 49
        }
      ],
      "source": [
        "A.ndim"
      ]
    },
    {
      "cell_type": "markdown",
      "metadata": {
        "id": "MVcV6FUU7b3p"
      },
      "source": [
        "-----\n",
        "\n",
        "#  Tensors Attributes / Shape, rank, size\n",
        "\n",
        "\n",
        "\n",
        "- **Shape**: The length (number of elements) of each of the dimensions of a tensor. `tensor.shape`\n",
        "- **Rank**: The number of tensor dimensions. A scalar has rank 0, a vector has rank 1, a matrix is rank 2, a tensor has rank n. `tensor.ndim`\n",
        "- **Axis or Dimension**: A particular dimension of a tensor. `tensor[0], tensor[:, 1]`\n",
        "- **Size**: The total number of items in the tensor. `tf.size(tensor)`\n",
        "\n"
      ]
    },
    {
      "cell_type": "code",
      "execution_count": 51,
      "metadata": {
        "colab": {
          "base_uri": "https://localhost:8080/"
        },
        "id": "0WX6gfbK7uH-",
        "outputId": "5664bece-2ac2-4585-85e4-06bfcd495cc8"
      },
      "outputs": [
        {
          "output_type": "execute_result",
          "data": {
            "text/plain": [
              "<tf.Tensor: shape=(2, 3, 4, 5), dtype=float32, numpy=\n",
              "array([[[[0., 0., 0., 0., 0.],\n",
              "         [0., 0., 0., 0., 0.],\n",
              "         [0., 0., 0., 0., 0.],\n",
              "         [0., 0., 0., 0., 0.]],\n",
              "\n",
              "        [[0., 0., 0., 0., 0.],\n",
              "         [0., 0., 0., 0., 0.],\n",
              "         [0., 0., 0., 0., 0.],\n",
              "         [0., 0., 0., 0., 0.]],\n",
              "\n",
              "        [[0., 0., 0., 0., 0.],\n",
              "         [0., 0., 0., 0., 0.],\n",
              "         [0., 0., 0., 0., 0.],\n",
              "         [0., 0., 0., 0., 0.]]],\n",
              "\n",
              "\n",
              "       [[[0., 0., 0., 0., 0.],\n",
              "         [0., 0., 0., 0., 0.],\n",
              "         [0., 0., 0., 0., 0.],\n",
              "         [0., 0., 0., 0., 0.]],\n",
              "\n",
              "        [[0., 0., 0., 0., 0.],\n",
              "         [0., 0., 0., 0., 0.],\n",
              "         [0., 0., 0., 0., 0.],\n",
              "         [0., 0., 0., 0., 0.]],\n",
              "\n",
              "        [[0., 0., 0., 0., 0.],\n",
              "         [0., 0., 0., 0., 0.],\n",
              "         [0., 0., 0., 0., 0.],\n",
              "         [0., 0., 0., 0., 0.]]]], dtype=float32)>"
            ]
          },
          "metadata": {},
          "execution_count": 51
        }
      ],
      "source": [
        "# Create a rank 4 tensor (4 dimensions)\n",
        "rank4_tensor = tf.zeros(shape=[2, 3, 4, 5])\n",
        "rank4_tensor"
      ]
    },
    {
      "cell_type": "code",
      "execution_count": 52,
      "metadata": {
        "colab": {
          "base_uri": "https://localhost:8080/"
        },
        "id": "6sEy9Tio9yQX",
        "outputId": "e0d63022-94f1-428e-a53b-7d5e12faf0aa"
      },
      "outputs": [
        {
          "output_type": "execute_result",
          "data": {
            "text/plain": [
              "<tf.Tensor: shape=(3, 4, 5), dtype=float32, numpy=\n",
              "array([[[0., 0., 0., 0., 0.],\n",
              "        [0., 0., 0., 0., 0.],\n",
              "        [0., 0., 0., 0., 0.],\n",
              "        [0., 0., 0., 0., 0.]],\n",
              "\n",
              "       [[0., 0., 0., 0., 0.],\n",
              "        [0., 0., 0., 0., 0.],\n",
              "        [0., 0., 0., 0., 0.],\n",
              "        [0., 0., 0., 0., 0.]],\n",
              "\n",
              "       [[0., 0., 0., 0., 0.],\n",
              "        [0., 0., 0., 0., 0.],\n",
              "        [0., 0., 0., 0., 0.],\n",
              "        [0., 0., 0., 0., 0.]]], dtype=float32)>"
            ]
          },
          "metadata": {},
          "execution_count": 52
        }
      ],
      "source": [
        "rank4_tensor[0]"
      ]
    },
    {
      "cell_type": "code",
      "execution_count": 53,
      "metadata": {
        "colab": {
          "base_uri": "https://localhost:8080/"
        },
        "id": "hDMHVywlANEc",
        "outputId": "2345fc57-badf-421d-9dec-8ca72483f752"
      },
      "outputs": [
        {
          "output_type": "execute_result",
          "data": {
            "text/plain": [
              "<tf.Tensor: shape=(3, 4, 5), dtype=float32, numpy=\n",
              "array([[[0., 0., 0., 0., 0.],\n",
              "        [0., 0., 0., 0., 0.],\n",
              "        [0., 0., 0., 0., 0.],\n",
              "        [0., 0., 0., 0., 0.]],\n",
              "\n",
              "       [[0., 0., 0., 0., 0.],\n",
              "        [0., 0., 0., 0., 0.],\n",
              "        [0., 0., 0., 0., 0.],\n",
              "        [0., 0., 0., 0., 0.]],\n",
              "\n",
              "       [[0., 0., 0., 0., 0.],\n",
              "        [0., 0., 0., 0., 0.],\n",
              "        [0., 0., 0., 0., 0.],\n",
              "        [0., 0., 0., 0., 0.]]], dtype=float32)>"
            ]
          },
          "metadata": {},
          "execution_count": 53
        }
      ],
      "source": [
        "rank4_tensor[1]"
      ]
    },
    {
      "cell_type": "code",
      "execution_count": 54,
      "metadata": {
        "colab": {
          "base_uri": "https://localhost:8080/"
        },
        "id": "uft6k9r8ATsb",
        "outputId": "073a3deb-774f-4e68-fb86-7c39f6051d8d"
      },
      "outputs": [
        {
          "output_type": "execute_result",
          "data": {
            "text/plain": [
              "TensorShape([2, 3, 4, 5])"
            ]
          },
          "metadata": {},
          "execution_count": 54
        }
      ],
      "source": [
        "rank4_tensor.shape"
      ]
    },
    {
      "cell_type": "code",
      "execution_count": 55,
      "metadata": {
        "colab": {
          "base_uri": "https://localhost:8080/"
        },
        "id": "yG6B1RdHAV4Y",
        "outputId": "10bc61d9-521d-4756-b7e9-9f7fb94bde16"
      },
      "outputs": [
        {
          "output_type": "execute_result",
          "data": {
            "text/plain": [
              "4"
            ]
          },
          "metadata": {},
          "execution_count": 55
        }
      ],
      "source": [
        "rank4_tensor.ndim"
      ]
    },
    {
      "cell_type": "code",
      "execution_count": 56,
      "metadata": {
        "colab": {
          "base_uri": "https://localhost:8080/"
        },
        "id": "qG8kHnAeAYkO",
        "outputId": "f8315b59-1e90-417c-a61c-2a48d678aee3"
      },
      "outputs": [
        {
          "output_type": "execute_result",
          "data": {
            "text/plain": [
              "<tf.Tensor: shape=(), dtype=int32, numpy=120>"
            ]
          },
          "metadata": {},
          "execution_count": 56
        }
      ],
      "source": [
        "tf.size(rank4_tensor)"
      ]
    },
    {
      "cell_type": "code",
      "execution_count": 57,
      "metadata": {
        "colab": {
          "base_uri": "https://localhost:8080/"
        },
        "id": "xQB0DDxfAcj2",
        "outputId": "81f165a1-6703-4c2e-db76-3d3c3e1d2591"
      },
      "outputs": [
        {
          "output_type": "execute_result",
          "data": {
            "text/plain": [
              "120"
            ]
          },
          "metadata": {},
          "execution_count": 57
        }
      ],
      "source": [
        "2 * 3 * 4 * 5"
      ]
    },
    {
      "cell_type": "markdown",
      "metadata": {
        "id": "DLO0GI6LBvZF"
      },
      "source": [
        "## Get various attributes of tensors\n"
      ]
    },
    {
      "cell_type": "code",
      "execution_count": 58,
      "metadata": {
        "colab": {
          "base_uri": "https://localhost:8080/"
        },
        "id": "Xvjn-YoCAjlQ",
        "outputId": "cb9f6f5f-0439-4651-8571-cb4c7404122f"
      },
      "outputs": [
        {
          "output_type": "stream",
          "name": "stdout",
          "text": [
            "DataType of every element:  <dtype: 'float32'>\n",
            "Number of dimensions (rank):  4\n",
            "Shape of tensor:  (2, 3, 4, 5)\n",
            "Elements along the axis 0:  2\n",
            "Elements along the last axis:  5\n",
            "Total elements in our tensor:  tf.Tensor(120, shape=(), dtype=int32)\n",
            "Total elements in our tensor:  120\n"
          ]
        }
      ],
      "source": [
        "# Get various attributes of tensors\n",
        "print('DataType of every element: ', rank4_tensor.dtype)\n",
        "print('Number of dimensions (rank): ', rank4_tensor.ndim)\n",
        "print('Shape of tensor: ', rank4_tensor.shape)\n",
        "print('Elements along the axis 0: ', rank4_tensor.shape[0]) # refer to the shape of the tensor and check the first index\n",
        "print('Elements along the last axis: ', rank4_tensor.shape[-1])\n",
        "print('Total elements in our tensor: ', tf.size(rank4_tensor))\n",
        "print('Total elements in our tensor: ', tf.size(rank4_tensor).numpy()) # # .numpy() converts to NumPy array"
      ]
    },
    {
      "cell_type": "markdown",
      "metadata": {
        "id": "Iq_l_FeRBReL"
      },
      "source": [
        "\n",
        "# Indexing and Expanding Tensors\n",
        "\n",
        "You can also index tensors just like Python lists."
      ]
    },
    {
      "cell_type": "code",
      "execution_count": 61,
      "metadata": {
        "colab": {
          "base_uri": "https://localhost:8080/"
        },
        "id": "fjKjdjENC4ky",
        "outputId": "a82a7fb5-c0f9-44af-bb6c-66c3e3968543"
      },
      "outputs": [
        {
          "output_type": "execute_result",
          "data": {
            "text/plain": [
              "[1, 2]"
            ]
          },
          "metadata": {},
          "execution_count": 61
        }
      ],
      "source": [
        "somelist = [1, 2, 3, 4]\n",
        "somelist[:2]"
      ]
    },
    {
      "cell_type": "code",
      "execution_count": 62,
      "metadata": {
        "colab": {
          "base_uri": "https://localhost:8080/"
        },
        "id": "583EC4FcCV-W",
        "outputId": "780589a6-97ae-4638-8495-d39a7ce28313"
      },
      "outputs": [
        {
          "output_type": "execute_result",
          "data": {
            "text/plain": [
              "<tf.Tensor: shape=(2, 2, 2, 2), dtype=float32, numpy=\n",
              "array([[[[0., 0.],\n",
              "         [0., 0.]],\n",
              "\n",
              "        [[0., 0.],\n",
              "         [0., 0.]]],\n",
              "\n",
              "\n",
              "       [[[0., 0.],\n",
              "         [0., 0.]],\n",
              "\n",
              "        [[0., 0.],\n",
              "         [0., 0.]]]], dtype=float32)>"
            ]
          },
          "metadata": {},
          "execution_count": 62
        }
      ],
      "source": [
        "# get the first 2 elements of each dimensions\n",
        "rank4_tensor[:2, :2, :2, :2]"
      ]
    },
    {
      "cell_type": "code",
      "execution_count": 63,
      "metadata": {
        "colab": {
          "base_uri": "https://localhost:8080/"
        },
        "id": "_WCI6vXUDvbF",
        "outputId": "3befb307-eecf-4de9-e3de-13a6330eb25a"
      },
      "outputs": [
        {
          "output_type": "execute_result",
          "data": {
            "text/plain": [
              "TensorShape([2, 3, 4, 5])"
            ]
          },
          "metadata": {},
          "execution_count": 63
        }
      ],
      "source": [
        "\n",
        "rank4_tensor.shape"
      ]
    },
    {
      "cell_type": "code",
      "execution_count": 64,
      "metadata": {
        "colab": {
          "base_uri": "https://localhost:8080/"
        },
        "id": "72jPjrqAClib",
        "outputId": "95e7e53c-e679-44c5-81fa-6ac8a4abba78"
      },
      "outputs": [
        {
          "output_type": "execute_result",
          "data": {
            "text/plain": [
              "<tf.Tensor: shape=(1, 1, 1, 1), dtype=float32, numpy=array([[[[0.]]]], dtype=float32)>"
            ]
          },
          "metadata": {},
          "execution_count": 64
        }
      ],
      "source": [
        "# get the first element from each dimension , except for the final one\n",
        "rank4_tensor[:1, :1, :1, :1]"
      ]
    },
    {
      "cell_type": "code",
      "execution_count": 65,
      "metadata": {
        "colab": {
          "base_uri": "https://localhost:8080/"
        },
        "id": "SLTE1tLQDzcY",
        "outputId": "b7d9738a-44c6-492f-8245-c24e3261e9c8"
      },
      "outputs": [
        {
          "output_type": "execute_result",
          "data": {
            "text/plain": [
              "<tf.Tensor: shape=(2, 1, 1, 1), dtype=float32, numpy=\n",
              "array([[[[0.]]],\n",
              "\n",
              "\n",
              "       [[[0.]]]], dtype=float32)>"
            ]
          },
          "metadata": {},
          "execution_count": 65
        }
      ],
      "source": [
        "rank4_tensor[:, :1, :1, :1]"
      ]
    },
    {
      "cell_type": "code",
      "execution_count": 66,
      "metadata": {
        "colab": {
          "base_uri": "https://localhost:8080/"
        },
        "id": "5qEY0qksD8--",
        "outputId": "ed42256a-e0f8-4ded-f41b-4c0de0d1a27d"
      },
      "outputs": [
        {
          "output_type": "execute_result",
          "data": {
            "text/plain": [
              "<tf.Tensor: shape=(1, 3, 1, 1), dtype=float32, numpy=\n",
              "array([[[[0.]],\n",
              "\n",
              "        [[0.]],\n",
              "\n",
              "        [[0.]]]], dtype=float32)>"
            ]
          },
          "metadata": {},
          "execution_count": 66
        }
      ],
      "source": [
        "rank4_tensor[:1, :, :1, :1]"
      ]
    },
    {
      "cell_type": "code",
      "execution_count": 67,
      "metadata": {
        "colab": {
          "base_uri": "https://localhost:8080/"
        },
        "id": "iwacT8D4D-Ju",
        "outputId": "ee2872a1-4601-46ee-f0eb-c8badf160c9e"
      },
      "outputs": [
        {
          "output_type": "execute_result",
          "data": {
            "text/plain": [
              "<tf.Tensor: shape=(1, 1, 4, 1), dtype=float32, numpy=\n",
              "array([[[[0.],\n",
              "         [0.],\n",
              "         [0.],\n",
              "         [0.]]]], dtype=float32)>"
            ]
          },
          "metadata": {},
          "execution_count": 67
        }
      ],
      "source": [
        "rank4_tensor[:1, :1, :, :1]"
      ]
    },
    {
      "cell_type": "code",
      "execution_count": 68,
      "metadata": {
        "colab": {
          "base_uri": "https://localhost:8080/"
        },
        "id": "ZL2ZsupKD_pC",
        "outputId": "6333c8e4-7aa2-424b-b211-ddf7496282cd"
      },
      "outputs": [
        {
          "output_type": "execute_result",
          "data": {
            "text/plain": [
              "<tf.Tensor: shape=(1, 1, 1, 5), dtype=float32, numpy=array([[[[0., 0., 0., 0., 0.]]]], dtype=float32)>"
            ]
          },
          "metadata": {},
          "execution_count": 68
        }
      ],
      "source": [
        "rank4_tensor[:1, :1, :1, :]"
      ]
    },
    {
      "cell_type": "code",
      "execution_count": 69,
      "metadata": {
        "colab": {
          "base_uri": "https://localhost:8080/"
        },
        "id": "hiuEJYvVEAwI",
        "outputId": "05a3cf57-fdf3-4955-b4c5-3666b43fb5d3"
      },
      "outputs": [
        {
          "output_type": "execute_result",
          "data": {
            "text/plain": [
              "<tf.Tensor: shape=(2, 2), dtype=int32, numpy=\n",
              "array([[10,  7],\n",
              "       [ 3,  4]], dtype=int32)>"
            ]
          },
          "metadata": {},
          "execution_count": 69
        }
      ],
      "source": [
        "# create a rank2 tensor (2 dimensions)\n",
        "rank2_tensor = tf.constant([[10, 7], \n",
        "                                      [3, 4]])\n",
        "rank2_tensor"
      ]
    },
    {
      "cell_type": "code",
      "execution_count": 70,
      "metadata": {
        "colab": {
          "base_uri": "https://localhost:8080/"
        },
        "id": "Vl2nVA3kErya",
        "outputId": "e9c13f91-3e4f-4e65-f720-e042ebe96f52"
      },
      "outputs": [
        {
          "output_type": "execute_result",
          "data": {
            "text/plain": [
              "(TensorShape([2, 2]), 2)"
            ]
          },
          "metadata": {},
          "execution_count": 70
        }
      ],
      "source": [
        "rank2_tensor.shape, rank2_tensor.ndim"
      ]
    },
    {
      "cell_type": "code",
      "execution_count": 71,
      "metadata": {
        "colab": {
          "base_uri": "https://localhost:8080/"
        },
        "id": "1WPTXXP0E6uC",
        "outputId": "e07fc10c-a835-4b0f-df36-7e6b40744e77"
      },
      "outputs": [
        {
          "output_type": "execute_result",
          "data": {
            "text/plain": [
              "<tf.Tensor: shape=(2,), dtype=int32, numpy=array([7, 4], dtype=int32)>"
            ]
          },
          "metadata": {},
          "execution_count": 71
        }
      ],
      "source": [
        "# let's get last item of each row of our rank2 tensor\n",
        "rank2_tensor[: , -1]"
      ]
    },
    {
      "cell_type": "code",
      "execution_count": 72,
      "metadata": {
        "colab": {
          "base_uri": "https://localhost:8080/"
        },
        "id": "vXM2O00vFJp9",
        "outputId": "d748082f-8638-4c8b-fa0d-1173382fd377"
      },
      "outputs": [
        {
          "output_type": "execute_result",
          "data": {
            "text/plain": [
              "<tf.Tensor: shape=(2, 1), dtype=int32, numpy=\n",
              "array([[7],\n",
              "       [4]], dtype=int32)>"
            ]
          },
          "metadata": {},
          "execution_count": 72
        }
      ],
      "source": [
        "# if we want to add additional dimension\n",
        "rank2_tensor[: , -1:]"
      ]
    },
    {
      "cell_type": "markdown",
      "metadata": {
        "id": "V0lqMc4gFyd6"
      },
      "source": [
        "## Add in extra dimension to our rank2tensor\n",
        "\n",
        "means for every axis\n",
        "There are 2 ways to do this.\n",
        "+ tf.newaxis()\n",
        "+ tf.expand_dims()"
      ]
    },
    {
      "cell_type": "code",
      "execution_count": 73,
      "metadata": {
        "colab": {
          "base_uri": "https://localhost:8080/"
        },
        "id": "RSYS5PAfFh1g",
        "outputId": "ecbed2a9-aa1c-4408-cec2-fb717b144454"
      },
      "outputs": [
        {
          "output_type": "execute_result",
          "data": {
            "text/plain": [
              "<tf.Tensor: shape=(2, 2, 1), dtype=int32, numpy=\n",
              "array([[[10],\n",
              "        [ 7]],\n",
              "\n",
              "       [[ 3],\n",
              "        [ 4]]], dtype=int32)>"
            ]
          },
          "metadata": {},
          "execution_count": 73
        }
      ],
      "source": [
        "# Add in extra dimension to our rank2tensor\n",
        "rank3_tensor = rank2_tensor[..., tf.newaxis] # same as [:, :, :, tf.newaxis]\n",
        "rank3_tensor"
      ]
    },
    {
      "cell_type": "code",
      "execution_count": 74,
      "metadata": {
        "colab": {
          "base_uri": "https://localhost:8080/"
        },
        "id": "XHTFDAyUF-Ad",
        "outputId": "3e38cf80-f0ee-44dc-da90-4d552141b56f"
      },
      "outputs": [
        {
          "output_type": "execute_result",
          "data": {
            "text/plain": [
              "<tf.Tensor: shape=(2, 2, 1), dtype=int32, numpy=\n",
              "array([[[10],\n",
              "        [ 7]],\n",
              "\n",
              "       [[ 3],\n",
              "        [ 4]]], dtype=int32)>"
            ]
          },
          "metadata": {},
          "execution_count": 74
        }
      ],
      "source": [
        "# Alternative to tf.newaxis\n",
        "tf.expand_dims(rank2_tensor, axis=-1) # -1 means expands to last axis\n",
        "\n",
        "# so from (2,2) became (2,2,1) , new 1 dimension to last axis"
      ]
    },
    {
      "cell_type": "code",
      "execution_count": 75,
      "metadata": {
        "colab": {
          "base_uri": "https://localhost:8080/"
        },
        "id": "2L3fa2PVGjqY",
        "outputId": "19f405ce-7622-451a-a3a3-cede085d9fa4"
      },
      "outputs": [
        {
          "output_type": "execute_result",
          "data": {
            "text/plain": [
              "<tf.Tensor: shape=(1, 2, 2), dtype=int32, numpy=\n",
              "array([[[10,  7],\n",
              "        [ 3,  4]]], dtype=int32)>"
            ]
          },
          "metadata": {},
          "execution_count": 75
        }
      ],
      "source": [
        "tf.expand_dims(rank2_tensor, axis=0)\n",
        "\n",
        "# so from (2,2) became (1,2,2) , new 1 dimension to first axis or 0 - axis"
      ]
    },
    {
      "cell_type": "code",
      "execution_count": 76,
      "metadata": {
        "colab": {
          "base_uri": "https://localhost:8080/"
        },
        "id": "dpgm981bGxi9",
        "outputId": "6cda8939-6c8c-4049-f31e-db438ea5518b"
      },
      "outputs": [
        {
          "output_type": "execute_result",
          "data": {
            "text/plain": [
              "<tf.Tensor: shape=(2, 1, 2), dtype=int32, numpy=\n",
              "array([[[10,  7]],\n",
              "\n",
              "       [[ 3,  4]]], dtype=int32)>"
            ]
          },
          "metadata": {},
          "execution_count": 76
        }
      ],
      "source": [
        "tf.expand_dims(rank2_tensor, axis=1)"
      ]
    },
    {
      "cell_type": "markdown",
      "metadata": {
        "id": "x7kLGMlvHKd0"
      },
      "source": [
        "\n",
        "-----------"
      ]
    },
    {
      "cell_type": "markdown",
      "metadata": {
        "id": "V2SZNJFfHQpG"
      },
      "source": [
        "# Manipulating tensors with Basic Operations\n",
        "\n"
      ]
    },
    {
      "cell_type": "markdown",
      "metadata": {
        "id": "pwVakTPtHYLH"
      },
      "source": [
        "## Basic operations\n",
        "You can perform many of the basic mathematical operations directly on tensors using Pyhton operators such as, +, -, *, /"
      ]
    },
    {
      "cell_type": "code",
      "execution_count": 78,
      "metadata": {
        "colab": {
          "base_uri": "https://localhost:8080/"
        },
        "id": "nWsa1o7wHqn0",
        "outputId": "afd036fb-e3a6-470e-e846-7fb37dd11ebc"
      },
      "outputs": [
        {
          "output_type": "execute_result",
          "data": {
            "text/plain": [
              "<tf.Tensor: shape=(2, 2), dtype=int32, numpy=\n",
              "array([[20, 17],\n",
              "       [13, 14]], dtype=int32)>"
            ]
          },
          "metadata": {},
          "execution_count": 78
        }
      ],
      "source": [
        "# we can add tensors \n",
        "tensor = tf.constant([[10, 7], [3, 4]])\n",
        "tensor + 10"
      ]
    },
    {
      "cell_type": "code",
      "execution_count": 79,
      "metadata": {
        "colab": {
          "base_uri": "https://localhost:8080/"
        },
        "id": "nYtNMCLfO_EN",
        "outputId": "c7fdd1b7-3dbe-425b-8d42-d6456376c1b8"
      },
      "outputs": [
        {
          "output_type": "execute_result",
          "data": {
            "text/plain": [
              "<tf.Tensor: shape=(2, 2), dtype=int32, numpy=\n",
              "array([[10,  7],\n",
              "       [ 3,  4]], dtype=int32)>"
            ]
          },
          "metadata": {},
          "execution_count": 79
        }
      ],
      "source": [
        "tensor # original tensor is unchanged."
      ]
    },
    {
      "cell_type": "code",
      "execution_count": 80,
      "metadata": {
        "colab": {
          "base_uri": "https://localhost:8080/"
        },
        "id": "ROoGiItCPEgz",
        "outputId": "dfaabd01-a681-473c-b93d-2c0ba5b1a62e"
      },
      "outputs": [
        {
          "output_type": "execute_result",
          "data": {
            "text/plain": [
              "<tf.Tensor: shape=(2, 2), dtype=int32, numpy=\n",
              "array([[20, 17],\n",
              "       [13, 14]], dtype=int32)>"
            ]
          },
          "metadata": {},
          "execution_count": 80
        }
      ],
      "source": [
        "tensor = tensor + 10\n",
        "tensor"
      ]
    },
    {
      "cell_type": "code",
      "execution_count": 81,
      "metadata": {
        "colab": {
          "base_uri": "https://localhost:8080/"
        },
        "id": "L92H3ja9PJ7P",
        "outputId": "97af949f-150a-4e95-81e4-10686c4445a4"
      },
      "outputs": [
        {
          "output_type": "execute_result",
          "data": {
            "text/plain": [
              "<tf.Tensor: shape=(2, 2), dtype=int32, numpy=\n",
              "array([[40, 34],\n",
              "       [26, 28]], dtype=int32)>"
            ]
          },
          "metadata": {},
          "execution_count": 81
        }
      ],
      "source": [
        "# multiplication\n",
        "tensor * 2"
      ]
    },
    {
      "cell_type": "code",
      "execution_count": 82,
      "metadata": {
        "colab": {
          "base_uri": "https://localhost:8080/"
        },
        "id": "QGDKfXVoPSvg",
        "outputId": "d2d57906-2274-4ba5-a63b-a5c88803aee9"
      },
      "outputs": [
        {
          "output_type": "execute_result",
          "data": {
            "text/plain": [
              "<tf.Tensor: shape=(2, 2), dtype=int32, numpy=\n",
              "array([[10,  7],\n",
              "       [ 3,  4]], dtype=int32)>"
            ]
          },
          "metadata": {},
          "execution_count": 82
        }
      ],
      "source": [
        "tensor - 10"
      ]
    },
    {
      "cell_type": "code",
      "execution_count": 83,
      "metadata": {
        "colab": {
          "base_uri": "https://localhost:8080/"
        },
        "id": "exVdgUSnPVWD",
        "outputId": "31924b09-5402-4051-e833-71b170e49d0b"
      },
      "outputs": [
        {
          "output_type": "execute_result",
          "data": {
            "text/plain": [
              "<tf.Tensor: shape=(2, 2), dtype=float64, numpy=\n",
              "array([[2.85714286, 2.42857143],\n",
              "       [1.85714286, 2.        ]])>"
            ]
          },
          "metadata": {},
          "execution_count": 83
        }
      ],
      "source": [
        "tensor / 7"
      ]
    },
    {
      "cell_type": "code",
      "execution_count": 84,
      "metadata": {
        "colab": {
          "base_uri": "https://localhost:8080/"
        },
        "id": "GOPGJ4xqPYjd",
        "outputId": "ed17cf2c-6e13-4236-a622-676a9d0ab7f1"
      },
      "outputs": [
        {
          "output_type": "execute_result",
          "data": {
            "text/plain": [
              "<tf.Tensor: shape=(2, 2), dtype=int32, numpy=\n",
              "array([[200, 170],\n",
              "       [130, 140]], dtype=int32)>"
            ]
          },
          "metadata": {},
          "execution_count": 84
        }
      ],
      "source": [
        "# We can use tensorflow built in functions too\n",
        "tf.multiply(tensor, 10)"
      ]
    },
    {
      "cell_type": "code",
      "execution_count": 85,
      "metadata": {
        "colab": {
          "base_uri": "https://localhost:8080/"
        },
        "id": "a5Z0IshrPiIM",
        "outputId": "4f3d14b5-0f17-48d3-e82b-4319614672f8"
      },
      "outputs": [
        {
          "output_type": "execute_result",
          "data": {
            "text/plain": [
              "<tf.Tensor: shape=(2, 2), dtype=float64, numpy=\n",
              "array([[10. ,  8.5],\n",
              "       [ 6.5,  7. ]])>"
            ]
          },
          "metadata": {},
          "execution_count": 85
        }
      ],
      "source": [
        "tf.divide(tensor, 2)"
      ]
    },
    {
      "cell_type": "code",
      "execution_count": 86,
      "metadata": {
        "colab": {
          "base_uri": "https://localhost:8080/"
        },
        "id": "rOjbPmwbPpAy",
        "outputId": "dd61d05b-fd38-4db7-dba7-86a12c1a8a46"
      },
      "outputs": [
        {
          "output_type": "execute_result",
          "data": {
            "text/plain": [
              "<tf.Tensor: shape=(2, 2), dtype=int32, numpy=\n",
              "array([[20, 17],\n",
              "       [13, 14]], dtype=int32)>"
            ]
          },
          "metadata": {},
          "execution_count": 86
        }
      ],
      "source": [
        "tensor"
      ]
    },
    {
      "cell_type": "code",
      "execution_count": 87,
      "metadata": {
        "colab": {
          "base_uri": "https://localhost:8080/"
        },
        "id": "FBDHhZIMP1qb",
        "outputId": "c6deb2af-3cee-4d10-f9ef-68a3fc073e07"
      },
      "outputs": [
        {
          "output_type": "execute_result",
          "data": {
            "text/plain": [
              "<tf.Tensor: shape=(2, 2), dtype=int32, numpy=\n",
              "array([[25, 22],\n",
              "       [18, 19]], dtype=int32)>"
            ]
          },
          "metadata": {},
          "execution_count": 87
        }
      ],
      "source": [
        "tf.add(tensor, 5)"
      ]
    },
    {
      "cell_type": "code",
      "execution_count": 88,
      "metadata": {
        "colab": {
          "base_uri": "https://localhost:8080/"
        },
        "id": "mHaGJfR3P5aI",
        "outputId": "d53459e6-0bef-434f-9a5a-e95c720ff811"
      },
      "outputs": [
        {
          "output_type": "execute_result",
          "data": {
            "text/plain": [
              "<tf.Tensor: shape=(2, 2), dtype=int32, numpy=\n",
              "array([[10,  7],\n",
              "       [ 3,  4]], dtype=int32)>"
            ]
          },
          "metadata": {},
          "execution_count": 88
        }
      ],
      "source": [
        "tf.subtract(tensor, 10)"
      ]
    },
    {
      "cell_type": "markdown",
      "metadata": {
        "id": "BygdA3jOP8E8"
      },
      "source": [
        "--------\n",
        "\n",
        "# Matrix mutliplication\n",
        "\n",
        "\n"
      ]
    },
    {
      "cell_type": "code",
      "execution_count": 89,
      "metadata": {
        "colab": {
          "base_uri": "https://localhost:8080/"
        },
        "id": "scvq2CpCQmNk",
        "outputId": "a8650266-1d12-4597-d18d-b4fc80d684ee"
      },
      "outputs": [
        {
          "output_type": "stream",
          "name": "stdout",
          "text": [
            "tf.Tensor(\n",
            "[[20 17]\n",
            " [13 14]], shape=(2, 2), dtype=int32)\n"
          ]
        }
      ],
      "source": [
        "# matrix multiplication in tensorflow\n",
        "print(tensor)"
      ]
    },
    {
      "cell_type": "code",
      "execution_count": 90,
      "metadata": {
        "colab": {
          "base_uri": "https://localhost:8080/"
        },
        "id": "BdCSbEiOfDou",
        "outputId": "c0a3cbd0-01bd-4286-f97e-bbe4484387c2"
      },
      "outputs": [
        {
          "output_type": "execute_result",
          "data": {
            "text/plain": [
              "<tf.Tensor: shape=(2, 2), dtype=int32, numpy=\n",
              "array([[621, 578],\n",
              "       [442, 417]], dtype=int32)>"
            ]
          },
          "metadata": {},
          "execution_count": 90
        }
      ],
      "source": [
        "tf.matmul(tensor, tensor)"
      ]
    },
    {
      "cell_type": "code",
      "execution_count": 91,
      "metadata": {
        "colab": {
          "base_uri": "https://localhost:8080/"
        },
        "id": "iIIpNvP0fKOt",
        "outputId": "482e35a3-909e-4de2-f09d-736ad34bfa11"
      },
      "outputs": [
        {
          "output_type": "execute_result",
          "data": {
            "text/plain": [
              "<tf.Tensor: shape=(2, 2), dtype=int32, numpy=\n",
              "array([[400, 289],\n",
              "       [169, 196]], dtype=int32)>"
            ]
          },
          "metadata": {},
          "execution_count": 91
        }
      ],
      "source": [
        "tensor * tensor # element wise multiplication"
      ]
    },
    {
      "cell_type": "code",
      "execution_count": 92,
      "metadata": {
        "colab": {
          "base_uri": "https://localhost:8080/"
        },
        "id": "oCQnMWZffRj-",
        "outputId": "c47d83d7-cd3f-442c-a414-4bd8d95c6f19"
      },
      "outputs": [
        {
          "output_type": "execute_result",
          "data": {
            "text/plain": [
              "(<tf.Tensor: shape=(3, 3), dtype=int32, numpy=\n",
              " array([[1, 2, 5],\n",
              "        [7, 2, 1],\n",
              "        [3, 3, 3]], dtype=int32)>,\n",
              " <tf.Tensor: shape=(3, 2), dtype=int32, numpy=\n",
              " array([[3, 5],\n",
              "        [6, 7],\n",
              "        [1, 8]], dtype=int32)>)"
            ]
          },
          "metadata": {},
          "execution_count": 92
        }
      ],
      "source": [
        "left_tensor = tf.constant([[1, 2, 5], [7, 2, 1], [3, 3, 3]])\n",
        "right_tensor = tf.constant([[3, 5], [6, 7], [1, 8]])\n",
        "\n",
        "left_tensor, right_tensor"
      ]
    },
    {
      "cell_type": "code",
      "execution_count": 93,
      "metadata": {
        "colab": {
          "base_uri": "https://localhost:8080/"
        },
        "id": "eOBQov6Efsl3",
        "outputId": "195d4765-2365-43ff-9cdb-ee8bff62a7bd"
      },
      "outputs": [
        {
          "output_type": "execute_result",
          "data": {
            "text/plain": [
              "<tf.Tensor: shape=(3, 2), dtype=int32, numpy=\n",
              "array([[20, 59],\n",
              "       [34, 57],\n",
              "       [30, 60]], dtype=int32)>"
            ]
          },
          "metadata": {},
          "execution_count": 93
        }
      ],
      "source": [
        "tf.matmul(left_tensor, right_tensor)"
      ]
    },
    {
      "cell_type": "markdown",
      "metadata": {
        "id": "_sFS9KghfxH8"
      },
      "source": [
        "## Matrix multiplication with python operator @"
      ]
    },
    {
      "cell_type": "code",
      "execution_count": 94,
      "metadata": {
        "colab": {
          "base_uri": "https://localhost:8080/"
        },
        "id": "uuMmVv9Lf5Nd",
        "outputId": "811595bc-9e06-4dee-c897-3ad0938feeba"
      },
      "outputs": [
        {
          "output_type": "execute_result",
          "data": {
            "text/plain": [
              "<tf.Tensor: shape=(3, 2), dtype=int32, numpy=\n",
              "array([[20, 59],\n",
              "       [34, 57],\n",
              "       [30, 60]], dtype=int32)>"
            ]
          },
          "metadata": {},
          "execution_count": 94
        }
      ],
      "source": [
        "left_tensor @ right_tensor"
      ]
    },
    {
      "cell_type": "code",
      "execution_count": 95,
      "metadata": {
        "colab": {
          "base_uri": "https://localhost:8080/"
        },
        "id": "3PLQIYiGf8WO",
        "outputId": "cfb8b678-b76b-488e-d5a0-7ea3a32ab246"
      },
      "outputs": [
        {
          "output_type": "execute_result",
          "data": {
            "text/plain": [
              "(<tf.Tensor: shape=(3, 2), dtype=int32, numpy=\n",
              " array([[1, 2],\n",
              "        [3, 4],\n",
              "        [5, 6]], dtype=int32)>, <tf.Tensor: shape=(3, 2), dtype=int32, numpy=\n",
              " array([[ 7,  8],\n",
              "        [ 9, 10],\n",
              "        [11, 12]], dtype=int32)>)"
            ]
          },
          "metadata": {},
          "execution_count": 95
        }
      ],
      "source": [
        "# create a tensor (3,2) \n",
        "X = tf.constant([[1,2], [3, 4], [5, 6]])\n",
        "\n",
        "# create another (3, 2) tensor\n",
        "Y = tf.constant([[7, 8], [9, 10], [11, 12]])\n",
        "\n",
        "X, Y"
      ]
    },
    {
      "cell_type": "code",
      "execution_count": 98,
      "metadata": {
        "colab": {
          "base_uri": "https://localhost:8080/",
          "height": 330
        },
        "id": "SQD2N5V7gaZQ",
        "outputId": "cd65996b-c549-495e-f1b5-634f43323e22"
      },
      "outputs": [
        {
          "output_type": "error",
          "ename": "InvalidArgumentError",
          "evalue": "ignored",
          "traceback": [
            "\u001b[0;31m---------------------------------------------------------------------------\u001b[0m",
            "\u001b[0;31mInvalidArgumentError\u001b[0m                      Traceback (most recent call last)",
            "\u001b[0;32m<ipython-input-98-170c9555c6e2>\u001b[0m in \u001b[0;36m<module>\u001b[0;34m\u001b[0m\n\u001b[1;32m      1\u001b[0m \u001b[0;31m# try to matrix multiply tensors of same shape\u001b[0m\u001b[0;34m\u001b[0m\u001b[0;34m\u001b[0m\u001b[0;34m\u001b[0m\u001b[0m\n\u001b[0;32m----> 2\u001b[0;31m \u001b[0mX\u001b[0m \u001b[0;34m@\u001b[0m \u001b[0mY\u001b[0m\u001b[0;34m\u001b[0m\u001b[0;34m\u001b[0m\u001b[0m\n\u001b[0m",
            "\u001b[0;32m/usr/local/lib/python3.7/dist-packages/tensorflow/python/util/traceback_utils.py\u001b[0m in \u001b[0;36merror_handler\u001b[0;34m(*args, **kwargs)\u001b[0m\n\u001b[1;32m    151\u001b[0m     \u001b[0;32mexcept\u001b[0m \u001b[0mException\u001b[0m \u001b[0;32mas\u001b[0m \u001b[0me\u001b[0m\u001b[0;34m:\u001b[0m\u001b[0;34m\u001b[0m\u001b[0;34m\u001b[0m\u001b[0m\n\u001b[1;32m    152\u001b[0m       \u001b[0mfiltered_tb\u001b[0m \u001b[0;34m=\u001b[0m \u001b[0m_process_traceback_frames\u001b[0m\u001b[0;34m(\u001b[0m\u001b[0me\u001b[0m\u001b[0;34m.\u001b[0m\u001b[0m__traceback__\u001b[0m\u001b[0;34m)\u001b[0m\u001b[0;34m\u001b[0m\u001b[0;34m\u001b[0m\u001b[0m\n\u001b[0;32m--> 153\u001b[0;31m       \u001b[0;32mraise\u001b[0m \u001b[0me\u001b[0m\u001b[0;34m.\u001b[0m\u001b[0mwith_traceback\u001b[0m\u001b[0;34m(\u001b[0m\u001b[0mfiltered_tb\u001b[0m\u001b[0;34m)\u001b[0m \u001b[0;32mfrom\u001b[0m \u001b[0;32mNone\u001b[0m\u001b[0;34m\u001b[0m\u001b[0;34m\u001b[0m\u001b[0m\n\u001b[0m\u001b[1;32m    154\u001b[0m     \u001b[0;32mfinally\u001b[0m\u001b[0;34m:\u001b[0m\u001b[0;34m\u001b[0m\u001b[0;34m\u001b[0m\u001b[0m\n\u001b[1;32m    155\u001b[0m       \u001b[0;32mdel\u001b[0m \u001b[0mfiltered_tb\u001b[0m\u001b[0;34m\u001b[0m\u001b[0;34m\u001b[0m\u001b[0m\n",
            "\u001b[0;32m/usr/local/lib/python3.7/dist-packages/tensorflow/python/framework/ops.py\u001b[0m in \u001b[0;36mraise_from_not_ok_status\u001b[0;34m(e, name)\u001b[0m\n\u001b[1;32m   7184\u001b[0m \u001b[0;32mdef\u001b[0m \u001b[0mraise_from_not_ok_status\u001b[0m\u001b[0;34m(\u001b[0m\u001b[0me\u001b[0m\u001b[0;34m,\u001b[0m \u001b[0mname\u001b[0m\u001b[0;34m)\u001b[0m\u001b[0;34m:\u001b[0m\u001b[0;34m\u001b[0m\u001b[0;34m\u001b[0m\u001b[0m\n\u001b[1;32m   7185\u001b[0m   \u001b[0me\u001b[0m\u001b[0;34m.\u001b[0m\u001b[0mmessage\u001b[0m \u001b[0;34m+=\u001b[0m \u001b[0;34m(\u001b[0m\u001b[0;34m\" name: \"\u001b[0m \u001b[0;34m+\u001b[0m \u001b[0mname\u001b[0m \u001b[0;32mif\u001b[0m \u001b[0mname\u001b[0m \u001b[0;32mis\u001b[0m \u001b[0;32mnot\u001b[0m \u001b[0;32mNone\u001b[0m \u001b[0;32melse\u001b[0m \u001b[0;34m\"\"\u001b[0m\u001b[0;34m)\u001b[0m\u001b[0;34m\u001b[0m\u001b[0;34m\u001b[0m\u001b[0m\n\u001b[0;32m-> 7186\u001b[0;31m   \u001b[0;32mraise\u001b[0m \u001b[0mcore\u001b[0m\u001b[0;34m.\u001b[0m\u001b[0m_status_to_exception\u001b[0m\u001b[0;34m(\u001b[0m\u001b[0me\u001b[0m\u001b[0;34m)\u001b[0m \u001b[0;32mfrom\u001b[0m \u001b[0;32mNone\u001b[0m  \u001b[0;31m# pylint: disable=protected-access\u001b[0m\u001b[0;34m\u001b[0m\u001b[0;34m\u001b[0m\u001b[0m\n\u001b[0m\u001b[1;32m   7187\u001b[0m \u001b[0;34m\u001b[0m\u001b[0m\n\u001b[1;32m   7188\u001b[0m \u001b[0;34m\u001b[0m\u001b[0m\n",
            "\u001b[0;31mInvalidArgumentError\u001b[0m: Matrix size-incompatible: In[0]: [3,2], In[1]: [3,2] [Op:MatMul]"
          ]
        }
      ],
      "source": [
        "# try to matrix multiply tensors of same shape\n",
        "X @ Y "
      ]
    },
    {
      "cell_type": "code",
      "execution_count": 99,
      "metadata": {
        "colab": {
          "base_uri": "https://localhost:8080/",
          "height": 313
        },
        "id": "0gPmfY7pgkK6",
        "outputId": "a540f0a8-361b-4630-b7a5-11caacfd8462"
      },
      "outputs": [
        {
          "output_type": "error",
          "ename": "InvalidArgumentError",
          "evalue": "ignored",
          "traceback": [
            "\u001b[0;31m---------------------------------------------------------------------------\u001b[0m",
            "\u001b[0;31mInvalidArgumentError\u001b[0m                      Traceback (most recent call last)",
            "\u001b[0;32m<ipython-input-99-b58f5d491930>\u001b[0m in \u001b[0;36m<module>\u001b[0;34m\u001b[0m\n\u001b[0;32m----> 1\u001b[0;31m \u001b[0mtf\u001b[0m\u001b[0;34m.\u001b[0m\u001b[0mmatmul\u001b[0m\u001b[0;34m(\u001b[0m\u001b[0mX\u001b[0m\u001b[0;34m,\u001b[0m \u001b[0mY\u001b[0m\u001b[0;34m)\u001b[0m\u001b[0;34m\u001b[0m\u001b[0;34m\u001b[0m\u001b[0m\n\u001b[0m",
            "\u001b[0;32m/usr/local/lib/python3.7/dist-packages/tensorflow/python/util/traceback_utils.py\u001b[0m in \u001b[0;36merror_handler\u001b[0;34m(*args, **kwargs)\u001b[0m\n\u001b[1;32m    151\u001b[0m     \u001b[0;32mexcept\u001b[0m \u001b[0mException\u001b[0m \u001b[0;32mas\u001b[0m \u001b[0me\u001b[0m\u001b[0;34m:\u001b[0m\u001b[0;34m\u001b[0m\u001b[0;34m\u001b[0m\u001b[0m\n\u001b[1;32m    152\u001b[0m       \u001b[0mfiltered_tb\u001b[0m \u001b[0;34m=\u001b[0m \u001b[0m_process_traceback_frames\u001b[0m\u001b[0;34m(\u001b[0m\u001b[0me\u001b[0m\u001b[0;34m.\u001b[0m\u001b[0m__traceback__\u001b[0m\u001b[0;34m)\u001b[0m\u001b[0;34m\u001b[0m\u001b[0;34m\u001b[0m\u001b[0m\n\u001b[0;32m--> 153\u001b[0;31m       \u001b[0;32mraise\u001b[0m \u001b[0me\u001b[0m\u001b[0;34m.\u001b[0m\u001b[0mwith_traceback\u001b[0m\u001b[0;34m(\u001b[0m\u001b[0mfiltered_tb\u001b[0m\u001b[0;34m)\u001b[0m \u001b[0;32mfrom\u001b[0m \u001b[0;32mNone\u001b[0m\u001b[0;34m\u001b[0m\u001b[0;34m\u001b[0m\u001b[0m\n\u001b[0m\u001b[1;32m    154\u001b[0m     \u001b[0;32mfinally\u001b[0m\u001b[0;34m:\u001b[0m\u001b[0;34m\u001b[0m\u001b[0;34m\u001b[0m\u001b[0m\n\u001b[1;32m    155\u001b[0m       \u001b[0;32mdel\u001b[0m \u001b[0mfiltered_tb\u001b[0m\u001b[0;34m\u001b[0m\u001b[0;34m\u001b[0m\u001b[0m\n",
            "\u001b[0;32m/usr/local/lib/python3.7/dist-packages/tensorflow/python/framework/ops.py\u001b[0m in \u001b[0;36mraise_from_not_ok_status\u001b[0;34m(e, name)\u001b[0m\n\u001b[1;32m   7184\u001b[0m \u001b[0;32mdef\u001b[0m \u001b[0mraise_from_not_ok_status\u001b[0m\u001b[0;34m(\u001b[0m\u001b[0me\u001b[0m\u001b[0;34m,\u001b[0m \u001b[0mname\u001b[0m\u001b[0;34m)\u001b[0m\u001b[0;34m:\u001b[0m\u001b[0;34m\u001b[0m\u001b[0;34m\u001b[0m\u001b[0m\n\u001b[1;32m   7185\u001b[0m   \u001b[0me\u001b[0m\u001b[0;34m.\u001b[0m\u001b[0mmessage\u001b[0m \u001b[0;34m+=\u001b[0m \u001b[0;34m(\u001b[0m\u001b[0;34m\" name: \"\u001b[0m \u001b[0;34m+\u001b[0m \u001b[0mname\u001b[0m \u001b[0;32mif\u001b[0m \u001b[0mname\u001b[0m \u001b[0;32mis\u001b[0m \u001b[0;32mnot\u001b[0m \u001b[0;32mNone\u001b[0m \u001b[0;32melse\u001b[0m \u001b[0;34m\"\"\u001b[0m\u001b[0;34m)\u001b[0m\u001b[0;34m\u001b[0m\u001b[0;34m\u001b[0m\u001b[0m\n\u001b[0;32m-> 7186\u001b[0;31m   \u001b[0;32mraise\u001b[0m \u001b[0mcore\u001b[0m\u001b[0;34m.\u001b[0m\u001b[0m_status_to_exception\u001b[0m\u001b[0;34m(\u001b[0m\u001b[0me\u001b[0m\u001b[0;34m)\u001b[0m \u001b[0;32mfrom\u001b[0m \u001b[0;32mNone\u001b[0m  \u001b[0;31m# pylint: disable=protected-access\u001b[0m\u001b[0;34m\u001b[0m\u001b[0;34m\u001b[0m\u001b[0m\n\u001b[0m\u001b[1;32m   7187\u001b[0m \u001b[0;34m\u001b[0m\u001b[0m\n\u001b[1;32m   7188\u001b[0m \u001b[0;34m\u001b[0m\u001b[0m\n",
            "\u001b[0;31mInvalidArgumentError\u001b[0m: Matrix size-incompatible: In[0]: [3,2], In[1]: [3,2] [Op:MatMul]"
          ]
        }
      ],
      "source": [
        "tf.matmul(X, Y)"
      ]
    },
    {
      "cell_type": "markdown",
      "metadata": {
        "id": "TDpx4E3fhh6b"
      },
      "source": [
        "## Matrix Mulitplication (Reshape tensors)"
      ]
    },
    {
      "cell_type": "code",
      "execution_count": 100,
      "metadata": {
        "colab": {
          "base_uri": "https://localhost:8080/"
        },
        "id": "mp9-GNcJjg9E",
        "outputId": "132dbfb0-1692-4767-f032-152597ff873e"
      },
      "outputs": [
        {
          "output_type": "execute_result",
          "data": {
            "text/plain": [
              "(TensorShape([3, 2]), TensorShape([3, 2]))"
            ]
          },
          "metadata": {},
          "execution_count": 100
        }
      ],
      "source": [
        "X.shape, Y.shape"
      ]
    },
    {
      "cell_type": "code",
      "execution_count": 101,
      "metadata": {
        "colab": {
          "base_uri": "https://localhost:8080/"
        },
        "id": "tpzbzyahgmzV",
        "outputId": "188396bd-4605-45ee-bd04-f1bfe9dded5d"
      },
      "outputs": [
        {
          "output_type": "execute_result",
          "data": {
            "text/plain": [
              "<tf.Tensor: shape=(2, 3), dtype=int32, numpy=\n",
              "array([[1, 2, 3],\n",
              "       [4, 5, 6]], dtype=int32)>"
            ]
          },
          "metadata": {},
          "execution_count": 101
        }
      ],
      "source": [
        "tf.reshape(X, shape=(2, 3))"
      ]
    },
    {
      "cell_type": "code",
      "execution_count": 102,
      "metadata": {
        "colab": {
          "base_uri": "https://localhost:8080/"
        },
        "id": "ld4fRxZuhXND",
        "outputId": "a1de29cb-ca2d-401c-fe25-c249044873af"
      },
      "outputs": [
        {
          "output_type": "execute_result",
          "data": {
            "text/plain": [
              "<tf.Tensor: shape=(2, 2), dtype=int32, numpy=\n",
              "array([[ 58,  64],\n",
              "       [139, 154]], dtype=int32)>"
            ]
          },
          "metadata": {},
          "execution_count": 102
        }
      ],
      "source": [
        "# change the shape of X\n",
        "tf.matmul(tf.reshape(X, shape=(2, 3)), Y)"
      ]
    },
    {
      "cell_type": "code",
      "execution_count": 103,
      "metadata": {
        "colab": {
          "base_uri": "https://localhost:8080/"
        },
        "id": "OzD9toAIhaGe",
        "outputId": "fbbc3adf-1e2e-406d-ac35-ebb3fc1bfeb3"
      },
      "outputs": [
        {
          "output_type": "execute_result",
          "data": {
            "text/plain": [
              "<tf.Tensor: shape=(3, 3), dtype=int32, numpy=\n",
              "array([[ 27,  30,  33],\n",
              "       [ 61,  68,  75],\n",
              "       [ 95, 106, 117]], dtype=int32)>"
            ]
          },
          "metadata": {},
          "execution_count": 103
        }
      ],
      "source": [
        "# change the shape of Y\n",
        "tf.matmul(X, tf.reshape(Y, shape=(2, 3)))"
      ]
    },
    {
      "cell_type": "code",
      "execution_count": 104,
      "metadata": {
        "colab": {
          "base_uri": "https://localhost:8080/"
        },
        "id": "kObuIOu_naeI",
        "outputId": "cf8513aa-cada-4811-815e-53346c964b5c"
      },
      "outputs": [
        {
          "output_type": "execute_result",
          "data": {
            "text/plain": [
              "<tf.Tensor: shape=(3, 2), dtype=int32, numpy=\n",
              "array([[1, 2],\n",
              "       [3, 4],\n",
              "       [5, 6]], dtype=int32)>"
            ]
          },
          "metadata": {},
          "execution_count": 104
        }
      ],
      "source": [
        "X"
      ]
    },
    {
      "cell_type": "markdown",
      "metadata": {
        "id": "UbAe1U4-n6Oy"
      },
      "source": [
        "## Matrix multiplication with Transpose\n",
        "\n",
        "\n"
      ]
    },
    {
      "cell_type": "code",
      "execution_count": 207,
      "metadata": {
        "colab": {
          "base_uri": "https://localhost:8080/"
        },
        "id": "QUgRi9PShboW",
        "outputId": "5b2089be-7fdf-4afc-8023-e4b901a4eb05"
      },
      "outputs": [
        {
          "output_type": "execute_result",
          "data": {
            "text/plain": [
              "(<tf.Tensor: shape=(2, 3), dtype=int32, numpy=\n",
              " array([[1, 3, 5],\n",
              "        [2, 4, 6]], dtype=int32)>,\n",
              " <tf.Tensor: shape=(2, 3), dtype=int32, numpy=\n",
              " array([[1, 2, 3],\n",
              "        [4, 5, 6]], dtype=int32)>)"
            ]
          },
          "metadata": {},
          "execution_count": 207
        }
      ],
      "source": [
        "# can do the same with Transpose\n",
        "# but we can see that the results are different from Transpose & Reshape\n",
        "tf.transpose(X), tf.reshape(X, shape=(2, 3))"
      ]
    },
    {
      "cell_type": "code",
      "execution_count": 208,
      "metadata": {
        "colab": {
          "base_uri": "https://localhost:8080/"
        },
        "id": "P6syOHOjm8Ae",
        "outputId": "50d15d35-ca9b-4d9d-e561-c31e101daf32"
      },
      "outputs": [
        {
          "output_type": "execute_result",
          "data": {
            "text/plain": [
              "<tf.Tensor: shape=(2, 2), dtype=int32, numpy=\n",
              "array([[ 89,  98],\n",
              "       [116, 128]], dtype=int32)>"
            ]
          },
          "metadata": {},
          "execution_count": 208
        }
      ],
      "source": [
        "# try matrix multiplication with Transpose\n",
        "tf.matmul(tf.transpose(X), Y)"
      ]
    },
    {
      "cell_type": "markdown",
      "metadata": {
        "id": "wpW138y3oGjj"
      },
      "source": [
        "## The dot product\n",
        "\n",
        "You can perform the `tf.matmul()` operation using `tf.tensordot()`\n"
      ]
    },
    {
      "cell_type": "code",
      "execution_count": 107,
      "metadata": {
        "colab": {
          "base_uri": "https://localhost:8080/"
        },
        "id": "kiZi7Yvjp0Tm",
        "outputId": "62aa3caa-f47e-46a6-9e19-9d3946c7048e"
      },
      "outputs": [
        {
          "output_type": "execute_result",
          "data": {
            "text/plain": [
              "(<tf.Tensor: shape=(3, 2), dtype=int32, numpy=\n",
              " array([[1, 2],\n",
              "        [3, 4],\n",
              "        [5, 6]], dtype=int32)>, <tf.Tensor: shape=(3, 2), dtype=int32, numpy=\n",
              " array([[ 7,  8],\n",
              "        [ 9, 10],\n",
              "        [11, 12]], dtype=int32)>)"
            ]
          },
          "metadata": {},
          "execution_count": 107
        }
      ],
      "source": [
        "X, Y"
      ]
    },
    {
      "cell_type": "code",
      "execution_count": 108,
      "metadata": {
        "colab": {
          "base_uri": "https://localhost:8080/"
        },
        "id": "BW_a_BBhpMdg",
        "outputId": "18f91153-f8a6-4645-8da7-dab41262e22b"
      },
      "outputs": [
        {
          "output_type": "execute_result",
          "data": {
            "text/plain": [
              "<tf.Tensor: shape=(2, 2), dtype=int32, numpy=\n",
              "array([[ 89,  98],\n",
              "       [116, 128]], dtype=int32)>"
            ]
          },
          "metadata": {},
          "execution_count": 108
        }
      ],
      "source": [
        "# perform dot product on X and Y (requires X or Y to be transposed)\n",
        "tf.tensordot(tf.transpose(X), Y, axes=1)"
      ]
    },
    {
      "cell_type": "code",
      "execution_count": 109,
      "metadata": {
        "colab": {
          "base_uri": "https://localhost:8080/"
        },
        "id": "sxKE42UGp4cR",
        "outputId": "b4bc642f-9072-4a1f-eaf9-ddca5debdee2"
      },
      "outputs": [
        {
          "output_type": "execute_result",
          "data": {
            "text/plain": [
              "<tf.Tensor: shape=(3, 3), dtype=int32, numpy=\n",
              "array([[ 23,  29,  35],\n",
              "       [ 53,  67,  81],\n",
              "       [ 83, 105, 127]], dtype=int32)>"
            ]
          },
          "metadata": {},
          "execution_count": 109
        }
      ],
      "source": [
        "# perform matrix mulitplication between X and Y  (transpose)\n",
        "tf.matmul(X, tf.transpose(Y))"
      ]
    },
    {
      "cell_type": "code",
      "execution_count": 110,
      "metadata": {
        "colab": {
          "base_uri": "https://localhost:8080/"
        },
        "id": "QM9T1hJ-qZA-",
        "outputId": "067f0e9d-6b6b-4122-d11f-6912e3d1b3d2"
      },
      "outputs": [
        {
          "output_type": "execute_result",
          "data": {
            "text/plain": [
              "<tf.Tensor: shape=(3, 3), dtype=int32, numpy=\n",
              "array([[ 27,  30,  33],\n",
              "       [ 61,  68,  75],\n",
              "       [ 95, 106, 117]], dtype=int32)>"
            ]
          },
          "metadata": {},
          "execution_count": 110
        }
      ],
      "source": [
        "# perform matrix multiplication between X and Y (reshape)\n",
        "tf.matmul(X, tf.reshape(Y, shape=(2,3)))"
      ]
    },
    {
      "cell_type": "markdown",
      "metadata": {
        "id": "qkNGXwbNrJnh"
      },
      "source": [
        "## Check the value of Y, reshape Y and transposed Y"
      ]
    },
    {
      "cell_type": "code",
      "execution_count": 111,
      "metadata": {
        "colab": {
          "base_uri": "https://localhost:8080/"
        },
        "id": "U1wKSSHPqi24",
        "outputId": "505b0525-1e91-4ccb-9539-a749948261ed"
      },
      "outputs": [
        {
          "output_type": "stream",
          "name": "stdout",
          "text": [
            "Normal Y:  tf.Tensor(\n",
            "[[ 7  8]\n",
            " [ 9 10]\n",
            " [11 12]], shape=(3, 2), dtype=int32)\n",
            "\n",
            " Y reshaped:  tf.Tensor(\n",
            "[[ 7  8  9]\n",
            " [10 11 12]], shape=(2, 3), dtype=int32)\n",
            "\n",
            " Y transposed:  tf.Tensor(\n",
            "[[ 7  9 11]\n",
            " [ 8 10 12]], shape=(2, 3), dtype=int32)\n"
          ]
        }
      ],
      "source": [
        "# Check the value of Y, reshape Y and transposed Y\n",
        "print('Normal Y: ', Y)\n",
        "print('\\n Y reshaped: ', tf.reshape(Y, shape=(2, 3)))\n",
        "print('\\n Y transposed: ', tf.transpose(Y))"
      ]
    },
    {
      "cell_type": "markdown",
      "metadata": {
        "id": "0Ic-Cf-fBngP"
      },
      "source": [
        "\n",
        "# Changing the datatype of a tensor\n",
        "\n",
        "Sometimes we want to alter the default datatype of tensor. \n",
        "\n",
        "\n",
        "Computing with less precision is useful on devices with less computing capacity such as mobile devices (because the less bits, the less space the computations require).\n"
      ]
    },
    {
      "cell_type": "code",
      "execution_count": 209,
      "metadata": {
        "colab": {
          "base_uri": "https://localhost:8080/",
          "height": 35
        },
        "id": "A_JsKJRpC1Px",
        "outputId": "e6232564-d612-4e22-b125-4fe421c204d8"
      },
      "outputs": [
        {
          "output_type": "execute_result",
          "data": {
            "text/plain": [
              "'2.8.2'"
            ],
            "application/vnd.google.colaboratory.intrinsic+json": {
              "type": "string"
            }
          },
          "metadata": {},
          "execution_count": 209
        }
      ],
      "source": [
        "tf.__version__"
      ]
    },
    {
      "cell_type": "code",
      "execution_count": 210,
      "metadata": {
        "colab": {
          "base_uri": "https://localhost:8080/"
        },
        "id": "d4fH1aPLCjcA",
        "outputId": "c2b84cd0-0204-412a-e399-0a657a3d9402"
      },
      "outputs": [
        {
          "output_type": "execute_result",
          "data": {
            "text/plain": [
              "tf.float32"
            ]
          },
          "metadata": {},
          "execution_count": 210
        }
      ],
      "source": [
        "# create a new tensor with default datatype (float 32)\n",
        "B = tf.constant([1.7, 7.4])\n",
        "B.dtype"
      ]
    },
    {
      "cell_type": "code",
      "execution_count": 211,
      "metadata": {
        "colab": {
          "base_uri": "https://localhost:8080/"
        },
        "id": "gOtgqerQCuRW",
        "outputId": "cfd0a10e-c02f-4af5-8cf2-edefad329a5a"
      },
      "outputs": [
        {
          "output_type": "execute_result",
          "data": {
            "text/plain": [
              "tf.int32"
            ]
          },
          "metadata": {},
          "execution_count": 211
        }
      ],
      "source": [
        "C = tf.constant([7, 10])\n",
        "C.dtype"
      ]
    },
    {
      "cell_type": "code",
      "execution_count": 212,
      "metadata": {
        "colab": {
          "base_uri": "https://localhost:8080/"
        },
        "id": "xWQSBOaaCw0W",
        "outputId": "ca78df1c-3696-4883-f132-4094c038bcc3"
      },
      "outputs": [
        {
          "output_type": "execute_result",
          "data": {
            "text/plain": [
              "tf.float16"
            ]
          },
          "metadata": {},
          "execution_count": 212
        }
      ],
      "source": [
        "# Change from float 32 to float16 (reduced precision)\n",
        "D = tf.cast(B, dtype=tf.float16)\n",
        "D.dtype"
      ]
    },
    {
      "cell_type": "code",
      "execution_count": 213,
      "metadata": {
        "colab": {
          "base_uri": "https://localhost:8080/"
        },
        "id": "NsxaX6jVDf2M",
        "outputId": "e48684d1-0628-4659-d30d-0883a3da6770"
      },
      "outputs": [
        {
          "output_type": "execute_result",
          "data": {
            "text/plain": [
              "tf.float32"
            ]
          },
          "metadata": {},
          "execution_count": 213
        }
      ],
      "source": [
        "# change from int32 to float32\n",
        "E = tf.cast(C, dtype=tf.float32)\n",
        "E.dtype"
      ]
    },
    {
      "cell_type": "code",
      "execution_count": 214,
      "metadata": {
        "colab": {
          "base_uri": "https://localhost:8080/"
        },
        "id": "7fcqqLQjDh24",
        "outputId": "c134746a-66c4-424d-f5fc-f843d01a267f"
      },
      "outputs": [
        {
          "output_type": "execute_result",
          "data": {
            "text/plain": [
              "tf.float16"
            ]
          },
          "metadata": {},
          "execution_count": 214
        }
      ],
      "source": [
        "E_float16 = tf.cast(E, dtype=tf.float16)\n",
        "E_float16.dtype"
      ]
    },
    {
      "cell_type": "markdown",
      "metadata": {
        "id": "xTomSE4GEFf_"
      },
      "source": [
        "----"
      ]
    },
    {
      "cell_type": "markdown",
      "metadata": {
        "id": "O_KCt2U_EKsr"
      },
      "source": [
        "# Getting the absolute Value\n",
        "\n",
        "`tf.abs()`"
      ]
    },
    {
      "cell_type": "code",
      "execution_count": 215,
      "metadata": {
        "colab": {
          "base_uri": "https://localhost:8080/"
        },
        "id": "pIqe-3DlEwZu",
        "outputId": "408ee3e4-8d28-4dae-f886-27f3a6e919ca"
      },
      "outputs": [
        {
          "output_type": "execute_result",
          "data": {
            "text/plain": [
              "<tf.Tensor: shape=(1, 2), dtype=int32, numpy=array([[-7, -9]], dtype=int32)>"
            ]
          },
          "metadata": {},
          "execution_count": 215
        }
      ],
      "source": [
        "test = tf.constant([[-7, -9]])\n",
        "test"
      ]
    },
    {
      "cell_type": "code",
      "execution_count": 216,
      "metadata": {
        "colab": {
          "base_uri": "https://localhost:8080/"
        },
        "id": "0YTBQUYoE2gt",
        "outputId": "d9620be7-fc2a-4dea-b917-a986276f8b4f"
      },
      "outputs": [
        {
          "output_type": "execute_result",
          "data": {
            "text/plain": [
              "<tf.Tensor: shape=(1, 2), dtype=int32, numpy=array([[7, 9]], dtype=int32)>"
            ]
          },
          "metadata": {},
          "execution_count": 216
        }
      ],
      "source": [
        "tf.abs(test) # Get the absolute values"
      ]
    },
    {
      "cell_type": "markdown",
      "metadata": {
        "id": "BrUkVsL-E4OQ"
      },
      "source": [
        "# Aggregation Tensors\n",
        "\n",
        "### Finding the min, max, mean, sum (aggregation)"
      ]
    },
    {
      "cell_type": "markdown",
      "metadata": {
        "id": "T9PeruD0FSrZ"
      },
      "source": [
        "**Aggregrating Tensors**: condensing them from multiple values down to a smaller amount of values."
      ]
    },
    {
      "cell_type": "code",
      "execution_count": 217,
      "metadata": {
        "id": "BQxw1q3EG-UU"
      },
      "outputs": [],
      "source": [
        "import numpy as np"
      ]
    },
    {
      "cell_type": "code",
      "execution_count": 218,
      "metadata": {
        "colab": {
          "base_uri": "https://localhost:8080/"
        },
        "id": "cRVpROMzF6vK",
        "outputId": "ab88102e-fa99-4e13-9376-eae4f07a1e65"
      },
      "outputs": [
        {
          "output_type": "execute_result",
          "data": {
            "text/plain": [
              "<tf.Tensor: shape=(50,), dtype=int64, numpy=\n",
              "array([13, 59, 11, 82,  2, 69, 42,  5, 87, 27, 46, 98, 54, 19, 90, 12, 65,\n",
              "       42, 93, 60, 68,  6, 26, 34, 60, 62, 75, 87, 54,  7, 74, 19,  2, 77,\n",
              "       51, 83, 12,  2, 92, 68,  5, 35, 30, 77, 20, 99, 49, 74, 21, 79])>"
            ]
          },
          "metadata": {},
          "execution_count": 218
        }
      ],
      "source": [
        "# create a random tensor with values between 0 and 100\n",
        "sample = tf.constant(np.random.randint(0, 100, size=50))\n",
        "sample"
      ]
    },
    {
      "cell_type": "code",
      "execution_count": 219,
      "metadata": {
        "colab": {
          "base_uri": "https://localhost:8080/"
        },
        "id": "BbOf1PhpGoBT",
        "outputId": "26f01784-bf79-4cb7-f696-c261bdde7c1f"
      },
      "outputs": [
        {
          "output_type": "execute_result",
          "data": {
            "text/plain": [
              "<tf.Tensor: shape=(), dtype=int64, numpy=2>"
            ]
          },
          "metadata": {},
          "execution_count": 219
        }
      ],
      "source": [
        "# find the minimum\n",
        "tf.reduce_min(sample)"
      ]
    },
    {
      "cell_type": "code",
      "execution_count": 220,
      "metadata": {
        "colab": {
          "base_uri": "https://localhost:8080/"
        },
        "id": "zdX39R2FGsiU",
        "outputId": "cec78884-79f1-4bc2-d555-338068360341"
      },
      "outputs": [
        {
          "output_type": "execute_result",
          "data": {
            "text/plain": [
              "<tf.Tensor: shape=(), dtype=int64, numpy=99>"
            ]
          },
          "metadata": {},
          "execution_count": 220
        }
      ],
      "source": [
        "# find the maximum\n",
        "tf.reduce_max(sample)"
      ]
    },
    {
      "cell_type": "code",
      "execution_count": 221,
      "metadata": {
        "colab": {
          "base_uri": "https://localhost:8080/"
        },
        "id": "2fZfLLPkGvTj",
        "outputId": "a022a908-eba7-42a2-fe32-5baa03797303"
      },
      "outputs": [
        {
          "output_type": "execute_result",
          "data": {
            "text/plain": [
              "<tf.Tensor: shape=(), dtype=int64, numpy=48>"
            ]
          },
          "metadata": {},
          "execution_count": 221
        }
      ],
      "source": [
        "# find the mean\n",
        "tf.reduce_mean(sample)"
      ]
    },
    {
      "cell_type": "code",
      "execution_count": 222,
      "metadata": {
        "colab": {
          "base_uri": "https://localhost:8080/"
        },
        "id": "_mNiyqC7GyG-",
        "outputId": "703b49b9-eb10-4d4f-c0df-dc90a1d3ce21"
      },
      "outputs": [
        {
          "output_type": "execute_result",
          "data": {
            "text/plain": [
              "<tf.Tensor: shape=(), dtype=int64, numpy=2424>"
            ]
          },
          "metadata": {},
          "execution_count": 222
        }
      ],
      "source": [
        "# find the sum\n",
        "tf.reduce_sum(sample)"
      ]
    },
    {
      "cell_type": "code",
      "execution_count": 223,
      "metadata": {
        "id": "dzmTXl1UIiUj"
      },
      "outputs": [],
      "source": [
        "import tensorflow_probability as tfp"
      ]
    },
    {
      "cell_type": "code",
      "execution_count": 224,
      "metadata": {
        "colab": {
          "base_uri": "https://localhost:8080/"
        },
        "id": "AroKnTQtG0tY",
        "outputId": "b786729a-6881-4a51-cd2c-15952faa3108"
      },
      "outputs": [
        {
          "output_type": "execute_result",
          "data": {
            "text/plain": [
              "<tf.Tensor: shape=(), dtype=int64, numpy=935>"
            ]
          },
          "metadata": {},
          "execution_count": 224
        }
      ],
      "source": [
        "# find the variance\n",
        "tfp.stats.variance(sample)"
      ]
    },
    {
      "cell_type": "code",
      "execution_count": 225,
      "metadata": {
        "colab": {
          "base_uri": "https://localhost:8080/"
        },
        "id": "BxZ_Sm_nJl5Y",
        "outputId": "bb64176a-58c3-40ac-e827-5b0f35f47f6a"
      },
      "outputs": [
        {
          "output_type": "execute_result",
          "data": {
            "text/plain": [
              "<tf.Tensor: shape=(), dtype=float32, numpy=934.8095>"
            ]
          },
          "metadata": {},
          "execution_count": 225
        }
      ],
      "source": [
        "tf.math.reduce_variance(tf.cast(sample, dtype=tf.float32))"
      ]
    },
    {
      "cell_type": "code",
      "execution_count": 226,
      "metadata": {
        "colab": {
          "base_uri": "https://localhost:8080/"
        },
        "id": "7mqWz1vgHj4G",
        "outputId": "74acc86a-45b0-4d15-bf72-a8ccf35919ae"
      },
      "outputs": [
        {
          "output_type": "execute_result",
          "data": {
            "text/plain": [
              "<tf.Tensor: shape=(), dtype=float32, numpy=30.574656>"
            ]
          },
          "metadata": {},
          "execution_count": 226
        }
      ],
      "source": [
        "# find the standard deviation\n",
        "tf.math.reduce_std(tf.cast(sample, dtype=tf.float32))"
      ]
    },
    {
      "cell_type": "markdown",
      "metadata": {
        "id": "E4yNnYG6HyL1"
      },
      "source": [
        "# Finding the positional maximum and minimum\n",
        "\n",
        "Finding the position a tensor where the maximum value occurs?\n",
        "\n",
        "\n",
        "`tf.argmax()`  find the position of the minimum element in a given tensor.\n",
        "\n",
        "\n",
        "`tf.argmin()`  find the position of the minimum element in a given tensor."
      ]
    },
    {
      "cell_type": "code",
      "execution_count": 227,
      "metadata": {
        "colab": {
          "base_uri": "https://localhost:8080/"
        },
        "id": "ppO6iVvWJhnp",
        "outputId": "ab5f8906-5653-4cdf-aba1-fb736dcc8a56"
      },
      "outputs": [
        {
          "output_type": "execute_result",
          "data": {
            "text/plain": [
              "<tf.Tensor: shape=(50,), dtype=float32, numpy=\n",
              "array([0.6645621 , 0.44100678, 0.3528825 , 0.46448255, 0.03366041,\n",
              "       0.68467236, 0.74011743, 0.8724445 , 0.22632635, 0.22319686,\n",
              "       0.3103881 , 0.7223358 , 0.13318717, 0.5480639 , 0.5746088 ,\n",
              "       0.8996835 , 0.00946367, 0.5212307 , 0.6345445 , 0.1993283 ,\n",
              "       0.72942245, 0.54583454, 0.10756552, 0.6767061 , 0.6602763 ,\n",
              "       0.33695042, 0.60141766, 0.21062577, 0.8527372 , 0.44062173,\n",
              "       0.9485276 , 0.23752594, 0.81179297, 0.5263394 , 0.494308  ,\n",
              "       0.21612847, 0.8457197 , 0.8718841 , 0.3083862 , 0.6868038 ,\n",
              "       0.23764038, 0.7817228 , 0.9671384 , 0.06870162, 0.79873943,\n",
              "       0.66028714, 0.5871513 , 0.16461694, 0.7381023 , 0.32054043],\n",
              "      dtype=float32)>"
            ]
          },
          "metadata": {},
          "execution_count": 227
        }
      ],
      "source": [
        "# create a new tensor for finding positional minimum and maximum\n",
        "tf.random.set_seed(42)\n",
        "F = tf.random.uniform(shape=[50])\n",
        "F"
      ]
    },
    {
      "cell_type": "code",
      "execution_count": 228,
      "metadata": {
        "colab": {
          "base_uri": "https://localhost:8080/"
        },
        "id": "EBNMK1TbiMmw",
        "outputId": "723d4d6a-c1de-424e-d814-7325235a5430"
      },
      "outputs": [
        {
          "output_type": "execute_result",
          "data": {
            "text/plain": [
              "<tf.Tensor: shape=(), dtype=int64, numpy=42>"
            ]
          },
          "metadata": {},
          "execution_count": 228
        }
      ],
      "source": [
        "# Find the positional maximum, Position where maximum value is located\n",
        "tf.argmax(F)"
      ]
    },
    {
      "cell_type": "code",
      "execution_count": 229,
      "metadata": {
        "colab": {
          "base_uri": "https://localhost:8080/"
        },
        "id": "WwKkS4N3ihjc",
        "outputId": "2fbcd27d-3ea5-4071-d51d-94d0c9ee71d7"
      },
      "outputs": [
        {
          "output_type": "execute_result",
          "data": {
            "text/plain": [
              "42"
            ]
          },
          "metadata": {},
          "execution_count": 229
        }
      ],
      "source": [
        "np.argmax(F)"
      ]
    },
    {
      "cell_type": "code",
      "execution_count": 230,
      "metadata": {
        "colab": {
          "base_uri": "https://localhost:8080/"
        },
        "id": "_ll-WNsXijbb",
        "outputId": "c931cd40-046f-4566-e456-b1eb81460345"
      },
      "outputs": [
        {
          "output_type": "execute_result",
          "data": {
            "text/plain": [
              "<tf.Tensor: shape=(), dtype=float32, numpy=0.9671384>"
            ]
          },
          "metadata": {},
          "execution_count": 230
        }
      ],
      "source": [
        "# Index on our largest value position\n",
        "# using that index, we can get the value of largest number\n",
        "F[tf.argmax(F)]"
      ]
    },
    {
      "cell_type": "code",
      "execution_count": 231,
      "metadata": {
        "colab": {
          "base_uri": "https://localhost:8080/"
        },
        "id": "2ky6zVYgi0PE",
        "outputId": "1159d0ae-f772-45b8-e867-ed56b0f67634"
      },
      "outputs": [
        {
          "output_type": "execute_result",
          "data": {
            "text/plain": [
              "<tf.Tensor: shape=(), dtype=float32, numpy=0.9671384>"
            ]
          },
          "metadata": {},
          "execution_count": 231
        }
      ],
      "source": [
        "# Find the maximum value using reduce_max\n",
        "tf.reduce_max(F)"
      ]
    },
    {
      "cell_type": "markdown",
      "metadata": {
        "id": "BfTRpKMljE4Z"
      },
      "source": [
        "All those values using different methods lined up."
      ]
    },
    {
      "cell_type": "code",
      "execution_count": 232,
      "metadata": {
        "id": "bjArjSStjJa_"
      },
      "outputs": [],
      "source": [
        "# Check for equlity\n",
        "# As those values are equal, we don't get any errors\n",
        "assert(F[tf.argmax(F)]) == tf.reduce_max(F)"
      ]
    },
    {
      "cell_type": "code",
      "execution_count": 233,
      "metadata": {
        "colab": {
          "base_uri": "https://localhost:8080/"
        },
        "id": "OL69gYEwjW65",
        "outputId": "bee958d2-df8a-43ce-b7cc-d2d814eb7996"
      },
      "outputs": [
        {
          "output_type": "execute_result",
          "data": {
            "text/plain": [
              "<tf.Tensor: shape=(), dtype=bool, numpy=True>"
            ]
          },
          "metadata": {},
          "execution_count": 233
        }
      ],
      "source": [
        "F[tf.argmax(F)] == tf.reduce_max(F)"
      ]
    },
    {
      "cell_type": "code",
      "execution_count": 234,
      "metadata": {
        "colab": {
          "base_uri": "https://localhost:8080/"
        },
        "id": "wC6wlv9Ajefy",
        "outputId": "da42f78c-6313-4c95-d1ac-f4d0eeb5076d"
      },
      "outputs": [
        {
          "output_type": "execute_result",
          "data": {
            "text/plain": [
              "<tf.Tensor: shape=(), dtype=int64, numpy=16>"
            ]
          },
          "metadata": {},
          "execution_count": 234
        }
      ],
      "source": [
        "# find the minium position\n",
        "tf.argmin(F)"
      ]
    },
    {
      "cell_type": "code",
      "execution_count": 235,
      "metadata": {
        "colab": {
          "base_uri": "https://localhost:8080/"
        },
        "id": "hzwZf9aVjp79",
        "outputId": "56b7d6b2-f7e1-4e84-9d87-c75e83e536db"
      },
      "outputs": [
        {
          "output_type": "execute_result",
          "data": {
            "text/plain": [
              "<tf.Tensor: shape=(), dtype=float32, numpy=0.009463668>"
            ]
          },
          "metadata": {},
          "execution_count": 235
        }
      ],
      "source": [
        "# find the minimum value\n",
        "F[tf.argmin(F)]"
      ]
    },
    {
      "cell_type": "code",
      "execution_count": 236,
      "metadata": {
        "colab": {
          "base_uri": "https://localhost:8080/"
        },
        "id": "FDLv9lmwjt_R",
        "outputId": "30bb7b57-f66d-4103-9eb2-7c5079280ec2"
      },
      "outputs": [
        {
          "output_type": "stream",
          "name": "stdout",
          "text": [
            "The maximum value of F is at position: 42\n",
            "The maximum value of F is: 0.967138409614563\n",
            "Using tf.argmax() to index F, the maximum value of F is: 0.967138409614563\n",
            "Are the two max values the same (they should be)? True\n"
          ]
        }
      ],
      "source": [
        "# Find the maximum element position of F\n",
        "print(f\"The maximum value of F is at position: {tf.argmax(F).numpy()}\") \n",
        "print(f\"The maximum value of F is: {tf.reduce_max(F).numpy()}\") \n",
        "print(f\"Using tf.argmax() to index F, the maximum value of F is: {F[tf.argmax(F)].numpy()}\")\n",
        "print(f\"Are the two max values the same (they should be)? {F[tf.argmax(F)].numpy() == tf.reduce_max(F).numpy()}\")"
      ]
    },
    {
      "cell_type": "markdown",
      "metadata": {
        "id": "UwjahJ3Ij4fY"
      },
      "source": [
        "# Squeezing a tensor (removing dimensions)\n",
        "\n",
        "If we need to remove single-dimensions from a tensor (dimensions with size 1), we can use `tf.squeeze()`.\n",
        "\n",
        "* [`tf.squeeze()`](https://www.tensorflow.org/api_docs/python/tf/squeeze) - remove all dimensions of 1 from a tensor.\n",
        "\n",
        "Example: in our following example, our tensor has so many 1 dimenions. So we can squeeze that to become into single dimension.\n"
      ]
    },
    {
      "cell_type": "code",
      "execution_count": 238,
      "metadata": {
        "colab": {
          "base_uri": "https://localhost:8080/"
        },
        "id": "jwO130Bkj-PY",
        "outputId": "c096f1c3-58b9-4591-b876-a04862e20354"
      },
      "outputs": [
        {
          "output_type": "execute_result",
          "data": {
            "text/plain": [
              "<tf.Tensor: shape=(1, 1, 1, 1, 50), dtype=float32, numpy=\n",
              "array([[[[[0.6645621 , 0.44100678, 0.3528825 , 0.46448255, 0.03366041,\n",
              "           0.68467236, 0.74011743, 0.8724445 , 0.22632635, 0.22319686,\n",
              "           0.3103881 , 0.7223358 , 0.13318717, 0.5480639 , 0.5746088 ,\n",
              "           0.8996835 , 0.00946367, 0.5212307 , 0.6345445 , 0.1993283 ,\n",
              "           0.72942245, 0.54583454, 0.10756552, 0.6767061 , 0.6602763 ,\n",
              "           0.33695042, 0.60141766, 0.21062577, 0.8527372 , 0.44062173,\n",
              "           0.9485276 , 0.23752594, 0.81179297, 0.5263394 , 0.494308  ,\n",
              "           0.21612847, 0.8457197 , 0.8718841 , 0.3083862 , 0.6868038 ,\n",
              "           0.23764038, 0.7817228 , 0.9671384 , 0.06870162, 0.79873943,\n",
              "           0.66028714, 0.5871513 , 0.16461694, 0.7381023 , 0.32054043]]]]],\n",
              "      dtype=float32)>"
            ]
          },
          "metadata": {},
          "execution_count": 238
        }
      ],
      "source": [
        "# Create a rank 5 (5 dimensions) tensor of 50 numbers between 0 and 100\n",
        "tf.random.set_seed(42)\n",
        "G = tf.constant(tf.random.uniform(shape=[50]), shape=(1, 1, 1, 1, 50))\n",
        "G"
      ]
    },
    {
      "cell_type": "code",
      "execution_count": 239,
      "metadata": {
        "colab": {
          "base_uri": "https://localhost:8080/"
        },
        "id": "R5AEBR2fkbci",
        "outputId": "43d03a60-9572-475d-efce-ea4b3ba3eb48"
      },
      "outputs": [
        {
          "output_type": "execute_result",
          "data": {
            "text/plain": [
              "TensorShape([1, 1, 1, 1, 50])"
            ]
          },
          "metadata": {},
          "execution_count": 239
        }
      ],
      "source": [
        "G.shape"
      ]
    },
    {
      "cell_type": "code",
      "execution_count": 240,
      "metadata": {
        "colab": {
          "base_uri": "https://localhost:8080/"
        },
        "id": "YGMWpGeIkyj1",
        "outputId": "4e08da1e-f756-4775-ea13-a728868bcd10"
      },
      "outputs": [
        {
          "output_type": "execute_result",
          "data": {
            "text/plain": [
              "(<tf.Tensor: shape=(50,), dtype=float32, numpy=\n",
              " array([0.6645621 , 0.44100678, 0.3528825 , 0.46448255, 0.03366041,\n",
              "        0.68467236, 0.74011743, 0.8724445 , 0.22632635, 0.22319686,\n",
              "        0.3103881 , 0.7223358 , 0.13318717, 0.5480639 , 0.5746088 ,\n",
              "        0.8996835 , 0.00946367, 0.5212307 , 0.6345445 , 0.1993283 ,\n",
              "        0.72942245, 0.54583454, 0.10756552, 0.6767061 , 0.6602763 ,\n",
              "        0.33695042, 0.60141766, 0.21062577, 0.8527372 , 0.44062173,\n",
              "        0.9485276 , 0.23752594, 0.81179297, 0.5263394 , 0.494308  ,\n",
              "        0.21612847, 0.8457197 , 0.8718841 , 0.3083862 , 0.6868038 ,\n",
              "        0.23764038, 0.7817228 , 0.9671384 , 0.06870162, 0.79873943,\n",
              "        0.66028714, 0.5871513 , 0.16461694, 0.7381023 , 0.32054043],\n",
              "       dtype=float32)>, TensorShape([50]))"
            ]
          },
          "metadata": {},
          "execution_count": 240
        }
      ],
      "source": [
        "# Squeeze tensor G (remove all 1 dimensions)\n",
        "G_squeezed = tf.squeeze(G)\n",
        "G_squeezed, G_squeezed.shape"
      ]
    },
    {
      "cell_type": "markdown",
      "metadata": {
        "id": "CRgmDp_Pk9DO"
      },
      "source": [
        "# One-hot encoding\n",
        "\n",
        "`tf.one_hot()`\n",
        "\n",
        "`depth` parameter (the level of one-hot encoding)."
      ]
    },
    {
      "cell_type": "code",
      "execution_count": 241,
      "metadata": {
        "colab": {
          "base_uri": "https://localhost:8080/"
        },
        "id": "w_K9DiNularT",
        "outputId": "fe7dd673-887c-4ef9-a019-ebaad42e6ba0"
      },
      "outputs": [
        {
          "output_type": "execute_result",
          "data": {
            "text/plain": [
              "<tf.Tensor: shape=(4, 4), dtype=float32, numpy=\n",
              "array([[1., 0., 0., 0.],\n",
              "       [0., 1., 0., 0.],\n",
              "       [0., 0., 1., 0.],\n",
              "       [0., 0., 0., 1.]], dtype=float32)>"
            ]
          },
          "metadata": {},
          "execution_count": 241
        }
      ],
      "source": [
        "# create a list of indices\n",
        "some_list = [0, 1, 2, 3] \n",
        "\n",
        "# one hot encode our list of indices\n",
        "tf.one_hot(some_list, depth=4)"
      ]
    },
    {
      "cell_type": "code",
      "execution_count": 147,
      "metadata": {
        "colab": {
          "base_uri": "https://localhost:8080/"
        },
        "id": "462umIkdnU5K",
        "outputId": "9800c7bb-67aa-4a43-f7fb-c105ca0ddd83"
      },
      "outputs": [
        {
          "output_type": "execute_result",
          "data": {
            "text/plain": [
              "<tf.Tensor: shape=(4, 4), dtype=string, numpy=\n",
              "array([[b'Yaeee', b'Nayyy', b'Nayyy', b'Nayyy'],\n",
              "       [b'Nayyy', b'Yaeee', b'Nayyy', b'Nayyy'],\n",
              "       [b'Nayyy', b'Nayyy', b'Yaeee', b'Nayyy'],\n",
              "       [b'Nayyy', b'Nayyy', b'Nayyy', b'Yaeee']], dtype=object)>"
            ]
          },
          "metadata": {},
          "execution_count": 147
        }
      ],
      "source": [
        "# speicify custom values for one hot encoding\n",
        "tf.one_hot(some_list, depth=4, on_value='Yaeee', off_value=\"Nayyy\")"
      ]
    },
    {
      "cell_type": "markdown",
      "metadata": {
        "id": "4HZJP-i_neCk"
      },
      "source": [
        "\n",
        "# Squaring, log, square root\n",
        "\n",
        "`tf.square()` - get the square of every value in a tensor. \n",
        "\n",
        "`tf.sqrt()` - get the squareroot of every value in a tensor (elements need to floats).\n",
        "\n",
        "`tf.math.log()` - get the natural log of every value in a tensor (elements need to floats)."
      ]
    },
    {
      "cell_type": "code",
      "execution_count": 242,
      "metadata": {
        "colab": {
          "base_uri": "https://localhost:8080/"
        },
        "id": "H9Hcq8n9n2iO",
        "outputId": "f212b9e7-586a-487f-db93-a4fea9503768"
      },
      "outputs": [
        {
          "output_type": "execute_result",
          "data": {
            "text/plain": [
              "<tf.Tensor: shape=(9,), dtype=int32, numpy=array([1, 2, 3, 4, 5, 6, 7, 8, 9], dtype=int32)>"
            ]
          },
          "metadata": {},
          "execution_count": 242
        }
      ],
      "source": [
        "# create a new tensor\n",
        "H = tf.range(1, 10)\n",
        "H"
      ]
    },
    {
      "cell_type": "code",
      "execution_count": 243,
      "metadata": {
        "colab": {
          "base_uri": "https://localhost:8080/"
        },
        "id": "fqrxYM-GoQZB",
        "outputId": "77955a1a-7d89-4240-e418-1793ede416bf"
      },
      "outputs": [
        {
          "output_type": "execute_result",
          "data": {
            "text/plain": [
              "<tf.Tensor: shape=(9,), dtype=int32, numpy=array([ 1,  4,  9, 16, 25, 36, 49, 64, 81], dtype=int32)>"
            ]
          },
          "metadata": {},
          "execution_count": 243
        }
      ],
      "source": [
        "# Find the square\n",
        "tf.square(H)"
      ]
    },
    {
      "cell_type": "code",
      "execution_count": 244,
      "metadata": {
        "colab": {
          "base_uri": "https://localhost:8080/"
        },
        "id": "hG8kpkxXoR0F",
        "outputId": "8c3d04d2-f395-4cbd-d4c6-a9ed6dc60eac"
      },
      "outputs": [
        {
          "output_type": "execute_result",
          "data": {
            "text/plain": [
              "<tf.Tensor: shape=(9,), dtype=float16, numpy=\n",
              "array([1.   , 1.414, 1.732, 2.   , 2.236, 2.45 , 2.646, 2.828, 3.   ],\n",
              "      dtype=float16)>"
            ]
          },
          "metadata": {},
          "execution_count": 244
        }
      ],
      "source": [
        "# Find square root (method require Non Integer values)\n",
        "tf.sqrt(tf.cast(H, dtype=tf.float16))"
      ]
    },
    {
      "cell_type": "code",
      "execution_count": 245,
      "metadata": {
        "colab": {
          "base_uri": "https://localhost:8080/"
        },
        "id": "z8VP3-MIoXEB",
        "outputId": "9fdf647e-1965-4694-e610-c95b39398ded"
      },
      "outputs": [
        {
          "output_type": "execute_result",
          "data": {
            "text/plain": [
              "<tf.Tensor: shape=(9,), dtype=float32, numpy=\n",
              "array([0.       , 0.6931472, 1.0986123, 1.3862944, 1.609438 , 1.7917595,\n",
              "       1.9459102, 2.0794415, 2.1972246], dtype=float32)>"
            ]
          },
          "metadata": {},
          "execution_count": 245
        }
      ],
      "source": [
        "# Find the Log (method require Non Integer values)\n",
        "tf.math.log(tf.cast(H, dtype=tf.float32))"
      ]
    },
    {
      "cell_type": "markdown",
      "metadata": {
        "id": "LchtWhFpo41O"
      },
      "source": [
        "# .assign() & .add_assign()\n",
        "\n",
        "`.assign()` - assign a different value to a particular index of a variable tensor.\n",
        "`.add_assign()` - add to an existing value and reassign it at a particular index of a variable tensor."
      ]
    },
    {
      "cell_type": "code",
      "execution_count": 247,
      "metadata": {
        "colab": {
          "base_uri": "https://localhost:8080/"
        },
        "id": "91194qUXps4_",
        "outputId": "c6fcd198-07c8-4ad8-e9de-c7ab38d9cdb0"
      },
      "outputs": [
        {
          "output_type": "execute_result",
          "data": {
            "text/plain": [
              "<tf.Variable 'Variable:0' shape=(5,) dtype=int64, numpy=array([0, 1, 2, 3, 4])>"
            ]
          },
          "metadata": {},
          "execution_count": 247
        }
      ],
      "source": [
        "# Create a variable tensor\n",
        "I = tf.Variable(np.arange(0, 5))\n",
        "I"
      ]
    },
    {
      "cell_type": "code",
      "execution_count": 248,
      "metadata": {
        "colab": {
          "base_uri": "https://localhost:8080/"
        },
        "id": "-chVrCbQp4qc",
        "outputId": "57f95254-3ae5-440c-d8ea-f5ddabed3503"
      },
      "outputs": [
        {
          "output_type": "execute_result",
          "data": {
            "text/plain": [
              "<tf.Variable 'UnreadVariable' shape=(5,) dtype=int64, numpy=array([ 0,  1,  2,  3, 50])>"
            ]
          },
          "metadata": {},
          "execution_count": 248
        }
      ],
      "source": [
        "# Assign the final value a new value of 50\n",
        "I.assign([0, 1, 2, 3, 50])"
      ]
    },
    {
      "cell_type": "code",
      "execution_count": 249,
      "metadata": {
        "colab": {
          "base_uri": "https://localhost:8080/"
        },
        "id": "OZp9hNmkqLGn",
        "outputId": "60f7ca8a-ecff-4d94-b547-fb5caac0a148"
      },
      "outputs": [
        {
          "output_type": "execute_result",
          "data": {
            "text/plain": [
              "<tf.Variable 'Variable:0' shape=(5,) dtype=int64, numpy=array([ 0,  1,  2,  3, 50])>"
            ]
          },
          "metadata": {},
          "execution_count": 249
        }
      ],
      "source": [
        "# The change happens in place (the last value is now 50, not 4)\n",
        "I"
      ]
    },
    {
      "cell_type": "code",
      "execution_count": 250,
      "metadata": {
        "colab": {
          "base_uri": "https://localhost:8080/"
        },
        "id": "JFxkXobgqP5C",
        "outputId": "22e6ad16-fa95-456d-ef1f-681df3197100"
      },
      "outputs": [
        {
          "output_type": "execute_result",
          "data": {
            "text/plain": [
              "<tf.Variable 'UnreadVariable' shape=(5,) dtype=int64, numpy=array([10, 11, 12, 13, 60])>"
            ]
          },
          "metadata": {},
          "execution_count": 250
        }
      ],
      "source": [
        "# Add 10 to every element in I\n",
        "I.assign_add([10, 10, 10, 10, 10])"
      ]
    },
    {
      "cell_type": "code",
      "execution_count": 251,
      "metadata": {
        "colab": {
          "base_uri": "https://localhost:8080/"
        },
        "id": "-juedCydqUdB",
        "outputId": "1e2407c0-13ec-4450-e291-f5b6d362c40f"
      },
      "outputs": [
        {
          "output_type": "execute_result",
          "data": {
            "text/plain": [
              "<tf.Variable 'Variable:0' shape=(5,) dtype=int64, numpy=array([10, 11, 12, 13, 60])>"
            ]
          },
          "metadata": {},
          "execution_count": 251
        }
      ],
      "source": [
        "# Again, the change happens in place\n",
        "I"
      ]
    },
    {
      "cell_type": "code",
      "execution_count": 252,
      "metadata": {
        "colab": {
          "base_uri": "https://localhost:8080/"
        },
        "id": "39DowCuJqcxC",
        "outputId": "aa05bdb2-bb07-40a1-bea5-0dd98db0d090"
      },
      "outputs": [
        {
          "output_type": "execute_result",
          "data": {
            "text/plain": [
              "<tf.Variable 'UnreadVariable' shape=(5,) dtype=int64, numpy=array([ 8,  9, 10, 11, 58])>"
            ]
          },
          "metadata": {},
          "execution_count": 252
        }
      ],
      "source": [
        "# Subtract 2 to every element in I\n",
        "I.assign_sub([2, 2, 2, 2, 2])"
      ]
    },
    {
      "cell_type": "code",
      "execution_count": 253,
      "metadata": {
        "colab": {
          "base_uri": "https://localhost:8080/"
        },
        "id": "SP9z8M7dqiwR",
        "outputId": "bcc284c8-849d-4133-b2d8-0a3ef75c943e"
      },
      "outputs": [
        {
          "output_type": "execute_result",
          "data": {
            "text/plain": [
              "<tf.Variable 'Variable:0' shape=(5,) dtype=int64, numpy=array([ 8,  9, 10, 11, 58])>"
            ]
          },
          "metadata": {},
          "execution_count": 253
        }
      ],
      "source": [
        "I"
      ]
    },
    {
      "cell_type": "markdown",
      "metadata": {
        "id": "H296rDUWql0b"
      },
      "source": [
        "#Tensors and NumPy\n",
        "\n",
        "\n",
        "* `np.array()` - pass a tensor to convert to an ndarray (NumPy's main datatype).\n",
        "* `tensor.numpy()` - call on a tensor to convert to an ndarray.\n",
        "\n",
        "It makes tensors iterable as well as allows us any of NumPy's methods on tensors"
      ]
    },
    {
      "cell_type": "code",
      "execution_count": 254,
      "metadata": {
        "colab": {
          "base_uri": "https://localhost:8080/"
        },
        "id": "cFjxgg1jq-0-",
        "outputId": "668793cb-287b-40f7-f0a1-a0d384893020"
      },
      "outputs": [
        {
          "output_type": "execute_result",
          "data": {
            "text/plain": [
              "<tf.Tensor: shape=(3,), dtype=float64, numpy=array([ 3.,  7., 10.])>"
            ]
          },
          "metadata": {},
          "execution_count": 254
        }
      ],
      "source": [
        "# Create a tensor from a NumPy array\n",
        "J = tf.constant(np.array([3., 7., 10.]))\n",
        "J"
      ]
    },
    {
      "cell_type": "code",
      "execution_count": 255,
      "metadata": {
        "colab": {
          "base_uri": "https://localhost:8080/"
        },
        "id": "p3myyyjIrL4C",
        "outputId": "775cfe51-676c-4f55-95e8-10d94436cbf8"
      },
      "outputs": [
        {
          "output_type": "execute_result",
          "data": {
            "text/plain": [
              "(array([ 3.,  7., 10.]), numpy.ndarray)"
            ]
          },
          "metadata": {},
          "execution_count": 255
        }
      ],
      "source": [
        "# Convert tensor J to NumPy with np.array()\n",
        "np.array(J), type(np.array(J))"
      ]
    },
    {
      "cell_type": "code",
      "execution_count": 256,
      "metadata": {
        "colab": {
          "base_uri": "https://localhost:8080/"
        },
        "id": "7lG0bq_6rfFn",
        "outputId": "e919c271-c500-44e6-d4bd-b0bf22f1c728"
      },
      "outputs": [
        {
          "output_type": "execute_result",
          "data": {
            "text/plain": [
              "(array([ 3.,  7., 10.]), numpy.ndarray)"
            ]
          },
          "metadata": {},
          "execution_count": 256
        }
      ],
      "source": [
        "# Convert tensor J to NumPy with .numpy()\n",
        "J.numpy(), type(J.numpy())"
      ]
    },
    {
      "cell_type": "code",
      "execution_count": 257,
      "metadata": {
        "colab": {
          "base_uri": "https://localhost:8080/"
        },
        "id": "m9rRH49Froav",
        "outputId": "a1c9ac51-8388-4262-d928-de09cf132e4a"
      },
      "outputs": [
        {
          "output_type": "execute_result",
          "data": {
            "text/plain": [
              "<tf.Tensor: shape=(1,), dtype=float32, numpy=array([3.], dtype=float32)>"
            ]
          },
          "metadata": {},
          "execution_count": 257
        }
      ],
      "source": [
        "J = tf.constant([3.])\n",
        "J"
      ]
    },
    {
      "cell_type": "code",
      "execution_count": 258,
      "metadata": {
        "colab": {
          "base_uri": "https://localhost:8080/"
        },
        "id": "UhaOQNrIrrrw",
        "outputId": "114fd0ec-a127-49aa-80ca-890c2905b974"
      },
      "outputs": [
        {
          "output_type": "execute_result",
          "data": {
            "text/plain": [
              "3.0"
            ]
          },
          "metadata": {},
          "execution_count": 258
        }
      ],
      "source": [
        "J.numpy()[0]"
      ]
    },
    {
      "cell_type": "markdown",
      "metadata": {
        "id": "zxhQvU42rwgX"
      },
      "source": [
        "**By default tensors have `dtype=float32`, where as NumPy arrays have `dtype=float64`.**\n",
        "\n",
        "This is because neural networks (usually built with TensorFlow) generally work very well with less precision (32-bit rather than 64-bit)."
      ]
    },
    {
      "cell_type": "code",
      "execution_count": 260,
      "metadata": {
        "colab": {
          "base_uri": "https://localhost:8080/"
        },
        "id": "OuQDCBmEr9cW",
        "outputId": "00423cbe-387b-40ee-ef5c-5a5196718de9"
      },
      "outputs": [
        {
          "output_type": "execute_result",
          "data": {
            "text/plain": [
              "(tf.float64, tf.float32)"
            ]
          },
          "metadata": {},
          "execution_count": 260
        }
      ],
      "source": [
        "# Create a tensor from NumPy and from an array\n",
        "numpy_J = tf.constant(np.array([3., 7., 10.])) # will be float64 (due to NumPy)\n",
        "tensor_J = tf.constant([3., 7., 10.]) # will be float32 (due to being TensorFlow default)\n",
        "\n",
        "# check the datatype of each ones\n",
        "numpy_J.dtype, tensor_J.dtype"
      ]
    },
    {
      "cell_type": "markdown",
      "metadata": {
        "id": "aPDxsjYKuAh7"
      },
      "source": [
        "# Access to GPUs\n",
        "\n",
        "`tf.config.list_physical_devices()`"
      ]
    },
    {
      "cell_type": "code",
      "execution_count": 261,
      "metadata": {
        "colab": {
          "base_uri": "https://localhost:8080/"
        },
        "id": "aLrCJo9AuBuL",
        "outputId": "da9d489b-a18e-4d64-fab4-4a2fe27be9ac"
      },
      "outputs": [
        {
          "output_type": "execute_result",
          "data": {
            "text/plain": [
              "[PhysicalDevice(name='/physical_device:CPU:0', device_type='CPU'),\n",
              " PhysicalDevice(name='/physical_device:GPU:0', device_type='GPU')]"
            ]
          },
          "metadata": {},
          "execution_count": 261
        }
      ],
      "source": [
        "tf.config.list_physical_devices()"
      ]
    },
    {
      "cell_type": "code",
      "execution_count": 262,
      "metadata": {
        "colab": {
          "base_uri": "https://localhost:8080/"
        },
        "id": "OEkdNfieuViD",
        "outputId": "96338315-452a-4896-bc77-621688f64b07"
      },
      "outputs": [
        {
          "output_type": "execute_result",
          "data": {
            "text/plain": [
              "[PhysicalDevice(name='/physical_device:GPU:0', device_type='GPU')]"
            ]
          },
          "metadata": {},
          "execution_count": 262
        }
      ],
      "source": [
        "tf.config.list_physical_devices('GPU')"
      ]
    },
    {
      "cell_type": "code",
      "execution_count": 263,
      "metadata": {
        "colab": {
          "base_uri": "https://localhost:8080/"
        },
        "id": "kh9c6M4Rujth",
        "outputId": "4da60f97-e491-43e1-b516-fd25c6854b36"
      },
      "outputs": [
        {
          "output_type": "execute_result",
          "data": {
            "text/plain": [
              "[PhysicalDevice(name='/physical_device:CPU:0', device_type='CPU'),\n",
              " PhysicalDevice(name='/physical_device:GPU:0', device_type='GPU')]"
            ]
          },
          "metadata": {},
          "execution_count": 263
        }
      ],
      "source": [
        "tf.config.list_physical_devices()"
      ]
    },
    {
      "cell_type": "code",
      "execution_count": 264,
      "metadata": {
        "colab": {
          "base_uri": "https://localhost:8080/"
        },
        "id": "DhMtRgXBum8_",
        "outputId": "a0d5c918-4141-464f-d394-42751dcf1224"
      },
      "outputs": [
        {
          "output_type": "execute_result",
          "data": {
            "text/plain": [
              "[PhysicalDevice(name='/physical_device:GPU:0', device_type='GPU')]"
            ]
          },
          "metadata": {},
          "execution_count": 264
        }
      ],
      "source": [
        "tf.config.list_physical_devices('GPU')"
      ]
    },
    {
      "cell_type": "code",
      "execution_count": 265,
      "metadata": {
        "colab": {
          "base_uri": "https://localhost:8080/"
        },
        "id": "aLKLVXYuuuxF",
        "outputId": "4b2fcd8f-f59d-45be-e355-3338d7961afb"
      },
      "outputs": [
        {
          "output_type": "stream",
          "name": "stdout",
          "text": [
            "Sun Sep 11 18:48:29 2022       \n",
            "+-----------------------------------------------------------------------------+\n",
            "| NVIDIA-SMI 460.32.03    Driver Version: 460.32.03    CUDA Version: 11.2     |\n",
            "|-------------------------------+----------------------+----------------------+\n",
            "| GPU  Name        Persistence-M| Bus-Id        Disp.A | Volatile Uncorr. ECC |\n",
            "| Fan  Temp  Perf  Pwr:Usage/Cap|         Memory-Usage | GPU-Util  Compute M. |\n",
            "|                               |                      |               MIG M. |\n",
            "|===============================+======================+======================|\n",
            "|   0  Tesla T4            Off  | 00000000:00:04.0 Off |                    0 |\n",
            "| N/A   71C    P0    28W /  70W |    994MiB / 15109MiB |      0%      Default |\n",
            "|                               |                      |                  N/A |\n",
            "+-------------------------------+----------------------+----------------------+\n",
            "                                                                               \n",
            "+-----------------------------------------------------------------------------+\n",
            "| Processes:                                                                  |\n",
            "|  GPU   GI   CI        PID   Type   Process name                  GPU Memory |\n",
            "|        ID   ID                                                   Usage      |\n",
            "|=============================================================================|\n",
            "+-----------------------------------------------------------------------------+\n"
          ]
        }
      ],
      "source": [
        "#  finding info using`!nvidia-smi`.\n",
        "\n",
        "!nvidia-smi"
      ]
    },
    {
      "cell_type": "markdown",
      "metadata": {
        "id": "Rc55PqttvJp-"
      },
      "source": [
        "## `TensorFlow` automatically use `GPU` whenever possible."
      ]
    },
    {
      "cell_type": "markdown",
      "metadata": {
        "id": "-U8j1fX-saHP"
      },
      "source": [
        "# Using `@tf.function`\n",
        "\n",
        "`@tf.function` - Python Decorator\n",
        "\n",
        "decorators modify a function in one way or another.\n",
        "\n",
        "`@tf.function` turns a Python function into a callable TensorFlow graph. If you've written a Python function, and you decorate it with `@tf.function`, when exporting this code (to potentially run on another device), TensorFlow will attempt to convert it into a fast(er) version of itself (by making it part of a computation graph).\n"
      ]
    },
    {
      "cell_type": "code",
      "execution_count": 266,
      "metadata": {
        "id": "YTNWZgHlwm3b"
      },
      "outputs": [],
      "source": [
        "import numpy as np"
      ]
    },
    {
      "cell_type": "code",
      "execution_count": 267,
      "metadata": {
        "colab": {
          "base_uri": "https://localhost:8080/"
        },
        "id": "naNflqw1vfco",
        "outputId": "d91b93ee-16d6-4b50-ebc0-edf13b790cfc"
      },
      "outputs": [
        {
          "output_type": "execute_result",
          "data": {
            "text/plain": [
              "<tf.Tensor: shape=(10,), dtype=int64, numpy=array([10, 12, 14, 16, 18, 20, 22, 24, 26, 28])>"
            ]
          },
          "metadata": {},
          "execution_count": 267
        }
      ],
      "source": [
        "# create a simple function\n",
        "def function(x,y):\n",
        "  return x+y\n",
        "\n",
        "x = tf.constant(np.arange(0, 10))\n",
        "y = tf.constant(np.arange(10, 20))\n",
        "function(x, y)"
      ]
    },
    {
      "cell_type": "code",
      "execution_count": 268,
      "metadata": {
        "colab": {
          "base_uri": "https://localhost:8080/"
        },
        "id": "s26AyZ0hwi73",
        "outputId": "ab09f007-bfa5-4d04-8518-741dd008ef4c"
      },
      "outputs": [
        {
          "output_type": "execute_result",
          "data": {
            "text/plain": [
              "<tf.Tensor: shape=(10,), dtype=int64, numpy=array([10, 12, 14, 16, 18, 20, 22, 24, 26, 28])>"
            ]
          },
          "metadata": {},
          "execution_count": 268
        }
      ],
      "source": [
        "# Create the same function and decorate it with tf.function\n",
        "@tf.function\n",
        "def tf_function(x,y):\n",
        "  return x+y\n",
        "\n",
        "tf_function(x, y)"
      ]
    },
    {
      "cell_type": "markdown",
      "metadata": {
        "id": "a6b3iuxNwt_f"
      },
      "source": [
        "If you noticed no difference between the above two functions (the decorated one and the non-decorated one) you'd be right.\n",
        "\n",
        "Much of the difference happens behind the scenes. One of the main ones being potential code speed-ups where possible."
      ]
    },
    {
      "cell_type": "markdown",
      "metadata": {
        "id": "zInRoisE5dm0"
      },
      "source": [
        "--------"
      ]
    },
    {
      "cell_type": "markdown",
      "metadata": {
        "id": "oilKdekpxeLv"
      },
      "source": [
        "# Exercises\n"
      ]
    },
    {
      "cell_type": "code",
      "execution_count": 174,
      "metadata": {
        "colab": {
          "base_uri": "https://localhost:8080/"
        },
        "id": "JcrPq9bOxuMD",
        "outputId": "933d020e-9d1b-4530-a904-3252224d045f"
      },
      "outputs": [
        {
          "output_type": "execute_result",
          "data": {
            "text/plain": [
              "(<tf.Tensor: shape=(), dtype=int32, numpy=12>,\n",
              " <tf.Tensor: shape=(2,), dtype=int32, numpy=array([1, 2], dtype=int32)>,\n",
              " <tf.Tensor: shape=(2, 2), dtype=int32, numpy=\n",
              " array([[1, 2],\n",
              "        [3, 4]], dtype=int32)>,\n",
              " <tf.Tensor: shape=(3, 2), dtype=float32, numpy=\n",
              " array([[-0.7565803 , -0.06854702],\n",
              "        [ 0.07595026, -1.2573844 ],\n",
              "        [-0.23193765, -1.8107855 ]], dtype=float32)>)"
            ]
          },
          "metadata": {},
          "execution_count": 174
        }
      ],
      "source": [
        "#import numpy\n",
        "import numpy as np\n",
        "\n",
        "# 1. Create a vector, scalar, matrix and tensor with values of your choosing using tf.constant().\n",
        "scalar = tf.constant(12)\n",
        "vector = tf.constant([1, 2])\n",
        "matrix = tf.constant([[1, 2], [3, 4]])\n",
        "tensor = tf.random.Generator.from_seed(42)\n",
        "tensor = tensor.normal(shape=(3, 2))\n",
        "\n",
        "scalar, vector, matrix, tensor"
      ]
    },
    {
      "cell_type": "code",
      "execution_count": 175,
      "metadata": {
        "colab": {
          "base_uri": "https://localhost:8080/"
        },
        "id": "Ubep9DmrxuI0",
        "outputId": "0388939d-3e7d-4e57-ec4f-c9d77a310506"
      },
      "outputs": [
        {
          "output_type": "stream",
          "name": "stdout",
          "text": [
            "Shape of tensor:  (3, 2)\n",
            "Rank (dimensions) of tensor:  2\n",
            "Size of tensor:  tf.Tensor(6, shape=(), dtype=int32)\n"
          ]
        }
      ],
      "source": [
        "# 2.Find the shape, rank and size of the tensors you created in 1\n",
        "print('Shape of tensor: ', tensor.shape)\n",
        "print('Rank (dimensions) of tensor: ', tensor.ndim)\n",
        "print('Size of tensor: ', tf.size(tensor))"
      ]
    },
    {
      "cell_type": "code",
      "execution_count": 176,
      "metadata": {
        "id": "bfRBZAnWxoca"
      },
      "outputs": [],
      "source": [
        "# 3. Create two tensors containing random values between 0 and 1 with shape [5, 300].\n",
        "tensor1 = tf.random.Generator.from_seed(42)\n",
        "tensor1 = tensor1.normal(shape=(5, 300))\n",
        "\n",
        "tensor2 = tf.constant(np.arange(1, 51, 1500), shape=(5, 300))"
      ]
    },
    {
      "cell_type": "code",
      "execution_count": 177,
      "metadata": {
        "colab": {
          "base_uri": "https://localhost:8080/"
        },
        "id": "IQ-zpj6nv8k2",
        "outputId": "67107a5b-a33b-4ea9-f4be-64e4720b9d6b"
      },
      "outputs": [
        {
          "output_type": "execute_result",
          "data": {
            "text/plain": [
              "(TensorShape([5, 300]), TensorShape([5, 300]))"
            ]
          },
          "metadata": {},
          "execution_count": 177
        }
      ],
      "source": [
        "tensor1.shape, tensor2.shape"
      ]
    },
    {
      "cell_type": "code",
      "execution_count": 178,
      "metadata": {
        "colab": {
          "base_uri": "https://localhost:8080/"
        },
        "id": "XmMXSXq1wN7x",
        "outputId": "36b2b09f-035c-4158-bb27-bd4af17e2eb8"
      },
      "outputs": [
        {
          "output_type": "execute_result",
          "data": {
            "text/plain": [
              "<tf.Tensor: shape=(300, 5), dtype=int64, numpy=\n",
              "array([[1, 1, 1, 1, 1],\n",
              "       [1, 1, 1, 1, 1],\n",
              "       [1, 1, 1, 1, 1],\n",
              "       ...,\n",
              "       [1, 1, 1, 1, 1],\n",
              "       [1, 1, 1, 1, 1],\n",
              "       [1, 1, 1, 1, 1]])>"
            ]
          },
          "metadata": {},
          "execution_count": 178
        }
      ],
      "source": [
        "tf.reshape(tensor2, shape=(300, 5))"
      ]
    },
    {
      "cell_type": "code",
      "execution_count": 179,
      "metadata": {
        "colab": {
          "base_uri": "https://localhost:8080/"
        },
        "id": "zdBNbGswxoZB",
        "outputId": "95832d94-2021-4ff1-a615-d9c402551e1a"
      },
      "outputs": [
        {
          "output_type": "execute_result",
          "data": {
            "text/plain": [
              "<tf.Tensor: shape=(5, 5), dtype=float32, numpy=\n",
              "array([[-18.116056  , -18.116056  , -18.116056  , -18.116056  ,\n",
              "        -18.116056  ],\n",
              "       [-16.531065  , -16.531065  , -16.531065  , -16.531065  ,\n",
              "        -16.531065  ],\n",
              "       [  6.35018   ,   6.35018   ,   6.35018   ,   6.35018   ,\n",
              "          6.35018   ],\n",
              "       [-24.067091  , -24.067091  , -24.067091  , -24.067091  ,\n",
              "        -24.067091  ],\n",
              "       [  0.62193453,   0.62193453,   0.62193453,   0.62193453,\n",
              "          0.62193453]], dtype=float32)>"
            ]
          },
          "metadata": {},
          "execution_count": 179
        }
      ],
      "source": [
        "# 4. Multiply the two tensors you created in 3 using matrix multiplication.\n",
        "tf.matmul(tensor1, tf.cast(tf.reshape(tensor2, shape=(300, 5)), dtype=tf.float32))"
      ]
    },
    {
      "cell_type": "code",
      "execution_count": 180,
      "metadata": {
        "colab": {
          "base_uri": "https://localhost:8080/"
        },
        "id": "3U9TnXYrxoR1",
        "outputId": "4efad002-436b-4f81-face-d70a1f028906"
      },
      "outputs": [
        {
          "output_type": "execute_result",
          "data": {
            "text/plain": [
              "<tf.Tensor: shape=(5, 300, 300, 5), dtype=float32, numpy=\n",
              "array([[[[-0.7565803 , -0.7565803 , -0.7565803 , -0.7565803 ,\n",
              "          -0.7565803 ],\n",
              "         [-0.7565803 , -0.7565803 , -0.7565803 , -0.7565803 ,\n",
              "          -0.7565803 ],\n",
              "         [-0.7565803 , -0.7565803 , -0.7565803 , -0.7565803 ,\n",
              "          -0.7565803 ],\n",
              "         ...,\n",
              "         [-0.7565803 , -0.7565803 , -0.7565803 , -0.7565803 ,\n",
              "          -0.7565803 ],\n",
              "         [-0.7565803 , -0.7565803 , -0.7565803 , -0.7565803 ,\n",
              "          -0.7565803 ],\n",
              "         [-0.7565803 , -0.7565803 , -0.7565803 , -0.7565803 ,\n",
              "          -0.7565803 ]],\n",
              "\n",
              "        [[-0.06854702, -0.06854702, -0.06854702, -0.06854702,\n",
              "          -0.06854702],\n",
              "         [-0.06854702, -0.06854702, -0.06854702, -0.06854702,\n",
              "          -0.06854702],\n",
              "         [-0.06854702, -0.06854702, -0.06854702, -0.06854702,\n",
              "          -0.06854702],\n",
              "         ...,\n",
              "         [-0.06854702, -0.06854702, -0.06854702, -0.06854702,\n",
              "          -0.06854702],\n",
              "         [-0.06854702, -0.06854702, -0.06854702, -0.06854702,\n",
              "          -0.06854702],\n",
              "         [-0.06854702, -0.06854702, -0.06854702, -0.06854702,\n",
              "          -0.06854702]],\n",
              "\n",
              "        [[ 0.07595026,  0.07595026,  0.07595026,  0.07595026,\n",
              "           0.07595026],\n",
              "         [ 0.07595026,  0.07595026,  0.07595026,  0.07595026,\n",
              "           0.07595026],\n",
              "         [ 0.07595026,  0.07595026,  0.07595026,  0.07595026,\n",
              "           0.07595026],\n",
              "         ...,\n",
              "         [ 0.07595026,  0.07595026,  0.07595026,  0.07595026,\n",
              "           0.07595026],\n",
              "         [ 0.07595026,  0.07595026,  0.07595026,  0.07595026,\n",
              "           0.07595026],\n",
              "         [ 0.07595026,  0.07595026,  0.07595026,  0.07595026,\n",
              "           0.07595026]],\n",
              "\n",
              "        ...,\n",
              "\n",
              "        [[-1.0718341 , -1.0718341 , -1.0718341 , -1.0718341 ,\n",
              "          -1.0718341 ],\n",
              "         [-1.0718341 , -1.0718341 , -1.0718341 , -1.0718341 ,\n",
              "          -1.0718341 ],\n",
              "         [-1.0718341 , -1.0718341 , -1.0718341 , -1.0718341 ,\n",
              "          -1.0718341 ],\n",
              "         ...,\n",
              "         [-1.0718341 , -1.0718341 , -1.0718341 , -1.0718341 ,\n",
              "          -1.0718341 ],\n",
              "         [-1.0718341 , -1.0718341 , -1.0718341 , -1.0718341 ,\n",
              "          -1.0718341 ],\n",
              "         [-1.0718341 , -1.0718341 , -1.0718341 , -1.0718341 ,\n",
              "          -1.0718341 ]],\n",
              "\n",
              "        [[-1.0722276 , -1.0722276 , -1.0722276 , -1.0722276 ,\n",
              "          -1.0722276 ],\n",
              "         [-1.0722276 , -1.0722276 , -1.0722276 , -1.0722276 ,\n",
              "          -1.0722276 ],\n",
              "         [-1.0722276 , -1.0722276 , -1.0722276 , -1.0722276 ,\n",
              "          -1.0722276 ],\n",
              "         ...,\n",
              "         [-1.0722276 , -1.0722276 , -1.0722276 , -1.0722276 ,\n",
              "          -1.0722276 ],\n",
              "         [-1.0722276 , -1.0722276 , -1.0722276 , -1.0722276 ,\n",
              "          -1.0722276 ],\n",
              "         [-1.0722276 , -1.0722276 , -1.0722276 , -1.0722276 ,\n",
              "          -1.0722276 ]],\n",
              "\n",
              "        [[-0.00586287, -0.00586287, -0.00586287, -0.00586287,\n",
              "          -0.00586287],\n",
              "         [-0.00586287, -0.00586287, -0.00586287, -0.00586287,\n",
              "          -0.00586287],\n",
              "         [-0.00586287, -0.00586287, -0.00586287, -0.00586287,\n",
              "          -0.00586287],\n",
              "         ...,\n",
              "         [-0.00586287, -0.00586287, -0.00586287, -0.00586287,\n",
              "          -0.00586287],\n",
              "         [-0.00586287, -0.00586287, -0.00586287, -0.00586287,\n",
              "          -0.00586287],\n",
              "         [-0.00586287, -0.00586287, -0.00586287, -0.00586287,\n",
              "          -0.00586287]]],\n",
              "\n",
              "\n",
              "       [[[-0.88051033, -0.88051033, -0.88051033, -0.88051033,\n",
              "          -0.88051033],\n",
              "         [-0.88051033, -0.88051033, -0.88051033, -0.88051033,\n",
              "          -0.88051033],\n",
              "         [-0.88051033, -0.88051033, -0.88051033, -0.88051033,\n",
              "          -0.88051033],\n",
              "         ...,\n",
              "         [-0.88051033, -0.88051033, -0.88051033, -0.88051033,\n",
              "          -0.88051033],\n",
              "         [-0.88051033, -0.88051033, -0.88051033, -0.88051033,\n",
              "          -0.88051033],\n",
              "         [-0.88051033, -0.88051033, -0.88051033, -0.88051033,\n",
              "          -0.88051033]],\n",
              "\n",
              "        [[-0.32426047, -0.32426047, -0.32426047, -0.32426047,\n",
              "          -0.32426047],\n",
              "         [-0.32426047, -0.32426047, -0.32426047, -0.32426047,\n",
              "          -0.32426047],\n",
              "         [-0.32426047, -0.32426047, -0.32426047, -0.32426047,\n",
              "          -0.32426047],\n",
              "         ...,\n",
              "         [-0.32426047, -0.32426047, -0.32426047, -0.32426047,\n",
              "          -0.32426047],\n",
              "         [-0.32426047, -0.32426047, -0.32426047, -0.32426047,\n",
              "          -0.32426047],\n",
              "         [-0.32426047, -0.32426047, -0.32426047, -0.32426047,\n",
              "          -0.32426047]],\n",
              "\n",
              "        [[-2.4847078 , -2.4847078 , -2.4847078 , -2.4847078 ,\n",
              "          -2.4847078 ],\n",
              "         [-2.4847078 , -2.4847078 , -2.4847078 , -2.4847078 ,\n",
              "          -2.4847078 ],\n",
              "         [-2.4847078 , -2.4847078 , -2.4847078 , -2.4847078 ,\n",
              "          -2.4847078 ],\n",
              "         ...,\n",
              "         [-2.4847078 , -2.4847078 , -2.4847078 , -2.4847078 ,\n",
              "          -2.4847078 ],\n",
              "         [-2.4847078 , -2.4847078 , -2.4847078 , -2.4847078 ,\n",
              "          -2.4847078 ],\n",
              "         [-2.4847078 , -2.4847078 , -2.4847078 , -2.4847078 ,\n",
              "          -2.4847078 ]],\n",
              "\n",
              "        ...,\n",
              "\n",
              "        [[ 0.16512105,  0.16512105,  0.16512105,  0.16512105,\n",
              "           0.16512105],\n",
              "         [ 0.16512105,  0.16512105,  0.16512105,  0.16512105,\n",
              "           0.16512105],\n",
              "         [ 0.16512105,  0.16512105,  0.16512105,  0.16512105,\n",
              "           0.16512105],\n",
              "         ...,\n",
              "         [ 0.16512105,  0.16512105,  0.16512105,  0.16512105,\n",
              "           0.16512105],\n",
              "         [ 0.16512105,  0.16512105,  0.16512105,  0.16512105,\n",
              "           0.16512105],\n",
              "         [ 0.16512105,  0.16512105,  0.16512105,  0.16512105,\n",
              "           0.16512105]],\n",
              "\n",
              "        [[ 1.155565  ,  1.155565  ,  1.155565  ,  1.155565  ,\n",
              "           1.155565  ],\n",
              "         [ 1.155565  ,  1.155565  ,  1.155565  ,  1.155565  ,\n",
              "           1.155565  ],\n",
              "         [ 1.155565  ,  1.155565  ,  1.155565  ,  1.155565  ,\n",
              "           1.155565  ],\n",
              "         ...,\n",
              "         [ 1.155565  ,  1.155565  ,  1.155565  ,  1.155565  ,\n",
              "           1.155565  ],\n",
              "         [ 1.155565  ,  1.155565  ,  1.155565  ,  1.155565  ,\n",
              "           1.155565  ],\n",
              "         [ 1.155565  ,  1.155565  ,  1.155565  ,  1.155565  ,\n",
              "           1.155565  ]],\n",
              "\n",
              "        [[-0.10707551, -0.10707551, -0.10707551, -0.10707551,\n",
              "          -0.10707551],\n",
              "         [-0.10707551, -0.10707551, -0.10707551, -0.10707551,\n",
              "          -0.10707551],\n",
              "         [-0.10707551, -0.10707551, -0.10707551, -0.10707551,\n",
              "          -0.10707551],\n",
              "         ...,\n",
              "         [-0.10707551, -0.10707551, -0.10707551, -0.10707551,\n",
              "          -0.10707551],\n",
              "         [-0.10707551, -0.10707551, -0.10707551, -0.10707551,\n",
              "          -0.10707551],\n",
              "         [-0.10707551, -0.10707551, -0.10707551, -0.10707551,\n",
              "          -0.10707551]]],\n",
              "\n",
              "\n",
              "       [[[-1.5306779 , -1.5306779 , -1.5306779 , -1.5306779 ,\n",
              "          -1.5306779 ],\n",
              "         [-1.5306779 , -1.5306779 , -1.5306779 , -1.5306779 ,\n",
              "          -1.5306779 ],\n",
              "         [-1.5306779 , -1.5306779 , -1.5306779 , -1.5306779 ,\n",
              "          -1.5306779 ],\n",
              "         ...,\n",
              "         [-1.5306779 , -1.5306779 , -1.5306779 , -1.5306779 ,\n",
              "          -1.5306779 ],\n",
              "         [-1.5306779 , -1.5306779 , -1.5306779 , -1.5306779 ,\n",
              "          -1.5306779 ],\n",
              "         [-1.5306779 , -1.5306779 , -1.5306779 , -1.5306779 ,\n",
              "          -1.5306779 ]],\n",
              "\n",
              "        [[-0.8620293 , -0.8620293 , -0.8620293 , -0.8620293 ,\n",
              "          -0.8620293 ],\n",
              "         [-0.8620293 , -0.8620293 , -0.8620293 , -0.8620293 ,\n",
              "          -0.8620293 ],\n",
              "         [-0.8620293 , -0.8620293 , -0.8620293 , -0.8620293 ,\n",
              "          -0.8620293 ],\n",
              "         ...,\n",
              "         [-0.8620293 , -0.8620293 , -0.8620293 , -0.8620293 ,\n",
              "          -0.8620293 ],\n",
              "         [-0.8620293 , -0.8620293 , -0.8620293 , -0.8620293 ,\n",
              "          -0.8620293 ],\n",
              "         [-0.8620293 , -0.8620293 , -0.8620293 , -0.8620293 ,\n",
              "          -0.8620293 ]],\n",
              "\n",
              "        [[-0.16359143, -0.16359143, -0.16359143, -0.16359143,\n",
              "          -0.16359143],\n",
              "         [-0.16359143, -0.16359143, -0.16359143, -0.16359143,\n",
              "          -0.16359143],\n",
              "         [-0.16359143, -0.16359143, -0.16359143, -0.16359143,\n",
              "          -0.16359143],\n",
              "         ...,\n",
              "         [-0.16359143, -0.16359143, -0.16359143, -0.16359143,\n",
              "          -0.16359143],\n",
              "         [-0.16359143, -0.16359143, -0.16359143, -0.16359143,\n",
              "          -0.16359143],\n",
              "         [-0.16359143, -0.16359143, -0.16359143, -0.16359143,\n",
              "          -0.16359143]],\n",
              "\n",
              "        ...,\n",
              "\n",
              "        [[ 0.34288087,  0.34288087,  0.34288087,  0.34288087,\n",
              "           0.34288087],\n",
              "         [ 0.34288087,  0.34288087,  0.34288087,  0.34288087,\n",
              "           0.34288087],\n",
              "         [ 0.34288087,  0.34288087,  0.34288087,  0.34288087,\n",
              "           0.34288087],\n",
              "         ...,\n",
              "         [ 0.34288087,  0.34288087,  0.34288087,  0.34288087,\n",
              "           0.34288087],\n",
              "         [ 0.34288087,  0.34288087,  0.34288087,  0.34288087,\n",
              "           0.34288087],\n",
              "         [ 0.34288087,  0.34288087,  0.34288087,  0.34288087,\n",
              "           0.34288087]],\n",
              "\n",
              "        [[ 1.2167931 ,  1.2167931 ,  1.2167931 ,  1.2167931 ,\n",
              "           1.2167931 ],\n",
              "         [ 1.2167931 ,  1.2167931 ,  1.2167931 ,  1.2167931 ,\n",
              "           1.2167931 ],\n",
              "         [ 1.2167931 ,  1.2167931 ,  1.2167931 ,  1.2167931 ,\n",
              "           1.2167931 ],\n",
              "         ...,\n",
              "         [ 1.2167931 ,  1.2167931 ,  1.2167931 ,  1.2167931 ,\n",
              "           1.2167931 ],\n",
              "         [ 1.2167931 ,  1.2167931 ,  1.2167931 ,  1.2167931 ,\n",
              "           1.2167931 ],\n",
              "         [ 1.2167931 ,  1.2167931 ,  1.2167931 ,  1.2167931 ,\n",
              "           1.2167931 ]],\n",
              "\n",
              "        [[-1.24293   , -1.24293   , -1.24293   , -1.24293   ,\n",
              "          -1.24293   ],\n",
              "         [-1.24293   , -1.24293   , -1.24293   , -1.24293   ,\n",
              "          -1.24293   ],\n",
              "         [-1.24293   , -1.24293   , -1.24293   , -1.24293   ,\n",
              "          -1.24293   ],\n",
              "         ...,\n",
              "         [-1.24293   , -1.24293   , -1.24293   , -1.24293   ,\n",
              "          -1.24293   ],\n",
              "         [-1.24293   , -1.24293   , -1.24293   , -1.24293   ,\n",
              "          -1.24293   ],\n",
              "         [-1.24293   , -1.24293   , -1.24293   , -1.24293   ,\n",
              "          -1.24293   ]]],\n",
              "\n",
              "\n",
              "       [[[ 0.84324265,  0.84324265,  0.84324265,  0.84324265,\n",
              "           0.84324265],\n",
              "         [ 0.84324265,  0.84324265,  0.84324265,  0.84324265,\n",
              "           0.84324265],\n",
              "         [ 0.84324265,  0.84324265,  0.84324265,  0.84324265,\n",
              "           0.84324265],\n",
              "         ...,\n",
              "         [ 0.84324265,  0.84324265,  0.84324265,  0.84324265,\n",
              "           0.84324265],\n",
              "         [ 0.84324265,  0.84324265,  0.84324265,  0.84324265,\n",
              "           0.84324265],\n",
              "         [ 0.84324265,  0.84324265,  0.84324265,  0.84324265,\n",
              "           0.84324265]],\n",
              "\n",
              "        [[-0.23379943, -0.23379943, -0.23379943, -0.23379943,\n",
              "          -0.23379943],\n",
              "         [-0.23379943, -0.23379943, -0.23379943, -0.23379943,\n",
              "          -0.23379943],\n",
              "         [-0.23379943, -0.23379943, -0.23379943, -0.23379943,\n",
              "          -0.23379943],\n",
              "         ...,\n",
              "         [-0.23379943, -0.23379943, -0.23379943, -0.23379943,\n",
              "          -0.23379943],\n",
              "         [-0.23379943, -0.23379943, -0.23379943, -0.23379943,\n",
              "          -0.23379943],\n",
              "         [-0.23379943, -0.23379943, -0.23379943, -0.23379943,\n",
              "          -0.23379943]],\n",
              "\n",
              "        [[ 0.4276398 ,  0.4276398 ,  0.4276398 ,  0.4276398 ,\n",
              "           0.4276398 ],\n",
              "         [ 0.4276398 ,  0.4276398 ,  0.4276398 ,  0.4276398 ,\n",
              "           0.4276398 ],\n",
              "         [ 0.4276398 ,  0.4276398 ,  0.4276398 ,  0.4276398 ,\n",
              "           0.4276398 ],\n",
              "         ...,\n",
              "         [ 0.4276398 ,  0.4276398 ,  0.4276398 ,  0.4276398 ,\n",
              "           0.4276398 ],\n",
              "         [ 0.4276398 ,  0.4276398 ,  0.4276398 ,  0.4276398 ,\n",
              "           0.4276398 ],\n",
              "         [ 0.4276398 ,  0.4276398 ,  0.4276398 ,  0.4276398 ,\n",
              "           0.4276398 ]],\n",
              "\n",
              "        ...,\n",
              "\n",
              "        [[-1.0428714 , -1.0428714 , -1.0428714 , -1.0428714 ,\n",
              "          -1.0428714 ],\n",
              "         [-1.0428714 , -1.0428714 , -1.0428714 , -1.0428714 ,\n",
              "          -1.0428714 ],\n",
              "         [-1.0428714 , -1.0428714 , -1.0428714 , -1.0428714 ,\n",
              "          -1.0428714 ],\n",
              "         ...,\n",
              "         [-1.0428714 , -1.0428714 , -1.0428714 , -1.0428714 ,\n",
              "          -1.0428714 ],\n",
              "         [-1.0428714 , -1.0428714 , -1.0428714 , -1.0428714 ,\n",
              "          -1.0428714 ],\n",
              "         [-1.0428714 , -1.0428714 , -1.0428714 , -1.0428714 ,\n",
              "          -1.0428714 ]],\n",
              "\n",
              "        [[-0.73970354, -0.73970354, -0.73970354, -0.73970354,\n",
              "          -0.73970354],\n",
              "         [-0.73970354, -0.73970354, -0.73970354, -0.73970354,\n",
              "          -0.73970354],\n",
              "         [-0.73970354, -0.73970354, -0.73970354, -0.73970354,\n",
              "          -0.73970354],\n",
              "         ...,\n",
              "         [-0.73970354, -0.73970354, -0.73970354, -0.73970354,\n",
              "          -0.73970354],\n",
              "         [-0.73970354, -0.73970354, -0.73970354, -0.73970354,\n",
              "          -0.73970354],\n",
              "         [-0.73970354, -0.73970354, -0.73970354, -0.73970354,\n",
              "          -0.73970354]],\n",
              "\n",
              "        [[ 0.0177109 ,  0.0177109 ,  0.0177109 ,  0.0177109 ,\n",
              "           0.0177109 ],\n",
              "         [ 0.0177109 ,  0.0177109 ,  0.0177109 ,  0.0177109 ,\n",
              "           0.0177109 ],\n",
              "         [ 0.0177109 ,  0.0177109 ,  0.0177109 ,  0.0177109 ,\n",
              "           0.0177109 ],\n",
              "         ...,\n",
              "         [ 0.0177109 ,  0.0177109 ,  0.0177109 ,  0.0177109 ,\n",
              "           0.0177109 ],\n",
              "         [ 0.0177109 ,  0.0177109 ,  0.0177109 ,  0.0177109 ,\n",
              "           0.0177109 ],\n",
              "         [ 0.0177109 ,  0.0177109 ,  0.0177109 ,  0.0177109 ,\n",
              "           0.0177109 ]]],\n",
              "\n",
              "\n",
              "       [[[ 0.04888754,  0.04888754,  0.04888754,  0.04888754,\n",
              "           0.04888754],\n",
              "         [ 0.04888754,  0.04888754,  0.04888754,  0.04888754,\n",
              "           0.04888754],\n",
              "         [ 0.04888754,  0.04888754,  0.04888754,  0.04888754,\n",
              "           0.04888754],\n",
              "         ...,\n",
              "         [ 0.04888754,  0.04888754,  0.04888754,  0.04888754,\n",
              "           0.04888754],\n",
              "         [ 0.04888754,  0.04888754,  0.04888754,  0.04888754,\n",
              "           0.04888754],\n",
              "         [ 0.04888754,  0.04888754,  0.04888754,  0.04888754,\n",
              "           0.04888754]],\n",
              "\n",
              "        [[-0.66408694, -0.66408694, -0.66408694, -0.66408694,\n",
              "          -0.66408694],\n",
              "         [-0.66408694, -0.66408694, -0.66408694, -0.66408694,\n",
              "          -0.66408694],\n",
              "         [-0.66408694, -0.66408694, -0.66408694, -0.66408694,\n",
              "          -0.66408694],\n",
              "         ...,\n",
              "         [-0.66408694, -0.66408694, -0.66408694, -0.66408694,\n",
              "          -0.66408694],\n",
              "         [-0.66408694, -0.66408694, -0.66408694, -0.66408694,\n",
              "          -0.66408694],\n",
              "         [-0.66408694, -0.66408694, -0.66408694, -0.66408694,\n",
              "          -0.66408694]],\n",
              "\n",
              "        [[-1.787366  , -1.787366  , -1.787366  , -1.787366  ,\n",
              "          -1.787366  ],\n",
              "         [-1.787366  , -1.787366  , -1.787366  , -1.787366  ,\n",
              "          -1.787366  ],\n",
              "         [-1.787366  , -1.787366  , -1.787366  , -1.787366  ,\n",
              "          -1.787366  ],\n",
              "         ...,\n",
              "         [-1.787366  , -1.787366  , -1.787366  , -1.787366  ,\n",
              "          -1.787366  ],\n",
              "         [-1.787366  , -1.787366  , -1.787366  , -1.787366  ,\n",
              "          -1.787366  ],\n",
              "         [-1.787366  , -1.787366  , -1.787366  , -1.787366  ,\n",
              "          -1.787366  ]],\n",
              "\n",
              "        ...,\n",
              "\n",
              "        [[ 0.1947453 ,  0.1947453 ,  0.1947453 ,  0.1947453 ,\n",
              "           0.1947453 ],\n",
              "         [ 0.1947453 ,  0.1947453 ,  0.1947453 ,  0.1947453 ,\n",
              "           0.1947453 ],\n",
              "         [ 0.1947453 ,  0.1947453 ,  0.1947453 ,  0.1947453 ,\n",
              "           0.1947453 ],\n",
              "         ...,\n",
              "         [ 0.1947453 ,  0.1947453 ,  0.1947453 ,  0.1947453 ,\n",
              "           0.1947453 ],\n",
              "         [ 0.1947453 ,  0.1947453 ,  0.1947453 ,  0.1947453 ,\n",
              "           0.1947453 ],\n",
              "         [ 0.1947453 ,  0.1947453 ,  0.1947453 ,  0.1947453 ,\n",
              "           0.1947453 ]],\n",
              "\n",
              "        [[ 0.5656089 ,  0.5656089 ,  0.5656089 ,  0.5656089 ,\n",
              "           0.5656089 ],\n",
              "         [ 0.5656089 ,  0.5656089 ,  0.5656089 ,  0.5656089 ,\n",
              "           0.5656089 ],\n",
              "         [ 0.5656089 ,  0.5656089 ,  0.5656089 ,  0.5656089 ,\n",
              "           0.5656089 ],\n",
              "         ...,\n",
              "         [ 0.5656089 ,  0.5656089 ,  0.5656089 ,  0.5656089 ,\n",
              "           0.5656089 ],\n",
              "         [ 0.5656089 ,  0.5656089 ,  0.5656089 ,  0.5656089 ,\n",
              "           0.5656089 ],\n",
              "         [ 0.5656089 ,  0.5656089 ,  0.5656089 ,  0.5656089 ,\n",
              "           0.5656089 ]],\n",
              "\n",
              "        [[ 0.18439198,  0.18439198,  0.18439198,  0.18439198,\n",
              "           0.18439198],\n",
              "         [ 0.18439198,  0.18439198,  0.18439198,  0.18439198,\n",
              "           0.18439198],\n",
              "         [ 0.18439198,  0.18439198,  0.18439198,  0.18439198,\n",
              "           0.18439198],\n",
              "         ...,\n",
              "         [ 0.18439198,  0.18439198,  0.18439198,  0.18439198,\n",
              "           0.18439198],\n",
              "         [ 0.18439198,  0.18439198,  0.18439198,  0.18439198,\n",
              "           0.18439198],\n",
              "         [ 0.18439198,  0.18439198,  0.18439198,  0.18439198,\n",
              "           0.18439198]]]], dtype=float32)>"
            ]
          },
          "metadata": {},
          "execution_count": 180
        }
      ],
      "source": [
        "# 5.Multiply the two tensors you created in 3 using dot product.\n",
        "tf.tensordot(tensor1, tf.cast(tf.transpose(tensor2), dtype=tf.float32), axes=0)"
      ]
    },
    {
      "cell_type": "code",
      "execution_count": 181,
      "metadata": {
        "colab": {
          "base_uri": "https://localhost:8080/"
        },
        "id": "5Xr7UW12xnVZ",
        "outputId": "ecf4b26d-4bc9-44c1-d014-ebdc193af51d"
      },
      "outputs": [
        {
          "output_type": "execute_result",
          "data": {
            "text/plain": [
              "TensorShape([224, 224, 3])"
            ]
          },
          "metadata": {},
          "execution_count": 181
        }
      ],
      "source": [
        "# 6.Create a tensor with random values between 0 and 1 with shape [224, 224, 3].\n",
        "tensor3 = tf.random.Generator.from_seed(42)\n",
        "tensor3 = tensor3.uniform(shape=[224, 224, 3])\n",
        "tensor3.shape"
      ]
    },
    {
      "cell_type": "code",
      "execution_count": 182,
      "metadata": {
        "colab": {
          "base_uri": "https://localhost:8080/"
        },
        "id": "K9kF6-T82JLj",
        "outputId": "c98047e3-b7ba-4765-88ee-f007026c8dfd"
      },
      "outputs": [
        {
          "output_type": "execute_result",
          "data": {
            "text/plain": [
              "150528"
            ]
          },
          "metadata": {},
          "execution_count": 182
        }
      ],
      "source": [
        "224*224*3"
      ]
    },
    {
      "cell_type": "code",
      "execution_count": 183,
      "metadata": {
        "colab": {
          "base_uri": "https://localhost:8080/"
        },
        "id": "LOvzzhjfxnuQ",
        "outputId": "cb04c43e-6c7f-418e-95e0-33d001ca5273"
      },
      "outputs": [
        {
          "output_type": "execute_result",
          "data": {
            "text/plain": [
              "TensorShape([150528])"
            ]
          },
          "metadata": {},
          "execution_count": 183
        }
      ],
      "source": [
        "# 7.Find the min and max values of the tensor you created in 6.\n",
        "tensor3_1D = tf.reshape(tensor3, shape=[150528])\n",
        "tensor3_1D.shape"
      ]
    },
    {
      "cell_type": "code",
      "execution_count": 184,
      "metadata": {
        "colab": {
          "base_uri": "https://localhost:8080/"
        },
        "id": "JcKcUr5P0WJ8",
        "outputId": "4e0bdc1b-480d-4207-9f7f-caeb4b804430"
      },
      "outputs": [
        {
          "output_type": "stream",
          "name": "stdout",
          "text": [
            "Minimum value:  tf.Tensor(4.053116e-06, shape=(), dtype=float32)\n",
            "Maximum value:  tf.Tensor(0.99998736, shape=(), dtype=float32)\n"
          ]
        }
      ],
      "source": [
        "print('Minimum value: ', tensor3_1D[tf.argmin(tensor3_1D)])\n",
        "print('Maximum value: ', tensor3_1D[tf.argmax(tensor3_1D)])"
      ]
    },
    {
      "cell_type": "code",
      "execution_count": 185,
      "metadata": {
        "colab": {
          "base_uri": "https://localhost:8080/"
        },
        "id": "oZoy6x0Mxnrc",
        "outputId": "6750fd24-8829-4bde-e0be-7b473ecbc29d"
      },
      "outputs": [
        {
          "output_type": "execute_result",
          "data": {
            "text/plain": [
              "TensorShape([1, 224, 224, 3])"
            ]
          },
          "metadata": {},
          "execution_count": 185
        }
      ],
      "source": [
        "# 8.Created a tensor with random values of shape [1, 224, 224, 3] then squeeze it to change the shape to [224, 224, 3].\n",
        "tensor4 = tf.constant(np.arange(0, 100, 150528), shape=[1, 224, 224, 3])\n",
        "tensor4.shape"
      ]
    },
    {
      "cell_type": "code",
      "execution_count": 186,
      "metadata": {
        "colab": {
          "base_uri": "https://localhost:8080/"
        },
        "id": "qwLIVBsxxoLk",
        "outputId": "c06faa5e-330c-41c3-9bdd-e055fb040725"
      },
      "outputs": [
        {
          "output_type": "execute_result",
          "data": {
            "text/plain": [
              "TensorShape([224, 224, 3])"
            ]
          },
          "metadata": {},
          "execution_count": 186
        }
      ],
      "source": [
        "squeezed_tensor4 = tf.squeeze(tensor4)\n",
        "squeezed_tensor4.shape"
      ]
    },
    {
      "cell_type": "code",
      "execution_count": 187,
      "metadata": {
        "colab": {
          "base_uri": "https://localhost:8080/"
        },
        "id": "X0Zya_pN28uH",
        "outputId": "5819c00b-651f-4db2-c7b3-306d8a7a80ad"
      },
      "outputs": [
        {
          "output_type": "execute_result",
          "data": {
            "text/plain": [
              "<tf.Tensor: shape=(10,), dtype=float32, numpy=\n",
              "array([0.7493447 , 0.73561966, 0.45230794, 0.49039817, 0.1889317 ,\n",
              "       0.52027524, 0.8736881 , 0.46921718, 0.63932586, 0.6467117 ],\n",
              "      dtype=float32)>"
            ]
          },
          "metadata": {},
          "execution_count": 187
        }
      ],
      "source": [
        "# 9.Create a tensor with shape [10] using your own choice of values, then find the index which has the maximum value.\n",
        "tensor5 = tf.random.Generator.from_seed(42)\n",
        "tensor5 = tensor5.uniform(shape=[10])\n",
        "tensor5"
      ]
    },
    {
      "cell_type": "code",
      "execution_count": 188,
      "metadata": {
        "colab": {
          "base_uri": "https://localhost:8080/"
        },
        "id": "1fQToi-228qx",
        "outputId": "463f211d-9f20-466b-cb29-fd92f7289d8a"
      },
      "outputs": [
        {
          "output_type": "stream",
          "name": "stdout",
          "text": [
            "Index of maxmimum value:  tf.Tensor(6, shape=(), dtype=int64)\n",
            "Maximum value:  tf.Tensor(6, shape=(), dtype=int64)\n"
          ]
        }
      ],
      "source": [
        "print('Index of maxmimum value: ', tf.argmax(tensor5))\n",
        "print('Maximum value: ', tf.argmax(tensor5))"
      ]
    },
    {
      "cell_type": "code",
      "execution_count": 189,
      "metadata": {
        "colab": {
          "base_uri": "https://localhost:8080/"
        },
        "id": "3JF8Weom4gUV",
        "outputId": "31a1eed7-5a7a-4f5d-82c1-e190b232de57"
      },
      "outputs": [
        {
          "output_type": "execute_result",
          "data": {
            "text/plain": [
              "<tf.Tensor: shape=(10,), dtype=int64, numpy=array([ 1,  2,  3,  4,  5,  6,  7,  8,  9, 10])>"
            ]
          },
          "metadata": {},
          "execution_count": 189
        }
      ],
      "source": [
        "tensor5 = tf.constant(np.arange(1, 11))\n",
        "tensor5"
      ]
    },
    {
      "cell_type": "code",
      "execution_count": 190,
      "metadata": {
        "colab": {
          "base_uri": "https://localhost:8080/"
        },
        "id": "RdQyCK4j4zZa",
        "outputId": "3bc9b286-0820-4c38-b82c-390d1a14763b"
      },
      "outputs": [
        {
          "output_type": "stream",
          "name": "stdout",
          "text": [
            "Index of maxmimum value:  tf.Tensor(9, shape=(), dtype=int64)\n",
            "Maximum value:  tf.Tensor(9, shape=(), dtype=int64)\n"
          ]
        }
      ],
      "source": [
        "print('Index of maxmimum value: ', tf.argmax(tensor5))\n",
        "print('Maximum value: ', tf.argmax(tensor5))"
      ]
    },
    {
      "cell_type": "code",
      "execution_count": 191,
      "metadata": {
        "colab": {
          "base_uri": "https://localhost:8080/"
        },
        "id": "QJUWA2wU28e6",
        "outputId": "b26725e6-1540-446c-9d14-cee6c66f85d7"
      },
      "outputs": [
        {
          "output_type": "execute_result",
          "data": {
            "text/plain": [
              "<tf.Tensor: shape=(10, 1), dtype=float32, numpy=\n",
              "array([[0.],\n",
              "       [0.],\n",
              "       [0.],\n",
              "       [0.],\n",
              "       [0.],\n",
              "       [0.],\n",
              "       [0.],\n",
              "       [0.],\n",
              "       [0.],\n",
              "       [0.]], dtype=float32)>"
            ]
          },
          "metadata": {},
          "execution_count": 191
        }
      ],
      "source": [
        "# 10.One-hot encode the tensor you created in 9.\n",
        "tf.one_hot(tensor5, depth=1)"
      ]
    },
    {
      "cell_type": "code",
      "execution_count": 269,
      "metadata": {
        "id": "agcxgzPc5bH5"
      },
      "outputs": [],
      "source": [
        "# quick Tutorial\n",
        "\n",
        "import tensorflow as tf"
      ]
    },
    {
      "cell_type": "code",
      "execution_count": 270,
      "metadata": {
        "id": "MOYnzIv05nuB"
      },
      "outputs": [],
      "source": [
        "# load and prepare the MNIST dataset\n",
        "mnist = tf.keras.datasets.mnist"
      ]
    },
    {
      "cell_type": "code",
      "execution_count": 271,
      "metadata": {
        "colab": {
          "base_uri": "https://localhost:8080/"
        },
        "id": "WZe-z0co5xVu",
        "outputId": "db47dcb8-647f-4a1a-a59c-68be7c3b4888"
      },
      "outputs": [
        {
          "output_type": "execute_result",
          "data": {
            "text/plain": [
              "((60000, 28, 28), (10000, 28, 28), (60000,), (10000,))"
            ]
          },
          "metadata": {},
          "execution_count": 271
        }
      ],
      "source": [
        "(x_train, y_train), (x_test, y_test) = mnist.load_data()\n",
        "x_train.shape, x_test.shape, y_train.shape, y_test.shape"
      ]
    },
    {
      "cell_type": "code",
      "execution_count": 272,
      "metadata": {
        "id": "ACsjKD2e5-v9"
      },
      "outputs": [],
      "source": [
        "# scale the data\n",
        "x_train = x_train / 255.0\n",
        "x_test = x_test / 255.0"
      ]
    },
    {
      "cell_type": "code",
      "execution_count": 273,
      "metadata": {
        "id": "tcIDWgCP6GWe"
      },
      "outputs": [],
      "source": [
        "# Build the tf.keras.Sequential model by stacking layers. Choose an optimizer and loss function for training:\n",
        "from tensorflow.keras.models import Sequential\n",
        "from tensorflow.keras.layers import Flatten, Dense, Dropout"
      ]
    },
    {
      "cell_type": "code",
      "execution_count": 274,
      "metadata": {
        "id": "pH1p-h5V6dvL"
      },
      "outputs": [],
      "source": [
        "model = Sequential()\n",
        "\n",
        "model.add(Flatten(input_shape=(28, 28)))\n",
        "model.add(Dense(128, activation='relu'))\n",
        "model.add(Dropout(0.2))\n",
        "\n",
        "model.add(Dense(18))"
      ]
    },
    {
      "cell_type": "code",
      "execution_count": 275,
      "metadata": {
        "colab": {
          "base_uri": "https://localhost:8080/"
        },
        "id": "YuAHLnHr6-n0",
        "outputId": "fc2b95be-d772-4a6e-d4d4-697304e54356"
      },
      "outputs": [
        {
          "output_type": "execute_result",
          "data": {
            "text/plain": [
              "array([[ 0.19444829,  0.43486935,  0.18828948, -0.18671325,  0.37026516,\n",
              "        -0.08196621,  0.16913664,  0.06592947, -0.30675662,  0.35159796,\n",
              "        -0.74065477, -0.12359548,  0.10989833,  0.05565842,  0.336009  ,\n",
              "        -0.5057974 , -0.42964074,  0.19099417]], dtype=float32)"
            ]
          },
          "metadata": {},
          "execution_count": 275
        }
      ],
      "source": [
        "\n",
        "# For each example the model returns a vector of \"logits\" or \"log-odds\" scores, one for each class.\n",
        "predictions = model(x_train[:1]).numpy()\n",
        "predictions"
      ]
    },
    {
      "cell_type": "code",
      "execution_count": 276,
      "metadata": {
        "colab": {
          "base_uri": "https://localhost:8080/"
        },
        "id": "mNqRI2Zh7MWA",
        "outputId": "3be6820b-4bdc-4630-be12-71b8de1e69b9"
      },
      "outputs": [
        {
          "output_type": "execute_result",
          "data": {
            "text/plain": [
              "array([[0.0640201 , 0.08141978, 0.06362703, 0.04373005, 0.07632603,\n",
              "        0.04855915, 0.06241999, 0.05629909, 0.0387834 , 0.07491446,\n",
              "        0.0251308 , 0.04657917, 0.05882972, 0.0557238 , 0.07375567,\n",
              "        0.03178363, 0.03429873, 0.06379935]], dtype=float32)"
            ]
          },
          "metadata": {},
          "execution_count": 276
        }
      ],
      "source": [
        "# The tf.nn.softmax function converts these logits to \"probabilities\" for each class:\n",
        "tf.nn.softmax(predictions).numpy()"
      ]
    },
    {
      "cell_type": "code",
      "execution_count": 277,
      "metadata": {
        "id": "MpT6QRLy7WL4"
      },
      "outputs": [],
      "source": [
        "# The losses.SparseCategoricalCrossentropy loss takes a vector of logits and a True index and returns a scalar loss for each example.\n",
        "loss_fn = tf.keras.losses.SparseCategoricalCrossentropy(from_logits=True)"
      ]
    },
    {
      "cell_type": "code",
      "execution_count": 278,
      "metadata": {
        "colab": {
          "base_uri": "https://localhost:8080/"
        },
        "id": "6DDYFoK48bdg",
        "outputId": "77921238-5988-419b-c41a-544629398238"
      },
      "outputs": [
        {
          "output_type": "execute_result",
          "data": {
            "text/plain": [
              "3.0249724"
            ]
          },
          "metadata": {},
          "execution_count": 278
        }
      ],
      "source": [
        "loss_fn(y_train[:1], predictions).numpy()"
      ]
    },
    {
      "cell_type": "code",
      "execution_count": 279,
      "metadata": {
        "id": "Dk4dK9Wx8mbr"
      },
      "outputs": [],
      "source": [
        "model.compile(\n",
        "    optimizer='adam',\n",
        "    loss=loss_fn,\n",
        "    metrics=['accuracy']\n",
        ")"
      ]
    },
    {
      "cell_type": "code",
      "execution_count": 280,
      "metadata": {
        "colab": {
          "base_uri": "https://localhost:8080/"
        },
        "id": "xEh02pu38ylO",
        "outputId": "81b4ade4-45cd-4bc8-d54b-3659afdeea0f"
      },
      "outputs": [
        {
          "output_type": "stream",
          "name": "stdout",
          "text": [
            "Epoch 1/5\n",
            "1875/1875 [==============================] - 4s 2ms/step - loss: 0.3038 - accuracy: 0.9108\n",
            "Epoch 2/5\n",
            "1875/1875 [==============================] - 4s 2ms/step - loss: 0.1435 - accuracy: 0.9570\n",
            "Epoch 3/5\n",
            "1875/1875 [==============================] - 4s 2ms/step - loss: 0.1075 - accuracy: 0.9673\n",
            "Epoch 4/5\n",
            "1875/1875 [==============================] - 4s 2ms/step - loss: 0.0887 - accuracy: 0.9729\n",
            "Epoch 5/5\n",
            "1875/1875 [==============================] - 5s 3ms/step - loss: 0.0737 - accuracy: 0.9774\n"
          ]
        },
        {
          "output_type": "execute_result",
          "data": {
            "text/plain": [
              "<keras.callbacks.History at 0x7f794d0b53d0>"
            ]
          },
          "metadata": {},
          "execution_count": 280
        }
      ],
      "source": [
        "model.fit(x_train, y_train, epochs=5)"
      ]
    },
    {
      "cell_type": "code",
      "execution_count": 281,
      "metadata": {
        "colab": {
          "base_uri": "https://localhost:8080/"
        },
        "id": "jOZraswh81I1",
        "outputId": "cd51b5c4-6bd9-420a-d143-00af0cd4bb64"
      },
      "outputs": [
        {
          "output_type": "stream",
          "name": "stdout",
          "text": [
            "313/313 - 1s - loss: 0.0788 - accuracy: 0.9757 - 608ms/epoch - 2ms/step\n"
          ]
        },
        {
          "output_type": "execute_result",
          "data": {
            "text/plain": [
              "[0.07877697050571442, 0.9757000207901001]"
            ]
          },
          "metadata": {},
          "execution_count": 281
        }
      ],
      "source": [
        "# The Model.evaluate method checks the models performance, usually on a \"Validation-set\" or \"Test-set\".\n",
        "model.evaluate(x_test, y_test, verbose=2)"
      ]
    },
    {
      "cell_type": "markdown",
      "metadata": {
        "id": "mMvv-Sm99BTI"
      },
      "source": [
        "The image classifier is now trained to ~98% accuracy on this dataset. "
      ]
    },
    {
      "cell_type": "code",
      "execution_count": 282,
      "metadata": {
        "id": "ibGFVNk49KbT"
      },
      "outputs": [],
      "source": [
        "# If you want your model to return a probability, you can wrap the trained model, and attach the softmax to it:\n",
        "probability_model = tf.keras.Sequential([\n",
        "                                         model, \n",
        "                                         tf.keras.layers.Softmax()\n",
        "])"
      ]
    },
    {
      "cell_type": "code",
      "execution_count": 283,
      "metadata": {
        "colab": {
          "base_uri": "https://localhost:8080/"
        },
        "id": "C0xaMSXL9VhY",
        "outputId": "41f380d4-02da-4349-9135-534dad7307cf"
      },
      "outputs": [
        {
          "output_type": "execute_result",
          "data": {
            "text/plain": [
              "<tf.Tensor: shape=(5, 18), dtype=float32, numpy=\n",
              "array([[2.30761206e-08, 2.00025116e-08, 7.36060065e-06, 3.88342996e-05,\n",
              "        2.68860433e-12, 5.76888439e-08, 2.86299542e-14, 9.99953628e-01,\n",
              "        6.64138966e-08, 4.53253399e-08, 5.46443723e-14, 8.47634544e-14,\n",
              "        3.49449948e-14, 3.74456224e-14, 5.49688502e-14, 6.01817460e-15,\n",
              "        3.39363242e-14, 8.78346061e-14],\n",
              "       [2.60258393e-08, 1.12737162e-05, 9.99981165e-01, 4.23698339e-06,\n",
              "        2.50615609e-13, 1.30428202e-06, 1.40509997e-07, 4.15454644e-13,\n",
              "        1.81178882e-06, 1.20099758e-13, 1.15054539e-15, 4.32706411e-16,\n",
              "        1.79816963e-15, 1.13108005e-15, 9.23358324e-15, 1.35604120e-15,\n",
              "        6.97665463e-16, 1.20107419e-15],\n",
              "       [1.19878067e-07, 9.98839796e-01, 9.89442342e-05, 7.06095170e-06,\n",
              "        7.03213882e-05, 6.69019391e-06, 5.91128173e-06, 7.27035222e-04,\n",
              "        2.43935501e-04, 2.14377934e-07, 2.66853895e-09, 5.69975178e-10,\n",
              "        1.98523176e-09, 3.20882543e-09, 3.82505050e-09, 4.29617675e-09,\n",
              "        2.60892064e-09, 5.19823473e-09],\n",
              "       [9.99359190e-01, 4.96534931e-11, 5.59366948e-04, 5.05240827e-08,\n",
              "        1.12105404e-07, 1.28785305e-05, 2.27954679e-05, 1.54152021e-05,\n",
              "        1.12668363e-06, 2.89584095e-05, 3.69885329e-12, 7.41807137e-12,\n",
              "        5.70592781e-13, 4.84964022e-12, 3.96515850e-12, 9.36991370e-13,\n",
              "        1.58168964e-12, 6.31434748e-12],\n",
              "       [3.84424493e-06, 6.51212204e-08, 2.23121257e-04, 1.48217759e-06,\n",
              "        9.92898345e-01, 4.30661112e-06, 8.07943650e-07, 2.76209379e-04,\n",
              "        1.54754514e-06, 6.59034122e-03, 3.20919735e-10, 2.45161086e-10,\n",
              "        4.30190661e-10, 1.24508048e-09, 2.26607333e-09, 9.09408215e-10,\n",
              "        8.78121298e-10, 2.06700945e-09]], dtype=float32)>"
            ]
          },
          "metadata": {},
          "execution_count": 283
        }
      ],
      "source": [
        "probability_model(x_test[:5])"
      ]
    },
    {
      "cell_type": "code",
      "execution_count": 283,
      "metadata": {
        "id": "yvlPyec59W0g"
      },
      "outputs": [],
      "source": []
    }
  ],
  "metadata": {
    "accelerator": "GPU",
    "colab": {
      "collapsed_sections": [],
      "provenance": []
    },
    "kernelspec": {
      "display_name": "Python 3",
      "language": "python",
      "name": "python3"
    },
    "language_info": {
      "codemirror_mode": {
        "name": "ipython",
        "version": 3
      },
      "file_extension": ".py",
      "mimetype": "text/x-python",
      "name": "python",
      "nbconvert_exporter": "python",
      "pygments_lexer": "ipython3",
      "version": "3.8.5"
    }
  },
  "nbformat": 4,
  "nbformat_minor": 0
}
