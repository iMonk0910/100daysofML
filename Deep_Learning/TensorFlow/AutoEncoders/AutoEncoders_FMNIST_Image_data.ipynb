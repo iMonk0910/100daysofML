{
  "cells": [
    {
      "cell_type": "markdown",
      "source": [
        "# AutoEncoders on Image Data"
      ],
      "metadata": {
        "id": "HbePDI8Arijc"
      }
    },
    {
      "cell_type": "code",
      "execution_count": 8,
      "metadata": {
        "id": "BlB2VNkkbrFr"
      },
      "outputs": [],
      "source": [
        "import numpy as np\n",
        "import pandas as pd\n",
        "import matplotlib.pyplot as plt"
      ]
    },
    {
      "cell_type": "markdown",
      "metadata": {
        "id": "ixl8At3FbrFp"
      },
      "source": [
        "## Data\n",
        "\n",
        "Fashion MNST dataset\n",
        "\n",
        "total Images  = 70000\n",
        "\n",
        "Image Shape = (28, 28)\n",
        "\n",
        "Dimensions = 784 (Features of image)"
      ]
    },
    {
      "cell_type": "code",
      "execution_count": 9,
      "metadata": {
        "id": "O8feAZ7EbrFt"
      },
      "outputs": [],
      "source": [
        "from tensorflow.keras.datasets import fashion_mnist"
      ]
    },
    {
      "cell_type": "markdown",
      "source": [
        "#### Train-Test load "
      ],
      "metadata": {
        "id": "heOAlmlAs-Yr"
      }
    },
    {
      "cell_type": "code",
      "source": [
        "(X_train, y_train), (X_test, y_test) = fashion_mnist.load_data()"
      ],
      "metadata": {
        "id": "MZE09Rhyo1Yp"
      },
      "execution_count": 59,
      "outputs": []
    },
    {
      "cell_type": "code",
      "source": [
        "len(X_train),len(X_test)"
      ],
      "metadata": {
        "colab": {
          "base_uri": "https://localhost:8080/"
        },
        "id": "sFVPxsZ1oxS8",
        "outputId": "5bebb4bc-8fca-4aaa-aa5d-f9c4cab426c7"
      },
      "execution_count": 60,
      "outputs": [
        {
          "output_type": "execute_result",
          "data": {
            "text/plain": [
              "(60000, 10000)"
            ]
          },
          "metadata": {},
          "execution_count": 60
        }
      ]
    },
    {
      "cell_type": "code",
      "execution_count": 61,
      "metadata": {
        "colab": {
          "base_uri": "https://localhost:8080/",
          "height": 265
        },
        "id": "-OtyiLoTbrFv",
        "outputId": "9d5bbc47-8aa2-4632-dc16-71f4fa2f8827"
      },
      "outputs": [
        {
          "output_type": "display_data",
          "data": {
            "text/plain": [
              "<Figure size 432x288 with 1 Axes>"
            ],
            "image/png": "[encoded data removed]"
          },
          "metadata": {
            "needs_background": "light"
          }
        }
      ],
      "source": [
        "plt.imshow(X_train[0]);"
      ]
    },
    {
      "cell_type": "code",
      "source": [
        "X_train[0].shape"
      ],
      "metadata": {
        "colab": {
          "base_uri": "https://localhost:8080/"
        },
        "id": "5XBTLhsymfsm",
        "outputId": "f253ca8b-4a5f-4ca6-f632-76fb6c9b690e"
      },
      "execution_count": 62,
      "outputs": [
        {
          "output_type": "execute_result",
          "data": {
            "text/plain": [
              "(28, 28)"
            ]
          },
          "metadata": {},
          "execution_count": 62
        }
      ]
    },
    {
      "cell_type": "markdown",
      "metadata": {
        "id": "uRmrQ8h4brF4"
      },
      "source": [
        "### Scaling"
      ]
    },
    {
      "cell_type": "code",
      "execution_count": 63,
      "metadata": {
        "id": "QiBrlSO0brF5"
      },
      "outputs": [],
      "source": [
        "X_train = X_train / 255 \n",
        "X_test = X_test / 255"
      ]
    },
    {
      "cell_type": "markdown",
      "metadata": {
        "id": "Ilf0IZujbrF8"
      },
      "source": [
        "## AutoEncoder\n",
        "\n",
        "\n",
        "Autoencoder will attempt to learn what pixels are important by passing the image through the Autoencoder when encoded it down to smaller hidden layers, then Autoencoder attempts to decode these layers to recreat the image as the output\n",
        "\n",
        "\n",
        "**Stacked AutoEncoder**\n",
        "\n",
        "Stacked AutoEncoder there are Multiple encoders stacked on top of one another.\n",
        "Stacked AutoEncoders means multiple stacked hidden layers that slowly reduce the dimensionality of the dataset."
      ]
    },
    {
      "cell_type": "markdown",
      "metadata": {
        "id": "wo3qs4gPbrF9"
      },
      "source": [
        "## Building AutoEncoder"
      ]
    },
    {
      "cell_type": "code",
      "execution_count": 64,
      "metadata": {
        "id": "H3ysl0xGbrF-"
      },
      "outputs": [],
      "source": [
        "from tensorflow.keras.models import Sequential\n",
        "from tensorflow.keras.layers import Dense, Flatten, Reshape\n",
        "from tensorflow.keras.optimizers import Adam,SGD"
      ]
    },
    {
      "cell_type": "code",
      "execution_count": 65,
      "metadata": {
        "colab": {
          "base_uri": "https://localhost:8080/"
        },
        "id": "KYD_mrEobrF_",
        "outputId": "5b661743-fd49-45af-e5b5-d0de27f4f70f"
      },
      "outputs": [
        {
          "output_type": "execute_result",
          "data": {
            "text/plain": [
              "(60000, 28, 28)"
            ]
          },
          "metadata": {},
          "execution_count": 65
        }
      ],
      "source": [
        "X_train.shape"
      ]
    },
    {
      "cell_type": "markdown",
      "metadata": {
        "id": "YmJSpJhwbrGA"
      },
      "source": [
        "### Building Encoder"
      ]
    },
    {
      "cell_type": "code",
      "execution_count": 18,
      "metadata": {
        "id": "zidQ3-NbbrGB"
      },
      "outputs": [],
      "source": [
        "encoder = Sequential()\n",
        "\n",
        "encoder.add(Flatten(input_shape=[28,28]))    # Flatten this from(28,28) to 784\n",
        "\n",
        "encoder.add(Dense(400, activation='relu'))   # reduced to Half => 784 to 400\n",
        "encoder.add(Dense(200, activation='relu'))   # reduced to Half => 400 to 200\n",
        "encoder.add(Dense(100, activation='relu'))   # reduced to Half => 200 to 100\n",
        "encoder.add(Dense(50, activation='relu'))   # reduced to Half => 100 to 50\n",
        "encoder.add(Dense(25, activation='relu'))   # reduced to Half => 50 to 25 (3%)"
      ]
    },
    {
      "cell_type": "markdown",
      "metadata": {
        "id": "11eJRnS2brGC"
      },
      "source": [
        "### Building Decoder\n",
        "\n",
        "Decoding(reverse) what encoder has done\n",
        "\n",
        "Skips the last layer of encoder\n"
      ]
    },
    {
      "cell_type": "code",
      "execution_count": 19,
      "metadata": {
        "id": "rpgXGD8BbrGD"
      },
      "outputs": [],
      "source": [
        "decoder = Sequential()\n",
        "\n",
        "decoder.add(Dense(50, input_shape=[25], activation='relu'))    # 25 is the last layer of our encoder\n",
        "decoder.add(Dense(100, activation='relu'))\n",
        "decoder.add(Dense(200, activation='relu'))\n",
        "decoder.add(Dense(400, activation='relu'))\n",
        "decoder.add(Dense(28 *28, activation='sigmoid'))     # because of binarycrossentropy loss\n",
        "\n",
        "decoder.add(Reshape([28,28]))   # reshape back (28,28) image"
      ]
    },
    {
      "cell_type": "markdown",
      "metadata": {
        "id": "xNIe8g6DbrGE"
      },
      "source": [
        "### Encoder + Decoder as AutoEncoder"
      ]
    },
    {
      "cell_type": "code",
      "execution_count": 20,
      "metadata": {
        "id": "_8LrP5GMbrGF"
      },
      "outputs": [],
      "source": [
        "autoencoder = Sequential([encoder, decoder])"
      ]
    },
    {
      "cell_type": "code",
      "execution_count": 21,
      "metadata": {
        "colab": {
          "base_uri": "https://localhost:8080/"
        },
        "id": "MiatsaVlbrGF",
        "outputId": "3fd88e18-7ccf-456e-cf25-f216c5d5d376"
      },
      "outputs": [
        {
          "output_type": "stream",
          "name": "stderr",
          "text": [
            "/usr/local/lib/python3.7/dist-packages/keras/optimizer_v2/gradient_descent.py:102: UserWarning: The `lr` argument is deprecated, use `learning_rate` instead.\n",
            "  super(SGD, self).__init__(name, **kwargs)\n"
          ]
        }
      ],
      "source": [
        "autoencoder.compile(loss='binary_crossentropy',                      # checked only image produced is matched the input image\n",
        "                                   optimizer=SGD(lr=1.5), \n",
        "                                   metrics=['accuracy'])"
      ]
    },
    {
      "cell_type": "markdown",
      "metadata": {
        "id": "N28G05p2brGG"
      },
      "source": [
        "### Training AutoEncoder\n",
        "\n",
        "AutoEncoder is semi-supervised learning. AutoEncoders actually trying to predict the classification or anything.\n",
        "\n",
        "AutoEncoder try to learn the important features and reduce the dimensionality.\n",
        "\n",
        "input and ouput for fitting is different from supervised learning."
      ]
    },
    {
      "cell_type": "code",
      "execution_count": 50,
      "metadata": {
        "colab": {
          "base_uri": "https://localhost:8080/"
        },
        "id": "H9KY1nNMbrGH",
        "outputId": "f27eeed5-2924-4326-aff4-c1b501ef68f6"
      },
      "outputs": [
        {
          "output_type": "execute_result",
          "data": {
            "text/plain": [
              "(60000, 28, 28)"
            ]
          },
          "metadata": {},
          "execution_count": 50
        }
      ],
      "source": [
        "X_train.shape"
      ]
    },
    {
      "cell_type": "code",
      "execution_count": 27,
      "metadata": {
        "colab": {
          "base_uri": "https://localhost:8080/"
        },
        "id": "EC776WlmbrGI",
        "outputId": "b9c6caf7-370d-43ea-d09d-367aa5b4f0ee"
      },
      "outputs": [
        {
          "output_type": "stream",
          "name": "stdout",
          "text": [
            "Epoch 1/20\n",
            "1875/1875 [==============================] - 24s 13ms/step - loss: 0.3448 - accuracy: 0.0804 - val_loss: 0.3337 - val_accuracy: 0.0886\n",
            "Epoch 2/20\n",
            "1875/1875 [==============================] - 24s 13ms/step - loss: 0.3176 - accuracy: 0.0941 - val_loss: 0.3128 - val_accuracy: 0.0975\n",
            "Epoch 3/20\n",
            "1875/1875 [==============================] - 24s 13ms/step - loss: 0.3102 - accuracy: 0.1022 - val_loss: 0.3089 - val_accuracy: 0.1089\n",
            "Epoch 4/20\n",
            "1875/1875 [==============================] - 25s 14ms/step - loss: 0.3058 - accuracy: 0.1105 - val_loss: 0.3057 - val_accuracy: 0.1173\n",
            "Epoch 5/20\n",
            "1875/1875 [==============================] - 23s 12ms/step - loss: 0.3028 - accuracy: 0.1180 - val_loss: 0.3095 - val_accuracy: 0.1188\n",
            "Epoch 6/20\n",
            "1875/1875 [==============================] - 22s 12ms/step - loss: 0.3006 - accuracy: 0.1238 - val_loss: 0.3111 - val_accuracy: 0.1220\n",
            "Epoch 7/20\n",
            "1875/1875 [==============================] - 22s 12ms/step - loss: 0.2989 - accuracy: 0.1287 - val_loss: 0.3027 - val_accuracy: 0.1318\n",
            "Epoch 8/20\n",
            "1875/1875 [==============================] - 23s 13ms/step - loss: 0.2972 - accuracy: 0.1339 - val_loss: 0.2996 - val_accuracy: 0.1319\n",
            "Epoch 9/20\n",
            "1875/1875 [==============================] - 23s 12ms/step - loss: 0.2958 - accuracy: 0.1384 - val_loss: 0.2959 - val_accuracy: 0.1353\n",
            "Epoch 10/20\n",
            "1875/1875 [==============================] - 23s 12ms/step - loss: 0.2946 - accuracy: 0.1422 - val_loss: 0.2948 - val_accuracy: 0.1429\n",
            "Epoch 11/20\n",
            "1875/1875 [==============================] - 23s 12ms/step - loss: 0.2934 - accuracy: 0.1452 - val_loss: 0.2943 - val_accuracy: 0.1420\n",
            "Epoch 12/20\n",
            "1875/1875 [==============================] - 24s 13ms/step - loss: 0.2924 - accuracy: 0.1481 - val_loss: 0.2937 - val_accuracy: 0.1462\n",
            "Epoch 13/20\n",
            "1875/1875 [==============================] - 22s 12ms/step - loss: 0.2912 - accuracy: 0.1503 - val_loss: 0.2951 - val_accuracy: 0.1419\n",
            "Epoch 14/20\n",
            "1875/1875 [==============================] - 23s 12ms/step - loss: 0.2900 - accuracy: 0.1538 - val_loss: 0.2969 - val_accuracy: 0.1483\n",
            "Epoch 15/20\n",
            "1875/1875 [==============================] - 22s 12ms/step - loss: 0.2891 - accuracy: 0.1575 - val_loss: 0.2977 - val_accuracy: 0.1528\n",
            "Epoch 16/20\n",
            "1875/1875 [==============================] - 23s 12ms/step - loss: 0.2882 - accuracy: 0.1604 - val_loss: 0.2899 - val_accuracy: 0.1608\n",
            "Epoch 17/20\n",
            "1875/1875 [==============================] - 24s 13ms/step - loss: 0.2873 - accuracy: 0.1633 - val_loss: 0.2886 - val_accuracy: 0.1654\n",
            "Epoch 18/20\n",
            "1875/1875 [==============================] - 23s 12ms/step - loss: 0.2865 - accuracy: 0.1658 - val_loss: 0.2893 - val_accuracy: 0.1648\n",
            "Epoch 19/20\n",
            "1875/1875 [==============================] - 22s 12ms/step - loss: 0.2859 - accuracy: 0.1676 - val_loss: 0.2893 - val_accuracy: 0.1673\n",
            "Epoch 20/20\n",
            "1875/1875 [==============================] - 22s 12ms/step - loss: 0.2853 - accuracy: 0.1700 - val_loss: 0.2875 - val_accuracy: 0.1706\n"
          ]
        },
        {
          "output_type": "execute_result",
          "data": {
            "text/plain": [
              "<keras.callbacks.History at 0x7f05f4bbf550>"
            ]
          },
          "metadata": {},
          "execution_count": 27
        }
      ],
      "source": [
        "autoencoder.fit(X_train, X_train,\n",
        "                       epochs=20,\n",
        "                       validation_data=(X_test, X_test))"
      ]
    },
    {
      "cell_type": "markdown",
      "metadata": {
        "id": "HF67DdHfbrGI"
      },
      "source": [
        "### Evaluating  AutoEncoder"
      ]
    },
    {
      "cell_type": "code",
      "execution_count": 32,
      "metadata": {
        "id": "hMFMn9C1brGJ"
      },
      "outputs": [],
      "source": [
        "images_sample = autoencoder.predict(X_test[:10])   #passing 10 images to Autoencoder"
      ]
    },
    {
      "cell_type": "code",
      "execution_count": 33,
      "metadata": {
        "colab": {
          "base_uri": "https://localhost:8080/",
          "height": 548
        },
        "id": "jddS9FtDbrGJ",
        "outputId": "c101e601-a1e5-48c9-8bb3-1dd209b6fbba"
      },
      "outputs": [
        {
          "output_type": "stream",
          "name": "stdout",
          "text": [
            "Input Image\n"
          ]
        },
        {
          "output_type": "display_data",
          "data": {
            "text/plain": [
              "<Figure size 432x288 with 1 Axes>"
            ],
            "image/png": "[encoded data removed]"
          },
          "metadata": {
            "needs_background": "light"
          }
        },
        {
          "output_type": "stream",
          "name": "stdout",
          "text": [
            "After Recreation\n"
          ]
        },
        {
          "output_type": "display_data",
          "data": {
            "text/plain": [
              "<Figure size 432x288 with 1 Axes>"
            ],
            "image/png": "[encoded data removed]"
          },
          "metadata": {
            "needs_background": "light"
          }
        }
      ],
      "source": [
        "print('Input Image')\n",
        "plt.imshow(X_test[0])\n",
        "plt.show();\n",
        "\n",
        "print('After Recreation')\n",
        "plt.imshow(images_sample[0]);"
      ]
    },
    {
      "cell_type": "markdown",
      "metadata": {
        "id": "qU_s6OsObrGK"
      },
      "source": [
        "## Denoising Using Autoencoder"
      ]
    },
    {
      "cell_type": "markdown",
      "metadata": {
        "id": "I4waaMSubrGL"
      },
      "source": [
        "### Adding noises"
      ]
    },
    {
      "cell_type": "code",
      "execution_count": 37,
      "metadata": {
        "id": "nSTnBMzObrGM"
      },
      "outputs": [],
      "source": [
        "from tensorflow.keras.layers import GaussianNoise"
      ]
    },
    {
      "cell_type": "code",
      "execution_count": 38,
      "metadata": {
        "id": "dLxz0mElbrGM"
      },
      "outputs": [],
      "source": [
        "sample = GaussianNoise(0.2) # more the std value, the more noise"
      ]
    },
    {
      "cell_type": "code",
      "execution_count": 39,
      "metadata": {
        "id": "pSPXG3pobrGM"
      },
      "outputs": [],
      "source": [
        "noisey = sample(X_test[:10], training=True) # training with 10 images of Test dataset"
      ]
    },
    {
      "cell_type": "code",
      "execution_count": 41,
      "metadata": {
        "colab": {
          "base_uri": "https://localhost:8080/",
          "height": 548
        },
        "id": "U6yJlp4NbrGN",
        "outputId": "3149f562-d118-40ca-c188-3385d9e78799"
      },
      "outputs": [
        {
          "output_type": "stream",
          "name": "stdout",
          "text": [
            "Original Image\n"
          ]
        },
        {
          "output_type": "display_data",
          "data": {
            "text/plain": [
              "<Figure size 432x288 with 1 Axes>"
            ],
            "image/png": "[encoded data removed]"
          },
          "metadata": {
            "needs_background": "light"
          }
        },
        {
          "output_type": "stream",
          "name": "stdout",
          "text": [
            "Noisey Version\n"
          ]
        },
        {
          "output_type": "display_data",
          "data": {
            "text/plain": [
              "<Figure size 432x288 with 1 Axes>"
            ],
            "image/png": "[encoded data removed]"
          },
          "metadata": {
            "needs_background": "light"
          }
        }
      ],
      "source": [
        "print('Original Image')\n",
        "plt.imshow(X_test[0])\n",
        "plt.show();\n",
        "\n",
        "print('Noisey Version')\n",
        "plt.imshow(noisey[0]);"
      ]
    },
    {
      "cell_type": "markdown",
      "metadata": {
        "id": "blVAz3lVbrGO"
      },
      "source": [
        "## Building Noise Remover Autoencoder "
      ]
    },
    {
      "cell_type": "markdown",
      "metadata": {
        "id": "83M-OBkcbrGO"
      },
      "source": [
        "### Encoder"
      ]
    },
    {
      "cell_type": "code",
      "execution_count": 68,
      "metadata": {
        "id": "gSgAK5iJbrGO"
      },
      "outputs": [],
      "source": [
        "import tensorflow as tf"
      ]
    },
    {
      "cell_type": "code",
      "execution_count": 44,
      "metadata": {
        "id": "ac-WgKJjbrGP"
      },
      "outputs": [],
      "source": [
        "tf.random.set_seed(101) # initialize the random number generator"
      ]
    },
    {
      "cell_type": "code",
      "execution_count": 46,
      "metadata": {
        "id": "AKtmkhSjbrGP"
      },
      "outputs": [],
      "source": [
        "encoder = Sequential()\n",
        "\n",
        "encoder.add(Flatten(input_shape = [28,28]))\n",
        "\n",
        "# Add noise to images before going through autoencoder\n",
        "encoder.add(GaussianNoise(0.2))\n",
        "\n",
        "encoder.add(Dense(400, activation='relu'))\n",
        "encoder.add(Dense(200, activation='relu'))\n",
        "encoder.add(Dense(100, activation='relu'))\n",
        "encoder.add(Dense(50, activation='relu'))\n",
        "encoder.add(Dense(25, activation='relu'))"
      ]
    },
    {
      "cell_type": "markdown",
      "metadata": {
        "id": "hFglMHNFbrGQ"
      },
      "source": [
        "### Decoder"
      ]
    },
    {
      "cell_type": "code",
      "execution_count": 47,
      "metadata": {
        "id": "aRX1EMPqbrGQ"
      },
      "outputs": [],
      "source": [
        "decoder = Sequential()\n",
        "\n",
        "decoder.add(Dense(50, input_shape =[25], activation='relu'))\n",
        "decoder.add(Dense(100, activation='relu'))\n",
        "decoder.add(Dense(200, activation='relu'))\n",
        "decoder.add(Dense(400, activation='relu'))\n",
        "decoder.add(Dense(784, activation='sigmoid'))\n",
        "\n",
        "decoder.add(Reshape([28,28]))"
      ]
    },
    {
      "cell_type": "markdown",
      "metadata": {
        "id": "W0QocjafbrGQ"
      },
      "source": [
        "### Noise Remover AutoEncoder"
      ]
    },
    {
      "cell_type": "code",
      "execution_count": 50,
      "metadata": {
        "id": "tp2oImOPbrGQ"
      },
      "outputs": [],
      "source": [
        "noise_remover = Sequential([encoder, decoder])"
      ]
    },
    {
      "cell_type": "code",
      "execution_count": 51,
      "metadata": {
        "colab": {
          "base_uri": "https://localhost:8080/"
        },
        "id": "5vRvwwjfbrGR",
        "outputId": "dc240e7a-7fda-40d4-e356-d5252e039de8"
      },
      "outputs": [
        {
          "output_type": "stream",
          "name": "stderr",
          "text": [
            "/usr/local/lib/python3.7/dist-packages/keras/optimizer_v2/gradient_descent.py:102: UserWarning: The `lr` argument is deprecated, use `learning_rate` instead.\n",
            "  super(SGD, self).__init__(name, **kwargs)\n"
          ]
        }
      ],
      "source": [
        "noise_remover.compile(loss='binary_crossentropy', \n",
        "                                     optimizer=SGD(lr=1.5),\n",
        "                                     metrics=['accuracy'])"
      ]
    },
    {
      "cell_type": "markdown",
      "metadata": {
        "id": "Iz-lT3cBbrGR"
      },
      "source": [
        "### Train Noise Remover AutoEncoder "
      ]
    },
    {
      "cell_type": "code",
      "execution_count": 53,
      "metadata": {
        "colab": {
          "base_uri": "https://localhost:8080/"
        },
        "id": "7DJp1stgbrGR",
        "outputId": "e79890e9-89f7-4780-f5a8-f74eccd78814"
      },
      "outputs": [
        {
          "output_type": "stream",
          "name": "stdout",
          "text": [
            "Epoch 1/20\n",
            "1875/1875 [==============================] - 24s 13ms/step - loss: 0.3369 - accuracy: 0.0856 - val_loss: 0.3261 - val_accuracy: 0.0964\n",
            "Epoch 2/20\n",
            "1875/1875 [==============================] - 23s 12ms/step - loss: 0.3179 - accuracy: 0.0999 - val_loss: 0.3158 - val_accuracy: 0.0994\n",
            "Epoch 3/20\n",
            "1875/1875 [==============================] - 24s 13ms/step - loss: 0.3115 - accuracy: 0.1070 - val_loss: 0.3108 - val_accuracy: 0.1097\n",
            "Epoch 4/20\n",
            "1875/1875 [==============================] - 24s 13ms/step - loss: 0.3080 - accuracy: 0.1126 - val_loss: 0.3080 - val_accuracy: 0.1172\n",
            "Epoch 5/20\n",
            "1875/1875 [==============================] - 27s 15ms/step - loss: 0.3055 - accuracy: 0.1181 - val_loss: 0.3048 - val_accuracy: 0.1185\n",
            "Epoch 6/20\n",
            "1875/1875 [==============================] - 28s 15ms/step - loss: 0.3032 - accuracy: 0.1228 - val_loss: 0.3024 - val_accuracy: 0.1278\n",
            "Epoch 7/20\n",
            "1875/1875 [==============================] - 24s 13ms/step - loss: 0.3012 - accuracy: 0.1288 - val_loss: 0.3018 - val_accuracy: 0.1283\n",
            "Epoch 8/20\n",
            "1875/1875 [==============================] - 22s 12ms/step - loss: 0.2996 - accuracy: 0.1330 - val_loss: 0.2982 - val_accuracy: 0.1311\n",
            "Epoch 9/20\n",
            "1875/1875 [==============================] - 22s 12ms/step - loss: 0.2983 - accuracy: 0.1364 - val_loss: 0.2970 - val_accuracy: 0.1392\n",
            "Epoch 10/20\n",
            "1875/1875 [==============================] - 23s 12ms/step - loss: 0.2970 - accuracy: 0.1387 - val_loss: 0.2982 - val_accuracy: 0.1376\n",
            "Epoch 11/20\n",
            "1875/1875 [==============================] - 24s 13ms/step - loss: 0.2959 - accuracy: 0.1418 - val_loss: 0.2953 - val_accuracy: 0.1360\n",
            "Epoch 12/20\n",
            "1875/1875 [==============================] - 23s 12ms/step - loss: 0.2946 - accuracy: 0.1440 - val_loss: 0.2936 - val_accuracy: 0.1422\n",
            "Epoch 13/20\n",
            "1875/1875 [==============================] - 23s 12ms/step - loss: 0.2934 - accuracy: 0.1472 - val_loss: 0.2955 - val_accuracy: 0.1465\n",
            "Epoch 14/20\n",
            "1875/1875 [==============================] - 23s 12ms/step - loss: 0.2923 - accuracy: 0.1507 - val_loss: 0.2914 - val_accuracy: 0.1533\n",
            "Epoch 15/20\n",
            "1875/1875 [==============================] - 23s 12ms/step - loss: 0.2912 - accuracy: 0.1537 - val_loss: 0.2960 - val_accuracy: 0.1592\n",
            "Epoch 16/20\n",
            "1875/1875 [==============================] - 23s 12ms/step - loss: 0.2905 - accuracy: 0.1569 - val_loss: 0.2898 - val_accuracy: 0.1600\n",
            "Epoch 17/20\n",
            "1875/1875 [==============================] - 24s 13ms/step - loss: 0.2897 - accuracy: 0.1588 - val_loss: 0.2896 - val_accuracy: 0.1709\n",
            "Epoch 18/20\n",
            "1875/1875 [==============================] - 23s 12ms/step - loss: 0.2891 - accuracy: 0.1605 - val_loss: 0.2890 - val_accuracy: 0.1634\n",
            "Epoch 19/20\n",
            "1875/1875 [==============================] - 23s 12ms/step - loss: 0.2884 - accuracy: 0.1625 - val_loss: 0.2886 - val_accuracy: 0.1682\n",
            "Epoch 20/20\n",
            "1875/1875 [==============================] - 23s 12ms/step - loss: 0.2879 - accuracy: 0.1646 - val_loss: 0.2872 - val_accuracy: 0.1699\n"
          ]
        },
        {
          "output_type": "execute_result",
          "data": {
            "text/plain": [
              "<keras.callbacks.History at 0x7f05f35b97d0>"
            ]
          },
          "metadata": {},
          "execution_count": 53
        }
      ],
      "source": [
        "noise_remover.fit(X_train, X_train,\n",
        "                             epochs=20,\n",
        "                             validation_data=(X_test, X_test))"
      ]
    },
    {
      "cell_type": "markdown",
      "metadata": {
        "id": "pu4BLgvrbrGS"
      },
      "source": [
        "### Evaluating AutoEncoder for Noisey Images "
      ]
    },
    {
      "cell_type": "code",
      "execution_count": 56,
      "metadata": {
        "id": "FDCb6fUQbrGS"
      },
      "outputs": [],
      "source": [
        "# create 10 noisy images\n",
        "noisey_images = sample(X_test[:10], training=True)"
      ]
    },
    {
      "cell_type": "code",
      "execution_count": 57,
      "metadata": {
        "id": "IjIrrPavbrGT"
      },
      "outputs": [],
      "source": [
        "denoised = noise_remover(noisey_images)"
      ]
    },
    {
      "cell_type": "code",
      "execution_count": 58,
      "metadata": {
        "colab": {
          "base_uri": "https://localhost:8080/",
          "height": 813
        },
        "id": "MpggMBiQbrGU",
        "outputId": "50808d0e-70d5-4c74-875a-502e6bf8e214"
      },
      "outputs": [
        {
          "output_type": "stream",
          "name": "stdout",
          "text": [
            "Original Image\n"
          ]
        },
        {
          "output_type": "display_data",
          "data": {
            "text/plain": [
              "<Figure size 432x288 with 1 Axes>"
            ],
            "image/png": "[encoded data removed]"
          },
          "metadata": {
            "needs_background": "light"
          }
        },
        {
          "output_type": "stream",
          "name": "stdout",
          "text": [
            "Noise Added Image\n"
          ]
        },
        {
          "output_type": "display_data",
          "data": {
            "text/plain": [
              "<Figure size 432x288 with 1 Axes>"
            ],
            "image/png": "[encoded data removed]"
          },
          "metadata": {
            "needs_background": "light"
          }
        },
        {
          "output_type": "stream",
          "name": "stdout",
          "text": [
            "Noise Removal using AutoEncoder\n"
          ]
        },
        {
          "output_type": "display_data",
          "data": {
            "text/plain": [
              "<Figure size 432x288 with 1 Axes>"
            ],
            "image/png": "[encoded data removed]"
          },
          "metadata": {
            "needs_background": "light"
          }
        }
      ],
      "source": [
        "print('Original Image')\n",
        "plt.imshow(X_test[5])\n",
        "plt.show()\n",
        "\n",
        "print('Noise Added Image')\n",
        "plt.imshow(noisey_images[5])\n",
        "plt.show()\n",
        "\n",
        "print('Noise Removal using AutoEncoder')\n",
        "plt.imshow(denoised[5])\n",
        "plt.show()"
      ]
    }
  ],
  "metadata": {
    "kernelspec": {
      "display_name": "venv-datascience",
      "language": "python",
      "name": "venv-datascience"
    },
    "language_info": {
      "codemirror_mode": {
        "name": "ipython",
        "version": 3
      },
      "file_extension": ".py",
      "mimetype": "text/x-python",
      "name": "python",
      "nbconvert_exporter": "python",
      "pygments_lexer": "ipython3",
      "version": "3.8.5"
    },
    "colab": {
      "name": "autoencoders_on_image_data.ipynb",
      "provenance": [],
      "collapsed_sections": [
        "xYghZ7DdbrGT"
      ]
    }
  },
  "nbformat": 4,
  "nbformat_minor": 0
}
