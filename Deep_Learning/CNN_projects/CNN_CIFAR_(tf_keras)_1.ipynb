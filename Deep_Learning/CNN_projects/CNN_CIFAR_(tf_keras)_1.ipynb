{
  "cells": [
    {
      "cell_type": "markdown",
      "metadata": {
        "id": "nNVJEwHImqy1"
      },
      "source": [
        "# CIFAR-10 Multiple Classes"
      ]
    },
    {
      "cell_type": "markdown",
      "metadata": {
        "id": "FZ5w48STmqy-"
      },
      "source": [
        "\n",
        "CIFAR-10 dataset have 60000 32x32 colour images in 10 classes.\n",
        "\n",
        "6000 images per class.\n",
        "There are 50000 training images and 10000 test images.\n",
        "\n",
        "\n",
        "classes in the dataset\n",
        "+ 0: airplane \t\t\t\t\t\t\t\t\t\t\n",
        "+ 1: automobile \t\t\t\t\t\t\t\t\t\t\n",
        "+ 2: bird \t\t\t\t\t\t\t\t\t\t\n",
        "+ 3: cat \t\t\t\t\t\t\t\t\t\t\n",
        "+ 4: deer \t\t\t\t\t\t\t\t\t\t\n",
        "+ 5: dog \t\t\t\t\t\t\t\t\t\t\n",
        "+ 6: frog \t\t\t\t\t\t\t\t\t\t\n",
        "+ 7: horse \t\t\t\t\t\t\t\t\t\t\n",
        "+ 8: ship \t\t\t\t\t\t\t\t\t\t\n",
        "+ 9: truck \t\t\t\t\t\t\t\t\t\t"
      ]
    },
    {
      "cell_type": "code",
      "execution_count": 1,
      "metadata": {
        "id": "_M1fn834mqzA"
      },
      "outputs": [],
      "source": [
        "import numpy as np\n",
        "import pandas as pd\n",
        "import matplotlib.pyplot as plt\n",
        "import seaborn as sns"
      ]
    },
    {
      "cell_type": "markdown",
      "metadata": {
        "id": "dMbgW_QamqzD"
      },
      "source": [
        "# Load CIRAR10 dataset"
      ]
    },
    {
      "cell_type": "code",
      "execution_count": 4,
      "metadata": {
        "id": "G9aOpvKtmqzD"
      },
      "outputs": [],
      "source": [
        "from tensorflow.keras.datasets import cifar10"
      ]
    },
    {
      "cell_type": "code",
      "execution_count": 3,
      "metadata": {
        "colab": {
          "base_uri": "https://localhost:8080/"
        },
        "id": "ZlslR8symqzE",
        "outputId": "d86d5e14-8969-41ba-bdf8-1584f6b4d230"
      },
      "outputs": [
        {
          "output_type": "stream",
          "name": "stdout",
          "text": [
            "Downloading data from https://www.cs.toronto.edu/~kriz/cifar-10-python.tar.gz\n",
            "170500096/170498071 [==============================] - 11s 0us/step\n",
            "170508288/170498071 [==============================] - 11s 0us/step\n"
          ]
        }
      ],
      "source": [
        "(x_train, y_train), (x_test, y_test) = cifar10.load_data()"
      ]
    },
    {
      "cell_type": "markdown",
      "metadata": {
        "id": "GsFlRbQQmqzG"
      },
      "source": [
        "#Visualizing the Image"
      ]
    },
    {
      "cell_type": "code",
      "execution_count": 5,
      "metadata": {
        "colab": {
          "base_uri": "https://localhost:8080/"
        },
        "id": "VUH3bZcqmqzI",
        "outputId": "8431b195-f61d-4e74-b3ad-92fea4f3a6ba"
      },
      "outputs": [
        {
          "output_type": "execute_result",
          "data": {
            "text/plain": [
              "(50000, 32, 32, 3)"
            ]
          },
          "metadata": {},
          "execution_count": 5
        }
      ],
      "source": [
        "x_train.shape # 50,000 batch size, 32x32 image with 3 color channels (RBG)"
      ]
    },
    {
      "cell_type": "code",
      "execution_count": 6,
      "metadata": {
        "colab": {
          "base_uri": "https://localhost:8080/"
        },
        "id": "d3b9IBc-mqzJ",
        "outputId": "317c89d9-1428-4e54-c096-736ba47d7022"
      },
      "outputs": [
        {
          "output_type": "execute_result",
          "data": {
            "text/plain": [
              "(32, 32, 3)"
            ]
          },
          "metadata": {},
          "execution_count": 6
        }
      ],
      "source": [
        "x_train[0].shape # 32x32 image with 3 color channels (RBG)"
      ]
    },
    {
      "cell_type": "code",
      "execution_count": 9,
      "metadata": {
        "colab": {
          "base_uri": "https://localhost:8080/",
          "height": 266
        },
        "id": "v1-Vd-XfmqzK",
        "outputId": "776c5df5-9168-41f0-f060-bbf2856f09cd"
      },
      "outputs": [
        {
          "output_type": "display_data",
          "data": {
            "text/plain": [
              "<Figure size 432x288 with 1 Axes>"
            ],
            "image/png": "[encoded data removed]"
          },
          "metadata": {
            "needs_background": "light"
          }
        }
      ],
      "source": [
        "plt.imshow(x_train[0]);"
      ]
    },
    {
      "cell_type": "code",
      "execution_count": 10,
      "metadata": {
        "colab": {
          "base_uri": "https://localhost:8080/",
          "height": 266
        },
        "id": "TNxSSN_vmqzL",
        "outputId": "e7a1c982-eb66-4a3a-f407-8a04b68a928c"
      },
      "outputs": [
        {
          "output_type": "display_data",
          "data": {
            "text/plain": [
              "<Figure size 432x288 with 1 Axes>"
            ],
            "image/png": "[encoded data removed]"
          },
          "metadata": {
            "needs_background": "light"
          }
        }
      ],
      "source": [
        "plt.imshow(x_train[1212]);"
      ]
    },
    {
      "cell_type": "code",
      "execution_count": 11,
      "metadata": {
        "colab": {
          "base_uri": "https://localhost:8080/",
          "height": 266
        },
        "id": "3y3sBHsJmqzM",
        "outputId": "b55e3016-4501-420d-8c9d-7f3ab0b42906"
      },
      "outputs": [
        {
          "output_type": "display_data",
          "data": {
            "text/plain": [
              "<Figure size 432x288 with 1 Axes>"
            ],
            "image/png": "[encoded data removed]"
          },
          "metadata": {
            "needs_background": "light"
          }
        }
      ],
      "source": [
        "plt.imshow(x_train[12345]);"
      ]
    },
    {
      "cell_type": "markdown",
      "metadata": {
        "id": "htJIL_MomqzN"
      },
      "source": [
        "-------"
      ]
    },
    {
      "cell_type": "markdown",
      "metadata": {
        "id": "HsxmRQBLmqzN"
      },
      "source": [
        "# preprocessing"
      ]
    },
    {
      "cell_type": "markdown",
      "metadata": {
        "id": "VR5xaVAGmqzO"
      },
      "source": [
        "#Encoding Labels Values(one hot encoding)"
      ]
    },
    {
      "cell_type": "code",
      "execution_count": 12,
      "metadata": {
        "id": "sf3f-OAWmqzO"
      },
      "outputs": [],
      "source": [
        "\n",
        "from tensorflow.keras.utils import to_categorical"
      ]
    },
    {
      "cell_type": "code",
      "execution_count": 13,
      "metadata": {
        "id": "0Ocm8j0AmqzP"
      },
      "outputs": [],
      "source": [
        "y_cat_train = to_categorical(y_train, num_classes=10)\n",
        "y_cat_test = to_categorical(y_test, num_classes=10)"
      ]
    },
    {
      "cell_type": "code",
      "execution_count": 14,
      "metadata": {
        "colab": {
          "base_uri": "https://localhost:8080/"
        },
        "id": "HX1daXxgmqzQ",
        "outputId": "d174034c-5a43-407e-8e17-c899cdfa1d0e"
      },
      "outputs": [
        {
          "output_type": "execute_result",
          "data": {
            "text/plain": [
              "array([6], dtype=uint8)"
            ]
          },
          "metadata": {},
          "execution_count": 14
        }
      ],
      "source": [
        "y_train[0] "
      ]
    },
    {
      "cell_type": "code",
      "execution_count": 15,
      "metadata": {
        "colab": {
          "base_uri": "https://localhost:8080/",
          "height": 266
        },
        "id": "7J6RR2rPmqzR",
        "outputId": "1d56ab1b-e7e4-4a8c-ae55-7473b08381d5"
      },
      "outputs": [
        {
          "output_type": "display_data",
          "data": {
            "text/plain": [
              "<Figure size 432x288 with 1 Axes>"
            ],
            "image/png": "[encoded data removed]"
          },
          "metadata": {
            "needs_background": "light"
          }
        }
      ],
      "source": [
        "plt.imshow(x_train[0]);"
      ]
    },
    {
      "cell_type": "markdown",
      "metadata": {
        "id": "j0Ds4Nc8mqzS"
      },
      "source": [
        "-----"
      ]
    },
    {
      "cell_type": "markdown",
      "metadata": {
        "id": "in8cYn73mqzS"
      },
      "source": [
        "#Normalizing Image Data"
      ]
    },
    {
      "cell_type": "code",
      "execution_count": 18,
      "metadata": {
        "colab": {
          "base_uri": "https://localhost:8080/"
        },
        "id": "qrKOBmSjmqzT",
        "outputId": "66a3f09c-060d-412a-b4cf-d0c0b8f6d6ae"
      },
      "outputs": [
        {
          "output_type": "execute_result",
          "data": {
            "text/plain": [
              "(50000, 32, 32, 3)"
            ]
          },
          "metadata": {},
          "execution_count": 18
        }
      ],
      "source": [
        "x_train.shape"
      ]
    },
    {
      "cell_type": "code",
      "execution_count": 19,
      "metadata": {
        "colab": {
          "base_uri": "https://localhost:8080/"
        },
        "id": "1wQxCwDKmqzU",
        "outputId": "106d49ee-fe9e-4c0c-d8fd-afa4d980057f"
      },
      "outputs": [
        {
          "output_type": "execute_result",
          "data": {
            "text/plain": [
              "(0, 255)"
            ]
          },
          "metadata": {},
          "execution_count": 19
        }
      ],
      "source": [
        "x_train[0].min(), x_train[0].max()"
      ]
    },
    {
      "cell_type": "code",
      "execution_count": 20,
      "metadata": {
        "id": "L0aIJtOlmqzU"
      },
      "outputs": [],
      "source": [
        "x_train = x_train / 255\n",
        "x_test = x_test / 255"
      ]
    },
    {
      "cell_type": "code",
      "execution_count": 21,
      "metadata": {
        "colab": {
          "base_uri": "https://localhost:8080/"
        },
        "id": "QAbTdlB5mqzV",
        "outputId": "69643154-bd6a-4b8c-bd5e-6020c4dff5ba"
      },
      "outputs": [
        {
          "output_type": "execute_result",
          "data": {
            "text/plain": [
              "(0.0, 1.0)"
            ]
          },
          "metadata": {},
          "execution_count": 21
        }
      ],
      "source": [
        "x_train[0].min(), x_train[0].max()"
      ]
    },
    {
      "cell_type": "code",
      "execution_count": 22,
      "metadata": {
        "colab": {
          "base_uri": "https://localhost:8080/"
        },
        "id": "mwG9yWuImqzV",
        "outputId": "16731e21-582c-4b93-bf4a-065260764eb3"
      },
      "outputs": [
        {
          "output_type": "execute_result",
          "data": {
            "text/plain": [
              "(50000, 32, 32, 3)"
            ]
          },
          "metadata": {},
          "execution_count": 22
        }
      ],
      "source": [
        "x_train.shape"
      ]
    },
    {
      "cell_type": "markdown",
      "metadata": {
        "id": "FNp9bSwpmqzW"
      },
      "source": [
        "---"
      ]
    },
    {
      "cell_type": "markdown",
      "metadata": {
        "id": "ZCVVWDvQmqzX"
      },
      "source": [
        "-----"
      ]
    },
    {
      "cell_type": "markdown",
      "metadata": {
        "id": "Lbv0r2fMmqzX"
      },
      "source": [
        "# Building the Model"
      ]
    },
    {
      "cell_type": "code",
      "execution_count": 23,
      "metadata": {
        "id": "5xOJsmyAmqzY"
      },
      "outputs": [],
      "source": [
        "from tensorflow.keras.models import Sequential\n",
        "from tensorflow.keras.layers import Dense, Conv2D, MaxPool2D, Flatten"
      ]
    },
    {
      "cell_type": "code",
      "execution_count": 24,
      "metadata": {
        "colab": {
          "base_uri": "https://localhost:8080/"
        },
        "id": "9PiLjJ27mqzY",
        "outputId": "f03aa95b-86f6-448a-c0cc-920ac1aad0c3"
      },
      "outputs": [
        {
          "output_type": "execute_result",
          "data": {
            "text/plain": [
              "3072"
            ]
          },
          "metadata": {},
          "execution_count": 24
        }
      ],
      "source": [
        "32*32*3 # single color image"
      ]
    },
    {
      "cell_type": "code",
      "execution_count": 25,
      "metadata": {
        "id": "l-NiVaRymqzZ"
      },
      "outputs": [],
      "source": [
        "model = Sequential()\n",
        "\n",
        "# 2 Convolutional Layers\n",
        "# Convolutional Layer\n",
        "model.add(Conv2D(filters=32, kernel_size=(4,4), input_shape=(32, 32, 3), activation='relu'))\n",
        "# Pooling Layer\n",
        "model.add(MaxPool2D(pool_size=(2, 2)))\n",
        "\n",
        "# Convolutional Layer\n",
        "model.add(Conv2D(filters=64, kernel_size=(4,4), input_shape=(32, 32, 3), activation='relu')) # we can change filters number here, but in our case images are simple so we will keep the same\n",
        "# Pooling Layer\n",
        "model.add(MaxPool2D(pool_size=(2, 2)))\n",
        "\n",
        "# Flatten the layers\n",
        "model.add(Flatten())\n",
        "\n",
        "# ------------------------\n",
        "\n",
        "model.add(Dense(256, activation='relu'))\n",
        "\n",
        "# Output layer\n",
        "model.add(Dense(10, activation='softmax'))\n",
        "\n",
        "model.compile(loss='categorical_crossentropy', optimizer='adam', metrics=['accuracy'])\n",
        "\n"
      ]
    },
    {
      "cell_type": "markdown",
      "metadata": {
        "id": "WNvNE4dOmqza"
      },
      "source": [
        "### Check model summary"
      ]
    },
    {
      "cell_type": "code",
      "execution_count": 26,
      "metadata": {
        "colab": {
          "base_uri": "https://localhost:8080/"
        },
        "id": "cbZPRQ6Fmqza",
        "outputId": "a0d793ec-3371-4a05-e3b4-f4639dd4855f"
      },
      "outputs": [
        {
          "output_type": "stream",
          "name": "stdout",
          "text": [
            "Model: \"sequential\"\n",
            "_________________________________________________________________\n",
            " Layer (type)                Output Shape              Param #   \n",
            "=================================================================\n",
            " conv2d (Conv2D)             (None, 29, 29, 32)        1568      \n",
            "                                                                 \n",
            " max_pooling2d (MaxPooling2D  (None, 14, 14, 32)       0         \n",
            " )                                                               \n",
            "                                                                 \n",
            " conv2d_1 (Conv2D)           (None, 11, 11, 64)        32832     \n",
            "                                                                 \n",
            " max_pooling2d_1 (MaxPooling  (None, 5, 5, 64)         0         \n",
            " 2D)                                                             \n",
            "                                                                 \n",
            " flatten (Flatten)           (None, 1600)              0         \n",
            "                                                                 \n",
            " dense (Dense)               (None, 256)               409856    \n",
            "                                                                 \n",
            " dense_1 (Dense)             (None, 10)                2570      \n",
            "                                                                 \n",
            "=================================================================\n",
            "Total params: 446,826\n",
            "Trainable params: 446,826\n",
            "Non-trainable params: 0\n",
            "_________________________________________________________________\n"
          ]
        }
      ],
      "source": [
        "model.summary()"
      ]
    },
    {
      "cell_type": "markdown",
      "metadata": {
        "id": "Ywm7OE0Ymqzb"
      },
      "source": [
        "### add in Early Stopping"
      ]
    },
    {
      "cell_type": "code",
      "execution_count": 27,
      "metadata": {
        "id": "Ai_9Dx2Rmqzb"
      },
      "outputs": [],
      "source": [
        "from tensorflow.keras.callbacks import EarlyStopping"
      ]
    },
    {
      "cell_type": "code",
      "execution_count": 28,
      "metadata": {
        "id": "ilwmRgzhmqzc"
      },
      "outputs": [],
      "source": [
        "early_stopping = EarlyStopping(monitor='val_loss', patience=2, verbose=1)"
      ]
    },
    {
      "cell_type": "markdown",
      "metadata": {
        "id": "_etV7p6-mqzc"
      },
      "source": [
        "### Fit the model"
      ]
    },
    {
      "cell_type": "code",
      "execution_count": 29,
      "metadata": {
        "colab": {
          "base_uri": "https://localhost:8080/"
        },
        "id": "fH1WM2vNmqzc",
        "outputId": "359a44d1-e446-43a4-ab7b-c1b27b1d3b05"
      },
      "outputs": [
        {
          "output_type": "stream",
          "name": "stdout",
          "text": [
            "Epoch 1/15\n",
            "1563/1563 [==============================] - 77s 49ms/step - loss: 1.4568 - accuracy: 0.4787 - val_loss: 1.1788 - val_accuracy: 0.5804\n",
            "Epoch 2/15\n",
            "1563/1563 [==============================] - 79s 50ms/step - loss: 1.0960 - accuracy: 0.6166 - val_loss: 1.0415 - val_accuracy: 0.6352\n",
            "Epoch 3/15\n",
            "1563/1563 [==============================] - 82s 52ms/step - loss: 0.9413 - accuracy: 0.6698 - val_loss: 1.0463 - val_accuracy: 0.6364\n",
            "Epoch 4/15\n",
            "1563/1563 [==============================] - 75s 48ms/step - loss: 0.8264 - accuracy: 0.7105 - val_loss: 0.9368 - val_accuracy: 0.6796\n",
            "Epoch 5/15\n",
            "1563/1563 [==============================] - 76s 49ms/step - loss: 0.7283 - accuracy: 0.7452 - val_loss: 0.9413 - val_accuracy: 0.6741\n",
            "Epoch 6/15\n",
            "1563/1563 [==============================] - 76s 49ms/step - loss: 0.6354 - accuracy: 0.7768 - val_loss: 0.9456 - val_accuracy: 0.6905\n",
            "Epoch 6: early stopping\n"
          ]
        },
        {
          "output_type": "execute_result",
          "data": {
            "text/plain": [
              "<keras.callbacks.History at 0x7f9b3a50aed0>"
            ]
          },
          "metadata": {},
          "execution_count": 29
        }
      ],
      "source": [
        "model.fit(x=x_train, y=y_cat_train, \n",
        "              validation_data = (x_test, y_cat_test),\n",
        "              epochs=15,\n",
        "              callbacks= [early_stopping],\n",
        "              verbose=1)"
      ]
    },
    {
      "cell_type": "markdown",
      "metadata": {
        "id": "mOd71-c3mqzd"
      },
      "source": [
        "# Model Evaluation"
      ]
    },
    {
      "cell_type": "markdown",
      "metadata": {
        "id": "qJDsCuBqmqzd"
      },
      "source": [
        "### Visualization Metrics"
      ]
    },
    {
      "cell_type": "code",
      "execution_count": 30,
      "metadata": {
        "colab": {
          "base_uri": "https://localhost:8080/",
          "height": 237
        },
        "id": "bAlNG0rvmqze",
        "outputId": "a032a66b-3ff0-4908-86c8-0d48f5526db1"
      },
      "outputs": [
        {
          "output_type": "execute_result",
          "data": {
            "text/plain": [
              "       loss  accuracy  val_loss  val_accuracy\n",
              "0  1.456763   0.47868  1.178794        0.5804\n",
              "1  1.096021   0.61658  1.041452        0.6352\n",
              "2  0.941311   0.66980  1.046293        0.6364\n",
              "3  0.826375   0.71048  0.936846        0.6796\n",
              "4  0.728261   0.74524  0.941304        0.6741\n",
              "5  0.635372   0.77682  0.945640        0.6905"
            ],
            "text/html": [
              "\n",
              "  <div id=\"df-ccbac347-45a0-4792-8df0-10cf15ccae7c\">\n",
              "    <div class=\"colab-df-container\">\n",
              "      <div>\n",
              "<style scoped>\n",
              "    .dataframe tbody tr th:only-of-type {\n",
              "        vertical-align: middle;\n",
              "    }\n",
              "\n",
              "    .dataframe tbody tr th {\n",
              "        vertical-align: top;\n",
              "    }\n",
              "\n",
              "    .dataframe thead th {\n",
              "        text-align: right;\n",
              "    }\n",
              "</style>\n",
              "<table border=\"1\" class=\"dataframe\">\n",
              "  <thead>\n",
              "    <tr style=\"text-align: right;\">\n",
              "      <th></th>\n",
              "      <th>loss</th>\n",
              "      <th>accuracy</th>\n",
              "      <th>val_loss</th>\n",
              "      <th>val_accuracy</th>\n",
              "    </tr>\n",
              "  </thead>\n",
              "  <tbody>\n",
              "    <tr>\n",
              "      <th>0</th>\n",
              "      <td>1.456763</td>\n",
              "      <td>0.47868</td>\n",
              "      <td>1.178794</td>\n",
              "      <td>0.5804</td>\n",
              "    </tr>\n",
              "    <tr>\n",
              "      <th>1</th>\n",
              "      <td>1.096021</td>\n",
              "      <td>0.61658</td>\n",
              "      <td>1.041452</td>\n",
              "      <td>0.6352</td>\n",
              "    </tr>\n",
              "    <tr>\n",
              "      <th>2</th>\n",
              "      <td>0.941311</td>\n",
              "      <td>0.66980</td>\n",
              "      <td>1.046293</td>\n",
              "      <td>0.6364</td>\n",
              "    </tr>\n",
              "    <tr>\n",
              "      <th>3</th>\n",
              "      <td>0.826375</td>\n",
              "      <td>0.71048</td>\n",
              "      <td>0.936846</td>\n",
              "      <td>0.6796</td>\n",
              "    </tr>\n",
              "    <tr>\n",
              "      <th>4</th>\n",
              "      <td>0.728261</td>\n",
              "      <td>0.74524</td>\n",
              "      <td>0.941304</td>\n",
              "      <td>0.6741</td>\n",
              "    </tr>\n",
              "    <tr>\n",
              "      <th>5</th>\n",
              "      <td>0.635372</td>\n",
              "      <td>0.77682</td>\n",
              "      <td>0.945640</td>\n",
              "      <td>0.6905</td>\n",
              "    </tr>\n",
              "  </tbody>\n",
              "</table>\n",
              "</div>\n",
              "      <button class=\"colab-df-convert\" onclick=\"convertToInteractive('df-ccbac347-45a0-4792-8df0-10cf15ccae7c')\"\n",
              "              title=\"Convert this dataframe to an interactive table.\"\n",
              "              style=\"display:none;\">\n",
              "        \n",
              "  <svg xmlns=\"http://www.w3.org/2000/svg\" height=\"24px\"viewBox=\"0 0 24 24\"\n",
              "       width=\"24px\">\n",
              "    <path d=\"M0 0h24v24H0V0z\" fill=\"none\"/>\n",
              "    <path d=\"M18.56 5.44l.94 2.06.94-2.06 2.06-.94-2.06-.94-.94-2.06-.94 2.06-2.06.94zm-11 1L8.5 8.5l.94-2.06 2.06-.94-2.06-.94L8.5 2.5l-.94 2.06-2.06.94zm10 10l.94 2.06.94-2.06 2.06-.94-2.06-.94-.94-2.06-.94 2.06-2.06.94z\"/><path d=\"M17.41 7.96l-1.37-1.37c-.4-.4-.92-.59-1.43-.59-.52 0-1.04.2-1.43.59L10.3 9.45l-7.72 7.72c-.78.78-.78 2.05 0 2.83L4 21.41c.39.39.9.59 1.41.59.51 0 1.02-.2 1.41-.59l7.78-7.78 2.81-2.81c.8-.78.8-2.07 0-2.86zM5.41 20L4 18.59l7.72-7.72 1.47 1.35L5.41 20z\"/>\n",
              "  </svg>\n",
              "      </button>\n",
              "      \n",
              "  <style>\n",
              "    .colab-df-container {\n",
              "      display:flex;\n",
              "      flex-wrap:wrap;\n",
              "      gap: 12px;\n",
              "    }\n",
              "\n",
              "    .colab-df-convert {\n",
              "      background-color: #E8F0FE;\n",
              "      border: none;\n",
              "      border-radius: 50%;\n",
              "      cursor: pointer;\n",
              "      display: none;\n",
              "      fill: #1967D2;\n",
              "      height: 32px;\n",
              "      padding: 0 0 0 0;\n",
              "      width: 32px;\n",
              "    }\n",
              "\n",
              "    .colab-df-convert:hover {\n",
              "      background-color: #E2EBFA;\n",
              "      box-shadow: 0px 1px 2px rgba(60, 64, 67, 0.3), 0px 1px 3px 1px rgba(60, 64, 67, 0.15);\n",
              "      fill: #174EA6;\n",
              "    }\n",
              "\n",
              "    [theme=dark] .colab-df-convert {\n",
              "      background-color: #3B4455;\n",
              "      fill: #D2E3FC;\n",
              "    }\n",
              "\n",
              "    [theme=dark] .colab-df-convert:hover {\n",
              "      background-color: #434B5C;\n",
              "      box-shadow: 0px 1px 3px 1px rgba(0, 0, 0, 0.15);\n",
              "      filter: drop-shadow(0px 1px 2px rgba(0, 0, 0, 0.3));\n",
              "      fill: #FFFFFF;\n",
              "    }\n",
              "  </style>\n",
              "\n",
              "      <script>\n",
              "        const buttonEl =\n",
              "          document.querySelector('#df-ccbac347-45a0-4792-8df0-10cf15ccae7c button.colab-df-convert');\n",
              "        buttonEl.style.display =\n",
              "          google.colab.kernel.accessAllowed ? 'block' : 'none';\n",
              "\n",
              "        async function convertToInteractive(key) {\n",
              "          const element = document.querySelector('#df-ccbac347-45a0-4792-8df0-10cf15ccae7c');\n",
              "          const dataTable =\n",
              "            await google.colab.kernel.invokeFunction('convertToInteractive',\n",
              "                                                     [key], {});\n",
              "          if (!dataTable) return;\n",
              "\n",
              "          const docLinkHtml = 'Like what you see? Visit the ' +\n",
              "            '<a target=\"_blank\" href=https://colab.research.google.com/notebooks/data_table.ipynb>data table notebook</a>'\n",
              "            + ' to learn more about interactive tables.';\n",
              "          element.innerHTML = '';\n",
              "          dataTable['output_type'] = 'display_data';\n",
              "          await google.colab.output.renderOutput(dataTable, element);\n",
              "          const docLink = document.createElement('div');\n",
              "          docLink.innerHTML = docLinkHtml;\n",
              "          element.appendChild(docLink);\n",
              "        }\n",
              "      </script>\n",
              "    </div>\n",
              "  </div>\n",
              "  "
            ]
          },
          "metadata": {},
          "execution_count": 30
        }
      ],
      "source": [
        "metrics = pd.DataFrame(model.history.history)\n",
        "metrics"
      ]
    },
    {
      "cell_type": "code",
      "execution_count": 31,
      "metadata": {
        "colab": {
          "base_uri": "https://localhost:8080/"
        },
        "id": "Y31GuPvTmqze",
        "outputId": "ed14510d-a09a-4b60-9d00-b69f5ce0271c"
      },
      "outputs": [
        {
          "output_type": "execute_result",
          "data": {
            "text/plain": [
              "Index(['loss', 'accuracy', 'val_loss', 'val_accuracy'], dtype='object')"
            ]
          },
          "metadata": {},
          "execution_count": 31
        }
      ],
      "source": [
        "metrics.columns"
      ]
    },
    {
      "cell_type": "code",
      "execution_count": 32,
      "metadata": {
        "colab": {
          "base_uri": "https://localhost:8080/",
          "height": 265
        },
        "id": "ShRmgkcVmqzf",
        "outputId": "2b394f11-a13e-46e9-f011-3431ec1829ce"
      },
      "outputs": [
        {
          "output_type": "display_data",
          "data": {
            "text/plain": [
              "<Figure size 432x288 with 1 Axes>"
            ],
            "image/png": "[encoded data removed]"
          },
          "metadata": {
            "needs_background": "light"
          }
        }
      ],
      "source": [
        "metrics[['loss', 'val_loss']].plot();"
      ]
    },
    {
      "cell_type": "code",
      "execution_count": 33,
      "metadata": {
        "colab": {
          "base_uri": "https://localhost:8080/",
          "height": 265
        },
        "id": "6bFDdySHmqzf",
        "outputId": "6dbf7dfe-2361-410a-adea-a76e5f53d6c3"
      },
      "outputs": [
        {
          "output_type": "display_data",
          "data": {
            "text/plain": [
              "<Figure size 432x288 with 1 Axes>"
            ],
            "image/png": "[encoded data removed]"
          },
          "metadata": {
            "needs_background": "light"
          }
        }
      ],
      "source": [
        "metrics[['accuracy', 'val_accuracy']].plot();"
      ]
    },
    {
      "cell_type": "markdown",
      "metadata": {
        "id": "stZ23bgHmqzf"
      },
      "source": [
        "### Model Evaluate"
      ]
    },
    {
      "cell_type": "code",
      "execution_count": 34,
      "metadata": {
        "colab": {
          "base_uri": "https://localhost:8080/"
        },
        "id": "cMR4GChfmqzg",
        "outputId": "50530a46-3704-4126-824d-75b66b6131d3"
      },
      "outputs": [
        {
          "output_type": "execute_result",
          "data": {
            "text/plain": [
              "[0.9456398487091064, 0.690500020980835]"
            ]
          },
          "metadata": {},
          "execution_count": 34
        }
      ],
      "source": [
        "model.evaluate(x_test, y_cat_test, verbose=0)"
      ]
    },
    {
      "cell_type": "markdown",
      "metadata": {
        "id": "O-OZFYU8mqzg"
      },
      "source": [
        "### Classfication Report and Confusion Matrix"
      ]
    },
    {
      "cell_type": "code",
      "execution_count": 35,
      "metadata": {
        "id": "cp7pMYbimqzh"
      },
      "outputs": [],
      "source": [
        "from sklearn.metrics import classification_report, confusion_matrix"
      ]
    },
    {
      "cell_type": "code",
      "execution_count": 36,
      "metadata": {
        "id": "YDr9Ozp1mqzi"
      },
      "outputs": [],
      "source": [
        "predictions = np.argmax(model.predict(x_test), axis=-1)"
      ]
    },
    {
      "cell_type": "code",
      "execution_count": 37,
      "metadata": {
        "colab": {
          "base_uri": "https://localhost:8080/"
        },
        "id": "_8Kz9pDkmqzj",
        "outputId": "57b369d2-d704-4619-a5af-7befef6e8872"
      },
      "outputs": [
        {
          "output_type": "stream",
          "name": "stdout",
          "text": [
            "              precision    recall  f1-score   support\n",
            "\n",
            "           0       0.72      0.76      0.74      1000\n",
            "           1       0.84      0.77      0.81      1000\n",
            "           2       0.55      0.65      0.59      1000\n",
            "           3       0.55      0.50      0.52      1000\n",
            "           4       0.66      0.56      0.61      1000\n",
            "           5       0.64      0.53      0.58      1000\n",
            "           6       0.71      0.82      0.76      1000\n",
            "           7       0.67      0.81      0.73      1000\n",
            "           8       0.90      0.68      0.78      1000\n",
            "           9       0.72      0.83      0.77      1000\n",
            "\n",
            "    accuracy                           0.69     10000\n",
            "   macro avg       0.70      0.69      0.69     10000\n",
            "weighted avg       0.70      0.69      0.69     10000\n",
            "\n"
          ]
        }
      ],
      "source": [
        "print(classification_report(y_test, predictions))"
      ]
    },
    {
      "cell_type": "markdown",
      "metadata": {
        "id": "GNitTpGumqzj"
      },
      "source": [
        "\n",
        "We have to compare it with random guessing. \n",
        "we have 10 classes and random chances is 10% as baseline.\n",
        "\n",
        "So if we compare this with 10%, our model 69% is performing pretty good."
      ]
    },
    {
      "cell_type": "code",
      "execution_count": 38,
      "metadata": {
        "colab": {
          "base_uri": "https://localhost:8080/",
          "height": 374
        },
        "id": "P1EeZK4Omqzl",
        "outputId": "f9ba657d-a98b-4099-df8e-b1c86c238431"
      },
      "outputs": [
        {
          "output_type": "display_data",
          "data": {
            "text/plain": [
              "<Figure size 720x432 with 2 Axes>"
            ],
            "image/png": "[encoded data removed]"
          },
          "metadata": {
            "needs_background": "light"
          }
        }
      ],
      "source": [
        "plt.figure(figsize=(10,6))\n",
        "sns.heatmap(confusion_matrix(y_test, predictions), annot=True);"
      ]
    },
    {
      "cell_type": "markdown",
      "metadata": {
        "id": "U8bkzTRmmqzl"
      },
      "source": [
        "If we look at the heatmap, we can clearly see the model is confusing between Cat and Dog. Also between birds ans deers.\n",
        "\n",
        "0: airplane\n",
        "1: automobile\n",
        "2: bird\n",
        "3: cat\n",
        "4: deer\n",
        "5: dog\n",
        "6: frog\n",
        "7: horse\n",
        "8: ship\n",
        "9: truck"
      ]
    },
    {
      "cell_type": "markdown",
      "metadata": {
        "id": "wez6FQPPmqzm"
      },
      "source": [
        "--------"
      ]
    },
    {
      "cell_type": "markdown",
      "metadata": {
        "id": "B19IEW8Umqzm"
      },
      "source": [
        "# Predicting a given image"
      ]
    },
    {
      "cell_type": "code",
      "execution_count": 39,
      "metadata": {
        "id": "SSUwMvDgmqzm"
      },
      "outputs": [],
      "source": [
        "single_image = x_test[0]"
      ]
    },
    {
      "cell_type": "code",
      "execution_count": 40,
      "metadata": {
        "colab": {
          "base_uri": "https://localhost:8080/",
          "height": 266
        },
        "id": "txG5nwQYmqzn",
        "outputId": "94fb75ec-f318-4915-9df4-3ef03a86beff"
      },
      "outputs": [
        {
          "output_type": "display_data",
          "data": {
            "text/plain": [
              "<Figure size 432x288 with 1 Axes>"
            ],
            "image/png": "[encoded data removed]"
          },
          "metadata": {
            "needs_background": "light"
          }
        }
      ],
      "source": [
        "plt.imshow(single_image);"
      ]
    },
    {
      "cell_type": "code",
      "execution_count": 41,
      "metadata": {
        "colab": {
          "base_uri": "https://localhost:8080/"
        },
        "id": "bPq2oKzOmqzn",
        "outputId": "5d62deef-6280-401d-e9a2-b3c2aba0de5c"
      },
      "outputs": [
        {
          "output_type": "execute_result",
          "data": {
            "text/plain": [
              "array([3], dtype=uint8)"
            ]
          },
          "metadata": {},
          "execution_count": 41
        }
      ],
      "source": [
        "y_test[0]"
      ]
    },
    {
      "cell_type": "markdown",
      "metadata": {
        "id": "Hi1-8jEJmqzn"
      },
      "source": [
        "It is a cat (3)"
      ]
    },
    {
      "cell_type": "markdown",
      "metadata": {
        "id": "7akzqSVYmqzo"
      },
      "source": [
        "### Make predictions"
      ]
    },
    {
      "cell_type": "code",
      "execution_count": 42,
      "metadata": {
        "colab": {
          "base_uri": "https://localhost:8080/"
        },
        "id": "NrRtE1ghmqzo",
        "outputId": "aa622585-66fc-432e-e6d4-59ed422709e4"
      },
      "outputs": [
        {
          "output_type": "execute_result",
          "data": {
            "text/plain": [
              "array([3])"
            ]
          },
          "metadata": {},
          "execution_count": 42
        }
      ],
      "source": [
        "np.argmax(model.predict(single_image.reshape(1, 32, 32, 3)), axis=-1)# 1 image, 32x32, 3 color channels"
      ]
    },
    {
      "cell_type": "markdown",
      "metadata": {
        "id": "tvHny7Anmqzp"
      },
      "source": [
        "Looks like our model is correctly predicting."
      ]
    },
    {
      "cell_type": "code",
      "execution_count": 43,
      "metadata": {
        "id": "-68exq0qmqzp"
      },
      "outputs": [],
      "source": [
        "single_image = x_test[16]"
      ]
    },
    {
      "cell_type": "code",
      "execution_count": 44,
      "metadata": {
        "colab": {
          "base_uri": "https://localhost:8080/",
          "height": 266
        },
        "id": "YwU2N1Blmqzp",
        "outputId": "82a7e11b-7638-4209-84c3-70fa56679027"
      },
      "outputs": [
        {
          "output_type": "display_data",
          "data": {
            "text/plain": [
              "<Figure size 432x288 with 1 Axes>"
            ],
            "image/png": "[encoded data removed]"
          },
          "metadata": {
            "needs_background": "light"
          }
        }
      ],
      "source": [
        "plt.imshow(single_image);"
      ]
    },
    {
      "cell_type": "code",
      "execution_count": 45,
      "metadata": {
        "colab": {
          "base_uri": "https://localhost:8080/"
        },
        "id": "X0lMHCy5mqzq",
        "outputId": "9f5e10a5-6c4f-4644-fc3d-c4aa7063e4d2"
      },
      "outputs": [
        {
          "output_type": "execute_result",
          "data": {
            "text/plain": [
              "array([5])"
            ]
          },
          "metadata": {},
          "execution_count": 45
        }
      ],
      "source": [
        "np.argmax(model.predict(single_image.reshape(1, 32, 32, 3)), axis=-1)"
      ]
    },
    {
      "cell_type": "code",
      "source": [
        ""
      ],
      "metadata": {
        "id": "7y-r15C3wEfj"
      },
      "execution_count": null,
      "outputs": []
    }
  ],
  "metadata": {
    "kernelspec": {
      "display_name": "venv-datascience",
      "language": "python",
      "name": "venv-datascience"
    },
    "language_info": {
      "codemirror_mode": {
        "name": "ipython",
        "version": 3
      },
      "file_extension": ".py",
      "mimetype": "text/x-python",
      "name": "python",
      "nbconvert_exporter": "python",
      "pygments_lexer": "ipython3",
      "version": "3.8.5"
    },
    "colab": {
      "name": "CNN-CIFAR-(tf_keras).ipynb",
      "provenance": []
    }
  },
  "nbformat": 4,
  "nbformat_minor": 0
}